{
 "cells": [
  {
   "cell_type": "markdown",
   "id": "b53eb479",
   "metadata": {},
   "source": [
    "The goal of this notebook is to find strategies that are able to find resolving sets as small as possible. We start with the Barabàsi-Albert model and then simulate the strategies on real graphs."
   ]
  },
  {
   "cell_type": "code",
   "execution_count": 4,
   "id": "0e4d2de1",
   "metadata": {},
   "outputs": [],
   "source": [
    "import networkx as nx\n",
    "import random\n",
    "import numpy as np\n",
    "import matplotlib.pyplot as plt\n",
    "from tqdm import tqdm\n",
    "import pickle\n",
    "import sys\n",
    "sys.path.append('../')\n",
    "from helpers import *\n",
    "import plotly.graph_objs as go\n",
    "%load_ext autoreload\n",
    "%autoreload 2"
   ]
  },
  {
   "cell_type": "markdown",
   "id": "804eeb49",
   "metadata": {},
   "source": [
    "## Barabási–Albert model"
   ]
  },
  {
   "cell_type": "code",
   "execution_count": 5,
   "id": "b268f170",
   "metadata": {},
   "outputs": [],
   "source": [
    "# By default, we will use the following parameters\n",
    "# n = 500\n",
    "# m = 30\n",
    "# nb_graph = 1\n",
    "# nb_of_iters = 100\n",
    "\n",
    "# can be used to speed up simulations as we know the theoritical value\n",
    "# lower_bound = 60\n",
    "# upper_bound = 160"
   ]
  },
  {
   "cell_type": "code",
   "execution_count": 76,
   "id": "cd20b754",
   "metadata": {},
   "outputs": [],
   "source": [
    "def sim_centrality(centrality_f, lower_bound=20, upper_bound=110, n=500, m=30, nb_graph=1, nb_of_iters=100, seed=0):\n",
    "    solutions_prob_c = {}\n",
    "    random.seed(seed)\n",
    "    for _ in range(nb_graph):\n",
    "        # Generate the random graph and compute shortest paths\n",
    "        G = nx.barabasi_albert_graph(n, m)\n",
    "        length = dict(nx.all_pairs_shortest_path_length(G))\n",
    "\n",
    "        c = centrality_f(G)\n",
    "\n",
    "        # normalize the betweenness centralities\n",
    "        c_values = np.array(list(c.values()))\n",
    "        c_norm = c_values / sum(c_values)\n",
    "        node_list = list(c.keys())\n",
    "\n",
    "        for nb in range(0, lower_bound):\n",
    "            solutions_prob_c[nb] = solutions_prob_c.get(nb, 0) + 0  \n",
    "        for nb in tqdm(range(lower_bound, upper_bound)): # G.number_of_nodes()\n",
    "            num_nodes = nb # Number of nodes to sample\n",
    "            count = 0\n",
    "            for i in range(nb_of_iters):\n",
    "                nodes = set(np.random.choice(node_list, p=c_norm, size=num_nodes, replace=False)) # Random set of nodes to test\n",
    "                if is_resolving_set(G, nodes, length):\n",
    "                    count += 1\n",
    "            solutions_prob_c[nb] =  solutions_prob_c.get(nb, 0) + (count / nb_of_iters)\n",
    "        for nb in range(upper_bound, n):\n",
    "                solutions_prob_c[nb] = solutions_prob_c.get(nb, 0) + 1\n",
    "\n",
    "    for i in range(n):\n",
    "        solutions_prob_c[i] = solutions_prob_c[i] / nb_graph\n",
    "        \n",
    "    return solutions_prob_c"
   ]
  },
  {
   "cell_type": "code",
   "execution_count": 77,
   "id": "11da0bab",
   "metadata": {},
   "outputs": [
    {
     "name": "stderr",
     "output_type": "stream",
     "text": [
      "100%|███████████████████████████████████████████| 60/60 [00:54<00:00,  1.11it/s]\n"
     ]
    }
   ],
   "source": [
    "solutions_prob_bc_2 = sim_centrality(nx.betweenness_centrality, lower_bound=20, upper_bound=80, nb_graph=10)"
   ]
  },
  {
   "cell_type": "code",
   "execution_count": 151,
   "id": "618a1959",
   "metadata": {},
   "outputs": [
    {
     "name": "stderr",
     "output_type": "stream",
     "text": [
      "100%|███████████████████████████████████████████| 60/60 [01:00<00:00,  1.01s/it]\n",
      "100%|███████████████████████████████████████████| 60/60 [01:00<00:00,  1.01s/it]\n",
      "100%|███████████████████████████████████████████| 60/60 [00:59<00:00,  1.00it/s]\n",
      "100%|███████████████████████████████████████████| 60/60 [01:00<00:00,  1.01s/it]\n",
      "100%|███████████████████████████████████████████| 60/60 [01:00<00:00,  1.01s/it]\n",
      "100%|███████████████████████████████████████████| 60/60 [01:00<00:00,  1.00s/it]\n",
      "100%|███████████████████████████████████████████| 60/60 [01:01<00:00,  1.02s/it]\n",
      "100%|███████████████████████████████████████████| 60/60 [00:59<00:00,  1.00it/s]\n",
      "100%|███████████████████████████████████████████| 60/60 [01:00<00:00,  1.00s/it]\n",
      "100%|███████████████████████████████████████████| 60/60 [00:59<00:00,  1.00it/s]\n"
     ]
    }
   ],
   "source": [
    "solutions_prob_eigen = sim_centrality(nx.eigenvector_centrality, lower_bound=30, upper_bound=90, nb_graph=10)"
   ]
  },
  {
   "cell_type": "code",
   "execution_count": 152,
   "id": "5d6c3c9a",
   "metadata": {},
   "outputs": [
    {
     "name": "stderr",
     "output_type": "stream",
     "text": [
      "100%|███████████████████████████████████████████| 60/60 [01:00<00:00,  1.00s/it]\n",
      "100%|███████████████████████████████████████████| 60/60 [00:59<00:00,  1.00it/s]\n",
      "100%|███████████████████████████████████████████| 60/60 [00:59<00:00,  1.00it/s]\n",
      "100%|███████████████████████████████████████████| 60/60 [00:59<00:00,  1.00it/s]\n",
      "100%|███████████████████████████████████████████| 60/60 [00:59<00:00,  1.00it/s]\n",
      "100%|███████████████████████████████████████████| 60/60 [00:59<00:00,  1.01it/s]\n",
      "100%|███████████████████████████████████████████| 60/60 [00:59<00:00,  1.01it/s]\n",
      "100%|███████████████████████████████████████████| 60/60 [00:59<00:00,  1.01it/s]\n",
      "100%|███████████████████████████████████████████| 60/60 [00:59<00:00,  1.01it/s]\n",
      "100%|███████████████████████████████████████████| 60/60 [00:59<00:00,  1.01it/s]\n"
     ]
    }
   ],
   "source": [
    "solutions_prob_dc = sim_centrality(nx.degree_centrality, lower_bound=30, upper_bound=90, nb_graph=10)"
   ]
  },
  {
   "cell_type": "code",
   "execution_count": 153,
   "id": "61e28c19",
   "metadata": {},
   "outputs": [
    {
     "name": "stderr",
     "output_type": "stream",
     "text": [
      "100%|███████████████████████████████████████████| 80/80 [01:20<00:00,  1.01s/it]\n",
      "100%|███████████████████████████████████████████| 80/80 [01:21<00:00,  1.02s/it]\n",
      "100%|███████████████████████████████████████████| 80/80 [01:21<00:00,  1.02s/it]\n",
      "100%|███████████████████████████████████████████| 80/80 [01:21<00:00,  1.02s/it]\n",
      "100%|███████████████████████████████████████████| 80/80 [01:20<00:00,  1.01s/it]\n",
      "100%|███████████████████████████████████████████| 80/80 [01:20<00:00,  1.01s/it]\n",
      "100%|███████████████████████████████████████████| 80/80 [01:21<00:00,  1.01s/it]\n",
      "100%|███████████████████████████████████████████| 80/80 [01:21<00:00,  1.01s/it]\n",
      "100%|███████████████████████████████████████████| 80/80 [01:20<00:00,  1.01s/it]\n",
      "100%|███████████████████████████████████████████| 80/80 [01:21<00:00,  1.01s/it]\n"
     ]
    }
   ],
   "source": [
    "solutions_prob_cc = sim_centrality(nx.closeness_centrality, lower_bound=20, upper_bound=100, nb_graph=10)"
   ]
  },
  {
   "cell_type": "code",
   "execution_count": 154,
   "id": "479d0ffd",
   "metadata": {},
   "outputs": [
    {
     "name": "stderr",
     "output_type": "stream",
     "text": [
      "<class 'networkx.utils.decorators.argmap'> compilation 36:4: FutureWarning:\n",
      "\n",
      "laplacian_matrix will return a scipy.sparse array instead of a matrix in Networkx 3.0.\n",
      "\n",
      "100%|███████████████████████████████████████████| 60/60 [00:59<00:00,  1.01it/s]\n",
      "100%|███████████████████████████████████████████| 60/60 [00:59<00:00,  1.01it/s]\n",
      "100%|███████████████████████████████████████████| 60/60 [01:00<00:00,  1.01s/it]\n",
      "100%|███████████████████████████████████████████| 60/60 [00:59<00:00,  1.00it/s]\n",
      "100%|███████████████████████████████████████████| 60/60 [01:00<00:00,  1.01s/it]\n",
      "100%|███████████████████████████████████████████| 60/60 [00:59<00:00,  1.00it/s]\n",
      "100%|███████████████████████████████████████████| 60/60 [01:00<00:00,  1.00s/it]\n",
      "100%|███████████████████████████████████████████| 60/60 [00:59<00:00,  1.00it/s]\n",
      "100%|███████████████████████████████████████████| 60/60 [00:59<00:00,  1.00it/s]\n",
      "100%|███████████████████████████████████████████| 60/60 [00:59<00:00,  1.00it/s]\n"
     ]
    }
   ],
   "source": [
    "solutions_prob_flow_bc = sim_centrality(nx.current_flow_betweenness_centrality, lower_bound=30, upper_bound=90, nb_graph=10)"
   ]
  },
  {
   "cell_type": "code",
   "execution_count": 155,
   "id": "5fb18a58",
   "metadata": {},
   "outputs": [
    {
     "name": "stderr",
     "output_type": "stream",
     "text": [
      "100%|███████████████████████████████████████████| 65/65 [01:04<00:00,  1.01it/s]\n",
      "100%|███████████████████████████████████████████| 65/65 [01:03<00:00,  1.02it/s]\n",
      "100%|███████████████████████████████████████████| 65/65 [01:03<00:00,  1.02it/s]\n",
      "100%|███████████████████████████████████████████| 65/65 [01:03<00:00,  1.02it/s]\n",
      "100%|███████████████████████████████████████████| 65/65 [01:04<00:00,  1.01it/s]\n",
      "100%|███████████████████████████████████████████| 65/65 [01:05<00:00,  1.00s/it]\n",
      "100%|███████████████████████████████████████████| 65/65 [01:04<00:00,  1.01it/s]\n",
      "100%|███████████████████████████████████████████| 65/65 [01:04<00:00,  1.01it/s]\n",
      "100%|███████████████████████████████████████████| 65/65 [01:04<00:00,  1.02it/s]\n",
      "100%|███████████████████████████████████████████| 65/65 [01:03<00:00,  1.02it/s]\n"
     ]
    }
   ],
   "source": [
    "solutions_prob_so = sim_centrality(nx.second_order_centrality, lower_bound=25, upper_bound=90, nb_graph=10)"
   ]
  },
  {
   "cell_type": "code",
   "execution_count": 156,
   "id": "059b9852",
   "metadata": {},
   "outputs": [
    {
     "name": "stderr",
     "output_type": "stream",
     "text": [
      "100%|███████████████████████████████████████████| 80/80 [00:35<00:00,  2.23it/s]\n",
      "100%|███████████████████████████████████████████| 80/80 [00:35<00:00,  2.23it/s]\n",
      "100%|███████████████████████████████████████████| 80/80 [00:35<00:00,  2.23it/s]\n",
      "100%|███████████████████████████████████████████| 80/80 [00:35<00:00,  2.24it/s]\n",
      "100%|███████████████████████████████████████████| 80/80 [00:36<00:00,  2.22it/s]\n",
      "100%|███████████████████████████████████████████| 80/80 [00:35<00:00,  2.24it/s]\n",
      "100%|███████████████████████████████████████████| 80/80 [00:35<00:00,  2.24it/s]\n",
      "100%|███████████████████████████████████████████| 80/80 [00:36<00:00,  2.22it/s]\n",
      "100%|███████████████████████████████████████████| 80/80 [00:35<00:00,  2.25it/s]\n",
      "100%|███████████████████████████████████████████| 80/80 [00:36<00:00,  2.22it/s]\n"
     ]
    }
   ],
   "source": [
    "# Random strategy\n",
    "\n",
    "n = 500\n",
    "m = 30\n",
    "nb_graph = 10\n",
    "s = {}\n",
    "nb_of_iters = 100\n",
    "\n",
    "# can be used to speed up simulations as we know the theoritical value\n",
    "lower_bound = 20\n",
    "upper_bound = 100\n",
    "\n",
    "solutions_rand = {}\n",
    "random.seed(0)\n",
    "for _ in range(nb_graph):\n",
    "    # Generate the random graph and compute shortest paths\n",
    "    G = nx.barabasi_albert_graph(n, m)\n",
    "    length = dict(nx.all_pairs_shortest_path_length(G))\n",
    "    \n",
    "    for nb in range(0, lower_bound):\n",
    "        solutions_rand[nb] = solutions_rand.get(nb, 0) + 0  \n",
    "    for nb in tqdm(range(lower_bound, upper_bound)): # G.number_of_nodes()\n",
    "        num_nodes = nb # Number of nodes to sample\n",
    "        node_list = list(G.nodes())\n",
    "        count = 0\n",
    "        for i in range(nb_of_iters):\n",
    "            nodes = set(random.sample(node_list, num_nodes)) # Random set of nodes to test\n",
    "            if is_resolving_set(G, nodes, length):\n",
    "                count += 1\n",
    "        solutions_rand[nb] =  solutions_rand.get(nb, 0) + (count / nb_of_iters)\n",
    "    for nb in range(upper_bound, n):\n",
    "            solutions_rand[nb] = solutions_rand.get(nb, 0) + 1\n",
    "\n",
    "for i in range(n):\n",
    "    solutions_rand[i] = solutions_rand[i] / nb_graph"
   ]
  },
  {
   "cell_type": "code",
   "execution_count": 213,
   "id": "015c5301",
   "metadata": {
    "scrolled": true
   },
   "outputs": [
    {
     "name": "stderr",
     "output_type": "stream",
     "text": [
      "100%|███████████████████████████████████████████| 70/70 [00:26<00:00,  2.62it/s]\n",
      "100%|███████████████████████████████████████████| 70/70 [00:27<00:00,  2.58it/s]\n",
      "100%|███████████████████████████████████████████| 70/70 [00:26<00:00,  2.66it/s]\n",
      "100%|███████████████████████████████████████████| 70/70 [00:25<00:00,  2.72it/s]\n",
      "100%|███████████████████████████████████████████| 70/70 [00:29<00:00,  2.39it/s]\n",
      "100%|███████████████████████████████████████████| 70/70 [00:25<00:00,  2.70it/s]\n",
      "100%|███████████████████████████████████████████| 70/70 [00:25<00:00,  2.77it/s]\n",
      "100%|███████████████████████████████████████████| 70/70 [00:26<00:00,  2.63it/s]\n",
      "100%|███████████████████████████████████████████| 70/70 [00:27<00:00,  2.50it/s]\n",
      "100%|███████████████████████████████████████████| 70/70 [00:27<00:00,  2.59it/s]\n"
     ]
    }
   ],
   "source": [
    "# Strategy where we draw only from first quntile (degree)\n",
    "\n",
    "n = 500\n",
    "m = 30\n",
    "nb_of_iters = 100\n",
    "nb_graphs = 10\n",
    "\n",
    "solutions_first_q = {}\n",
    "\n",
    "lower_bound = 20\n",
    "upper_bound = 90\n",
    "\n",
    "number_of_quintile = 5\n",
    "\n",
    "for _ in range(nb_graphs):\n",
    "    G = nx.barabasi_albert_graph(n, m)\n",
    "\n",
    "    node_list = list(G.nodes())\n",
    "\n",
    "    degree_list = [(n, d) for n, d in G.degree()]\n",
    "    degree_list.sort(key=lambda x: x[1], reverse=True)\n",
    "    num_vertices = len(degree_list)\n",
    "    num_vertices_per_decile = n // number_of_quintile\n",
    "    decile_num = 1\n",
    "    decile_vertices = []\n",
    "\n",
    "    for i in range(n):\n",
    "        vertex = degree_list[i][0]\n",
    "        degree = degree_list[i][1]\n",
    "        decile_vertices.append(vertex)\n",
    "        if (i + 1) % num_vertices_per_decile == 0:\n",
    "            nx.set_node_attributes(G, {v: decile_num for v in decile_vertices}, 'decile')\n",
    "            decile_num += 1\n",
    "            decile_vertices = []\n",
    "\n",
    "    length = dict(nx.all_pairs_shortest_path_length(G))\n",
    "\n",
    "    quintile = 1      \n",
    "    nodes_in_decile = [node for node, decile in nx.get_node_attributes(G, 'decile').items() if decile == quintile]\n",
    "    \n",
    "    \n",
    "    for nb in range(0, lower_bound):\n",
    "        solutions_first_q[nb] = solutions_first_q.get(nb, 0) + 0  \n",
    "    for nb in tqdm(range(lower_bound, upper_bound)): # G.number_of_nodes()\n",
    "        num_nodes = nb # Number of nodes to sample\n",
    "        node_list = list(G.nodes())\n",
    "        count = 0\n",
    "        for i in range(nb_of_iters):\n",
    "            nodes = set(random.sample(nodes_in_decile, num_nodes)) # Random set of nodes to test\n",
    "            if is_resolving_set(G, nodes, length):\n",
    "                count += 1\n",
    "        solutions_first_q[nb] =  solutions_first_q.get(nb, 0) + (count / nb_of_iters)\n",
    "    for nb in range(upper_bound, n):\n",
    "            solutions_first_q[nb] = solutions_first_q.get(nb, 0) + 1\n",
    "    \n",
    "for i in range(n):\n",
    "    solutions_first_q[i] = solutions_first_q[i] / nb_graphs"
   ]
  },
  {
   "cell_type": "code",
   "execution_count": 177,
   "id": "e07ecf69",
   "metadata": {},
   "outputs": [],
   "source": [
    "for i in range(n):\n",
    "    solutions_first_q[i] = solutions_first_q[i] / nb_graphs"
   ]
  },
  {
   "cell_type": "code",
   "execution_count": 187,
   "id": "de3af03e",
   "metadata": {},
   "outputs": [],
   "source": [
    "#with open('simulations/transition_eigen_centrality.pickle', 'wb') as file:\n",
    "    #pickle.dump(solutions_prob_eigen, file, protocol=pickle.HIGHEST_PROTOCOL)"
   ]
  },
  {
   "cell_type": "code",
   "execution_count": 72,
   "id": "e737e371",
   "metadata": {},
   "outputs": [],
   "source": [
    "#Can be used to directyl import the results of the simulations\n",
    "\n",
    "\n",
    "#with open('simulations/Barbasi-Albert/transition_random.pickle', \"rb\") as file:\n",
    "    #solutions_rand = pickle.load(file)\n",
    "#with open('simulations/Barbasi-Albert/transition_betweenness_centrality.pickle', \"rb\") as file:\n",
    "    #solutions_prob_bc = pickle.load(file)\n",
    "#with open('simulations/Barbasi-Albert/transition_degree_centrality.pickle', \"rb\") as file:\n",
    "    #solutions_prob_dc = pickle.load(file)\n",
    "#with open('simulations/Barbasi-Albert/transition_so_centrality.pickle', \"rb\") as file:\n",
    "    #solutions_prob_so = pickle.load(file)\n",
    "#with open('simulations/Barbasi-Albert/transition_closness_centrality.pickle', \"rb\") as file:\n",
    "    #solutions_prob_cc = pickle.load(file)\n",
    "#with open('simulations/Barbasi-Albert/transition_eigen_centrality.pickle', \"rb\") as file:\n",
    "    #solutions_prob_eigen = pickle.load(file)"
   ]
  },
  {
   "cell_type": "code",
   "execution_count": 1,
   "id": "1dddab34",
   "metadata": {},
   "outputs": [
    {
     "ename": "NameError",
     "evalue": "name 'solutions_rand' is not defined",
     "output_type": "error",
     "traceback": [
      "\u001b[0;31m---------------------------------------------------------------------------\u001b[0m",
      "\u001b[0;31mNameError\u001b[0m                                 Traceback (most recent call last)",
      "\u001b[0;32m/var/folders/4z/k7wkc9t97453h4tqprj_1j3h0000gn/T/ipykernel_74126/1068737297.py\u001b[0m in \u001b[0;36m<module>\u001b[0;34m\u001b[0m\n\u001b[1;32m      1\u001b[0m \u001b[0;31m# Define your data\u001b[0m\u001b[0;34m\u001b[0m\u001b[0;34m\u001b[0m\u001b[0m\n\u001b[0;32m----> 2\u001b[0;31m \u001b[0mx\u001b[0m \u001b[0;34m=\u001b[0m \u001b[0mlist\u001b[0m\u001b[0;34m(\u001b[0m\u001b[0msolutions_rand\u001b[0m\u001b[0;34m.\u001b[0m\u001b[0mkeys\u001b[0m\u001b[0;34m(\u001b[0m\u001b[0;34m)\u001b[0m\u001b[0;34m)\u001b[0m\u001b[0;34m\u001b[0m\u001b[0;34m\u001b[0m\u001b[0m\n\u001b[0m\u001b[1;32m      3\u001b[0m \u001b[0my\u001b[0m \u001b[0;34m=\u001b[0m \u001b[0mlist\u001b[0m\u001b[0;34m(\u001b[0m\u001b[0msolutions_rand\u001b[0m\u001b[0;34m.\u001b[0m\u001b[0mvalues\u001b[0m\u001b[0;34m(\u001b[0m\u001b[0;34m)\u001b[0m\u001b[0;34m)\u001b[0m\u001b[0;34m\u001b[0m\u001b[0;34m\u001b[0m\u001b[0m\n\u001b[1;32m      4\u001b[0m \u001b[0;34m\u001b[0m\u001b[0m\n\u001b[1;32m      5\u001b[0m \u001b[0mx1\u001b[0m \u001b[0;34m=\u001b[0m \u001b[0mlist\u001b[0m\u001b[0;34m(\u001b[0m\u001b[0msolutions_first_q\u001b[0m\u001b[0;34m.\u001b[0m\u001b[0mkeys\u001b[0m\u001b[0;34m(\u001b[0m\u001b[0;34m)\u001b[0m\u001b[0;34m)\u001b[0m\u001b[0;34m\u001b[0m\u001b[0;34m\u001b[0m\u001b[0m\n",
      "\u001b[0;31mNameError\u001b[0m: name 'solutions_rand' is not defined"
     ]
    }
   ],
   "source": [
    "# Define your data\n",
    "x = list(solutions_rand.keys())\n",
    "y = list(solutions_rand.values())\n",
    "\n",
    "x1 = list(solutions_first_q.keys())\n",
    "y1 = list(solutions_first_q.values())\n",
    "\n",
    "x3 = list(solutions_prob_bc.keys())\n",
    "y3 = list(solutions_prob_bc.values())\n",
    "\n",
    "x4 = list(solutions_prob_dc.keys())\n",
    "y4 = list(solutions_prob_dc.values())\n",
    "\n",
    "x5 = list(solutions_prob_so.keys())\n",
    "y5 = list(solutions_prob_so.values())\n",
    "\n",
    "x6 = list(solutions_prob_cc.keys())\n",
    "y6 = list(solutions_prob_cc.values())\n",
    "\n",
    "x8 = list(solutions_prob_eigen.keys())\n",
    "y8 = list(solutions_prob_eigen.values())\n",
    "\n",
    "# Define the trace for the scatter plot\n",
    "trace = go.Scatter(x=x, y=y, mode='markers+lines', name='Random nodes')\n",
    "trace1 = go.Scatter(x=x1, y=y1, mode='markers+lines', name='Nodes with high degree (top 20%)')\n",
    "trace3 = go.Scatter(x=x3, y=y3, mode='markers+lines', name='Betweenness centrality')\n",
    "trace4 = go.Scatter(x=x4, y=y4, mode='markers+lines', name='Degree centrality')\n",
    "trace5 = go.Scatter(x=x5, y=y5, mode='markers+lines', name='Second order centrality')\n",
    "trace6 = go.Scatter(x=x6, y=y6, mode='markers+lines', name='Closeness centrality')\n",
    "trace8 = go.Scatter(x=x8, y=y8, mode='markers+lines', name='Eigenvector centrality')\n",
    "\n",
    "\n",
    "# Define the layout\n",
    "layout = go.Layout(#title='Probability of resolving the graph as a function of the subset cardinality', \n",
    "                   #title_x=0.5,\n",
    "                   xaxis=dict(title='Cardinality of the subset'), \n",
    "                   yaxis=dict(title='Probability of resolving the graph'),\n",
    "                   legend=dict(x=0.67, y=0.08, orientation='v'))\n",
    "\n",
    "# Combine the traces and layout into a figure\n",
    "fig = go.Figure(data=[trace, trace1, trace3, trace4, trace5, trace6, trace8], layout=layout)\n",
    "\n",
    "# Show the figure\n",
    "fig.show()"
   ]
  },
  {
   "cell_type": "code",
   "execution_count": 223,
   "id": "f977eb28",
   "metadata": {},
   "outputs": [],
   "source": [
    "def sim_centrality_box(centrality_f, n=500, m=30, nb_graph=15, nb_of_iters=100, seed=0):\n",
    "    \n",
    "    box_sol = []\n",
    "    random.seed(seed)\n",
    "    for _ in tqdm(range(nb_graph)):\n",
    "    \n",
    "        # Generate the random graph and compute shortest paths\n",
    "        G = nx.barabasi_albert_graph(n, m)\n",
    "        length = dict(nx.all_pairs_shortest_path_length(G))\n",
    "\n",
    "        c = centrality_f(G)\n",
    "\n",
    "        # normalize the betweenness centralities\n",
    "        c_values = np.array(list(c.values()))\n",
    "        c_norm = c_values / sum(c_values)\n",
    "        node_list = list(c.keys())\n",
    "        for _ in range(nb_of_iters):\n",
    "            nodes = np.random.choice(node_list, p=c_norm, size=len(G), replace=False) # Random set of nodes to test\n",
    "            for nb in range(0, len(G) + 1):\n",
    "                #print(nb)\n",
    "                if is_resolving_set(G, nodes[:nb], length):\n",
    "                    box_sol.append(nb)\n",
    "                    break\n",
    "    return box_sol"
   ]
  },
  {
   "cell_type": "code",
   "execution_count": 159,
   "id": "b7119c90",
   "metadata": {},
   "outputs": [
    {
     "name": "stderr",
     "output_type": "stream",
     "text": [
      "100%|█████████████████████████████████████████| 100/100 [00:16<00:00,  6.04it/s]\n",
      "100%|█████████████████████████████████████████| 100/100 [00:15<00:00,  6.66it/s]\n",
      "100%|█████████████████████████████████████████| 100/100 [00:14<00:00,  6.96it/s]\n",
      "100%|█████████████████████████████████████████| 100/100 [00:15<00:00,  6.65it/s]\n",
      "100%|█████████████████████████████████████████| 100/100 [00:14<00:00,  6.71it/s]\n",
      "100%|█████████████████████████████████████████| 100/100 [00:15<00:00,  6.30it/s]\n",
      "100%|█████████████████████████████████████████| 100/100 [00:14<00:00,  6.90it/s]\n",
      "100%|█████████████████████████████████████████| 100/100 [00:14<00:00,  6.98it/s]\n",
      "100%|█████████████████████████████████████████| 100/100 [00:15<00:00,  6.39it/s]\n",
      "100%|█████████████████████████████████████████| 100/100 [00:15<00:00,  6.41it/s]\n",
      "100%|█████████████████████████████████████████| 100/100 [00:14<00:00,  6.69it/s]\n",
      "100%|█████████████████████████████████████████| 100/100 [00:15<00:00,  6.29it/s]\n",
      "100%|█████████████████████████████████████████| 100/100 [00:14<00:00,  6.80it/s]\n",
      "100%|█████████████████████████████████████████| 100/100 [00:15<00:00,  6.52it/s]\n",
      "100%|█████████████████████████████████████████| 100/100 [00:15<00:00,  6.60it/s]\n"
     ]
    }
   ],
   "source": [
    "# Random\n",
    "\n",
    "n = 500\n",
    "m = 30\n",
    "nb_graph = 15\n",
    "nb_of_iters = 100\n",
    "\n",
    "rand_box_sol = []\n",
    "random.seed(0)\n",
    "for _ in range(nb_graph):\n",
    "\n",
    "    # Generate the random graph and compute shortest paths\n",
    "    G = nx.barabasi_albert_graph(n, m)\n",
    "    length = dict(nx.all_pairs_shortest_path_length(G))\n",
    "\n",
    "    for _ in tqdm(range(nb_of_iters)):\n",
    "        nodes = list(random.sample(list(G.nodes), n))\n",
    "        for nb in range(0, len(G)):\n",
    "            if is_resolving_set(G, nodes[:nb], length):\n",
    "                rand_box_sol.append(nb)\n",
    "                break"
   ]
  },
  {
   "cell_type": "code",
   "execution_count": 160,
   "id": "81b85375",
   "metadata": {},
   "outputs": [
    {
     "name": "stderr",
     "output_type": "stream",
     "text": [
      "100%|███████████████████████████████████████████| 15/15 [06:50<00:00, 27.38s/it]\n"
     ]
    }
   ],
   "source": [
    "dc_box_sol = sim_centrality_box(nx.degree_centrality)"
   ]
  },
  {
   "cell_type": "code",
   "execution_count": 161,
   "id": "a14e626e",
   "metadata": {},
   "outputs": [
    {
     "name": "stderr",
     "output_type": "stream",
     "text": [
      "100%|███████████████████████████████████████████| 15/15 [05:02<00:00, 20.18s/it]\n"
     ]
    }
   ],
   "source": [
    "bc_box_sol = sim_centrality_box(nx.betweenness_centrality)"
   ]
  },
  {
   "cell_type": "code",
   "execution_count": 162,
   "id": "a6b314a9",
   "metadata": {},
   "outputs": [
    {
     "name": "stderr",
     "output_type": "stream",
     "text": [
      "100%|███████████████████████████████████████████| 15/15 [10:17<00:00, 41.19s/it]\n"
     ]
    }
   ],
   "source": [
    "cc_box_sol = sim_centrality_box(nx.closeness_centrality)"
   ]
  },
  {
   "cell_type": "code",
   "execution_count": 163,
   "id": "3e2aa4d2",
   "metadata": {},
   "outputs": [
    {
     "name": "stderr",
     "output_type": "stream",
     "text": [
      "100%|███████████████████████████████████████████| 15/15 [16:32<00:00, 66.14s/it]\n"
     ]
    }
   ],
   "source": [
    "so_box_sol = sim_centrality_box(nx.second_order_centrality)"
   ]
  },
  {
   "cell_type": "code",
   "execution_count": 224,
   "id": "6d574766",
   "metadata": {},
   "outputs": [
    {
     "name": "stderr",
     "output_type": "stream",
     "text": [
      "\r",
      "  0%|                                                    | 0/15 [00:00<?, ?it/s]"
     ]
    },
    {
     "name": "stdout",
     "output_type": "stream",
     "text": [
      "start\n"
     ]
    },
    {
     "name": "stderr",
     "output_type": "stream",
     "text": [
      "\r",
      "  7%|██▉                                         | 1/15 [00:31<07:16, 31.17s/it]"
     ]
    },
    {
     "name": "stdout",
     "output_type": "stream",
     "text": [
      "start\n"
     ]
    },
    {
     "name": "stderr",
     "output_type": "stream",
     "text": [
      "\r",
      " 13%|█████▊                                      | 2/15 [01:03<06:55, 31.98s/it]"
     ]
    },
    {
     "name": "stdout",
     "output_type": "stream",
     "text": [
      "start\n"
     ]
    },
    {
     "name": "stderr",
     "output_type": "stream",
     "text": [
      "\r",
      " 20%|████████▊                                   | 3/15 [01:35<06:22, 31.86s/it]"
     ]
    },
    {
     "name": "stdout",
     "output_type": "stream",
     "text": [
      "start\n"
     ]
    },
    {
     "name": "stderr",
     "output_type": "stream",
     "text": [
      "\r",
      " 27%|███████████▋                                | 4/15 [02:07<05:51, 31.92s/it]"
     ]
    },
    {
     "name": "stdout",
     "output_type": "stream",
     "text": [
      "start\n"
     ]
    },
    {
     "name": "stderr",
     "output_type": "stream",
     "text": [
      "\r",
      " 33%|██████████████▋                             | 5/15 [02:38<05:16, 31.62s/it]"
     ]
    },
    {
     "name": "stdout",
     "output_type": "stream",
     "text": [
      "start\n"
     ]
    },
    {
     "name": "stderr",
     "output_type": "stream",
     "text": [
      "\r",
      " 40%|█████████████████▌                          | 6/15 [03:12<04:52, 32.47s/it]"
     ]
    },
    {
     "name": "stdout",
     "output_type": "stream",
     "text": [
      "start\n"
     ]
    },
    {
     "name": "stderr",
     "output_type": "stream",
     "text": [
      "\r",
      " 47%|████████████████████▌                       | 7/15 [03:40<04:08, 31.06s/it]"
     ]
    },
    {
     "name": "stdout",
     "output_type": "stream",
     "text": [
      "start\n"
     ]
    },
    {
     "name": "stderr",
     "output_type": "stream",
     "text": [
      "\r",
      " 53%|███████████████████████▍                    | 8/15 [04:10<03:34, 30.64s/it]"
     ]
    },
    {
     "name": "stdout",
     "output_type": "stream",
     "text": [
      "start\n"
     ]
    },
    {
     "name": "stderr",
     "output_type": "stream",
     "text": [
      "\r",
      " 60%|██████████████████████████▍                 | 9/15 [04:39<03:00, 30.02s/it]"
     ]
    },
    {
     "name": "stdout",
     "output_type": "stream",
     "text": [
      "start\n"
     ]
    },
    {
     "name": "stderr",
     "output_type": "stream",
     "text": [
      "\r",
      " 67%|████████████████████████████▋              | 10/15 [05:06<02:26, 29.31s/it]"
     ]
    },
    {
     "name": "stdout",
     "output_type": "stream",
     "text": [
      "start\n"
     ]
    },
    {
     "name": "stderr",
     "output_type": "stream",
     "text": [
      "\r",
      " 73%|███████████████████████████████▌           | 11/15 [05:36<01:57, 29.50s/it]"
     ]
    },
    {
     "name": "stdout",
     "output_type": "stream",
     "text": [
      "start\n"
     ]
    },
    {
     "name": "stderr",
     "output_type": "stream",
     "text": [
      "\r",
      " 80%|██████████████████████████████████▍        | 12/15 [06:11<01:33, 31.07s/it]"
     ]
    },
    {
     "name": "stdout",
     "output_type": "stream",
     "text": [
      "start\n"
     ]
    },
    {
     "name": "stderr",
     "output_type": "stream",
     "text": [
      "\r",
      " 87%|█████████████████████████████████████▎     | 13/15 [06:44<01:03, 31.68s/it]"
     ]
    },
    {
     "name": "stdout",
     "output_type": "stream",
     "text": [
      "start\n"
     ]
    },
    {
     "name": "stderr",
     "output_type": "stream",
     "text": [
      "\r",
      " 93%|████████████████████████████████████████▏  | 14/15 [07:16<00:31, 31.88s/it]"
     ]
    },
    {
     "name": "stdout",
     "output_type": "stream",
     "text": [
      "start\n"
     ]
    },
    {
     "name": "stderr",
     "output_type": "stream",
     "text": [
      "100%|███████████████████████████████████████████| 15/15 [07:49<00:00, 31.27s/it]\n"
     ]
    }
   ],
   "source": [
    "eigen_box_sol = sim_centrality_box(nx.eigenvector_centrality)"
   ]
  },
  {
   "cell_type": "code",
   "execution_count": 164,
   "id": "a44014cd",
   "metadata": {},
   "outputs": [],
   "source": [
    "dict_result = {'Betweenness centrality': bc_box_sol, 'Degree centrality': dc_box_sol, 'Closeness centrality': cc_box_sol , 'Random': rand_box_sol, 'Second order centrality': so_box_sol, }"
   ]
  },
  {
   "cell_type": "code",
   "execution_count": 83,
   "id": "12a3807a",
   "metadata": {},
   "outputs": [],
   "source": [
    "#with open('simulations/Barbasi-Albert/centrality_boxes_15graph_100iters.pickle', \"rb\") as file:\n",
    "    #dict_result = pickle.load(file)"
   ]
  },
  {
   "cell_type": "code",
   "execution_count": 84,
   "id": "df534608",
   "metadata": {},
   "outputs": [],
   "source": [
    "#with open('simulations/centrality_boxes_15graph_100iters.pickle', 'wb') as file:\n",
    "    #pickle.dump(dict_result, file, protocol=pickle.HIGHEST_PROTOCOL)"
   ]
  },
  {
   "cell_type": "code",
   "execution_count": 232,
   "id": "3b272bd6",
   "metadata": {},
   "outputs": [
    {
     "data": {
      "application/vnd.plotly.v1+json": {
       "config": {
        "plotlyServerURL": "https://plot.ly"
       },
       "data": [
        {
         "name": "Betweenness centrality",
         "type": "box",
         "y": [
          46,
          39,
          41,
          37,
          42,
          35,
          39,
          38,
          40,
          38,
          35,
          36,
          50,
          41,
          33,
          50,
          44,
          56,
          39,
          43,
          45,
          41,
          46,
          39,
          45,
          44,
          40,
          35,
          41,
          38,
          31,
          46,
          51,
          37,
          36,
          38,
          46,
          35,
          46,
          36,
          45,
          51,
          39,
          44,
          35,
          43,
          41,
          43,
          47,
          45,
          41,
          40,
          39,
          39,
          42,
          37,
          38,
          48,
          39,
          52,
          44,
          37,
          45,
          41,
          51,
          40,
          45,
          40,
          36,
          40,
          34,
          53,
          44,
          45,
          38,
          38,
          43,
          44,
          38,
          48,
          41,
          35,
          54,
          33,
          39,
          46,
          34,
          45,
          58,
          48,
          36,
          37,
          48,
          49,
          51,
          40,
          40,
          40,
          35,
          49,
          49,
          38,
          38,
          37,
          48,
          37,
          42,
          46,
          41,
          40,
          45,
          48,
          40,
          41,
          43,
          40,
          45,
          35,
          50,
          35,
          40,
          40,
          58,
          42,
          37,
          38,
          38,
          45,
          47,
          35,
          60,
          48,
          36,
          41,
          43,
          42,
          42,
          43,
          47,
          41,
          51,
          47,
          40,
          44,
          42,
          41,
          36,
          61,
          39,
          44,
          40,
          42,
          36,
          39,
          39,
          48,
          43,
          44,
          39,
          42,
          41,
          51,
          36,
          40,
          41,
          34,
          43,
          42,
          46,
          48,
          39,
          39,
          37,
          34,
          39,
          41,
          40,
          58,
          36,
          36,
          43,
          48,
          48,
          40,
          36,
          39,
          46,
          35,
          38,
          35,
          46,
          38,
          45,
          46,
          44,
          40,
          41,
          47,
          38,
          48,
          43,
          41,
          37,
          41,
          48,
          45,
          43,
          40,
          48,
          42,
          42,
          39,
          36,
          44,
          43,
          43,
          37,
          33,
          41,
          38,
          44,
          47,
          40,
          41,
          44,
          45,
          38,
          42,
          45,
          42,
          47,
          49,
          51,
          35,
          32,
          48,
          40,
          38,
          32,
          41,
          39,
          38,
          44,
          37,
          39,
          48,
          49,
          45,
          42,
          50,
          35,
          41,
          38,
          49,
          46,
          39,
          54,
          40,
          41,
          41,
          43,
          31,
          39,
          47,
          40,
          39,
          55,
          36,
          37,
          47,
          36,
          41,
          57,
          45,
          37,
          35,
          52,
          39,
          44,
          46,
          47,
          42,
          35,
          47,
          38,
          38,
          51,
          54,
          49,
          36,
          38,
          45,
          42,
          40,
          37,
          36,
          40,
          35,
          37,
          39,
          51,
          45,
          45,
          39,
          36,
          41,
          45,
          45,
          41,
          40,
          43,
          36,
          41,
          44,
          43,
          36,
          40,
          38,
          34,
          46,
          37,
          40,
          41,
          40,
          37,
          45,
          40,
          42,
          42,
          44,
          48,
          44,
          42,
          44,
          40,
          44,
          41,
          38,
          38,
          43,
          36,
          47,
          43,
          40,
          40,
          36,
          37,
          43,
          48,
          41,
          43,
          45,
          35,
          40,
          36,
          38,
          37,
          35,
          39,
          42,
          38,
          40,
          41,
          64,
          37,
          40,
          52,
          46,
          45,
          46,
          37,
          37,
          41,
          33,
          42,
          41,
          36,
          38,
          47,
          41,
          42,
          41,
          47,
          41,
          48,
          46,
          47,
          37,
          46,
          41,
          47,
          44,
          38,
          43,
          42,
          48,
          42,
          32,
          44,
          40,
          37,
          45,
          37,
          60,
          54,
          50,
          39,
          41,
          37,
          44,
          43,
          40,
          45,
          56,
          31,
          46,
          45,
          55,
          40,
          34,
          40,
          44,
          35,
          39,
          47,
          47,
          44,
          45,
          41,
          34,
          46,
          44,
          40,
          48,
          45,
          39,
          35,
          42,
          52,
          58,
          48,
          35,
          41,
          41,
          43,
          48,
          42,
          46,
          43,
          42,
          43,
          38,
          39,
          41,
          48,
          35,
          48,
          36,
          40,
          54,
          48,
          38,
          38,
          40,
          40,
          50,
          51,
          36,
          47,
          49,
          40,
          35,
          45,
          40,
          49,
          37,
          43,
          40,
          41,
          39,
          37,
          47,
          46,
          39,
          36,
          45,
          43,
          44,
          34,
          35,
          43,
          42,
          49,
          42,
          43,
          44,
          38,
          42,
          32,
          40,
          41,
          34,
          53,
          52,
          39,
          53,
          50,
          41,
          32,
          36,
          49,
          44,
          40,
          34,
          40,
          34,
          40,
          40,
          39,
          39,
          45,
          41,
          44,
          39,
          39,
          39,
          42,
          44,
          48,
          38,
          44,
          38,
          38,
          41,
          40,
          45,
          49,
          53,
          44,
          32,
          39,
          38,
          43,
          42,
          38,
          40,
          49,
          52,
          39,
          50,
          50,
          41,
          43,
          44,
          31,
          46,
          38,
          39,
          44,
          37,
          36,
          46,
          43,
          36,
          35,
          33,
          56,
          40,
          38,
          45,
          50,
          48,
          53,
          41,
          37,
          48,
          47,
          48,
          37,
          38,
          39,
          35,
          31,
          41,
          47,
          41,
          41,
          36,
          36,
          35,
          41,
          39,
          47,
          38,
          38,
          50,
          37,
          42,
          48,
          35,
          36,
          48,
          53,
          44,
          46,
          43,
          41,
          42,
          45,
          36,
          42,
          37,
          47,
          34,
          51,
          41,
          46,
          41,
          48,
          42,
          39,
          62,
          48,
          41,
          41,
          57,
          52,
          50,
          39,
          38,
          39,
          46,
          43,
          42,
          45,
          44,
          41,
          44,
          39,
          34,
          41,
          46,
          48,
          44,
          43,
          41,
          52,
          48,
          34,
          46,
          45,
          38,
          42,
          44,
          43,
          40,
          35,
          39,
          48,
          37,
          42,
          45,
          37,
          45,
          39,
          34,
          49,
          44,
          46,
          37,
          42,
          49,
          44,
          42,
          44,
          43,
          40,
          45,
          43,
          33,
          36,
          44,
          45,
          38,
          43,
          42,
          44,
          37,
          43,
          34,
          39,
          37,
          50,
          43,
          33,
          41,
          44,
          41,
          40,
          42,
          35,
          37,
          37,
          41,
          45,
          33,
          37,
          35,
          37,
          37,
          33,
          34,
          42,
          38,
          46,
          38,
          42,
          50,
          44,
          41,
          39,
          64,
          38,
          49,
          42,
          43,
          43,
          40,
          37,
          40,
          38,
          44,
          38,
          44,
          54,
          32,
          45,
          38,
          35,
          44,
          43,
          42,
          35,
          36,
          49,
          41,
          38,
          43,
          50,
          40,
          34,
          36,
          49,
          40,
          46,
          41,
          51,
          37,
          37,
          43,
          48,
          42,
          42,
          43,
          33,
          46,
          38,
          47,
          44,
          39,
          39,
          38,
          43,
          52,
          41,
          38,
          51,
          36,
          36,
          38,
          36,
          36,
          46,
          41,
          33,
          44,
          40,
          45,
          46,
          38,
          41,
          39,
          45,
          42,
          33,
          44,
          57,
          33,
          46,
          38,
          42,
          37,
          43,
          37,
          46,
          44,
          41,
          42,
          44,
          46,
          48,
          43,
          42,
          41,
          47,
          44,
          45,
          40,
          41,
          41,
          41,
          38,
          44,
          44,
          41,
          39,
          35,
          44,
          48,
          42,
          44,
          44,
          41,
          49,
          40,
          46,
          37,
          39,
          39,
          38,
          40,
          46,
          34,
          46,
          44,
          41,
          47,
          42,
          47,
          41,
          40,
          39,
          50,
          50,
          51,
          48,
          41,
          38,
          38,
          53,
          46,
          36,
          49,
          46,
          42,
          37,
          49,
          40,
          43,
          47,
          36,
          42,
          44,
          35,
          36,
          37,
          35,
          44,
          45,
          44,
          36,
          52,
          41,
          48,
          40,
          46,
          41,
          46,
          39,
          36,
          42,
          36,
          48,
          45,
          43,
          40,
          45,
          44,
          34,
          54,
          63,
          47,
          45,
          47,
          41,
          51,
          36,
          40,
          32,
          47,
          51,
          43,
          54,
          40,
          35,
          43,
          41,
          46,
          43,
          34,
          37,
          37,
          42,
          43,
          37,
          47,
          43,
          41,
          41,
          43,
          38,
          57,
          52,
          40,
          43,
          42,
          42,
          47,
          37,
          36,
          45,
          51,
          42,
          47,
          49,
          41,
          43,
          44,
          37,
          46,
          46,
          47,
          39,
          39,
          42,
          44,
          38,
          49,
          39,
          45,
          43,
          42,
          39,
          35,
          43,
          52,
          37,
          44,
          49,
          47,
          42,
          42,
          49,
          39,
          39,
          51,
          36,
          38,
          37,
          35,
          42,
          50,
          42,
          49,
          49,
          39,
          44,
          38,
          52,
          38,
          39,
          37,
          45,
          49,
          35,
          35,
          40,
          41,
          37,
          37,
          37,
          35,
          33,
          37,
          34,
          39,
          50,
          34,
          50,
          33,
          39,
          41,
          49,
          38,
          52,
          44,
          41,
          39,
          36,
          32,
          41,
          35,
          47,
          37,
          43,
          45,
          38,
          36,
          43,
          41,
          44,
          38,
          42,
          41,
          39,
          35,
          38,
          53,
          47,
          45,
          46,
          41,
          42,
          43,
          38,
          36,
          40,
          40,
          43,
          40,
          34,
          39,
          39,
          30,
          34,
          38,
          47,
          37,
          37,
          40,
          47,
          39,
          47,
          39,
          40,
          38,
          43,
          51,
          43,
          37,
          38,
          39,
          38,
          40,
          44,
          45,
          55,
          43,
          40,
          39,
          63,
          47,
          42,
          44,
          36,
          43,
          39,
          43,
          49,
          41,
          38,
          39,
          48,
          42,
          36,
          42,
          38,
          40,
          35,
          41,
          53,
          46,
          43,
          48,
          38,
          42,
          45,
          43,
          41,
          37,
          36,
          40,
          40,
          41,
          33,
          46,
          36,
          45,
          42,
          34,
          41,
          39,
          41,
          32,
          39,
          41,
          38,
          64,
          39,
          43,
          35,
          41,
          70,
          38,
          36,
          37,
          37,
          39,
          36,
          42,
          46,
          43,
          41,
          40,
          52,
          54,
          43,
          37,
          43,
          41,
          34,
          41,
          51,
          39,
          37,
          39,
          40,
          39,
          37,
          40,
          38,
          46,
          37,
          44,
          41,
          38,
          36,
          47,
          46,
          42,
          40,
          41,
          45,
          42,
          38,
          41,
          37,
          37,
          42,
          36,
          35,
          43,
          42,
          33,
          38,
          46,
          36,
          37,
          40,
          37,
          41,
          43,
          36,
          42,
          37,
          46,
          35,
          36,
          63,
          35,
          39,
          42,
          35,
          52,
          45,
          38,
          37,
          37,
          41,
          36,
          42,
          30,
          37,
          45,
          58,
          43,
          40,
          51,
          40,
          40,
          41,
          41,
          41,
          42,
          38,
          37,
          43,
          46,
          42,
          43,
          35,
          44,
          39,
          50,
          47,
          82,
          35,
          42,
          42,
          42,
          38,
          42,
          39,
          35,
          45,
          44,
          37,
          43,
          46,
          43,
          43,
          48,
          48,
          45,
          49,
          35,
          42,
          47,
          48,
          40,
          39,
          45,
          34,
          41,
          39,
          37,
          36,
          38,
          40,
          40,
          37,
          37,
          55,
          38,
          42,
          40,
          38,
          45,
          41,
          40,
          41,
          56,
          33,
          49,
          46,
          47,
          50,
          45,
          52,
          36,
          44,
          44,
          45,
          38,
          46,
          41,
          45,
          45,
          39,
          41,
          33,
          31,
          40,
          41,
          38,
          39,
          35,
          39,
          44,
          46,
          48,
          39,
          37,
          39,
          40,
          40,
          60,
          43,
          44,
          42,
          43,
          46,
          40,
          37,
          45,
          44,
          36,
          48,
          44,
          45,
          37,
          33,
          73,
          40,
          49,
          34,
          41,
          46,
          35,
          66,
          44,
          45,
          42,
          45,
          56,
          41,
          35,
          40,
          50,
          46,
          40,
          40,
          36,
          36,
          33,
          40,
          40,
          33,
          54,
          37,
          38,
          39,
          39,
          51,
          40,
          34,
          49,
          39,
          43,
          51,
          39,
          39,
          46,
          44,
          44,
          44,
          41,
          44,
          42,
          44,
          40,
          37,
          36,
          43,
          44,
          37,
          43,
          40,
          52,
          39,
          39,
          45,
          44,
          38,
          42,
          51,
          38,
          43,
          37,
          46,
          45,
          42,
          44,
          47,
          29,
          35,
          44,
          44,
          46,
          45,
          45,
          37,
          40,
          38,
          40,
          39,
          43,
          51,
          41,
          34,
          40,
          40,
          41,
          45,
          39,
          36,
          37,
          46,
          46,
          34,
          36,
          43,
          44,
          42,
          37,
          35,
          41,
          45,
          43,
          35,
          42,
          42,
          39,
          40,
          40,
          38,
          36,
          51,
          50,
          43,
          38,
          43,
          44,
          38,
          54,
          39,
          36,
          33,
          41,
          43,
          42,
          40,
          48,
          33,
          36,
          37,
          44,
          35,
          35,
          50,
          49,
          33,
          45,
          49,
          36,
          47,
          38,
          30,
          43,
          37,
          37,
          42,
          36,
          40,
          31,
          38,
          38,
          42,
          38,
          37,
          40,
          43,
          49,
          39,
          41,
          42,
          42,
          42,
          43,
          44
         ]
        },
        {
         "name": "Degree centrality",
         "type": "box",
         "y": [
          58,
          57,
          48,
          52,
          53,
          56,
          52,
          46,
          54,
          45,
          44,
          44,
          46,
          52,
          53,
          62,
          54,
          49,
          46,
          48,
          56,
          47,
          58,
          50,
          59,
          45,
          56,
          44,
          50,
          52,
          60,
          48,
          58,
          56,
          67,
          56,
          62,
          49,
          45,
          44,
          57,
          53,
          58,
          55,
          54,
          47,
          54,
          44,
          58,
          54,
          44,
          42,
          51,
          50,
          47,
          50,
          43,
          53,
          46,
          52,
          46,
          51,
          57,
          42,
          42,
          59,
          63,
          41,
          52,
          42,
          51,
          52,
          54,
          52,
          40,
          48,
          52,
          46,
          55,
          43,
          55,
          54,
          47,
          49,
          64,
          47,
          58,
          49,
          56,
          54,
          54,
          53,
          53,
          50,
          50,
          56,
          53,
          51,
          45,
          49,
          58,
          50,
          58,
          44,
          57,
          55,
          53,
          39,
          39,
          45,
          62,
          54,
          54,
          49,
          52,
          48,
          44,
          44,
          55,
          53,
          48,
          45,
          54,
          46,
          56,
          61,
          45,
          48,
          54,
          56,
          52,
          45,
          44,
          54,
          56,
          48,
          74,
          53,
          47,
          43,
          54,
          57,
          52,
          57,
          43,
          51,
          56,
          50,
          38,
          55,
          49,
          54,
          52,
          48,
          51,
          48,
          38,
          56,
          50,
          46,
          51,
          47,
          51,
          42,
          42,
          62,
          68,
          63,
          65,
          42,
          47,
          47,
          47,
          51,
          39,
          51,
          46,
          44,
          48,
          54,
          53,
          47,
          43,
          43,
          48,
          48,
          51,
          48,
          47,
          52,
          50,
          47,
          41,
          56,
          49,
          52,
          54,
          47,
          42,
          48,
          58,
          51,
          55,
          50,
          54,
          57,
          49,
          45,
          42,
          51,
          52,
          56,
          52,
          49,
          53,
          53,
          45,
          55,
          44,
          58,
          56,
          53,
          65,
          45,
          48,
          51,
          50,
          52,
          51,
          53,
          69,
          52,
          52,
          45,
          54,
          60,
          51,
          49,
          49,
          49,
          44,
          57,
          58,
          58,
          38,
          52,
          49,
          48,
          46,
          45,
          47,
          50,
          51,
          57,
          50,
          50,
          63,
          43,
          63,
          43,
          61,
          54,
          58,
          52,
          47,
          48,
          64,
          47,
          49,
          47,
          51,
          49,
          59,
          52,
          50,
          48,
          59,
          55,
          50,
          47,
          46,
          57,
          47,
          46,
          57,
          50,
          56,
          54,
          56,
          46,
          70,
          60,
          46,
          48,
          47,
          64,
          48,
          44,
          47,
          53,
          46,
          45,
          46,
          62,
          40,
          60,
          51,
          48,
          46,
          45,
          45,
          38,
          53,
          51,
          60,
          51,
          61,
          49,
          74,
          48,
          51,
          51,
          54,
          53,
          55,
          49,
          53,
          54,
          44,
          55,
          53,
          46,
          59,
          49,
          54,
          45,
          55,
          52,
          50,
          46,
          46,
          47,
          72,
          59,
          58,
          48,
          55,
          43,
          41,
          52,
          56,
          55,
          51,
          51,
          57,
          52,
          56,
          40,
          50,
          44,
          52,
          60,
          48,
          50,
          50,
          56,
          47,
          42,
          54,
          45,
          55,
          46,
          63,
          55,
          60,
          51,
          47,
          63,
          52,
          46,
          45,
          50,
          46,
          51,
          43,
          51,
          41,
          56,
          48,
          48,
          45,
          57,
          48,
          51,
          48,
          62,
          54,
          56,
          44,
          55,
          55,
          57,
          52,
          51,
          57,
          44,
          64,
          52,
          51,
          46,
          55,
          50,
          65,
          51,
          55,
          47,
          53,
          47,
          48,
          49,
          48,
          49,
          42,
          41,
          58,
          42,
          56,
          62,
          55,
          51,
          51,
          50,
          69,
          52,
          60,
          39,
          52,
          65,
          45,
          61,
          49,
          50,
          48,
          47,
          45,
          58,
          52,
          52,
          46,
          54,
          47,
          49,
          65,
          49,
          53,
          47,
          51,
          55,
          41,
          51,
          52,
          54,
          51,
          49,
          52,
          59,
          49,
          46,
          50,
          50,
          47,
          64,
          54,
          54,
          49,
          53,
          45,
          50,
          46,
          52,
          52,
          51,
          52,
          48,
          60,
          51,
          54,
          55,
          49,
          56,
          51,
          64,
          56,
          45,
          51,
          51,
          43,
          45,
          49,
          51,
          55,
          54,
          55,
          55,
          62,
          52,
          64,
          49,
          43,
          65,
          38,
          48,
          58,
          47,
          56,
          60,
          53,
          47,
          54,
          55,
          60,
          49,
          43,
          51,
          55,
          48,
          47,
          60,
          52,
          44,
          54,
          56,
          45,
          47,
          56,
          54,
          52,
          40,
          44,
          50,
          54,
          54,
          41,
          48,
          38,
          53,
          55,
          47,
          51,
          49,
          55,
          48,
          51,
          52,
          63,
          44,
          50,
          49,
          43,
          52,
          54,
          49,
          51,
          50,
          57,
          65,
          45,
          48,
          51,
          48,
          51,
          51,
          40,
          49,
          49,
          49,
          46,
          51,
          50,
          50,
          54,
          49,
          52,
          43,
          43,
          57,
          50,
          51,
          49,
          49,
          48,
          52,
          50,
          43,
          48,
          39,
          59,
          40,
          68,
          46,
          57,
          53,
          47,
          58,
          51,
          56,
          54,
          42,
          51,
          53,
          59,
          43,
          51,
          50,
          62,
          43,
          52,
          68,
          46,
          51,
          47,
          49,
          53,
          49,
          44,
          49,
          47,
          48,
          57,
          45,
          49,
          43,
          50,
          42,
          50,
          53,
          51,
          63,
          42,
          53,
          52,
          48,
          53,
          46,
          49,
          43,
          48,
          62,
          48,
          69,
          50,
          58,
          63,
          50,
          46,
          38,
          62,
          67,
          60,
          58,
          44,
          51,
          52,
          50,
          41,
          42,
          47,
          51,
          58,
          47,
          62,
          60,
          53,
          47,
          50,
          48,
          48,
          44,
          49,
          49,
          61,
          48,
          61,
          71,
          41,
          71,
          65,
          43,
          58,
          49,
          68,
          52,
          60,
          51,
          54,
          45,
          52,
          51,
          48,
          57,
          39,
          42,
          57,
          50,
          53,
          51,
          46,
          52,
          52,
          49,
          48,
          61,
          52,
          46,
          55,
          59,
          50,
          42,
          47,
          45,
          53,
          46,
          47,
          50,
          47,
          52,
          57,
          52,
          46,
          50,
          50,
          58,
          55,
          47,
          53,
          54,
          43,
          58,
          50,
          45,
          68,
          55,
          44,
          54,
          45,
          42,
          49,
          46,
          49,
          77,
          53,
          48,
          45,
          48,
          48,
          47,
          50,
          59,
          48,
          50,
          50,
          45,
          68,
          43,
          45,
          58,
          54,
          52,
          59,
          58,
          45,
          50,
          49,
          53,
          69,
          43,
          49,
          53,
          49,
          54,
          53,
          52,
          51,
          55,
          43,
          43,
          61,
          61,
          56,
          44,
          57,
          50,
          52,
          46,
          46,
          49,
          55,
          54,
          55,
          49,
          45,
          41,
          46,
          61,
          51,
          48,
          53,
          53,
          58,
          55,
          52,
          50,
          52,
          46,
          60,
          54,
          44,
          52,
          52,
          49,
          53,
          54,
          49,
          51,
          50,
          45,
          54,
          43,
          39,
          55,
          54,
          52,
          50,
          52,
          55,
          41,
          56,
          50,
          59,
          54,
          51,
          55,
          42,
          54,
          60,
          51,
          54,
          49,
          44,
          49,
          51,
          62,
          65,
          46,
          48,
          54,
          54,
          45,
          42,
          52,
          51,
          56,
          54,
          43,
          51,
          47,
          46,
          51,
          52,
          49,
          55,
          76,
          46,
          48,
          44,
          58,
          50,
          66,
          45,
          53,
          50,
          57,
          42,
          56,
          61,
          46,
          49,
          54,
          49,
          44,
          49,
          54,
          54,
          61,
          51,
          55,
          56,
          43,
          48,
          52,
          38,
          51,
          51,
          46,
          55,
          55,
          57,
          55,
          54,
          40,
          45,
          47,
          43,
          54,
          49,
          50,
          52,
          45,
          49,
          45,
          59,
          42,
          63,
          67,
          70,
          48,
          47,
          40,
          41,
          43,
          50,
          60,
          55,
          54,
          53,
          55,
          56,
          53,
          44,
          58,
          54,
          54,
          48,
          48,
          48,
          62,
          65,
          61,
          64,
          46,
          51,
          47,
          53,
          72,
          45,
          50,
          45,
          59,
          50,
          51,
          42,
          62,
          48,
          57,
          50,
          46,
          57,
          56,
          47,
          61,
          51,
          44,
          49,
          43,
          47,
          51,
          43,
          45,
          52,
          63,
          54,
          53,
          53,
          46,
          50,
          63,
          47,
          43,
          65,
          52,
          46,
          49,
          50,
          50,
          53,
          53,
          50,
          53,
          49,
          53,
          46,
          45,
          47,
          56,
          47,
          42,
          64,
          47,
          53,
          58,
          51,
          59,
          55,
          53,
          51,
          44,
          51,
          49,
          43,
          50,
          50,
          44,
          49,
          48,
          49,
          55,
          68,
          46,
          50,
          56,
          62,
          54,
          50,
          50,
          50,
          52,
          44,
          66,
          43,
          60,
          48,
          48,
          53,
          53,
          61,
          50,
          45,
          52,
          48,
          54,
          55,
          54,
          48,
          58,
          41,
          52,
          56,
          41,
          51,
          48,
          50,
          45,
          42,
          55,
          42,
          53,
          58,
          55,
          49,
          82,
          46,
          45,
          51,
          63,
          54,
          44,
          47,
          58,
          51,
          49,
          55,
          43,
          55,
          50,
          42,
          51,
          46,
          50,
          53,
          58,
          58,
          47,
          45,
          44,
          65,
          52,
          55,
          50,
          40,
          45,
          59,
          46,
          46,
          44,
          57,
          52,
          45,
          55,
          54,
          47,
          50,
          38,
          48,
          53,
          46,
          57,
          53,
          46,
          51,
          43,
          50,
          53,
          53,
          49,
          45,
          56,
          46,
          50,
          54,
          56,
          61,
          64,
          47,
          47,
          46,
          49,
          48,
          52,
          48,
          47,
          55,
          52,
          53,
          56,
          49,
          52,
          64,
          50,
          45,
          50,
          57,
          50,
          56,
          43,
          57,
          55,
          55,
          50,
          43,
          47,
          48,
          49,
          50,
          54,
          68,
          45,
          48,
          48,
          42,
          49,
          52,
          76,
          61,
          52,
          47,
          46,
          47,
          49,
          52,
          63,
          46,
          46,
          45,
          47,
          49,
          52,
          41,
          58,
          55,
          58,
          57,
          56,
          58,
          47,
          57,
          45,
          55,
          62,
          67,
          46,
          50,
          51,
          39,
          46,
          46,
          48,
          66,
          50,
          48,
          51,
          43,
          53,
          71,
          51,
          53,
          48,
          57,
          48,
          60,
          44,
          45,
          51,
          59,
          47,
          52,
          50,
          44,
          57,
          52,
          56,
          68,
          58,
          45,
          55,
          50,
          55,
          49,
          51,
          51,
          48,
          46,
          50,
          55,
          49,
          49,
          54,
          56,
          46,
          54,
          49,
          48,
          50,
          47,
          50,
          44,
          44,
          53,
          52,
          45,
          48,
          52,
          51,
          46,
          47,
          41,
          58,
          67,
          48,
          49,
          60,
          48,
          56,
          47,
          68,
          51,
          58,
          48,
          42,
          61,
          47,
          53,
          39,
          53,
          41,
          46,
          61,
          55,
          48,
          51,
          46,
          62,
          54,
          48,
          52,
          47,
          84,
          53,
          57,
          50,
          54,
          69,
          57,
          65,
          53,
          63,
          46,
          51,
          46,
          50,
          42,
          47,
          59,
          51,
          54,
          54,
          67,
          42,
          51,
          48,
          49,
          54,
          50,
          48,
          48,
          55,
          51,
          49,
          38,
          49,
          52,
          50,
          45,
          52,
          52,
          52,
          48,
          53,
          53,
          50,
          54,
          56,
          46,
          63,
          51,
          45,
          50,
          59,
          51,
          77,
          50,
          52,
          56,
          60,
          48,
          45,
          49,
          64,
          49,
          52,
          54,
          46,
          42,
          44,
          56,
          53,
          50,
          49,
          50,
          53,
          44,
          49,
          55,
          48,
          51,
          52,
          53,
          49,
          42,
          50,
          50,
          49,
          50,
          61,
          52,
          45,
          38,
          55,
          57,
          61,
          47,
          50,
          47,
          52,
          53,
          50,
          50,
          55,
          44,
          57,
          63,
          50,
          41,
          55,
          49,
          47,
          59,
          52,
          54,
          63,
          59,
          57,
          42,
          53,
          72,
          55,
          48,
          51,
          53,
          50,
          60,
          49,
          51,
          64,
          48,
          49,
          55,
          54,
          51,
          52,
          61,
          44,
          63,
          48,
          50,
          57,
          51,
          44,
          41,
          59,
          50,
          57,
          50,
          46,
          64,
          50,
          47,
          50,
          65,
          45,
          51,
          55,
          61,
          48,
          55,
          50,
          65,
          52,
          74,
          50,
          61,
          58,
          45,
          53,
          49,
          51,
          54,
          47,
          43,
          49,
          48,
          56,
          52,
          53,
          46,
          53,
          41,
          44,
          48,
          52,
          50,
          41,
          54,
          51,
          62,
          45,
          65,
          54,
          57,
          51,
          51,
          45,
          51,
          42,
          58,
          61,
          49,
          46,
          46,
          45,
          65
         ]
        },
        {
         "name": "Eigenvector centrality",
         "type": "box",
         "y": [
          63,
          55,
          43,
          48,
          46,
          53,
          53,
          58,
          72,
          46,
          46,
          49,
          38,
          41,
          47,
          51,
          46,
          64,
          53,
          57,
          49,
          50,
          56,
          51,
          57,
          50,
          51,
          49,
          49,
          48,
          53,
          43,
          49,
          58,
          42,
          54,
          51,
          62,
          44,
          59,
          59,
          43,
          53,
          62,
          43,
          64,
          40,
          51,
          57,
          62,
          53,
          51,
          51,
          57,
          51,
          46,
          51,
          63,
          53,
          56,
          62,
          57,
          52,
          64,
          52,
          56,
          51,
          45,
          48,
          57,
          52,
          49,
          46,
          66,
          59,
          55,
          43,
          55,
          42,
          46,
          57,
          47,
          59,
          52,
          53,
          59,
          47,
          79,
          41,
          60,
          49,
          71,
          48,
          48,
          52,
          50,
          58,
          44,
          54,
          50,
          48,
          47,
          66,
          58,
          50,
          47,
          58,
          46,
          57,
          47,
          54,
          40,
          53,
          50,
          57,
          57,
          60,
          49,
          51,
          45,
          50,
          51,
          52,
          55,
          45,
          45,
          48,
          60,
          51,
          45,
          58,
          53,
          53,
          63,
          47,
          70,
          60,
          45,
          53,
          58,
          42,
          53,
          47,
          53,
          59,
          58,
          55,
          51,
          50,
          40,
          58,
          43,
          62,
          54,
          45,
          53,
          46,
          45,
          57,
          56,
          51,
          47,
          53,
          55,
          59,
          67,
          54,
          60,
          50,
          56,
          48,
          54,
          44,
          44,
          55,
          48,
          51,
          40,
          45,
          44,
          49,
          47,
          57,
          50,
          58,
          61,
          49,
          62,
          56,
          49,
          57,
          38,
          53,
          41,
          57,
          62,
          42,
          51,
          51,
          47,
          53,
          56,
          54,
          53,
          46,
          55,
          52,
          57,
          60,
          51,
          53,
          46,
          51,
          51,
          50,
          53,
          51,
          47,
          48,
          50,
          42,
          46,
          44,
          64,
          52,
          83,
          71,
          50,
          46,
          55,
          52,
          49,
          56,
          47,
          50,
          53,
          51,
          64,
          39,
          57,
          48,
          42,
          57,
          57,
          48,
          49,
          60,
          55,
          46,
          60,
          49,
          55,
          39,
          53,
          47,
          70,
          45,
          66,
          51,
          54,
          47,
          49,
          54,
          47,
          50,
          62,
          45,
          41,
          47,
          50,
          52,
          50,
          45,
          54,
          49,
          52,
          58,
          44,
          43,
          64,
          52,
          63,
          54,
          47,
          48,
          48,
          56,
          67,
          55,
          42,
          59,
          54,
          45,
          54,
          54,
          43,
          58,
          44,
          64,
          70,
          52,
          44,
          47,
          48,
          55,
          54,
          45,
          46,
          47,
          57,
          49,
          48,
          51,
          57,
          48,
          53,
          61,
          59,
          52,
          56,
          75,
          65,
          49,
          49,
          43,
          46,
          51,
          60,
          45,
          55,
          51,
          53,
          53,
          42,
          46,
          44,
          56,
          53,
          51,
          59,
          53,
          58,
          51,
          47,
          59,
          52,
          53,
          38,
          51,
          61,
          59,
          53,
          49,
          56,
          57,
          48,
          52,
          58,
          50,
          69,
          39,
          50,
          63,
          48,
          56,
          57,
          59,
          49,
          54,
          54,
          61,
          49,
          47,
          53,
          49,
          51,
          68,
          49,
          43,
          62,
          54,
          55,
          39,
          42,
          48,
          45,
          49,
          51,
          51,
          48,
          52,
          69,
          54,
          48,
          56,
          50,
          50,
          57,
          45,
          59,
          50,
          65,
          48,
          53,
          57,
          47,
          63,
          61,
          46,
          43,
          60,
          40,
          59,
          53,
          51,
          67,
          54,
          56,
          53,
          45,
          51,
          45,
          55,
          47,
          52,
          47,
          57,
          49,
          56,
          42,
          52,
          53,
          49,
          48,
          56,
          63,
          46,
          51,
          51,
          58,
          53,
          62,
          45,
          49,
          39,
          50,
          48,
          69,
          52,
          45,
          53,
          41,
          40,
          55,
          48,
          50,
          54,
          49,
          45,
          50,
          50,
          55,
          52,
          42,
          41,
          61,
          53,
          44,
          46,
          53,
          53,
          52,
          53,
          51,
          54,
          55,
          45,
          63,
          49,
          68,
          53,
          51,
          48,
          46,
          48,
          40,
          54,
          56,
          50,
          55,
          44,
          49,
          52,
          60,
          47,
          57,
          46,
          53,
          59,
          56,
          59,
          51,
          53,
          47,
          48,
          71,
          48,
          48,
          49,
          59,
          73,
          53,
          53,
          45,
          59,
          58,
          56,
          55,
          46,
          57,
          45,
          44,
          45,
          55,
          56,
          59,
          51,
          44,
          68,
          57,
          62,
          48,
          51,
          60,
          58,
          48,
          44,
          53,
          47,
          43,
          48,
          57,
          56,
          55,
          68,
          43,
          53,
          57,
          60,
          57,
          63,
          49,
          50,
          50,
          54,
          49,
          49,
          56,
          43,
          64,
          56,
          33,
          47,
          53,
          58,
          56,
          67,
          67,
          47,
          53,
          46,
          46,
          61,
          50,
          52,
          50,
          50,
          48,
          51,
          44,
          45,
          49,
          50,
          50,
          56,
          61,
          48,
          59,
          55,
          46,
          52,
          61,
          58,
          61,
          67,
          48,
          52,
          51,
          42,
          48,
          58,
          52,
          62,
          50,
          61,
          55,
          61,
          54,
          46,
          50,
          49,
          46,
          50,
          43,
          46,
          55,
          50,
          69,
          48,
          63,
          47,
          51,
          39,
          47,
          48,
          46,
          50,
          50,
          45,
          43,
          65,
          53,
          49,
          59,
          58,
          53,
          62,
          48,
          57,
          51,
          52,
          42,
          45,
          47,
          41,
          41,
          48,
          51,
          47,
          49,
          50,
          47,
          55,
          48,
          41,
          52,
          47,
          51,
          67,
          49,
          60,
          47,
          48,
          42,
          46,
          57,
          58,
          51,
          37,
          49,
          54,
          54,
          58,
          53,
          47,
          46,
          50,
          66,
          53,
          51,
          61,
          56,
          39,
          42,
          43,
          50,
          46,
          54,
          52,
          58,
          48,
          47,
          53,
          50,
          52,
          48,
          54,
          61,
          45,
          45,
          52,
          44,
          42,
          67,
          51,
          71,
          59,
          64,
          43,
          56,
          56,
          57,
          49,
          51,
          43,
          52,
          52,
          47,
          54,
          68,
          40,
          56,
          43,
          71,
          48,
          48,
          59,
          47,
          47,
          44,
          48,
          55,
          83,
          50,
          53,
          44,
          59,
          48,
          69,
          60,
          47,
          49,
          59,
          59,
          52,
          43,
          61,
          48,
          64,
          50,
          48,
          50,
          54,
          53,
          37,
          54,
          54,
          43,
          53,
          47,
          45,
          48,
          53,
          48,
          58,
          53,
          51,
          46,
          48,
          52,
          57,
          64,
          46,
          43,
          64,
          56,
          51,
          55,
          50,
          52,
          50,
          48,
          49,
          49,
          47,
          53,
          49,
          49,
          65,
          45,
          43,
          47,
          50,
          54,
          53,
          47,
          45,
          53,
          49,
          50,
          59,
          51,
          45,
          52,
          60,
          66,
          57,
          37,
          46,
          48,
          61,
          53,
          62,
          46,
          48,
          43,
          46,
          56,
          58,
          43,
          56,
          45,
          48,
          42,
          55,
          59,
          56,
          45,
          53,
          40,
          55,
          41,
          45,
          49,
          46,
          51,
          53,
          47,
          47,
          46,
          51,
          52,
          51,
          47,
          57,
          50,
          50,
          48,
          45,
          48,
          49,
          57,
          58,
          56,
          43,
          43,
          63,
          43,
          72,
          49,
          51,
          58,
          63,
          53,
          54,
          52,
          54,
          57,
          52,
          63,
          42,
          51,
          62,
          60,
          45,
          57,
          55,
          50,
          48,
          45,
          41,
          47,
          50,
          50,
          65,
          46,
          48,
          47,
          51,
          53,
          46,
          44,
          66,
          53,
          79,
          59,
          45,
          49,
          50,
          53,
          45,
          46,
          48,
          47,
          61,
          49,
          49,
          56,
          65,
          61,
          42,
          54,
          51,
          42,
          48,
          50,
          52,
          49,
          54,
          56,
          50,
          45,
          52,
          51,
          56,
          48,
          64,
          53,
          49,
          55,
          46,
          56,
          49,
          49,
          45,
          47,
          52,
          54,
          50,
          51,
          45,
          55,
          53,
          50,
          47,
          47,
          48,
          57,
          56,
          57,
          42,
          45,
          49,
          49,
          51,
          61,
          47,
          47,
          52,
          55,
          41,
          50,
          42,
          54,
          38,
          48,
          44,
          44,
          50,
          46,
          46,
          52,
          51,
          50,
          47,
          60,
          53,
          61,
          59,
          49,
          47,
          49,
          42,
          45,
          57,
          60,
          45,
          50,
          61,
          70,
          53,
          49,
          45,
          45,
          42,
          63,
          47,
          43,
          52,
          55,
          70,
          44,
          53,
          52,
          57,
          47,
          46,
          58,
          45,
          59,
          42,
          43,
          47,
          53,
          44,
          50,
          50,
          45,
          43,
          46,
          45,
          60,
          42,
          60,
          57,
          58,
          51,
          60,
          48,
          48,
          46,
          47,
          46,
          42,
          54,
          52,
          60,
          63,
          60,
          44,
          39,
          56,
          73,
          50,
          56,
          60,
          49,
          53,
          41,
          46,
          57,
          60,
          60,
          54,
          46,
          58,
          57,
          47,
          56,
          42,
          50,
          55,
          72,
          50,
          59,
          56,
          53,
          53,
          55,
          38,
          44,
          55,
          52,
          57,
          51,
          52,
          51,
          51,
          66,
          48,
          55,
          57,
          44,
          75,
          59,
          46,
          48,
          49,
          55,
          54,
          45,
          57,
          53,
          54,
          57,
          48,
          52,
          65,
          53,
          54,
          67,
          50,
          47,
          47,
          66,
          48,
          46,
          48,
          55,
          69,
          45,
          50,
          66,
          46,
          47,
          49,
          54,
          57,
          50,
          51,
          48,
          51,
          43,
          58,
          55,
          58,
          52,
          46,
          79,
          47,
          52,
          54,
          57,
          38,
          52,
          53,
          40,
          52,
          49,
          45,
          53,
          51,
          45,
          49,
          43,
          43,
          49,
          48,
          53,
          50,
          44,
          45,
          52,
          49,
          50,
          50,
          48,
          49,
          62,
          56,
          59,
          47,
          54,
          58,
          48,
          50,
          49,
          58,
          66,
          46,
          59,
          52,
          52,
          52,
          45,
          66,
          45,
          51,
          55,
          51,
          59,
          49,
          48,
          54,
          53,
          60,
          52,
          49,
          57,
          57,
          49,
          50,
          51,
          54,
          39,
          58,
          53,
          52,
          52,
          65,
          48,
          55,
          50,
          55,
          51,
          48,
          66,
          62,
          54,
          57,
          49,
          71,
          58,
          62,
          56,
          55,
          43,
          46,
          50,
          47,
          49,
          54,
          47,
          48,
          50,
          66,
          48,
          44,
          47,
          60,
          58,
          54,
          59,
          46,
          51,
          51,
          46,
          71,
          46,
          54,
          55,
          43,
          49,
          51,
          57,
          49,
          48,
          78,
          49,
          57,
          52,
          58,
          56,
          45,
          56,
          60,
          53,
          56,
          52,
          49,
          48,
          55,
          37,
          44,
          54,
          63,
          49,
          49,
          66,
          58,
          52,
          55,
          53,
          44,
          54,
          41,
          80,
          57,
          50,
          47,
          50,
          56,
          55,
          46,
          51,
          66,
          44,
          49,
          44,
          68,
          48,
          70,
          52,
          56,
          45,
          51,
          51,
          40,
          49,
          47,
          72,
          52,
          50,
          50,
          56,
          53,
          50,
          54,
          72,
          40,
          52,
          52,
          56,
          59,
          55,
          59,
          39,
          48,
          52,
          57,
          44,
          38,
          58,
          42,
          57,
          57,
          51,
          47,
          57,
          51,
          49,
          50,
          48,
          51,
          46,
          60,
          55,
          55,
          47,
          44,
          47,
          57,
          67,
          61,
          39,
          57,
          57,
          49,
          42,
          47,
          46,
          48,
          48,
          45,
          57,
          44,
          55,
          53,
          46,
          60,
          50,
          48,
          51,
          59,
          42,
          46,
          52,
          54,
          49,
          61,
          57,
          51,
          46,
          42,
          53,
          50,
          57,
          51,
          44,
          58,
          57,
          50,
          50,
          43,
          40,
          50,
          46,
          50,
          56,
          52,
          53,
          54,
          50,
          50,
          51,
          52,
          41,
          52,
          58,
          38,
          51,
          51,
          48,
          46,
          47,
          48,
          50,
          53,
          52,
          56,
          40,
          49,
          66,
          54,
          46,
          62,
          43,
          53,
          55,
          62,
          48,
          54,
          44,
          52,
          52,
          48,
          51,
          52,
          57,
          53,
          47,
          41,
          51,
          60,
          42,
          46,
          48,
          45,
          56,
          49,
          52,
          50,
          55,
          48,
          55,
          60,
          50,
          48,
          44,
          57,
          64,
          77,
          50,
          41,
          45,
          58,
          48,
          44,
          53,
          44,
          66,
          65,
          55,
          59,
          57,
          55,
          58,
          61,
          50,
          50,
          58,
          47,
          53,
          49,
          59,
          43,
          56,
          51,
          55,
          53,
          44,
          44,
          45,
          54,
          44,
          50,
          59,
          57,
          55,
          49,
          44,
          56,
          42,
          53,
          78,
          52,
          51,
          52,
          45,
          52
         ]
        },
        {
         "name": "Closeness centrality",
         "type": "box",
         "y": [
          59,
          72,
          69,
          57,
          67,
          57,
          81,
          67,
          69,
          71,
          59,
          53,
          70,
          76,
          61,
          61,
          67,
          58,
          51,
          59,
          63,
          56,
          72,
          58,
          68,
          65,
          73,
          62,
          54,
          56,
          74,
          65,
          62,
          79,
          59,
          67,
          50,
          70,
          67,
          54,
          61,
          52,
          58,
          62,
          75,
          60,
          55,
          56,
          64,
          56,
          69,
          52,
          70,
          60,
          61,
          60,
          53,
          59,
          64,
          58,
          68,
          60,
          53,
          56,
          58,
          75,
          49,
          61,
          76,
          62,
          48,
          63,
          69,
          59,
          57,
          54,
          65,
          62,
          54,
          48,
          70,
          61,
          64,
          65,
          60,
          62,
          67,
          54,
          54,
          62,
          51,
          77,
          81,
          58,
          55,
          59,
          57,
          65,
          59,
          55,
          62,
          58,
          60,
          57,
          62,
          69,
          61,
          55,
          66,
          73,
          71,
          61,
          50,
          68,
          54,
          64,
          56,
          54,
          58,
          66,
          45,
          68,
          53,
          76,
          56,
          66,
          44,
          58,
          57,
          62,
          58,
          52,
          62,
          72,
          61,
          69,
          59,
          55,
          58,
          55,
          80,
          64,
          59,
          64,
          55,
          52,
          61,
          63,
          63,
          67,
          69,
          64,
          64,
          70,
          60,
          58,
          57,
          56,
          59,
          54,
          63,
          67,
          79,
          58,
          61,
          58,
          64,
          62,
          75,
          59,
          63,
          68,
          65,
          56,
          54,
          65,
          57,
          68,
          58,
          65,
          54,
          69,
          56,
          56,
          55,
          68,
          54,
          50,
          67,
          50,
          57,
          57,
          50,
          59,
          51,
          61,
          69,
          60,
          51,
          51,
          65,
          72,
          54,
          56,
          78,
          63,
          59,
          63,
          57,
          65,
          57,
          56,
          52,
          60,
          63,
          61,
          57,
          63,
          76,
          80,
          57,
          65,
          66,
          70,
          63,
          60,
          53,
          63,
          58,
          79,
          59,
          55,
          60,
          66,
          66,
          50,
          70,
          62,
          56,
          63,
          63,
          59,
          63,
          63,
          61,
          61,
          53,
          63,
          58,
          62,
          55,
          50,
          55,
          59,
          63,
          62,
          54,
          55,
          57,
          62,
          51,
          71,
          68,
          62,
          52,
          61,
          62,
          57,
          68,
          56,
          57,
          60,
          62,
          52,
          54,
          62,
          66,
          66,
          59,
          55,
          56,
          63,
          55,
          60,
          63,
          56,
          60,
          74,
          73,
          71,
          66,
          64,
          61,
          59,
          57,
          66,
          60,
          58,
          57,
          70,
          57,
          62,
          61,
          59,
          68,
          62,
          65,
          72,
          61,
          58,
          63,
          60,
          70,
          66,
          67,
          54,
          59,
          53,
          59,
          62,
          56,
          65,
          62,
          54,
          55,
          60,
          70,
          52,
          62,
          53,
          78,
          48,
          66,
          58,
          49,
          53,
          59,
          75,
          57,
          51,
          63,
          63,
          70,
          57,
          66,
          61,
          60,
          63,
          66,
          56,
          60,
          53,
          59,
          50,
          53,
          52,
          63,
          68,
          65,
          59,
          66,
          62,
          56,
          64,
          64,
          59,
          59,
          67,
          73,
          55,
          53,
          68,
          64,
          51,
          80,
          66,
          79,
          51,
          52,
          59,
          66,
          75,
          62,
          58,
          49,
          52,
          60,
          67,
          76,
          54,
          59,
          59,
          54,
          72,
          77,
          63,
          64,
          51,
          50,
          54,
          66,
          70,
          59,
          54,
          54,
          48,
          66,
          64,
          78,
          65,
          57,
          48,
          55,
          66,
          58,
          84,
          57,
          65,
          64,
          61,
          65,
          49,
          62,
          56,
          66,
          89,
          60,
          64,
          56,
          62,
          62,
          61,
          70,
          56,
          57,
          66,
          53,
          64,
          65,
          70,
          58,
          59,
          51,
          65,
          64,
          61,
          47,
          63,
          60,
          59,
          59,
          56,
          59,
          65,
          68,
          75,
          61,
          57,
          66,
          59,
          72,
          54,
          52,
          79,
          49,
          61,
          60,
          58,
          72,
          50,
          63,
          56,
          68,
          65,
          60,
          65,
          56,
          67,
          50,
          53,
          58,
          67,
          73,
          63,
          52,
          51,
          66,
          52,
          61,
          61,
          57,
          65,
          64,
          66,
          64,
          59,
          69,
          54,
          57,
          59,
          63,
          66,
          67,
          61,
          62,
          68,
          55,
          45,
          71,
          61,
          58,
          61,
          69,
          86,
          57,
          64,
          66,
          64,
          62,
          68,
          49,
          70,
          61,
          60,
          59,
          63,
          61,
          63,
          72,
          57,
          55,
          68,
          66,
          72,
          71,
          68,
          52,
          68,
          62,
          59,
          60,
          60,
          56,
          59,
          55,
          64,
          52,
          70,
          66,
          64,
          57,
          66,
          68,
          60,
          66,
          52,
          60,
          49,
          68,
          55,
          60,
          50,
          73,
          50,
          59,
          83,
          78,
          69,
          57,
          66,
          65,
          55,
          59,
          62,
          47,
          53,
          63,
          53,
          62,
          67,
          62,
          60,
          71,
          66,
          62,
          62,
          69,
          64,
          49,
          68,
          86,
          65,
          88,
          88,
          61,
          60,
          56,
          55,
          53,
          59,
          53,
          58,
          61,
          58,
          65,
          61,
          81,
          60,
          55,
          51,
          47,
          60,
          65,
          61,
          62,
          56,
          54,
          69,
          64,
          56,
          57,
          72,
          45,
          51,
          54,
          64,
          58,
          53,
          65,
          70,
          55,
          57,
          61,
          54,
          77,
          67,
          53,
          57,
          53,
          58,
          55,
          58,
          61,
          43,
          81,
          53,
          62,
          57,
          67,
          47,
          58,
          67,
          66,
          52,
          51,
          59,
          71,
          55,
          66,
          68,
          51,
          59,
          67,
          68,
          60,
          55,
          62,
          67,
          57,
          66,
          58,
          81,
          60,
          70,
          56,
          67,
          52,
          40,
          62,
          55,
          70,
          83,
          69,
          70,
          77,
          66,
          55,
          64,
          51,
          55,
          64,
          70,
          55,
          56,
          62,
          64,
          61,
          63,
          53,
          62,
          54,
          71,
          60,
          62,
          65,
          54,
          54,
          76,
          63,
          52,
          60,
          57,
          74,
          65,
          59,
          55,
          55,
          74,
          68,
          56,
          55,
          61,
          57,
          53,
          52,
          76,
          66,
          64,
          56,
          66,
          62,
          85,
          51,
          57,
          84,
          59,
          49,
          58,
          62,
          55,
          59,
          60,
          67,
          64,
          69,
          69,
          59,
          65,
          60,
          60,
          73,
          57,
          61,
          63,
          72,
          51,
          59,
          60,
          60,
          69,
          51,
          61,
          67,
          56,
          61,
          52,
          63,
          67,
          62,
          73,
          53,
          59,
          51,
          55,
          74,
          54,
          60,
          54,
          61,
          54,
          72,
          60,
          56,
          62,
          58,
          61,
          56,
          56,
          68,
          49,
          57,
          69,
          60,
          57,
          67,
          63,
          64,
          72,
          54,
          62,
          59,
          76,
          61,
          59,
          68,
          62,
          60,
          53,
          62,
          49,
          78,
          73,
          54,
          61,
          84,
          57,
          66,
          52,
          65,
          62,
          60,
          58,
          66,
          65,
          64,
          55,
          53,
          73,
          59,
          51,
          62,
          65,
          57,
          64,
          63,
          52,
          72,
          81,
          63,
          58,
          63,
          62,
          58,
          79,
          61,
          85,
          53,
          70,
          57,
          63,
          44,
          71,
          54,
          54,
          70,
          60,
          62,
          61,
          53,
          59,
          48,
          59,
          74,
          54,
          49,
          56,
          63,
          57,
          57,
          50,
          62,
          62,
          50,
          70,
          55,
          44,
          54,
          62,
          60,
          62,
          71,
          65,
          56,
          51,
          51,
          62,
          52,
          54,
          53,
          54,
          54,
          63,
          62,
          58,
          61,
          57,
          63,
          60,
          63,
          69,
          51,
          85,
          56,
          70,
          73,
          53,
          60,
          60,
          89,
          52,
          69,
          67,
          66,
          60,
          62,
          49,
          63,
          64,
          53,
          66,
          69,
          52,
          57,
          62,
          76,
          53,
          67,
          60,
          55,
          67,
          59,
          51,
          79,
          68,
          73,
          65,
          62,
          48,
          54,
          62,
          63,
          51,
          72,
          60,
          56,
          60,
          58,
          53,
          57,
          64,
          59,
          62,
          63,
          55,
          58,
          53,
          64,
          67,
          75,
          55,
          70,
          66,
          68,
          53,
          62,
          48,
          66,
          60,
          57,
          50,
          67,
          50,
          52,
          64,
          53,
          77,
          68,
          69,
          51,
          54,
          53,
          60,
          52,
          56,
          52,
          55,
          77,
          60,
          68,
          59,
          65,
          53,
          46,
          60,
          61,
          62,
          70,
          68,
          43,
          66,
          81,
          69,
          45,
          84,
          60,
          55,
          67,
          63,
          69,
          60,
          58,
          53,
          51,
          61,
          52,
          51,
          53,
          69,
          58,
          56,
          51,
          72,
          55,
          47,
          58,
          54,
          66,
          53,
          61,
          52,
          65,
          61,
          58,
          59,
          54,
          85,
          61,
          71,
          59,
          60,
          55,
          53,
          57,
          60,
          52,
          65,
          71,
          47,
          61,
          74,
          48,
          42,
          63,
          58,
          53,
          56,
          69,
          68,
          72,
          55,
          56,
          54,
          62,
          54,
          57,
          56,
          69,
          51,
          68,
          66,
          66,
          63,
          52,
          56,
          68,
          53,
          74,
          53,
          61,
          60,
          59,
          53,
          69,
          52,
          60,
          58,
          57,
          59,
          57,
          57,
          53,
          65,
          51,
          61,
          65,
          64,
          56,
          54,
          56,
          57,
          65,
          58,
          60,
          57,
          73,
          78,
          61,
          62,
          55,
          64,
          58,
          66,
          69,
          57,
          52,
          55,
          56,
          59,
          64,
          57,
          62,
          71,
          66,
          55,
          67,
          54,
          73,
          60,
          60,
          69,
          75,
          51,
          65,
          64,
          44,
          57,
          71,
          71,
          58,
          60,
          58,
          79,
          56,
          63,
          57,
          61,
          60,
          46,
          61,
          71,
          50,
          59,
          51,
          64,
          51,
          63,
          58,
          52,
          50,
          83,
          57,
          57,
          44,
          61,
          65,
          50,
          65,
          70,
          63,
          77,
          66,
          60,
          54,
          63,
          58,
          57,
          50,
          52,
          67,
          68,
          68,
          58,
          65,
          49,
          72,
          52,
          58,
          53,
          53,
          68,
          58,
          54,
          53,
          66,
          72,
          62,
          54,
          64,
          54,
          54,
          68,
          67,
          60,
          61,
          57,
          60,
          45,
          62,
          59,
          63,
          68,
          55,
          60,
          66,
          56,
          56,
          68,
          55,
          61,
          64,
          51,
          61,
          43,
          63,
          69,
          48,
          52,
          64,
          56,
          57,
          59,
          54,
          64,
          55,
          69,
          55,
          63,
          62,
          56,
          68,
          56,
          54,
          74,
          61,
          49,
          57,
          62,
          63,
          57,
          65,
          84,
          60,
          59,
          57,
          63,
          66,
          53,
          56,
          61,
          66,
          59,
          59,
          61,
          64,
          65,
          61,
          61,
          58,
          57,
          48,
          62,
          69,
          64,
          54,
          59,
          49,
          64,
          56,
          63,
          55,
          61,
          61,
          64,
          73,
          55,
          63,
          68,
          71,
          73,
          56,
          51,
          66,
          54,
          55,
          56,
          59,
          61,
          73,
          62,
          64,
          53,
          67,
          69,
          47,
          59,
          59,
          61,
          60,
          72,
          55,
          66,
          61,
          57,
          64,
          66,
          56,
          59,
          48,
          79,
          55,
          69,
          52,
          61,
          54,
          52,
          72,
          64,
          55,
          76,
          62,
          70,
          65,
          56,
          61,
          56,
          56,
          48,
          54,
          60,
          58,
          58,
          57,
          52,
          70,
          46,
          49,
          62,
          80,
          66,
          62,
          66,
          53,
          59,
          55,
          57,
          59,
          71,
          46,
          55,
          56,
          55,
          53,
          55,
          59,
          55,
          55,
          57,
          54,
          57,
          54,
          66,
          65,
          55,
          50,
          59,
          54,
          63,
          56,
          55,
          66,
          58,
          60,
          73,
          65,
          74,
          51,
          56,
          54,
          57,
          45,
          63,
          73,
          60,
          56,
          64,
          69,
          59,
          56,
          61,
          53,
          62,
          56,
          60,
          58,
          53,
          55,
          58,
          68,
          65,
          51,
          58,
          55,
          48,
          54,
          58,
          58,
          81,
          57,
          64,
          58,
          61,
          65,
          58,
          66,
          66,
          70,
          64,
          58,
          56,
          62,
          78,
          53,
          66,
          68,
          69,
          56,
          68,
          49,
          60,
          70,
          69,
          61,
          52,
          56,
          58,
          62,
          62,
          64,
          68,
          68,
          62,
          62,
          61,
          61,
          52,
          57,
          63,
          60,
          52,
          49,
          51,
          64,
          54,
          55,
          57,
          57,
          57,
          53,
          58,
          69,
          59,
          56,
          61,
          61,
          51,
          61,
          53,
          58,
          60,
          60,
          57,
          53,
          55,
          61,
          54,
          55,
          53,
          47,
          57,
          45,
          63,
          52,
          61,
          45,
          59,
          56,
          58
         ]
        },
        {
         "name": "Random",
         "type": "box",
         "y": [
          61,
          60,
          58,
          58,
          67,
          75,
          56,
          57,
          57,
          61,
          51,
          60,
          61,
          87,
          57,
          74,
          52,
          63,
          64,
          73,
          65,
          71,
          52,
          62,
          66,
          57,
          66,
          74,
          67,
          60,
          64,
          61,
          67,
          62,
          69,
          77,
          63,
          57,
          62,
          57,
          63,
          59,
          59,
          80,
          81,
          74,
          68,
          59,
          68,
          70,
          62,
          60,
          54,
          56,
          63,
          54,
          73,
          60,
          68,
          52,
          58,
          72,
          74,
          58,
          58,
          61,
          75,
          87,
          78,
          57,
          61,
          53,
          106,
          58,
          69,
          76,
          61,
          71,
          74,
          62,
          71,
          83,
          75,
          64,
          70,
          62,
          54,
          56,
          75,
          48,
          71,
          53,
          57,
          68,
          53,
          70,
          63,
          74,
          66,
          60,
          66,
          67,
          67,
          59,
          53,
          68,
          54,
          59,
          63,
          79,
          59,
          58,
          54,
          55,
          55,
          57,
          68,
          49,
          61,
          64,
          62,
          62,
          53,
          56,
          61,
          64,
          50,
          53,
          78,
          66,
          63,
          61,
          56,
          63,
          54,
          70,
          54,
          60,
          64,
          58,
          67,
          59,
          60,
          98,
          59,
          61,
          53,
          65,
          61,
          48,
          58,
          54,
          73,
          56,
          70,
          55,
          61,
          63,
          51,
          55,
          58,
          67,
          55,
          56,
          49,
          56,
          59,
          73,
          63,
          65,
          68,
          62,
          51,
          64,
          62,
          59,
          58,
          47,
          64,
          65,
          79,
          63,
          72,
          91,
          61,
          55,
          57,
          88,
          59,
          62,
          69,
          58,
          51,
          71,
          53,
          56,
          68,
          65,
          60,
          73,
          67,
          47,
          56,
          61,
          66,
          78,
          59,
          57,
          70,
          58,
          63,
          57,
          60,
          54,
          59,
          59,
          74,
          46,
          62,
          60,
          65,
          53,
          59,
          51,
          59,
          87,
          58,
          56,
          61,
          61,
          55,
          57,
          56,
          55,
          65,
          71,
          53,
          60,
          67,
          51,
          62,
          57,
          54,
          58,
          62,
          60,
          74,
          69,
          61,
          50,
          63,
          63,
          58,
          51,
          61,
          62,
          63,
          57,
          57,
          58,
          57,
          51,
          58,
          48,
          56,
          59,
          63,
          62,
          70,
          65,
          72,
          57,
          53,
          62,
          66,
          55,
          57,
          58,
          63,
          64,
          61,
          55,
          59,
          49,
          78,
          51,
          62,
          60,
          55,
          64,
          61,
          63,
          51,
          57,
          76,
          56,
          59,
          74,
          57,
          72,
          67,
          59,
          68,
          62,
          64,
          53,
          55,
          55,
          60,
          64,
          60,
          66,
          56,
          59,
          61,
          59,
          73,
          64,
          53,
          63,
          83,
          54,
          49,
          76,
          48,
          53,
          51,
          55,
          67,
          59,
          56,
          56,
          61,
          56,
          54,
          73,
          60,
          57,
          62,
          58,
          53,
          64,
          62,
          55,
          57,
          58,
          65,
          55,
          51,
          66,
          59,
          64,
          61,
          51,
          58,
          87,
          55,
          58,
          58,
          62,
          54,
          59,
          59,
          70,
          51,
          56,
          75,
          58,
          65,
          44,
          63,
          66,
          67,
          65,
          58,
          62,
          55,
          58,
          62,
          48,
          49,
          69,
          75,
          56,
          53,
          54,
          54,
          72,
          70,
          59,
          83,
          57,
          48,
          62,
          59,
          63,
          48,
          62,
          56,
          83,
          59,
          65,
          62,
          69,
          69,
          53,
          52,
          61,
          66,
          59,
          62,
          56,
          61,
          70,
          64,
          55,
          58,
          46,
          59,
          75,
          79,
          62,
          62,
          52,
          71,
          66,
          74,
          61,
          53,
          60,
          67,
          87,
          70,
          61,
          60,
          57,
          55,
          57,
          55,
          67,
          59,
          63,
          60,
          54,
          58,
          66,
          58,
          67,
          70,
          62,
          57,
          74,
          65,
          60,
          54,
          58,
          60,
          63,
          55,
          55,
          66,
          57,
          70,
          60,
          58,
          43,
          69,
          53,
          57,
          57,
          54,
          65,
          57,
          60,
          53,
          72,
          62,
          58,
          49,
          57,
          63,
          74,
          58,
          62,
          61,
          64,
          64,
          60,
          53,
          56,
          61,
          58,
          63,
          71,
          65,
          77,
          63,
          47,
          71,
          55,
          60,
          52,
          63,
          56,
          96,
          59,
          67,
          59,
          67,
          52,
          55,
          67,
          50,
          65,
          53,
          66,
          71,
          69,
          67,
          59,
          69,
          57,
          53,
          64,
          66,
          57,
          62,
          46,
          86,
          69,
          56,
          76,
          62,
          59,
          51,
          50,
          62,
          56,
          57,
          60,
          71,
          81,
          64,
          71,
          53,
          57,
          60,
          51,
          61,
          61,
          55,
          65,
          65,
          61,
          64,
          60,
          80,
          51,
          55,
          55,
          55,
          69,
          61,
          60,
          54,
          59,
          74,
          62,
          59,
          61,
          60,
          62,
          56,
          59,
          71,
          66,
          56,
          69,
          59,
          73,
          59,
          57,
          69,
          68,
          51,
          61,
          57,
          64,
          53,
          73,
          64,
          63,
          61,
          70,
          58,
          61,
          60,
          65,
          68,
          72,
          58,
          59,
          60,
          78,
          56,
          51,
          69,
          64,
          50,
          49,
          63,
          53,
          63,
          44,
          65,
          61,
          69,
          53,
          64,
          67,
          58,
          58,
          61,
          50,
          60,
          56,
          55,
          61,
          51,
          63,
          66,
          75,
          57,
          54,
          51,
          67,
          61,
          59,
          69,
          64,
          62,
          70,
          65,
          69,
          65,
          54,
          62,
          61,
          65,
          62,
          66,
          64,
          65,
          74,
          50,
          55,
          57,
          55,
          58,
          52,
          53,
          58,
          57,
          71,
          63,
          68,
          55,
          49,
          70,
          55,
          60,
          78,
          49,
          56,
          56,
          67,
          75,
          53,
          62,
          56,
          78,
          62,
          58,
          59,
          59,
          67,
          51,
          62,
          59,
          61,
          60,
          60,
          56,
          59,
          69,
          66,
          57,
          52,
          56,
          66,
          57,
          67,
          57,
          61,
          54,
          57,
          73,
          57,
          57,
          50,
          50,
          68,
          76,
          60,
          54,
          69,
          61,
          59,
          59,
          59,
          56,
          59,
          94,
          58,
          59,
          51,
          71,
          64,
          58,
          58,
          53,
          54,
          64,
          59,
          69,
          72,
          58,
          70,
          50,
          66,
          69,
          58,
          75,
          56,
          51,
          59,
          57,
          52,
          65,
          73,
          63,
          65,
          48,
          61,
          57,
          64,
          55,
          63,
          59,
          67,
          52,
          56,
          74,
          56,
          53,
          68,
          47,
          61,
          57,
          58,
          60,
          58,
          56,
          61,
          49,
          68,
          56,
          52,
          58,
          55,
          61,
          66,
          61,
          60,
          62,
          59,
          57,
          56,
          58,
          56,
          57,
          68,
          59,
          65,
          61,
          66,
          60,
          54,
          75,
          59,
          74,
          56,
          64,
          60,
          76,
          83,
          57,
          55,
          83,
          55,
          59,
          61,
          67,
          54,
          57,
          78,
          62,
          52,
          54,
          67,
          48,
          61,
          52,
          56,
          60,
          81,
          77,
          69,
          55,
          61,
          60,
          58,
          67,
          54,
          61,
          56,
          53,
          65,
          56,
          55,
          53,
          60,
          58,
          64,
          53,
          59,
          62,
          66,
          74,
          59,
          61,
          66,
          75,
          68,
          70,
          64,
          63,
          78,
          55,
          57,
          59,
          48,
          73,
          59,
          74,
          69,
          77,
          61,
          70,
          67,
          61,
          55,
          63,
          68,
          49,
          64,
          55,
          53,
          58,
          59,
          65,
          58,
          55,
          86,
          72,
          65,
          58,
          57,
          70,
          51,
          93,
          64,
          60,
          59,
          70,
          64,
          66,
          65,
          71,
          69,
          48,
          78,
          60,
          52,
          66,
          57,
          75,
          70,
          55,
          59,
          56,
          47,
          68,
          77,
          75,
          51,
          66,
          69,
          68,
          65,
          57,
          59,
          66,
          80,
          62,
          58,
          61,
          60,
          55,
          50,
          51,
          56,
          61,
          57,
          55,
          76,
          70,
          59,
          60,
          59,
          63,
          65,
          70,
          58,
          70,
          62,
          53,
          58,
          55,
          61,
          64,
          60,
          50,
          60,
          72,
          53,
          57,
          61,
          49,
          58,
          56,
          63,
          64,
          61,
          64,
          74,
          56,
          54,
          68,
          59,
          63,
          72,
          58,
          70,
          70,
          53,
          71,
          53,
          58,
          59,
          51,
          66,
          55,
          67,
          58,
          53,
          57,
          56,
          64,
          58,
          57,
          55,
          64,
          66,
          60,
          73,
          64,
          63,
          61,
          77,
          64,
          53,
          70,
          59,
          82,
          57,
          73,
          51,
          56,
          76,
          60,
          57,
          60,
          64,
          64,
          66,
          57,
          58,
          63,
          72,
          49,
          64,
          56,
          73,
          53,
          63,
          54,
          81,
          75,
          59,
          50,
          66,
          58,
          66,
          59,
          58,
          53,
          80,
          103,
          59,
          56,
          53,
          64,
          58,
          59,
          71,
          52,
          56,
          64,
          67,
          57,
          59,
          61,
          67,
          71,
          66,
          50,
          57,
          62,
          56,
          60,
          65,
          60,
          59,
          67,
          58,
          65,
          51,
          67,
          57,
          61,
          79,
          62,
          52,
          48,
          52,
          64,
          56,
          55,
          56,
          67,
          54,
          70,
          72,
          68,
          57,
          51,
          63,
          53,
          58,
          60,
          61,
          64,
          59,
          60,
          74,
          52,
          60,
          68,
          53,
          67,
          48,
          59,
          68,
          68,
          69,
          75,
          64,
          58,
          76,
          60,
          62,
          67,
          76,
          54,
          56,
          52,
          58,
          50,
          92,
          51,
          56,
          56,
          58,
          50,
          63,
          58,
          64,
          74,
          79,
          67,
          48,
          79,
          66,
          52,
          73,
          67,
          62,
          68,
          54,
          66,
          56,
          64,
          48,
          60,
          64,
          72,
          54,
          63,
          47,
          59,
          54,
          63,
          55,
          63,
          73,
          58,
          62,
          62,
          50,
          56,
          51,
          64,
          61,
          60,
          68,
          58,
          50,
          66,
          67,
          55,
          54,
          59,
          55,
          82,
          70,
          58,
          58,
          72,
          60,
          52,
          51,
          60,
          48,
          53,
          76,
          57,
          67,
          67,
          64,
          73,
          59,
          59,
          66,
          60,
          53,
          60,
          66,
          64,
          53,
          63,
          60,
          57,
          58,
          74,
          53,
          51,
          48,
          66,
          53,
          61,
          57,
          62,
          52,
          49,
          56,
          60,
          57,
          62,
          59,
          59,
          55,
          70,
          52,
          55,
          58,
          59,
          59,
          58,
          55,
          59,
          52,
          52,
          62,
          55,
          68,
          65,
          70,
          65,
          66,
          57,
          56,
          57,
          59,
          50,
          59,
          61,
          83,
          65,
          56,
          50,
          60,
          70,
          62,
          57,
          57,
          64,
          52,
          45,
          64,
          62,
          73,
          67,
          51,
          48,
          55,
          69,
          48,
          57,
          71,
          68,
          75,
          67,
          63,
          53,
          60,
          68,
          55,
          64,
          63,
          51,
          56,
          81,
          58,
          61,
          50,
          56,
          57,
          51,
          50,
          70,
          82,
          59,
          51,
          78,
          70,
          80,
          57,
          71,
          74,
          58,
          49,
          56,
          62,
          66,
          71,
          68,
          56,
          52,
          53,
          57,
          54,
          60,
          47,
          50,
          62,
          48,
          56,
          65,
          66,
          68,
          67,
          65,
          70,
          59,
          54,
          51,
          55,
          54,
          83,
          57,
          54,
          59,
          47,
          69,
          54,
          56,
          55,
          67,
          61,
          48,
          67,
          47,
          74,
          67,
          65,
          74,
          52,
          53,
          58,
          56,
          66,
          62,
          57,
          61,
          57,
          56,
          57,
          53,
          47,
          65,
          51,
          74,
          60,
          64,
          72,
          58,
          54,
          62,
          59,
          54,
          57,
          58,
          57,
          65,
          52,
          64,
          52,
          59,
          59,
          59,
          54,
          56,
          57,
          55,
          63,
          59,
          51,
          64,
          52,
          49,
          58,
          76,
          57,
          73,
          54,
          73,
          72,
          77,
          58,
          55,
          73,
          56,
          75,
          57,
          54,
          86,
          57,
          52,
          53,
          69,
          56,
          66,
          56,
          62,
          65,
          58,
          74,
          66,
          69,
          55,
          56,
          57,
          66,
          71,
          56,
          85,
          71,
          44,
          58,
          56,
          58,
          58,
          59,
          56,
          59,
          57,
          74,
          55,
          66,
          57,
          71,
          58,
          57,
          57,
          55,
          83,
          50,
          61,
          58,
          63,
          51,
          55,
          61,
          69,
          67,
          58,
          53,
          56,
          60,
          65,
          57,
          82,
          55,
          48,
          55,
          62,
          60,
          61,
          64,
          55,
          61,
          59,
          63,
          53,
          69,
          59,
          96,
          65,
          71,
          68,
          61,
          66,
          67,
          74,
          57,
          58,
          53,
          54,
          71,
          58,
          69,
          67,
          80,
          66,
          58,
          56,
          68,
          61,
          60
         ]
        },
        {
         "name": "Second order centrality",
         "type": "box",
         "y": [
          64,
          70,
          60,
          71,
          58,
          68,
          68,
          71,
          80,
          71,
          66,
          84,
          65,
          63,
          66,
          70,
          57,
          79,
          60,
          60,
          71,
          65,
          72,
          69,
          72,
          70,
          78,
          77,
          61,
          57,
          55,
          86,
          64,
          66,
          59,
          73,
          55,
          68,
          65,
          60,
          63,
          57,
          66,
          71,
          62,
          57,
          64,
          67,
          68,
          75,
          62,
          64,
          74,
          76,
          63,
          70,
          75,
          77,
          69,
          70,
          67,
          64,
          84,
          67,
          65,
          77,
          62,
          59,
          60,
          66,
          73,
          82,
          76,
          67,
          67,
          63,
          85,
          66,
          49,
          67,
          75,
          62,
          62,
          75,
          74,
          57,
          62,
          64,
          57,
          62,
          73,
          67,
          62,
          57,
          65,
          64,
          59,
          66,
          67,
          77,
          68,
          76,
          65,
          67,
          56,
          66,
          81,
          76,
          72,
          61,
          71,
          74,
          72,
          60,
          68,
          70,
          70,
          63,
          54,
          56,
          50,
          65,
          63,
          57,
          76,
          65,
          64,
          72,
          63,
          45,
          83,
          61,
          61,
          58,
          51,
          66,
          77,
          60,
          71,
          68,
          66,
          61,
          60,
          78,
          49,
          67,
          80,
          66,
          71,
          66,
          62,
          73,
          74,
          51,
          82,
          68,
          62,
          76,
          66,
          58,
          64,
          58,
          55,
          73,
          64,
          65,
          56,
          86,
          54,
          70,
          59,
          73,
          80,
          73,
          66,
          67,
          60,
          59,
          65,
          65,
          70,
          59,
          62,
          65,
          66,
          68,
          74,
          72,
          75,
          60,
          74,
          86,
          63,
          60,
          58,
          73,
          75,
          54,
          70,
          88,
          70,
          55,
          68,
          77,
          71,
          71,
          65,
          53,
          64,
          68,
          76,
          86,
          77,
          76,
          60,
          67,
          61,
          65,
          70,
          75,
          72,
          71,
          70,
          69,
          65,
          68,
          79,
          67,
          71,
          63,
          64,
          54,
          72,
          88,
          79,
          66,
          69,
          66,
          71,
          68,
          73,
          76,
          56,
          59,
          64,
          75,
          62,
          58,
          57,
          54,
          88,
          66,
          66,
          59,
          88,
          67,
          69,
          63,
          71,
          71,
          77,
          67,
          69,
          68,
          69,
          67,
          68,
          67,
          66,
          66,
          59,
          72,
          79,
          71,
          79,
          68,
          58,
          74,
          64,
          71,
          63,
          69,
          65,
          84,
          81,
          59,
          68,
          59,
          57,
          59,
          61,
          78,
          82,
          72,
          66,
          68,
          78,
          62,
          67,
          66,
          67,
          68,
          81,
          73,
          57,
          58,
          73,
          60,
          68,
          66,
          59,
          61,
          74,
          76,
          57,
          71,
          55,
          78,
          81,
          77,
          76,
          58,
          66,
          52,
          74,
          60,
          79,
          62,
          64,
          68,
          80,
          59,
          58,
          68,
          52,
          65,
          54,
          82,
          56,
          67,
          53,
          80,
          57,
          62,
          67,
          73,
          73,
          77,
          51,
          66,
          62,
          62,
          78,
          58,
          66,
          68,
          66,
          74,
          74,
          60,
          58,
          64,
          60,
          59,
          62,
          64,
          73,
          54,
          67,
          60,
          67,
          76,
          85,
          57,
          78,
          71,
          63,
          89,
          66,
          64,
          62,
          69,
          64,
          63,
          65,
          61,
          68,
          65,
          57,
          60,
          63,
          66,
          64,
          65,
          59,
          67,
          65,
          57,
          61,
          61,
          70,
          77,
          71,
          62,
          58,
          60,
          64,
          73,
          68,
          74,
          75,
          73,
          60,
          63,
          75,
          54,
          56,
          62,
          56,
          56,
          57,
          63,
          67,
          66,
          67,
          61,
          60,
          53,
          75,
          60,
          71,
          83,
          58,
          67,
          69,
          69,
          55,
          64,
          77,
          78,
          61,
          63,
          50,
          71,
          58,
          62,
          65,
          56,
          86,
          72,
          58,
          66,
          61,
          61,
          59,
          79,
          62,
          60,
          61,
          71,
          74,
          79,
          60,
          61,
          57,
          60,
          61,
          71,
          62,
          67,
          89,
          59,
          63,
          61,
          64,
          57,
          84,
          54,
          50,
          62,
          75,
          63,
          67,
          56,
          83,
          64,
          60,
          61,
          74,
          72,
          70,
          67,
          69,
          59,
          69,
          76,
          58,
          64,
          63,
          62,
          66,
          69,
          59,
          74,
          60,
          67,
          81,
          69,
          67,
          62,
          77,
          66,
          73,
          67,
          57,
          55,
          70,
          68,
          61,
          87,
          61,
          70,
          83,
          62,
          65,
          64,
          66,
          73,
          66,
          55,
          81,
          70,
          59,
          88,
          56,
          67,
          66,
          64,
          74,
          76,
          76,
          72,
          60,
          63,
          61,
          65,
          51,
          71,
          64,
          81,
          72,
          65,
          61,
          73,
          66,
          60,
          78,
          66,
          71,
          67,
          74,
          65,
          64,
          65,
          87,
          87,
          58,
          65,
          67,
          72,
          67,
          65,
          67,
          60,
          66,
          69,
          59,
          67,
          61,
          64,
          68,
          79,
          62,
          71,
          67,
          74,
          60,
          78,
          89,
          60,
          75,
          57,
          74,
          60,
          65,
          63,
          62,
          69,
          73,
          65,
          72,
          67,
          70,
          79,
          63,
          67,
          68,
          61,
          85,
          61,
          58,
          57,
          59,
          63,
          72,
          68,
          80,
          55,
          66,
          65,
          66,
          61,
          70,
          62,
          64,
          66,
          79,
          73,
          69,
          64,
          64,
          68,
          62,
          61,
          69,
          79,
          82,
          53,
          61,
          64,
          72,
          64,
          75,
          66,
          73,
          63,
          71,
          59,
          78,
          72,
          71,
          60,
          53,
          68,
          58,
          59,
          58,
          83,
          65,
          70,
          57,
          55,
          66,
          60,
          64,
          89,
          64,
          68,
          68,
          62,
          66,
          69,
          68,
          60,
          66,
          64,
          83,
          56,
          63,
          70,
          76,
          73,
          66,
          67,
          80,
          68,
          74,
          80,
          69,
          64,
          67,
          66,
          74,
          63,
          62,
          66,
          75,
          88,
          79,
          56,
          54,
          67,
          54,
          71,
          58,
          62,
          57,
          84,
          54,
          68,
          62,
          59,
          56,
          66,
          61,
          64,
          70,
          55,
          66,
          66,
          73,
          68,
          72,
          68,
          67,
          69,
          82,
          74,
          54,
          59,
          74,
          78,
          73,
          66,
          57,
          64,
          65,
          56,
          54,
          70,
          50,
          70,
          53,
          55,
          60,
          63,
          69,
          64,
          65,
          60,
          79,
          80,
          65,
          63,
          61,
          58,
          73,
          65,
          71,
          64,
          70,
          62,
          66,
          68,
          72,
          63,
          69,
          65,
          61,
          58,
          73,
          70,
          69,
          64,
          80,
          70,
          64,
          75,
          59,
          66,
          76,
          60,
          67,
          76,
          60,
          71,
          63,
          63,
          53,
          66,
          54,
          56,
          65,
          63,
          60,
          68,
          60,
          63,
          56,
          65,
          80,
          82,
          70,
          63,
          62,
          65,
          62,
          71,
          69,
          70,
          61,
          57,
          75,
          76,
          68,
          52,
          60,
          73,
          69,
          51,
          87,
          67,
          61,
          67,
          76,
          69,
          68,
          62,
          57,
          56,
          69,
          72,
          59,
          66,
          68,
          58,
          64,
          67,
          65,
          65,
          59,
          61,
          81,
          63,
          72,
          54,
          65,
          66,
          69,
          50,
          74,
          59,
          63,
          62,
          72,
          54,
          63,
          63,
          69,
          64,
          66,
          61,
          60,
          59,
          59,
          65,
          61,
          68,
          75,
          58,
          73,
          65,
          61,
          64,
          79,
          80,
          58,
          57,
          70,
          80,
          61,
          66,
          64,
          69,
          60,
          55,
          84,
          67,
          72,
          69,
          62,
          56,
          68,
          62,
          67,
          81,
          68,
          80,
          80,
          74,
          60,
          59,
          67,
          58,
          62,
          66,
          60,
          76,
          73,
          58,
          62,
          66,
          70,
          75,
          74,
          73,
          77,
          86,
          62,
          60,
          65,
          56,
          54,
          73,
          60,
          64,
          68,
          59,
          71,
          66,
          76,
          80,
          89,
          59,
          71,
          54,
          70,
          66,
          66,
          62,
          70,
          77,
          76,
          68,
          84,
          67,
          75,
          64,
          85,
          61,
          63,
          70,
          75,
          64,
          53,
          65,
          57,
          51,
          57,
          61,
          71,
          63,
          59,
          63,
          58,
          76,
          55,
          56,
          75,
          75,
          68,
          54,
          67,
          73,
          61,
          63,
          57,
          69,
          62,
          74,
          66,
          62,
          74,
          68,
          55,
          59,
          70,
          66,
          65,
          53,
          56,
          61,
          69,
          77,
          67,
          58,
          71,
          60,
          65,
          69,
          60,
          72,
          70,
          59,
          74,
          76,
          63,
          62,
          57,
          60,
          60,
          64,
          61,
          58,
          60,
          63,
          73,
          81,
          65,
          74,
          63,
          55,
          67,
          54,
          74,
          52,
          64,
          65,
          57,
          68,
          74,
          69,
          60,
          62,
          63,
          70,
          66,
          72,
          73,
          68,
          73,
          61,
          58,
          63,
          61,
          59,
          60,
          69,
          64,
          74,
          67,
          89,
          54,
          68,
          84,
          81,
          63,
          69,
          64,
          80,
          64,
          70,
          61,
          63,
          56,
          81,
          62,
          61,
          78,
          75,
          72,
          61,
          70,
          66,
          79,
          61,
          64,
          53,
          48,
          60,
          72,
          61,
          84,
          70,
          75,
          63,
          63,
          63,
          54,
          67,
          57,
          76,
          68,
          79,
          74,
          59,
          70,
          65,
          72,
          71,
          59,
          57,
          64,
          61,
          66,
          58,
          60,
          63,
          71,
          85,
          67,
          68,
          68,
          75,
          70,
          61,
          68,
          66,
          62,
          68,
          61,
          70,
          64,
          64,
          61,
          78,
          79,
          58,
          52,
          55,
          56,
          72,
          74,
          80,
          62,
          64,
          63,
          77,
          59,
          54,
          64,
          72,
          60,
          70,
          74,
          66,
          56,
          66,
          66,
          83,
          62,
          67,
          74,
          62,
          66,
          62,
          54,
          56,
          77,
          82,
          69,
          57,
          57,
          72,
          55,
          71,
          83,
          59,
          66,
          68,
          61,
          61,
          68,
          83,
          70,
          79,
          53,
          63,
          83,
          65,
          59,
          68,
          65,
          65,
          68,
          85,
          64,
          70,
          54,
          63,
          62,
          66,
          57,
          72,
          67,
          71,
          53,
          66,
          67,
          67,
          83,
          61,
          67,
          61,
          61,
          54,
          54,
          70,
          73,
          63,
          64,
          66,
          59,
          64,
          83,
          69,
          56,
          84,
          68,
          62,
          64,
          62,
          77,
          60,
          59,
          57,
          64,
          67,
          65,
          74,
          77,
          71,
          83,
          68,
          59,
          69,
          76,
          61,
          56,
          72,
          55,
          58,
          59,
          59,
          68,
          68,
          70,
          59,
          63,
          75,
          59,
          59,
          59,
          54,
          57,
          78,
          62,
          62,
          58,
          60,
          60,
          79,
          59,
          64,
          68,
          63,
          75,
          55,
          73,
          62,
          65,
          77,
          60,
          59,
          55,
          73,
          67,
          77,
          71,
          70,
          59,
          58,
          69,
          67,
          59,
          75,
          70,
          68,
          58,
          66,
          55,
          58,
          64,
          69,
          61,
          69,
          69,
          70,
          56,
          66,
          70,
          60,
          65,
          62,
          67,
          80,
          66,
          62,
          71,
          63,
          61,
          57,
          74,
          66,
          70,
          57,
          66,
          59,
          68,
          80,
          73,
          80,
          60,
          61,
          72,
          67,
          57,
          79,
          63,
          63,
          58,
          70,
          63,
          80,
          59,
          80,
          72,
          56,
          74,
          60,
          75,
          61,
          68,
          57,
          56,
          64,
          56,
          61,
          75,
          69,
          62,
          70,
          73,
          61,
          60,
          72,
          67,
          70,
          53,
          58,
          72,
          68,
          60,
          60,
          76,
          69,
          59,
          64,
          60,
          73,
          68,
          61,
          56,
          70,
          58,
          56,
          66,
          73,
          65,
          59,
          65,
          54,
          69,
          69,
          65,
          71,
          61,
          80,
          72,
          57,
          68,
          82,
          68,
          67,
          54,
          87,
          74,
          66,
          64,
          57,
          55,
          59,
          84,
          61,
          57,
          62,
          72,
          60,
          76,
          59,
          78,
          73,
          67,
          67,
          61,
          61,
          64,
          66,
          62,
          82,
          80,
          83,
          72,
          69,
          66,
          74,
          68,
          57,
          86,
          81,
          61,
          50,
          79,
          65,
          66,
          80,
          59,
          70,
          55,
          66,
          74,
          61,
          86,
          65,
          80,
          79,
          62,
          57,
          81,
          68,
          84,
          55,
          58,
          76,
          72,
          61,
          67,
          70,
          68,
          60,
          64,
          62,
          54,
          61,
          63
         ]
        }
       ],
       "layout": {
        "template": {
         "data": {
          "bar": [
           {
            "error_x": {
             "color": "#2a3f5f"
            },
            "error_y": {
             "color": "#2a3f5f"
            },
            "marker": {
             "line": {
              "color": "#E5ECF6",
              "width": 0.5
             },
             "pattern": {
              "fillmode": "overlay",
              "size": 10,
              "solidity": 0.2
             }
            },
            "type": "bar"
           }
          ],
          "barpolar": [
           {
            "marker": {
             "line": {
              "color": "#E5ECF6",
              "width": 0.5
             },
             "pattern": {
              "fillmode": "overlay",
              "size": 10,
              "solidity": 0.2
             }
            },
            "type": "barpolar"
           }
          ],
          "carpet": [
           {
            "aaxis": {
             "endlinecolor": "#2a3f5f",
             "gridcolor": "white",
             "linecolor": "white",
             "minorgridcolor": "white",
             "startlinecolor": "#2a3f5f"
            },
            "baxis": {
             "endlinecolor": "#2a3f5f",
             "gridcolor": "white",
             "linecolor": "white",
             "minorgridcolor": "white",
             "startlinecolor": "#2a3f5f"
            },
            "type": "carpet"
           }
          ],
          "choropleth": [
           {
            "colorbar": {
             "outlinewidth": 0,
             "ticks": ""
            },
            "type": "choropleth"
           }
          ],
          "contour": [
           {
            "colorbar": {
             "outlinewidth": 0,
             "ticks": ""
            },
            "colorscale": [
             [
              0,
              "#0d0887"
             ],
             [
              0.1111111111111111,
              "#46039f"
             ],
             [
              0.2222222222222222,
              "#7201a8"
             ],
             [
              0.3333333333333333,
              "#9c179e"
             ],
             [
              0.4444444444444444,
              "#bd3786"
             ],
             [
              0.5555555555555556,
              "#d8576b"
             ],
             [
              0.6666666666666666,
              "#ed7953"
             ],
             [
              0.7777777777777778,
              "#fb9f3a"
             ],
             [
              0.8888888888888888,
              "#fdca26"
             ],
             [
              1,
              "#f0f921"
             ]
            ],
            "type": "contour"
           }
          ],
          "contourcarpet": [
           {
            "colorbar": {
             "outlinewidth": 0,
             "ticks": ""
            },
            "type": "contourcarpet"
           }
          ],
          "heatmap": [
           {
            "colorbar": {
             "outlinewidth": 0,
             "ticks": ""
            },
            "colorscale": [
             [
              0,
              "#0d0887"
             ],
             [
              0.1111111111111111,
              "#46039f"
             ],
             [
              0.2222222222222222,
              "#7201a8"
             ],
             [
              0.3333333333333333,
              "#9c179e"
             ],
             [
              0.4444444444444444,
              "#bd3786"
             ],
             [
              0.5555555555555556,
              "#d8576b"
             ],
             [
              0.6666666666666666,
              "#ed7953"
             ],
             [
              0.7777777777777778,
              "#fb9f3a"
             ],
             [
              0.8888888888888888,
              "#fdca26"
             ],
             [
              1,
              "#f0f921"
             ]
            ],
            "type": "heatmap"
           }
          ],
          "heatmapgl": [
           {
            "colorbar": {
             "outlinewidth": 0,
             "ticks": ""
            },
            "colorscale": [
             [
              0,
              "#0d0887"
             ],
             [
              0.1111111111111111,
              "#46039f"
             ],
             [
              0.2222222222222222,
              "#7201a8"
             ],
             [
              0.3333333333333333,
              "#9c179e"
             ],
             [
              0.4444444444444444,
              "#bd3786"
             ],
             [
              0.5555555555555556,
              "#d8576b"
             ],
             [
              0.6666666666666666,
              "#ed7953"
             ],
             [
              0.7777777777777778,
              "#fb9f3a"
             ],
             [
              0.8888888888888888,
              "#fdca26"
             ],
             [
              1,
              "#f0f921"
             ]
            ],
            "type": "heatmapgl"
           }
          ],
          "histogram": [
           {
            "marker": {
             "pattern": {
              "fillmode": "overlay",
              "size": 10,
              "solidity": 0.2
             }
            },
            "type": "histogram"
           }
          ],
          "histogram2d": [
           {
            "colorbar": {
             "outlinewidth": 0,
             "ticks": ""
            },
            "colorscale": [
             [
              0,
              "#0d0887"
             ],
             [
              0.1111111111111111,
              "#46039f"
             ],
             [
              0.2222222222222222,
              "#7201a8"
             ],
             [
              0.3333333333333333,
              "#9c179e"
             ],
             [
              0.4444444444444444,
              "#bd3786"
             ],
             [
              0.5555555555555556,
              "#d8576b"
             ],
             [
              0.6666666666666666,
              "#ed7953"
             ],
             [
              0.7777777777777778,
              "#fb9f3a"
             ],
             [
              0.8888888888888888,
              "#fdca26"
             ],
             [
              1,
              "#f0f921"
             ]
            ],
            "type": "histogram2d"
           }
          ],
          "histogram2dcontour": [
           {
            "colorbar": {
             "outlinewidth": 0,
             "ticks": ""
            },
            "colorscale": [
             [
              0,
              "#0d0887"
             ],
             [
              0.1111111111111111,
              "#46039f"
             ],
             [
              0.2222222222222222,
              "#7201a8"
             ],
             [
              0.3333333333333333,
              "#9c179e"
             ],
             [
              0.4444444444444444,
              "#bd3786"
             ],
             [
              0.5555555555555556,
              "#d8576b"
             ],
             [
              0.6666666666666666,
              "#ed7953"
             ],
             [
              0.7777777777777778,
              "#fb9f3a"
             ],
             [
              0.8888888888888888,
              "#fdca26"
             ],
             [
              1,
              "#f0f921"
             ]
            ],
            "type": "histogram2dcontour"
           }
          ],
          "mesh3d": [
           {
            "colorbar": {
             "outlinewidth": 0,
             "ticks": ""
            },
            "type": "mesh3d"
           }
          ],
          "parcoords": [
           {
            "line": {
             "colorbar": {
              "outlinewidth": 0,
              "ticks": ""
             }
            },
            "type": "parcoords"
           }
          ],
          "pie": [
           {
            "automargin": true,
            "type": "pie"
           }
          ],
          "scatter": [
           {
            "fillpattern": {
             "fillmode": "overlay",
             "size": 10,
             "solidity": 0.2
            },
            "type": "scatter"
           }
          ],
          "scatter3d": [
           {
            "line": {
             "colorbar": {
              "outlinewidth": 0,
              "ticks": ""
             }
            },
            "marker": {
             "colorbar": {
              "outlinewidth": 0,
              "ticks": ""
             }
            },
            "type": "scatter3d"
           }
          ],
          "scattercarpet": [
           {
            "marker": {
             "colorbar": {
              "outlinewidth": 0,
              "ticks": ""
             }
            },
            "type": "scattercarpet"
           }
          ],
          "scattergeo": [
           {
            "marker": {
             "colorbar": {
              "outlinewidth": 0,
              "ticks": ""
             }
            },
            "type": "scattergeo"
           }
          ],
          "scattergl": [
           {
            "marker": {
             "colorbar": {
              "outlinewidth": 0,
              "ticks": ""
             }
            },
            "type": "scattergl"
           }
          ],
          "scattermapbox": [
           {
            "marker": {
             "colorbar": {
              "outlinewidth": 0,
              "ticks": ""
             }
            },
            "type": "scattermapbox"
           }
          ],
          "scatterpolar": [
           {
            "marker": {
             "colorbar": {
              "outlinewidth": 0,
              "ticks": ""
             }
            },
            "type": "scatterpolar"
           }
          ],
          "scatterpolargl": [
           {
            "marker": {
             "colorbar": {
              "outlinewidth": 0,
              "ticks": ""
             }
            },
            "type": "scatterpolargl"
           }
          ],
          "scatterternary": [
           {
            "marker": {
             "colorbar": {
              "outlinewidth": 0,
              "ticks": ""
             }
            },
            "type": "scatterternary"
           }
          ],
          "surface": [
           {
            "colorbar": {
             "outlinewidth": 0,
             "ticks": ""
            },
            "colorscale": [
             [
              0,
              "#0d0887"
             ],
             [
              0.1111111111111111,
              "#46039f"
             ],
             [
              0.2222222222222222,
              "#7201a8"
             ],
             [
              0.3333333333333333,
              "#9c179e"
             ],
             [
              0.4444444444444444,
              "#bd3786"
             ],
             [
              0.5555555555555556,
              "#d8576b"
             ],
             [
              0.6666666666666666,
              "#ed7953"
             ],
             [
              0.7777777777777778,
              "#fb9f3a"
             ],
             [
              0.8888888888888888,
              "#fdca26"
             ],
             [
              1,
              "#f0f921"
             ]
            ],
            "type": "surface"
           }
          ],
          "table": [
           {
            "cells": {
             "fill": {
              "color": "#EBF0F8"
             },
             "line": {
              "color": "white"
             }
            },
            "header": {
             "fill": {
              "color": "#C8D4E3"
             },
             "line": {
              "color": "white"
             }
            },
            "type": "table"
           }
          ]
         },
         "layout": {
          "annotationdefaults": {
           "arrowcolor": "#2a3f5f",
           "arrowhead": 0,
           "arrowwidth": 1
          },
          "autotypenumbers": "strict",
          "coloraxis": {
           "colorbar": {
            "outlinewidth": 0,
            "ticks": ""
           }
          },
          "colorscale": {
           "diverging": [
            [
             0,
             "#8e0152"
            ],
            [
             0.1,
             "#c51b7d"
            ],
            [
             0.2,
             "#de77ae"
            ],
            [
             0.3,
             "#f1b6da"
            ],
            [
             0.4,
             "#fde0ef"
            ],
            [
             0.5,
             "#f7f7f7"
            ],
            [
             0.6,
             "#e6f5d0"
            ],
            [
             0.7,
             "#b8e186"
            ],
            [
             0.8,
             "#7fbc41"
            ],
            [
             0.9,
             "#4d9221"
            ],
            [
             1,
             "#276419"
            ]
           ],
           "sequential": [
            [
             0,
             "#0d0887"
            ],
            [
             0.1111111111111111,
             "#46039f"
            ],
            [
             0.2222222222222222,
             "#7201a8"
            ],
            [
             0.3333333333333333,
             "#9c179e"
            ],
            [
             0.4444444444444444,
             "#bd3786"
            ],
            [
             0.5555555555555556,
             "#d8576b"
            ],
            [
             0.6666666666666666,
             "#ed7953"
            ],
            [
             0.7777777777777778,
             "#fb9f3a"
            ],
            [
             0.8888888888888888,
             "#fdca26"
            ],
            [
             1,
             "#f0f921"
            ]
           ],
           "sequentialminus": [
            [
             0,
             "#0d0887"
            ],
            [
             0.1111111111111111,
             "#46039f"
            ],
            [
             0.2222222222222222,
             "#7201a8"
            ],
            [
             0.3333333333333333,
             "#9c179e"
            ],
            [
             0.4444444444444444,
             "#bd3786"
            ],
            [
             0.5555555555555556,
             "#d8576b"
            ],
            [
             0.6666666666666666,
             "#ed7953"
            ],
            [
             0.7777777777777778,
             "#fb9f3a"
            ],
            [
             0.8888888888888888,
             "#fdca26"
            ],
            [
             1,
             "#f0f921"
            ]
           ]
          },
          "colorway": [
           "#636efa",
           "#EF553B",
           "#00cc96",
           "#ab63fa",
           "#FFA15A",
           "#19d3f3",
           "#FF6692",
           "#B6E880",
           "#FF97FF",
           "#FECB52"
          ],
          "font": {
           "color": "#2a3f5f"
          },
          "geo": {
           "bgcolor": "white",
           "lakecolor": "white",
           "landcolor": "#E5ECF6",
           "showlakes": true,
           "showland": true,
           "subunitcolor": "white"
          },
          "hoverlabel": {
           "align": "left"
          },
          "hovermode": "closest",
          "mapbox": {
           "style": "light"
          },
          "paper_bgcolor": "white",
          "plot_bgcolor": "#E5ECF6",
          "polar": {
           "angularaxis": {
            "gridcolor": "white",
            "linecolor": "white",
            "ticks": ""
           },
           "bgcolor": "#E5ECF6",
           "radialaxis": {
            "gridcolor": "white",
            "linecolor": "white",
            "ticks": ""
           }
          },
          "scene": {
           "xaxis": {
            "backgroundcolor": "#E5ECF6",
            "gridcolor": "white",
            "gridwidth": 2,
            "linecolor": "white",
            "showbackground": true,
            "ticks": "",
            "zerolinecolor": "white"
           },
           "yaxis": {
            "backgroundcolor": "#E5ECF6",
            "gridcolor": "white",
            "gridwidth": 2,
            "linecolor": "white",
            "showbackground": true,
            "ticks": "",
            "zerolinecolor": "white"
           },
           "zaxis": {
            "backgroundcolor": "#E5ECF6",
            "gridcolor": "white",
            "gridwidth": 2,
            "linecolor": "white",
            "showbackground": true,
            "ticks": "",
            "zerolinecolor": "white"
           }
          },
          "shapedefaults": {
           "line": {
            "color": "#2a3f5f"
           }
          },
          "ternary": {
           "aaxis": {
            "gridcolor": "white",
            "linecolor": "white",
            "ticks": ""
           },
           "baxis": {
            "gridcolor": "white",
            "linecolor": "white",
            "ticks": ""
           },
           "bgcolor": "#E5ECF6",
           "caxis": {
            "gridcolor": "white",
            "linecolor": "white",
            "ticks": ""
           }
          },
          "title": {
           "x": 0.05
          },
          "xaxis": {
           "automargin": true,
           "gridcolor": "white",
           "linecolor": "white",
           "ticks": "",
           "title": {
            "standoff": 15
           },
           "zerolinecolor": "white",
           "zerolinewidth": 2
          },
          "yaxis": {
           "automargin": true,
           "gridcolor": "white",
           "linecolor": "white",
           "ticks": "",
           "title": {
            "standoff": 15
           },
           "zerolinecolor": "white",
           "zerolinewidth": 2
          }
         }
        },
        "yaxis": {
         "title": {
          "font": {
           "color": "black",
           "size": 12
          },
          "text": "Size of the resolving set"
         }
        }
       }
      },
      "text/html": [
       "<div>                            <div id=\"15ad8fe0-9e61-425e-bd9b-2139b8e82afe\" class=\"plotly-graph-div\" style=\"height:525px; width:100%;\"></div>            <script type=\"text/javascript\">                require([\"plotly\"], function(Plotly) {                    window.PLOTLYENV=window.PLOTLYENV || {};                                    if (document.getElementById(\"15ad8fe0-9e61-425e-bd9b-2139b8e82afe\")) {                    Plotly.newPlot(                        \"15ad8fe0-9e61-425e-bd9b-2139b8e82afe\",                        [{\"name\":\"Betweenness centrality\",\"y\":[46,39,41,37,42,35,39,38,40,38,35,36,50,41,33,50,44,56,39,43,45,41,46,39,45,44,40,35,41,38,31,46,51,37,36,38,46,35,46,36,45,51,39,44,35,43,41,43,47,45,41,40,39,39,42,37,38,48,39,52,44,37,45,41,51,40,45,40,36,40,34,53,44,45,38,38,43,44,38,48,41,35,54,33,39,46,34,45,58,48,36,37,48,49,51,40,40,40,35,49,49,38,38,37,48,37,42,46,41,40,45,48,40,41,43,40,45,35,50,35,40,40,58,42,37,38,38,45,47,35,60,48,36,41,43,42,42,43,47,41,51,47,40,44,42,41,36,61,39,44,40,42,36,39,39,48,43,44,39,42,41,51,36,40,41,34,43,42,46,48,39,39,37,34,39,41,40,58,36,36,43,48,48,40,36,39,46,35,38,35,46,38,45,46,44,40,41,47,38,48,43,41,37,41,48,45,43,40,48,42,42,39,36,44,43,43,37,33,41,38,44,47,40,41,44,45,38,42,45,42,47,49,51,35,32,48,40,38,32,41,39,38,44,37,39,48,49,45,42,50,35,41,38,49,46,39,54,40,41,41,43,31,39,47,40,39,55,36,37,47,36,41,57,45,37,35,52,39,44,46,47,42,35,47,38,38,51,54,49,36,38,45,42,40,37,36,40,35,37,39,51,45,45,39,36,41,45,45,41,40,43,36,41,44,43,36,40,38,34,46,37,40,41,40,37,45,40,42,42,44,48,44,42,44,40,44,41,38,38,43,36,47,43,40,40,36,37,43,48,41,43,45,35,40,36,38,37,35,39,42,38,40,41,64,37,40,52,46,45,46,37,37,41,33,42,41,36,38,47,41,42,41,47,41,48,46,47,37,46,41,47,44,38,43,42,48,42,32,44,40,37,45,37,60,54,50,39,41,37,44,43,40,45,56,31,46,45,55,40,34,40,44,35,39,47,47,44,45,41,34,46,44,40,48,45,39,35,42,52,58,48,35,41,41,43,48,42,46,43,42,43,38,39,41,48,35,48,36,40,54,48,38,38,40,40,50,51,36,47,49,40,35,45,40,49,37,43,40,41,39,37,47,46,39,36,45,43,44,34,35,43,42,49,42,43,44,38,42,32,40,41,34,53,52,39,53,50,41,32,36,49,44,40,34,40,34,40,40,39,39,45,41,44,39,39,39,42,44,48,38,44,38,38,41,40,45,49,53,44,32,39,38,43,42,38,40,49,52,39,50,50,41,43,44,31,46,38,39,44,37,36,46,43,36,35,33,56,40,38,45,50,48,53,41,37,48,47,48,37,38,39,35,31,41,47,41,41,36,36,35,41,39,47,38,38,50,37,42,48,35,36,48,53,44,46,43,41,42,45,36,42,37,47,34,51,41,46,41,48,42,39,62,48,41,41,57,52,50,39,38,39,46,43,42,45,44,41,44,39,34,41,46,48,44,43,41,52,48,34,46,45,38,42,44,43,40,35,39,48,37,42,45,37,45,39,34,49,44,46,37,42,49,44,42,44,43,40,45,43,33,36,44,45,38,43,42,44,37,43,34,39,37,50,43,33,41,44,41,40,42,35,37,37,41,45,33,37,35,37,37,33,34,42,38,46,38,42,50,44,41,39,64,38,49,42,43,43,40,37,40,38,44,38,44,54,32,45,38,35,44,43,42,35,36,49,41,38,43,50,40,34,36,49,40,46,41,51,37,37,43,48,42,42,43,33,46,38,47,44,39,39,38,43,52,41,38,51,36,36,38,36,36,46,41,33,44,40,45,46,38,41,39,45,42,33,44,57,33,46,38,42,37,43,37,46,44,41,42,44,46,48,43,42,41,47,44,45,40,41,41,41,38,44,44,41,39,35,44,48,42,44,44,41,49,40,46,37,39,39,38,40,46,34,46,44,41,47,42,47,41,40,39,50,50,51,48,41,38,38,53,46,36,49,46,42,37,49,40,43,47,36,42,44,35,36,37,35,44,45,44,36,52,41,48,40,46,41,46,39,36,42,36,48,45,43,40,45,44,34,54,63,47,45,47,41,51,36,40,32,47,51,43,54,40,35,43,41,46,43,34,37,37,42,43,37,47,43,41,41,43,38,57,52,40,43,42,42,47,37,36,45,51,42,47,49,41,43,44,37,46,46,47,39,39,42,44,38,49,39,45,43,42,39,35,43,52,37,44,49,47,42,42,49,39,39,51,36,38,37,35,42,50,42,49,49,39,44,38,52,38,39,37,45,49,35,35,40,41,37,37,37,35,33,37,34,39,50,34,50,33,39,41,49,38,52,44,41,39,36,32,41,35,47,37,43,45,38,36,43,41,44,38,42,41,39,35,38,53,47,45,46,41,42,43,38,36,40,40,43,40,34,39,39,30,34,38,47,37,37,40,47,39,47,39,40,38,43,51,43,37,38,39,38,40,44,45,55,43,40,39,63,47,42,44,36,43,39,43,49,41,38,39,48,42,36,42,38,40,35,41,53,46,43,48,38,42,45,43,41,37,36,40,40,41,33,46,36,45,42,34,41,39,41,32,39,41,38,64,39,43,35,41,70,38,36,37,37,39,36,42,46,43,41,40,52,54,43,37,43,41,34,41,51,39,37,39,40,39,37,40,38,46,37,44,41,38,36,47,46,42,40,41,45,42,38,41,37,37,42,36,35,43,42,33,38,46,36,37,40,37,41,43,36,42,37,46,35,36,63,35,39,42,35,52,45,38,37,37,41,36,42,30,37,45,58,43,40,51,40,40,41,41,41,42,38,37,43,46,42,43,35,44,39,50,47,82,35,42,42,42,38,42,39,35,45,44,37,43,46,43,43,48,48,45,49,35,42,47,48,40,39,45,34,41,39,37,36,38,40,40,37,37,55,38,42,40,38,45,41,40,41,56,33,49,46,47,50,45,52,36,44,44,45,38,46,41,45,45,39,41,33,31,40,41,38,39,35,39,44,46,48,39,37,39,40,40,60,43,44,42,43,46,40,37,45,44,36,48,44,45,37,33,73,40,49,34,41,46,35,66,44,45,42,45,56,41,35,40,50,46,40,40,36,36,33,40,40,33,54,37,38,39,39,51,40,34,49,39,43,51,39,39,46,44,44,44,41,44,42,44,40,37,36,43,44,37,43,40,52,39,39,45,44,38,42,51,38,43,37,46,45,42,44,47,29,35,44,44,46,45,45,37,40,38,40,39,43,51,41,34,40,40,41,45,39,36,37,46,46,34,36,43,44,42,37,35,41,45,43,35,42,42,39,40,40,38,36,51,50,43,38,43,44,38,54,39,36,33,41,43,42,40,48,33,36,37,44,35,35,50,49,33,45,49,36,47,38,30,43,37,37,42,36,40,31,38,38,42,38,37,40,43,49,39,41,42,42,42,43,44],\"type\":\"box\"},{\"name\":\"Degree centrality\",\"y\":[58,57,48,52,53,56,52,46,54,45,44,44,46,52,53,62,54,49,46,48,56,47,58,50,59,45,56,44,50,52,60,48,58,56,67,56,62,49,45,44,57,53,58,55,54,47,54,44,58,54,44,42,51,50,47,50,43,53,46,52,46,51,57,42,42,59,63,41,52,42,51,52,54,52,40,48,52,46,55,43,55,54,47,49,64,47,58,49,56,54,54,53,53,50,50,56,53,51,45,49,58,50,58,44,57,55,53,39,39,45,62,54,54,49,52,48,44,44,55,53,48,45,54,46,56,61,45,48,54,56,52,45,44,54,56,48,74,53,47,43,54,57,52,57,43,51,56,50,38,55,49,54,52,48,51,48,38,56,50,46,51,47,51,42,42,62,68,63,65,42,47,47,47,51,39,51,46,44,48,54,53,47,43,43,48,48,51,48,47,52,50,47,41,56,49,52,54,47,42,48,58,51,55,50,54,57,49,45,42,51,52,56,52,49,53,53,45,55,44,58,56,53,65,45,48,51,50,52,51,53,69,52,52,45,54,60,51,49,49,49,44,57,58,58,38,52,49,48,46,45,47,50,51,57,50,50,63,43,63,43,61,54,58,52,47,48,64,47,49,47,51,49,59,52,50,48,59,55,50,47,46,57,47,46,57,50,56,54,56,46,70,60,46,48,47,64,48,44,47,53,46,45,46,62,40,60,51,48,46,45,45,38,53,51,60,51,61,49,74,48,51,51,54,53,55,49,53,54,44,55,53,46,59,49,54,45,55,52,50,46,46,47,72,59,58,48,55,43,41,52,56,55,51,51,57,52,56,40,50,44,52,60,48,50,50,56,47,42,54,45,55,46,63,55,60,51,47,63,52,46,45,50,46,51,43,51,41,56,48,48,45,57,48,51,48,62,54,56,44,55,55,57,52,51,57,44,64,52,51,46,55,50,65,51,55,47,53,47,48,49,48,49,42,41,58,42,56,62,55,51,51,50,69,52,60,39,52,65,45,61,49,50,48,47,45,58,52,52,46,54,47,49,65,49,53,47,51,55,41,51,52,54,51,49,52,59,49,46,50,50,47,64,54,54,49,53,45,50,46,52,52,51,52,48,60,51,54,55,49,56,51,64,56,45,51,51,43,45,49,51,55,54,55,55,62,52,64,49,43,65,38,48,58,47,56,60,53,47,54,55,60,49,43,51,55,48,47,60,52,44,54,56,45,47,56,54,52,40,44,50,54,54,41,48,38,53,55,47,51,49,55,48,51,52,63,44,50,49,43,52,54,49,51,50,57,65,45,48,51,48,51,51,40,49,49,49,46,51,50,50,54,49,52,43,43,57,50,51,49,49,48,52,50,43,48,39,59,40,68,46,57,53,47,58,51,56,54,42,51,53,59,43,51,50,62,43,52,68,46,51,47,49,53,49,44,49,47,48,57,45,49,43,50,42,50,53,51,63,42,53,52,48,53,46,49,43,48,62,48,69,50,58,63,50,46,38,62,67,60,58,44,51,52,50,41,42,47,51,58,47,62,60,53,47,50,48,48,44,49,49,61,48,61,71,41,71,65,43,58,49,68,52,60,51,54,45,52,51,48,57,39,42,57,50,53,51,46,52,52,49,48,61,52,46,55,59,50,42,47,45,53,46,47,50,47,52,57,52,46,50,50,58,55,47,53,54,43,58,50,45,68,55,44,54,45,42,49,46,49,77,53,48,45,48,48,47,50,59,48,50,50,45,68,43,45,58,54,52,59,58,45,50,49,53,69,43,49,53,49,54,53,52,51,55,43,43,61,61,56,44,57,50,52,46,46,49,55,54,55,49,45,41,46,61,51,48,53,53,58,55,52,50,52,46,60,54,44,52,52,49,53,54,49,51,50,45,54,43,39,55,54,52,50,52,55,41,56,50,59,54,51,55,42,54,60,51,54,49,44,49,51,62,65,46,48,54,54,45,42,52,51,56,54,43,51,47,46,51,52,49,55,76,46,48,44,58,50,66,45,53,50,57,42,56,61,46,49,54,49,44,49,54,54,61,51,55,56,43,48,52,38,51,51,46,55,55,57,55,54,40,45,47,43,54,49,50,52,45,49,45,59,42,63,67,70,48,47,40,41,43,50,60,55,54,53,55,56,53,44,58,54,54,48,48,48,62,65,61,64,46,51,47,53,72,45,50,45,59,50,51,42,62,48,57,50,46,57,56,47,61,51,44,49,43,47,51,43,45,52,63,54,53,53,46,50,63,47,43,65,52,46,49,50,50,53,53,50,53,49,53,46,45,47,56,47,42,64,47,53,58,51,59,55,53,51,44,51,49,43,50,50,44,49,48,49,55,68,46,50,56,62,54,50,50,50,52,44,66,43,60,48,48,53,53,61,50,45,52,48,54,55,54,48,58,41,52,56,41,51,48,50,45,42,55,42,53,58,55,49,82,46,45,51,63,54,44,47,58,51,49,55,43,55,50,42,51,46,50,53,58,58,47,45,44,65,52,55,50,40,45,59,46,46,44,57,52,45,55,54,47,50,38,48,53,46,57,53,46,51,43,50,53,53,49,45,56,46,50,54,56,61,64,47,47,46,49,48,52,48,47,55,52,53,56,49,52,64,50,45,50,57,50,56,43,57,55,55,50,43,47,48,49,50,54,68,45,48,48,42,49,52,76,61,52,47,46,47,49,52,63,46,46,45,47,49,52,41,58,55,58,57,56,58,47,57,45,55,62,67,46,50,51,39,46,46,48,66,50,48,51,43,53,71,51,53,48,57,48,60,44,45,51,59,47,52,50,44,57,52,56,68,58,45,55,50,55,49,51,51,48,46,50,55,49,49,54,56,46,54,49,48,50,47,50,44,44,53,52,45,48,52,51,46,47,41,58,67,48,49,60,48,56,47,68,51,58,48,42,61,47,53,39,53,41,46,61,55,48,51,46,62,54,48,52,47,84,53,57,50,54,69,57,65,53,63,46,51,46,50,42,47,59,51,54,54,67,42,51,48,49,54,50,48,48,55,51,49,38,49,52,50,45,52,52,52,48,53,53,50,54,56,46,63,51,45,50,59,51,77,50,52,56,60,48,45,49,64,49,52,54,46,42,44,56,53,50,49,50,53,44,49,55,48,51,52,53,49,42,50,50,49,50,61,52,45,38,55,57,61,47,50,47,52,53,50,50,55,44,57,63,50,41,55,49,47,59,52,54,63,59,57,42,53,72,55,48,51,53,50,60,49,51,64,48,49,55,54,51,52,61,44,63,48,50,57,51,44,41,59,50,57,50,46,64,50,47,50,65,45,51,55,61,48,55,50,65,52,74,50,61,58,45,53,49,51,54,47,43,49,48,56,52,53,46,53,41,44,48,52,50,41,54,51,62,45,65,54,57,51,51,45,51,42,58,61,49,46,46,45,65],\"type\":\"box\"},{\"name\":\"Eigenvector centrality\",\"y\":[63,55,43,48,46,53,53,58,72,46,46,49,38,41,47,51,46,64,53,57,49,50,56,51,57,50,51,49,49,48,53,43,49,58,42,54,51,62,44,59,59,43,53,62,43,64,40,51,57,62,53,51,51,57,51,46,51,63,53,56,62,57,52,64,52,56,51,45,48,57,52,49,46,66,59,55,43,55,42,46,57,47,59,52,53,59,47,79,41,60,49,71,48,48,52,50,58,44,54,50,48,47,66,58,50,47,58,46,57,47,54,40,53,50,57,57,60,49,51,45,50,51,52,55,45,45,48,60,51,45,58,53,53,63,47,70,60,45,53,58,42,53,47,53,59,58,55,51,50,40,58,43,62,54,45,53,46,45,57,56,51,47,53,55,59,67,54,60,50,56,48,54,44,44,55,48,51,40,45,44,49,47,57,50,58,61,49,62,56,49,57,38,53,41,57,62,42,51,51,47,53,56,54,53,46,55,52,57,60,51,53,46,51,51,50,53,51,47,48,50,42,46,44,64,52,83,71,50,46,55,52,49,56,47,50,53,51,64,39,57,48,42,57,57,48,49,60,55,46,60,49,55,39,53,47,70,45,66,51,54,47,49,54,47,50,62,45,41,47,50,52,50,45,54,49,52,58,44,43,64,52,63,54,47,48,48,56,67,55,42,59,54,45,54,54,43,58,44,64,70,52,44,47,48,55,54,45,46,47,57,49,48,51,57,48,53,61,59,52,56,75,65,49,49,43,46,51,60,45,55,51,53,53,42,46,44,56,53,51,59,53,58,51,47,59,52,53,38,51,61,59,53,49,56,57,48,52,58,50,69,39,50,63,48,56,57,59,49,54,54,61,49,47,53,49,51,68,49,43,62,54,55,39,42,48,45,49,51,51,48,52,69,54,48,56,50,50,57,45,59,50,65,48,53,57,47,63,61,46,43,60,40,59,53,51,67,54,56,53,45,51,45,55,47,52,47,57,49,56,42,52,53,49,48,56,63,46,51,51,58,53,62,45,49,39,50,48,69,52,45,53,41,40,55,48,50,54,49,45,50,50,55,52,42,41,61,53,44,46,53,53,52,53,51,54,55,45,63,49,68,53,51,48,46,48,40,54,56,50,55,44,49,52,60,47,57,46,53,59,56,59,51,53,47,48,71,48,48,49,59,73,53,53,45,59,58,56,55,46,57,45,44,45,55,56,59,51,44,68,57,62,48,51,60,58,48,44,53,47,43,48,57,56,55,68,43,53,57,60,57,63,49,50,50,54,49,49,56,43,64,56,33,47,53,58,56,67,67,47,53,46,46,61,50,52,50,50,48,51,44,45,49,50,50,56,61,48,59,55,46,52,61,58,61,67,48,52,51,42,48,58,52,62,50,61,55,61,54,46,50,49,46,50,43,46,55,50,69,48,63,47,51,39,47,48,46,50,50,45,43,65,53,49,59,58,53,62,48,57,51,52,42,45,47,41,41,48,51,47,49,50,47,55,48,41,52,47,51,67,49,60,47,48,42,46,57,58,51,37,49,54,54,58,53,47,46,50,66,53,51,61,56,39,42,43,50,46,54,52,58,48,47,53,50,52,48,54,61,45,45,52,44,42,67,51,71,59,64,43,56,56,57,49,51,43,52,52,47,54,68,40,56,43,71,48,48,59,47,47,44,48,55,83,50,53,44,59,48,69,60,47,49,59,59,52,43,61,48,64,50,48,50,54,53,37,54,54,43,53,47,45,48,53,48,58,53,51,46,48,52,57,64,46,43,64,56,51,55,50,52,50,48,49,49,47,53,49,49,65,45,43,47,50,54,53,47,45,53,49,50,59,51,45,52,60,66,57,37,46,48,61,53,62,46,48,43,46,56,58,43,56,45,48,42,55,59,56,45,53,40,55,41,45,49,46,51,53,47,47,46,51,52,51,47,57,50,50,48,45,48,49,57,58,56,43,43,63,43,72,49,51,58,63,53,54,52,54,57,52,63,42,51,62,60,45,57,55,50,48,45,41,47,50,50,65,46,48,47,51,53,46,44,66,53,79,59,45,49,50,53,45,46,48,47,61,49,49,56,65,61,42,54,51,42,48,50,52,49,54,56,50,45,52,51,56,48,64,53,49,55,46,56,49,49,45,47,52,54,50,51,45,55,53,50,47,47,48,57,56,57,42,45,49,49,51,61,47,47,52,55,41,50,42,54,38,48,44,44,50,46,46,52,51,50,47,60,53,61,59,49,47,49,42,45,57,60,45,50,61,70,53,49,45,45,42,63,47,43,52,55,70,44,53,52,57,47,46,58,45,59,42,43,47,53,44,50,50,45,43,46,45,60,42,60,57,58,51,60,48,48,46,47,46,42,54,52,60,63,60,44,39,56,73,50,56,60,49,53,41,46,57,60,60,54,46,58,57,47,56,42,50,55,72,50,59,56,53,53,55,38,44,55,52,57,51,52,51,51,66,48,55,57,44,75,59,46,48,49,55,54,45,57,53,54,57,48,52,65,53,54,67,50,47,47,66,48,46,48,55,69,45,50,66,46,47,49,54,57,50,51,48,51,43,58,55,58,52,46,79,47,52,54,57,38,52,53,40,52,49,45,53,51,45,49,43,43,49,48,53,50,44,45,52,49,50,50,48,49,62,56,59,47,54,58,48,50,49,58,66,46,59,52,52,52,45,66,45,51,55,51,59,49,48,54,53,60,52,49,57,57,49,50,51,54,39,58,53,52,52,65,48,55,50,55,51,48,66,62,54,57,49,71,58,62,56,55,43,46,50,47,49,54,47,48,50,66,48,44,47,60,58,54,59,46,51,51,46,71,46,54,55,43,49,51,57,49,48,78,49,57,52,58,56,45,56,60,53,56,52,49,48,55,37,44,54,63,49,49,66,58,52,55,53,44,54,41,80,57,50,47,50,56,55,46,51,66,44,49,44,68,48,70,52,56,45,51,51,40,49,47,72,52,50,50,56,53,50,54,72,40,52,52,56,59,55,59,39,48,52,57,44,38,58,42,57,57,51,47,57,51,49,50,48,51,46,60,55,55,47,44,47,57,67,61,39,57,57,49,42,47,46,48,48,45,57,44,55,53,46,60,50,48,51,59,42,46,52,54,49,61,57,51,46,42,53,50,57,51,44,58,57,50,50,43,40,50,46,50,56,52,53,54,50,50,51,52,41,52,58,38,51,51,48,46,47,48,50,53,52,56,40,49,66,54,46,62,43,53,55,62,48,54,44,52,52,48,51,52,57,53,47,41,51,60,42,46,48,45,56,49,52,50,55,48,55,60,50,48,44,57,64,77,50,41,45,58,48,44,53,44,66,65,55,59,57,55,58,61,50,50,58,47,53,49,59,43,56,51,55,53,44,44,45,54,44,50,59,57,55,49,44,56,42,53,78,52,51,52,45,52],\"type\":\"box\"},{\"name\":\"Closeness centrality\",\"y\":[59,72,69,57,67,57,81,67,69,71,59,53,70,76,61,61,67,58,51,59,63,56,72,58,68,65,73,62,54,56,74,65,62,79,59,67,50,70,67,54,61,52,58,62,75,60,55,56,64,56,69,52,70,60,61,60,53,59,64,58,68,60,53,56,58,75,49,61,76,62,48,63,69,59,57,54,65,62,54,48,70,61,64,65,60,62,67,54,54,62,51,77,81,58,55,59,57,65,59,55,62,58,60,57,62,69,61,55,66,73,71,61,50,68,54,64,56,54,58,66,45,68,53,76,56,66,44,58,57,62,58,52,62,72,61,69,59,55,58,55,80,64,59,64,55,52,61,63,63,67,69,64,64,70,60,58,57,56,59,54,63,67,79,58,61,58,64,62,75,59,63,68,65,56,54,65,57,68,58,65,54,69,56,56,55,68,54,50,67,50,57,57,50,59,51,61,69,60,51,51,65,72,54,56,78,63,59,63,57,65,57,56,52,60,63,61,57,63,76,80,57,65,66,70,63,60,53,63,58,79,59,55,60,66,66,50,70,62,56,63,63,59,63,63,61,61,53,63,58,62,55,50,55,59,63,62,54,55,57,62,51,71,68,62,52,61,62,57,68,56,57,60,62,52,54,62,66,66,59,55,56,63,55,60,63,56,60,74,73,71,66,64,61,59,57,66,60,58,57,70,57,62,61,59,68,62,65,72,61,58,63,60,70,66,67,54,59,53,59,62,56,65,62,54,55,60,70,52,62,53,78,48,66,58,49,53,59,75,57,51,63,63,70,57,66,61,60,63,66,56,60,53,59,50,53,52,63,68,65,59,66,62,56,64,64,59,59,67,73,55,53,68,64,51,80,66,79,51,52,59,66,75,62,58,49,52,60,67,76,54,59,59,54,72,77,63,64,51,50,54,66,70,59,54,54,48,66,64,78,65,57,48,55,66,58,84,57,65,64,61,65,49,62,56,66,89,60,64,56,62,62,61,70,56,57,66,53,64,65,70,58,59,51,65,64,61,47,63,60,59,59,56,59,65,68,75,61,57,66,59,72,54,52,79,49,61,60,58,72,50,63,56,68,65,60,65,56,67,50,53,58,67,73,63,52,51,66,52,61,61,57,65,64,66,64,59,69,54,57,59,63,66,67,61,62,68,55,45,71,61,58,61,69,86,57,64,66,64,62,68,49,70,61,60,59,63,61,63,72,57,55,68,66,72,71,68,52,68,62,59,60,60,56,59,55,64,52,70,66,64,57,66,68,60,66,52,60,49,68,55,60,50,73,50,59,83,78,69,57,66,65,55,59,62,47,53,63,53,62,67,62,60,71,66,62,62,69,64,49,68,86,65,88,88,61,60,56,55,53,59,53,58,61,58,65,61,81,60,55,51,47,60,65,61,62,56,54,69,64,56,57,72,45,51,54,64,58,53,65,70,55,57,61,54,77,67,53,57,53,58,55,58,61,43,81,53,62,57,67,47,58,67,66,52,51,59,71,55,66,68,51,59,67,68,60,55,62,67,57,66,58,81,60,70,56,67,52,40,62,55,70,83,69,70,77,66,55,64,51,55,64,70,55,56,62,64,61,63,53,62,54,71,60,62,65,54,54,76,63,52,60,57,74,65,59,55,55,74,68,56,55,61,57,53,52,76,66,64,56,66,62,85,51,57,84,59,49,58,62,55,59,60,67,64,69,69,59,65,60,60,73,57,61,63,72,51,59,60,60,69,51,61,67,56,61,52,63,67,62,73,53,59,51,55,74,54,60,54,61,54,72,60,56,62,58,61,56,56,68,49,57,69,60,57,67,63,64,72,54,62,59,76,61,59,68,62,60,53,62,49,78,73,54,61,84,57,66,52,65,62,60,58,66,65,64,55,53,73,59,51,62,65,57,64,63,52,72,81,63,58,63,62,58,79,61,85,53,70,57,63,44,71,54,54,70,60,62,61,53,59,48,59,74,54,49,56,63,57,57,50,62,62,50,70,55,44,54,62,60,62,71,65,56,51,51,62,52,54,53,54,54,63,62,58,61,57,63,60,63,69,51,85,56,70,73,53,60,60,89,52,69,67,66,60,62,49,63,64,53,66,69,52,57,62,76,53,67,60,55,67,59,51,79,68,73,65,62,48,54,62,63,51,72,60,56,60,58,53,57,64,59,62,63,55,58,53,64,67,75,55,70,66,68,53,62,48,66,60,57,50,67,50,52,64,53,77,68,69,51,54,53,60,52,56,52,55,77,60,68,59,65,53,46,60,61,62,70,68,43,66,81,69,45,84,60,55,67,63,69,60,58,53,51,61,52,51,53,69,58,56,51,72,55,47,58,54,66,53,61,52,65,61,58,59,54,85,61,71,59,60,55,53,57,60,52,65,71,47,61,74,48,42,63,58,53,56,69,68,72,55,56,54,62,54,57,56,69,51,68,66,66,63,52,56,68,53,74,53,61,60,59,53,69,52,60,58,57,59,57,57,53,65,51,61,65,64,56,54,56,57,65,58,60,57,73,78,61,62,55,64,58,66,69,57,52,55,56,59,64,57,62,71,66,55,67,54,73,60,60,69,75,51,65,64,44,57,71,71,58,60,58,79,56,63,57,61,60,46,61,71,50,59,51,64,51,63,58,52,50,83,57,57,44,61,65,50,65,70,63,77,66,60,54,63,58,57,50,52,67,68,68,58,65,49,72,52,58,53,53,68,58,54,53,66,72,62,54,64,54,54,68,67,60,61,57,60,45,62,59,63,68,55,60,66,56,56,68,55,61,64,51,61,43,63,69,48,52,64,56,57,59,54,64,55,69,55,63,62,56,68,56,54,74,61,49,57,62,63,57,65,84,60,59,57,63,66,53,56,61,66,59,59,61,64,65,61,61,58,57,48,62,69,64,54,59,49,64,56,63,55,61,61,64,73,55,63,68,71,73,56,51,66,54,55,56,59,61,73,62,64,53,67,69,47,59,59,61,60,72,55,66,61,57,64,66,56,59,48,79,55,69,52,61,54,52,72,64,55,76,62,70,65,56,61,56,56,48,54,60,58,58,57,52,70,46,49,62,80,66,62,66,53,59,55,57,59,71,46,55,56,55,53,55,59,55,55,57,54,57,54,66,65,55,50,59,54,63,56,55,66,58,60,73,65,74,51,56,54,57,45,63,73,60,56,64,69,59,56,61,53,62,56,60,58,53,55,58,68,65,51,58,55,48,54,58,58,81,57,64,58,61,65,58,66,66,70,64,58,56,62,78,53,66,68,69,56,68,49,60,70,69,61,52,56,58,62,62,64,68,68,62,62,61,61,52,57,63,60,52,49,51,64,54,55,57,57,57,53,58,69,59,56,61,61,51,61,53,58,60,60,57,53,55,61,54,55,53,47,57,45,63,52,61,45,59,56,58],\"type\":\"box\"},{\"name\":\"Random\",\"y\":[61,60,58,58,67,75,56,57,57,61,51,60,61,87,57,74,52,63,64,73,65,71,52,62,66,57,66,74,67,60,64,61,67,62,69,77,63,57,62,57,63,59,59,80,81,74,68,59,68,70,62,60,54,56,63,54,73,60,68,52,58,72,74,58,58,61,75,87,78,57,61,53,106,58,69,76,61,71,74,62,71,83,75,64,70,62,54,56,75,48,71,53,57,68,53,70,63,74,66,60,66,67,67,59,53,68,54,59,63,79,59,58,54,55,55,57,68,49,61,64,62,62,53,56,61,64,50,53,78,66,63,61,56,63,54,70,54,60,64,58,67,59,60,98,59,61,53,65,61,48,58,54,73,56,70,55,61,63,51,55,58,67,55,56,49,56,59,73,63,65,68,62,51,64,62,59,58,47,64,65,79,63,72,91,61,55,57,88,59,62,69,58,51,71,53,56,68,65,60,73,67,47,56,61,66,78,59,57,70,58,63,57,60,54,59,59,74,46,62,60,65,53,59,51,59,87,58,56,61,61,55,57,56,55,65,71,53,60,67,51,62,57,54,58,62,60,74,69,61,50,63,63,58,51,61,62,63,57,57,58,57,51,58,48,56,59,63,62,70,65,72,57,53,62,66,55,57,58,63,64,61,55,59,49,78,51,62,60,55,64,61,63,51,57,76,56,59,74,57,72,67,59,68,62,64,53,55,55,60,64,60,66,56,59,61,59,73,64,53,63,83,54,49,76,48,53,51,55,67,59,56,56,61,56,54,73,60,57,62,58,53,64,62,55,57,58,65,55,51,66,59,64,61,51,58,87,55,58,58,62,54,59,59,70,51,56,75,58,65,44,63,66,67,65,58,62,55,58,62,48,49,69,75,56,53,54,54,72,70,59,83,57,48,62,59,63,48,62,56,83,59,65,62,69,69,53,52,61,66,59,62,56,61,70,64,55,58,46,59,75,79,62,62,52,71,66,74,61,53,60,67,87,70,61,60,57,55,57,55,67,59,63,60,54,58,66,58,67,70,62,57,74,65,60,54,58,60,63,55,55,66,57,70,60,58,43,69,53,57,57,54,65,57,60,53,72,62,58,49,57,63,74,58,62,61,64,64,60,53,56,61,58,63,71,65,77,63,47,71,55,60,52,63,56,96,59,67,59,67,52,55,67,50,65,53,66,71,69,67,59,69,57,53,64,66,57,62,46,86,69,56,76,62,59,51,50,62,56,57,60,71,81,64,71,53,57,60,51,61,61,55,65,65,61,64,60,80,51,55,55,55,69,61,60,54,59,74,62,59,61,60,62,56,59,71,66,56,69,59,73,59,57,69,68,51,61,57,64,53,73,64,63,61,70,58,61,60,65,68,72,58,59,60,78,56,51,69,64,50,49,63,53,63,44,65,61,69,53,64,67,58,58,61,50,60,56,55,61,51,63,66,75,57,54,51,67,61,59,69,64,62,70,65,69,65,54,62,61,65,62,66,64,65,74,50,55,57,55,58,52,53,58,57,71,63,68,55,49,70,55,60,78,49,56,56,67,75,53,62,56,78,62,58,59,59,67,51,62,59,61,60,60,56,59,69,66,57,52,56,66,57,67,57,61,54,57,73,57,57,50,50,68,76,60,54,69,61,59,59,59,56,59,94,58,59,51,71,64,58,58,53,54,64,59,69,72,58,70,50,66,69,58,75,56,51,59,57,52,65,73,63,65,48,61,57,64,55,63,59,67,52,56,74,56,53,68,47,61,57,58,60,58,56,61,49,68,56,52,58,55,61,66,61,60,62,59,57,56,58,56,57,68,59,65,61,66,60,54,75,59,74,56,64,60,76,83,57,55,83,55,59,61,67,54,57,78,62,52,54,67,48,61,52,56,60,81,77,69,55,61,60,58,67,54,61,56,53,65,56,55,53,60,58,64,53,59,62,66,74,59,61,66,75,68,70,64,63,78,55,57,59,48,73,59,74,69,77,61,70,67,61,55,63,68,49,64,55,53,58,59,65,58,55,86,72,65,58,57,70,51,93,64,60,59,70,64,66,65,71,69,48,78,60,52,66,57,75,70,55,59,56,47,68,77,75,51,66,69,68,65,57,59,66,80,62,58,61,60,55,50,51,56,61,57,55,76,70,59,60,59,63,65,70,58,70,62,53,58,55,61,64,60,50,60,72,53,57,61,49,58,56,63,64,61,64,74,56,54,68,59,63,72,58,70,70,53,71,53,58,59,51,66,55,67,58,53,57,56,64,58,57,55,64,66,60,73,64,63,61,77,64,53,70,59,82,57,73,51,56,76,60,57,60,64,64,66,57,58,63,72,49,64,56,73,53,63,54,81,75,59,50,66,58,66,59,58,53,80,103,59,56,53,64,58,59,71,52,56,64,67,57,59,61,67,71,66,50,57,62,56,60,65,60,59,67,58,65,51,67,57,61,79,62,52,48,52,64,56,55,56,67,54,70,72,68,57,51,63,53,58,60,61,64,59,60,74,52,60,68,53,67,48,59,68,68,69,75,64,58,76,60,62,67,76,54,56,52,58,50,92,51,56,56,58,50,63,58,64,74,79,67,48,79,66,52,73,67,62,68,54,66,56,64,48,60,64,72,54,63,47,59,54,63,55,63,73,58,62,62,50,56,51,64,61,60,68,58,50,66,67,55,54,59,55,82,70,58,58,72,60,52,51,60,48,53,76,57,67,67,64,73,59,59,66,60,53,60,66,64,53,63,60,57,58,74,53,51,48,66,53,61,57,62,52,49,56,60,57,62,59,59,55,70,52,55,58,59,59,58,55,59,52,52,62,55,68,65,70,65,66,57,56,57,59,50,59,61,83,65,56,50,60,70,62,57,57,64,52,45,64,62,73,67,51,48,55,69,48,57,71,68,75,67,63,53,60,68,55,64,63,51,56,81,58,61,50,56,57,51,50,70,82,59,51,78,70,80,57,71,74,58,49,56,62,66,71,68,56,52,53,57,54,60,47,50,62,48,56,65,66,68,67,65,70,59,54,51,55,54,83,57,54,59,47,69,54,56,55,67,61,48,67,47,74,67,65,74,52,53,58,56,66,62,57,61,57,56,57,53,47,65,51,74,60,64,72,58,54,62,59,54,57,58,57,65,52,64,52,59,59,59,54,56,57,55,63,59,51,64,52,49,58,76,57,73,54,73,72,77,58,55,73,56,75,57,54,86,57,52,53,69,56,66,56,62,65,58,74,66,69,55,56,57,66,71,56,85,71,44,58,56,58,58,59,56,59,57,74,55,66,57,71,58,57,57,55,83,50,61,58,63,51,55,61,69,67,58,53,56,60,65,57,82,55,48,55,62,60,61,64,55,61,59,63,53,69,59,96,65,71,68,61,66,67,74,57,58,53,54,71,58,69,67,80,66,58,56,68,61,60],\"type\":\"box\"},{\"name\":\"Second order centrality\",\"y\":[64,70,60,71,58,68,68,71,80,71,66,84,65,63,66,70,57,79,60,60,71,65,72,69,72,70,78,77,61,57,55,86,64,66,59,73,55,68,65,60,63,57,66,71,62,57,64,67,68,75,62,64,74,76,63,70,75,77,69,70,67,64,84,67,65,77,62,59,60,66,73,82,76,67,67,63,85,66,49,67,75,62,62,75,74,57,62,64,57,62,73,67,62,57,65,64,59,66,67,77,68,76,65,67,56,66,81,76,72,61,71,74,72,60,68,70,70,63,54,56,50,65,63,57,76,65,64,72,63,45,83,61,61,58,51,66,77,60,71,68,66,61,60,78,49,67,80,66,71,66,62,73,74,51,82,68,62,76,66,58,64,58,55,73,64,65,56,86,54,70,59,73,80,73,66,67,60,59,65,65,70,59,62,65,66,68,74,72,75,60,74,86,63,60,58,73,75,54,70,88,70,55,68,77,71,71,65,53,64,68,76,86,77,76,60,67,61,65,70,75,72,71,70,69,65,68,79,67,71,63,64,54,72,88,79,66,69,66,71,68,73,76,56,59,64,75,62,58,57,54,88,66,66,59,88,67,69,63,71,71,77,67,69,68,69,67,68,67,66,66,59,72,79,71,79,68,58,74,64,71,63,69,65,84,81,59,68,59,57,59,61,78,82,72,66,68,78,62,67,66,67,68,81,73,57,58,73,60,68,66,59,61,74,76,57,71,55,78,81,77,76,58,66,52,74,60,79,62,64,68,80,59,58,68,52,65,54,82,56,67,53,80,57,62,67,73,73,77,51,66,62,62,78,58,66,68,66,74,74,60,58,64,60,59,62,64,73,54,67,60,67,76,85,57,78,71,63,89,66,64,62,69,64,63,65,61,68,65,57,60,63,66,64,65,59,67,65,57,61,61,70,77,71,62,58,60,64,73,68,74,75,73,60,63,75,54,56,62,56,56,57,63,67,66,67,61,60,53,75,60,71,83,58,67,69,69,55,64,77,78,61,63,50,71,58,62,65,56,86,72,58,66,61,61,59,79,62,60,61,71,74,79,60,61,57,60,61,71,62,67,89,59,63,61,64,57,84,54,50,62,75,63,67,56,83,64,60,61,74,72,70,67,69,59,69,76,58,64,63,62,66,69,59,74,60,67,81,69,67,62,77,66,73,67,57,55,70,68,61,87,61,70,83,62,65,64,66,73,66,55,81,70,59,88,56,67,66,64,74,76,76,72,60,63,61,65,51,71,64,81,72,65,61,73,66,60,78,66,71,67,74,65,64,65,87,87,58,65,67,72,67,65,67,60,66,69,59,67,61,64,68,79,62,71,67,74,60,78,89,60,75,57,74,60,65,63,62,69,73,65,72,67,70,79,63,67,68,61,85,61,58,57,59,63,72,68,80,55,66,65,66,61,70,62,64,66,79,73,69,64,64,68,62,61,69,79,82,53,61,64,72,64,75,66,73,63,71,59,78,72,71,60,53,68,58,59,58,83,65,70,57,55,66,60,64,89,64,68,68,62,66,69,68,60,66,64,83,56,63,70,76,73,66,67,80,68,74,80,69,64,67,66,74,63,62,66,75,88,79,56,54,67,54,71,58,62,57,84,54,68,62,59,56,66,61,64,70,55,66,66,73,68,72,68,67,69,82,74,54,59,74,78,73,66,57,64,65,56,54,70,50,70,53,55,60,63,69,64,65,60,79,80,65,63,61,58,73,65,71,64,70,62,66,68,72,63,69,65,61,58,73,70,69,64,80,70,64,75,59,66,76,60,67,76,60,71,63,63,53,66,54,56,65,63,60,68,60,63,56,65,80,82,70,63,62,65,62,71,69,70,61,57,75,76,68,52,60,73,69,51,87,67,61,67,76,69,68,62,57,56,69,72,59,66,68,58,64,67,65,65,59,61,81,63,72,54,65,66,69,50,74,59,63,62,72,54,63,63,69,64,66,61,60,59,59,65,61,68,75,58,73,65,61,64,79,80,58,57,70,80,61,66,64,69,60,55,84,67,72,69,62,56,68,62,67,81,68,80,80,74,60,59,67,58,62,66,60,76,73,58,62,66,70,75,74,73,77,86,62,60,65,56,54,73,60,64,68,59,71,66,76,80,89,59,71,54,70,66,66,62,70,77,76,68,84,67,75,64,85,61,63,70,75,64,53,65,57,51,57,61,71,63,59,63,58,76,55,56,75,75,68,54,67,73,61,63,57,69,62,74,66,62,74,68,55,59,70,66,65,53,56,61,69,77,67,58,71,60,65,69,60,72,70,59,74,76,63,62,57,60,60,64,61,58,60,63,73,81,65,74,63,55,67,54,74,52,64,65,57,68,74,69,60,62,63,70,66,72,73,68,73,61,58,63,61,59,60,69,64,74,67,89,54,68,84,81,63,69,64,80,64,70,61,63,56,81,62,61,78,75,72,61,70,66,79,61,64,53,48,60,72,61,84,70,75,63,63,63,54,67,57,76,68,79,74,59,70,65,72,71,59,57,64,61,66,58,60,63,71,85,67,68,68,75,70,61,68,66,62,68,61,70,64,64,61,78,79,58,52,55,56,72,74,80,62,64,63,77,59,54,64,72,60,70,74,66,56,66,66,83,62,67,74,62,66,62,54,56,77,82,69,57,57,72,55,71,83,59,66,68,61,61,68,83,70,79,53,63,83,65,59,68,65,65,68,85,64,70,54,63,62,66,57,72,67,71,53,66,67,67,83,61,67,61,61,54,54,70,73,63,64,66,59,64,83,69,56,84,68,62,64,62,77,60,59,57,64,67,65,74,77,71,83,68,59,69,76,61,56,72,55,58,59,59,68,68,70,59,63,75,59,59,59,54,57,78,62,62,58,60,60,79,59,64,68,63,75,55,73,62,65,77,60,59,55,73,67,77,71,70,59,58,69,67,59,75,70,68,58,66,55,58,64,69,61,69,69,70,56,66,70,60,65,62,67,80,66,62,71,63,61,57,74,66,70,57,66,59,68,80,73,80,60,61,72,67,57,79,63,63,58,70,63,80,59,80,72,56,74,60,75,61,68,57,56,64,56,61,75,69,62,70,73,61,60,72,67,70,53,58,72,68,60,60,76,69,59,64,60,73,68,61,56,70,58,56,66,73,65,59,65,54,69,69,65,71,61,80,72,57,68,82,68,67,54,87,74,66,64,57,55,59,84,61,57,62,72,60,76,59,78,73,67,67,61,61,64,66,62,82,80,83,72,69,66,74,68,57,86,81,61,50,79,65,66,80,59,70,55,66,74,61,86,65,80,79,62,57,81,68,84,55,58,76,72,61,67,70,68,60,64,62,54,61,63],\"type\":\"box\"}],                        {\"template\":{\"data\":{\"histogram2dcontour\":[{\"type\":\"histogram2dcontour\",\"colorbar\":{\"outlinewidth\":0,\"ticks\":\"\"},\"colorscale\":[[0.0,\"#0d0887\"],[0.1111111111111111,\"#46039f\"],[0.2222222222222222,\"#7201a8\"],[0.3333333333333333,\"#9c179e\"],[0.4444444444444444,\"#bd3786\"],[0.5555555555555556,\"#d8576b\"],[0.6666666666666666,\"#ed7953\"],[0.7777777777777778,\"#fb9f3a\"],[0.8888888888888888,\"#fdca26\"],[1.0,\"#f0f921\"]]}],\"choropleth\":[{\"type\":\"choropleth\",\"colorbar\":{\"outlinewidth\":0,\"ticks\":\"\"}}],\"histogram2d\":[{\"type\":\"histogram2d\",\"colorbar\":{\"outlinewidth\":0,\"ticks\":\"\"},\"colorscale\":[[0.0,\"#0d0887\"],[0.1111111111111111,\"#46039f\"],[0.2222222222222222,\"#7201a8\"],[0.3333333333333333,\"#9c179e\"],[0.4444444444444444,\"#bd3786\"],[0.5555555555555556,\"#d8576b\"],[0.6666666666666666,\"#ed7953\"],[0.7777777777777778,\"#fb9f3a\"],[0.8888888888888888,\"#fdca26\"],[1.0,\"#f0f921\"]]}],\"heatmap\":[{\"type\":\"heatmap\",\"colorbar\":{\"outlinewidth\":0,\"ticks\":\"\"},\"colorscale\":[[0.0,\"#0d0887\"],[0.1111111111111111,\"#46039f\"],[0.2222222222222222,\"#7201a8\"],[0.3333333333333333,\"#9c179e\"],[0.4444444444444444,\"#bd3786\"],[0.5555555555555556,\"#d8576b\"],[0.6666666666666666,\"#ed7953\"],[0.7777777777777778,\"#fb9f3a\"],[0.8888888888888888,\"#fdca26\"],[1.0,\"#f0f921\"]]}],\"heatmapgl\":[{\"type\":\"heatmapgl\",\"colorbar\":{\"outlinewidth\":0,\"ticks\":\"\"},\"colorscale\":[[0.0,\"#0d0887\"],[0.1111111111111111,\"#46039f\"],[0.2222222222222222,\"#7201a8\"],[0.3333333333333333,\"#9c179e\"],[0.4444444444444444,\"#bd3786\"],[0.5555555555555556,\"#d8576b\"],[0.6666666666666666,\"#ed7953\"],[0.7777777777777778,\"#fb9f3a\"],[0.8888888888888888,\"#fdca26\"],[1.0,\"#f0f921\"]]}],\"contourcarpet\":[{\"type\":\"contourcarpet\",\"colorbar\":{\"outlinewidth\":0,\"ticks\":\"\"}}],\"contour\":[{\"type\":\"contour\",\"colorbar\":{\"outlinewidth\":0,\"ticks\":\"\"},\"colorscale\":[[0.0,\"#0d0887\"],[0.1111111111111111,\"#46039f\"],[0.2222222222222222,\"#7201a8\"],[0.3333333333333333,\"#9c179e\"],[0.4444444444444444,\"#bd3786\"],[0.5555555555555556,\"#d8576b\"],[0.6666666666666666,\"#ed7953\"],[0.7777777777777778,\"#fb9f3a\"],[0.8888888888888888,\"#fdca26\"],[1.0,\"#f0f921\"]]}],\"surface\":[{\"type\":\"surface\",\"colorbar\":{\"outlinewidth\":0,\"ticks\":\"\"},\"colorscale\":[[0.0,\"#0d0887\"],[0.1111111111111111,\"#46039f\"],[0.2222222222222222,\"#7201a8\"],[0.3333333333333333,\"#9c179e\"],[0.4444444444444444,\"#bd3786\"],[0.5555555555555556,\"#d8576b\"],[0.6666666666666666,\"#ed7953\"],[0.7777777777777778,\"#fb9f3a\"],[0.8888888888888888,\"#fdca26\"],[1.0,\"#f0f921\"]]}],\"mesh3d\":[{\"type\":\"mesh3d\",\"colorbar\":{\"outlinewidth\":0,\"ticks\":\"\"}}],\"scatter\":[{\"fillpattern\":{\"fillmode\":\"overlay\",\"size\":10,\"solidity\":0.2},\"type\":\"scatter\"}],\"parcoords\":[{\"type\":\"parcoords\",\"line\":{\"colorbar\":{\"outlinewidth\":0,\"ticks\":\"\"}}}],\"scatterpolargl\":[{\"type\":\"scatterpolargl\",\"marker\":{\"colorbar\":{\"outlinewidth\":0,\"ticks\":\"\"}}}],\"bar\":[{\"error_x\":{\"color\":\"#2a3f5f\"},\"error_y\":{\"color\":\"#2a3f5f\"},\"marker\":{\"line\":{\"color\":\"#E5ECF6\",\"width\":0.5},\"pattern\":{\"fillmode\":\"overlay\",\"size\":10,\"solidity\":0.2}},\"type\":\"bar\"}],\"scattergeo\":[{\"type\":\"scattergeo\",\"marker\":{\"colorbar\":{\"outlinewidth\":0,\"ticks\":\"\"}}}],\"scatterpolar\":[{\"type\":\"scatterpolar\",\"marker\":{\"colorbar\":{\"outlinewidth\":0,\"ticks\":\"\"}}}],\"histogram\":[{\"marker\":{\"pattern\":{\"fillmode\":\"overlay\",\"size\":10,\"solidity\":0.2}},\"type\":\"histogram\"}],\"scattergl\":[{\"type\":\"scattergl\",\"marker\":{\"colorbar\":{\"outlinewidth\":0,\"ticks\":\"\"}}}],\"scatter3d\":[{\"type\":\"scatter3d\",\"line\":{\"colorbar\":{\"outlinewidth\":0,\"ticks\":\"\"}},\"marker\":{\"colorbar\":{\"outlinewidth\":0,\"ticks\":\"\"}}}],\"scattermapbox\":[{\"type\":\"scattermapbox\",\"marker\":{\"colorbar\":{\"outlinewidth\":0,\"ticks\":\"\"}}}],\"scatterternary\":[{\"type\":\"scatterternary\",\"marker\":{\"colorbar\":{\"outlinewidth\":0,\"ticks\":\"\"}}}],\"scattercarpet\":[{\"type\":\"scattercarpet\",\"marker\":{\"colorbar\":{\"outlinewidth\":0,\"ticks\":\"\"}}}],\"carpet\":[{\"aaxis\":{\"endlinecolor\":\"#2a3f5f\",\"gridcolor\":\"white\",\"linecolor\":\"white\",\"minorgridcolor\":\"white\",\"startlinecolor\":\"#2a3f5f\"},\"baxis\":{\"endlinecolor\":\"#2a3f5f\",\"gridcolor\":\"white\",\"linecolor\":\"white\",\"minorgridcolor\":\"white\",\"startlinecolor\":\"#2a3f5f\"},\"type\":\"carpet\"}],\"table\":[{\"cells\":{\"fill\":{\"color\":\"#EBF0F8\"},\"line\":{\"color\":\"white\"}},\"header\":{\"fill\":{\"color\":\"#C8D4E3\"},\"line\":{\"color\":\"white\"}},\"type\":\"table\"}],\"barpolar\":[{\"marker\":{\"line\":{\"color\":\"#E5ECF6\",\"width\":0.5},\"pattern\":{\"fillmode\":\"overlay\",\"size\":10,\"solidity\":0.2}},\"type\":\"barpolar\"}],\"pie\":[{\"automargin\":true,\"type\":\"pie\"}]},\"layout\":{\"autotypenumbers\":\"strict\",\"colorway\":[\"#636efa\",\"#EF553B\",\"#00cc96\",\"#ab63fa\",\"#FFA15A\",\"#19d3f3\",\"#FF6692\",\"#B6E880\",\"#FF97FF\",\"#FECB52\"],\"font\":{\"color\":\"#2a3f5f\"},\"hovermode\":\"closest\",\"hoverlabel\":{\"align\":\"left\"},\"paper_bgcolor\":\"white\",\"plot_bgcolor\":\"#E5ECF6\",\"polar\":{\"bgcolor\":\"#E5ECF6\",\"angularaxis\":{\"gridcolor\":\"white\",\"linecolor\":\"white\",\"ticks\":\"\"},\"radialaxis\":{\"gridcolor\":\"white\",\"linecolor\":\"white\",\"ticks\":\"\"}},\"ternary\":{\"bgcolor\":\"#E5ECF6\",\"aaxis\":{\"gridcolor\":\"white\",\"linecolor\":\"white\",\"ticks\":\"\"},\"baxis\":{\"gridcolor\":\"white\",\"linecolor\":\"white\",\"ticks\":\"\"},\"caxis\":{\"gridcolor\":\"white\",\"linecolor\":\"white\",\"ticks\":\"\"}},\"coloraxis\":{\"colorbar\":{\"outlinewidth\":0,\"ticks\":\"\"}},\"colorscale\":{\"sequential\":[[0.0,\"#0d0887\"],[0.1111111111111111,\"#46039f\"],[0.2222222222222222,\"#7201a8\"],[0.3333333333333333,\"#9c179e\"],[0.4444444444444444,\"#bd3786\"],[0.5555555555555556,\"#d8576b\"],[0.6666666666666666,\"#ed7953\"],[0.7777777777777778,\"#fb9f3a\"],[0.8888888888888888,\"#fdca26\"],[1.0,\"#f0f921\"]],\"sequentialminus\":[[0.0,\"#0d0887\"],[0.1111111111111111,\"#46039f\"],[0.2222222222222222,\"#7201a8\"],[0.3333333333333333,\"#9c179e\"],[0.4444444444444444,\"#bd3786\"],[0.5555555555555556,\"#d8576b\"],[0.6666666666666666,\"#ed7953\"],[0.7777777777777778,\"#fb9f3a\"],[0.8888888888888888,\"#fdca26\"],[1.0,\"#f0f921\"]],\"diverging\":[[0,\"#8e0152\"],[0.1,\"#c51b7d\"],[0.2,\"#de77ae\"],[0.3,\"#f1b6da\"],[0.4,\"#fde0ef\"],[0.5,\"#f7f7f7\"],[0.6,\"#e6f5d0\"],[0.7,\"#b8e186\"],[0.8,\"#7fbc41\"],[0.9,\"#4d9221\"],[1,\"#276419\"]]},\"xaxis\":{\"gridcolor\":\"white\",\"linecolor\":\"white\",\"ticks\":\"\",\"title\":{\"standoff\":15},\"zerolinecolor\":\"white\",\"automargin\":true,\"zerolinewidth\":2},\"yaxis\":{\"gridcolor\":\"white\",\"linecolor\":\"white\",\"ticks\":\"\",\"title\":{\"standoff\":15},\"zerolinecolor\":\"white\",\"automargin\":true,\"zerolinewidth\":2},\"scene\":{\"xaxis\":{\"backgroundcolor\":\"#E5ECF6\",\"gridcolor\":\"white\",\"linecolor\":\"white\",\"showbackground\":true,\"ticks\":\"\",\"zerolinecolor\":\"white\",\"gridwidth\":2},\"yaxis\":{\"backgroundcolor\":\"#E5ECF6\",\"gridcolor\":\"white\",\"linecolor\":\"white\",\"showbackground\":true,\"ticks\":\"\",\"zerolinecolor\":\"white\",\"gridwidth\":2},\"zaxis\":{\"backgroundcolor\":\"#E5ECF6\",\"gridcolor\":\"white\",\"linecolor\":\"white\",\"showbackground\":true,\"ticks\":\"\",\"zerolinecolor\":\"white\",\"gridwidth\":2}},\"shapedefaults\":{\"line\":{\"color\":\"#2a3f5f\"}},\"annotationdefaults\":{\"arrowcolor\":\"#2a3f5f\",\"arrowhead\":0,\"arrowwidth\":1},\"geo\":{\"bgcolor\":\"white\",\"landcolor\":\"#E5ECF6\",\"subunitcolor\":\"white\",\"showland\":true,\"showlakes\":true,\"lakecolor\":\"white\"},\"title\":{\"x\":0.05},\"mapbox\":{\"style\":\"light\"}}},\"yaxis\":{\"title\":{\"text\":\"Size of the resolving set\",\"font\":{\"size\":12,\"color\":\"black\"}}}},                        {\"responsive\": true}                    ).then(function(){\n",
       "                            \n",
       "var gd = document.getElementById('15ad8fe0-9e61-425e-bd9b-2139b8e82afe');\n",
       "var x = new MutationObserver(function (mutations, observer) {{\n",
       "        var display = window.getComputedStyle(gd).display;\n",
       "        if (!display || display === 'none') {{\n",
       "            console.log([gd, 'removed!']);\n",
       "            Plotly.purge(gd);\n",
       "            observer.disconnect();\n",
       "        }}\n",
       "}});\n",
       "\n",
       "// Listen for the removal of the full notebook cells\n",
       "var notebookContainer = gd.closest('#notebook-container');\n",
       "if (notebookContainer) {{\n",
       "    x.observe(notebookContainer, {childList: true});\n",
       "}}\n",
       "\n",
       "// Listen for the clearing of the current output cell\n",
       "var outputEl = gd.closest('.output');\n",
       "if (outputEl) {{\n",
       "    x.observe(outputEl, {childList: true});\n",
       "}}\n",
       "\n",
       "                        })                };                });            </script>        </div>"
      ]
     },
     "metadata": {},
     "output_type": "display_data"
    }
   ],
   "source": [
    "fig = go.Figure()\n",
    "\n",
    "for group, values in dict_result2.items():\n",
    "    fig.add_trace(go.Box(y=values, name=group))\n",
    "\n",
    "fig.update_layout(\n",
    "    yaxis=dict(\n",
    "        title=\"Size of the resolving set\",\n",
    "        titlefont=dict(size=12, color='black')\n",
    "    )\n",
    ")       \n",
    "    \n",
    "fig.show()"
   ]
  },
  {
   "cell_type": "markdown",
   "id": "342f236b",
   "metadata": {},
   "source": [
    "## Copenhagen fb_friends graph"
   ]
  },
  {
   "cell_type": "code",
   "execution_count": 7,
   "id": "330622d1",
   "metadata": {},
   "outputs": [
    {
     "name": "stdout",
     "output_type": "stream",
     "text": [
      "Number of nodes: 800\n",
      "Number of edges: 6429\n"
     ]
    }
   ],
   "source": [
    "# read the file and create a graph\n",
    "G_fb = nx.read_edgelist('../Real graphs simulations/Copenhagen graphs/fb_friends.csv/edges.csv', delimiter=',')\n",
    "\n",
    "# print the number of nodes and edges\n",
    "print('Number of nodes:', G_fb.number_of_nodes())\n",
    "print('Number of edges:', G_fb.number_of_edges())"
   ]
  },
  {
   "cell_type": "code",
   "execution_count": 236,
   "id": "aca01db4",
   "metadata": {},
   "outputs": [],
   "source": [
    "def sim_centrality_real_g(centrality_f, lower_bound=20, upper_bound=800, nb_of_iters=400, seed=0, step=10):\n",
    "    solutions_prob_c = {}\n",
    "    random.seed(seed)\n",
    "    for _ in range(nb_graph):\n",
    "        # Generate the random graph and compute shortest paths\n",
    "        G = G_fb\n",
    "        length = dict(nx.all_pairs_shortest_path_length(G))\n",
    "\n",
    "        c = centrality_f(G)\n",
    "\n",
    "        # normalize the betweenness centralities\n",
    "        c_values = np.array(list(c.values()))\n",
    "        c_norm = c_values / sum(c_values)\n",
    "        node_list = list(c.keys())\n",
    "\n",
    "        for nb in range(0, lower_bound):\n",
    "            solutions_prob_c[nb] = solutions_prob_c.get(nb, 0) + 0  \n",
    "        for nb in tqdm(range(lower_bound, upper_bound+1, step)): # G.number_of_nodes()\n",
    "            num_nodes = nb # Number of nodes to sample\n",
    "            count = 0\n",
    "            for i in range(nb_of_iters):\n",
    "                nodes = set(np.random.choice(node_list, p=c_norm, size=num_nodes, replace=False)) # Random set of nodes to test\n",
    "                if is_resolving_set(G, nodes, length):\n",
    "                    count += 1\n",
    "            solutions_prob_c[nb] =  solutions_prob_c.get(nb, 0) + (count / nb_of_iters)\n",
    "        for nb in range(upper_bound+1, G_fb.number_of_nodes()+1):\n",
    "                solutions_prob_c[nb] = solutions_prob_c.get(nb, 0) + 1\n",
    "        \n",
    "    return solutions_prob_c"
   ]
  },
  {
   "cell_type": "code",
   "execution_count": 237,
   "id": "a6c60b26",
   "metadata": {},
   "outputs": [
    {
     "name": "stderr",
     "output_type": "stream",
     "text": [
      "100%|███████████████████████████████████████████| 79/79 [35:17<00:00, 26.80s/it]\n"
     ]
    }
   ],
   "source": [
    "solutions_prob_eigen_fb = sim_centrality_real_g(nx.eigenvector_centrality)"
   ]
  },
  {
   "cell_type": "code",
   "execution_count": 238,
   "id": "e8518726",
   "metadata": {},
   "outputs": [
    {
     "name": "stderr",
     "output_type": "stream",
     "text": [
      "100%|███████████████████████████████████████████| 79/79 [33:01<00:00, 25.08s/it]\n"
     ]
    }
   ],
   "source": [
    "solutions_prob_dc_fb = sim_centrality_real_g(nx.degree_centrality)"
   ]
  },
  {
   "cell_type": "code",
   "execution_count": 239,
   "id": "44d486da",
   "metadata": {},
   "outputs": [
    {
     "name": "stderr",
     "output_type": "stream",
     "text": [
      "100%|███████████████████████████████████████████| 79/79 [33:01<00:00, 25.08s/it]\n"
     ]
    }
   ],
   "source": [
    "solutions_prob_cc_fb = sim_centrality_real_g(nx.closeness_centrality)"
   ]
  },
  {
   "cell_type": "code",
   "execution_count": 240,
   "id": "192dc2e4",
   "metadata": {},
   "outputs": [
    {
     "name": "stderr",
     "output_type": "stream",
     "text": [
      "100%|███████████████████████████████████████████| 79/79 [33:11<00:00, 25.21s/it]\n"
     ]
    }
   ],
   "source": [
    "solutions_prob_so_fb = sim_centrality_real_g(nx.second_order_centrality)"
   ]
  },
  {
   "cell_type": "code",
   "execution_count": 241,
   "id": "853e1cd7",
   "metadata": {},
   "outputs": [
    {
     "name": "stderr",
     "output_type": "stream",
     "text": [
      "100%|█████████████████████████████████████████| 79/79 [1:00:12<00:00, 45.73s/it]\n"
     ]
    }
   ],
   "source": [
    "# Random strategy\n",
    "\n",
    "nb_graph = 1\n",
    "s = {}\n",
    "nb_of_iters = 800\n",
    "step = 10\n",
    "\n",
    "# can be used to speed up simulations\n",
    "lower_bound = 20\n",
    "upper_bound = 800\n",
    "\n",
    "solutions_rand_fb = {}\n",
    "random.seed(0)\n",
    "for _ in range(nb_graph):\n",
    "    # Generate the random graph and compute shortest paths\n",
    "    G = G_fb\n",
    "    length = dict(nx.all_pairs_shortest_path_length(G))\n",
    "    \n",
    "    for nb in range(0, lower_bound):\n",
    "        solutions_rand_fb[nb] = solutions_rand_fb.get(nb, 0) + 0  \n",
    "    for nb in tqdm(range(lower_bound, upper_bound+1, step)):\n",
    "        num_nodes = nb # Number of nodes to sample\n",
    "        node_list = list(G.nodes())\n",
    "        count = 0\n",
    "        for i in range(nb_of_iters):\n",
    "            nodes = set(random.sample(node_list, num_nodes)) # Random set of nodes to test\n",
    "            if is_resolving_set(G, nodes, length):\n",
    "                count += 1\n",
    "        solutions_rand_fb[nb] =  solutions_rand_fb.get(nb, 0) + (count / nb_of_iters)\n",
    "    for nb in range(upper_bound+1, G_fb.number_of_nodes()+1):\n",
    "            solutions_rand_fb[nb] = solutions_rand_fb.get(nb, 0) + 1"
   ]
  },
  {
   "cell_type": "code",
   "execution_count": 242,
   "id": "4c624e95",
   "metadata": {},
   "outputs": [
    {
     "name": "stderr",
     "output_type": "stream",
     "text": [
      "100%|█████████████████████████████████████████| 79/79 [1:06:28<00:00, 50.48s/it]\n"
     ]
    }
   ],
   "source": [
    "# Betweenness centrality\n",
    "\n",
    "# can be used to speed up simulations\n",
    "lower_bound = 20\n",
    "upper_bound = 800\n",
    "nb_of_iters = 800\n",
    "step = 10\n",
    "solutions_prob_bc_fb = {}\n",
    "for _ in range(nb_graph):\n",
    "    # Generate the random graph and compute shortest paths\n",
    "    G = G_fb\n",
    "    length = dict(nx.all_pairs_shortest_path_length(G))\n",
    "\n",
    "    c = nx.betweenness_centrality(G, endpoints=True)\n",
    "\n",
    "    # normalize the betweenness centralities\n",
    "    c_values = np.array(list(c.values()))\n",
    "    c_norm = c_values / sum(c_values)\n",
    "    node_list = list(c.keys())\n",
    "\n",
    "    for nb in range(0, lower_bound):\n",
    "        solutions_prob_bc_fb[nb] = solutions_prob_bc_fb.get(nb, 0) + 0  \n",
    "    for nb in tqdm(range(lower_bound, upper_bound+1, step)): # G.number_of_nodes()\n",
    "        num_nodes = nb # Number of nodes to sample\n",
    "        count = 0\n",
    "        for i in range(nb_of_iters):\n",
    "            nodes = set(np.random.choice(node_list, p=c_norm, size=num_nodes, replace=False)) # Random set of nodes to test\n",
    "            if is_resolving_set(G, nodes, length):\n",
    "                count += 1\n",
    "        solutions_prob_bc_fb[nb] = solutions_prob_bc_fb.get(nb, 0) + (count / nb_of_iters)\n",
    "    for nb in range(upper_bound+1, G_fb.number_of_nodes()+1):\n",
    "            solutions_prob_bc_fb[nb] = solutions_prob_bc_fb.get(nb, 0) + 1\n"
   ]
  },
  {
   "cell_type": "code",
   "execution_count": 23,
   "id": "0a527bd9",
   "metadata": {},
   "outputs": [
    {
     "name": "stderr",
     "output_type": "stream",
     "text": [
      "100%|███████████████████████████████████████████| 20/20 [00:44<00:00,  2.22s/it]\n"
     ]
    }
   ],
   "source": [
    "# Boost the proba of low degree nodes\n",
    "\n",
    "lower_bound = 20\n",
    "upper_bound = 40\n",
    "\n",
    "solutions_prob_ms_d = {}\n",
    "for _ in range(nb_graph):\n",
    "    # Generate the random graph and compute shortest paths\n",
    "    G = G_fb\n",
    "    length = dict(nx.all_pairs_shortest_path_length(G))\n",
    "\n",
    "    c = nx.degree_centrality(G)\n",
    "    a = list(set(c.values()))\n",
    "    a.sort()\n",
    "    c = {key: 1000*max(c.values()) if value in a[:2] else value for key, value in c.items()}\n",
    "    # normalize the betweenness centralities\n",
    "    c_values = np.array(list(c.values()))\n",
    "    c_norm = c_values / sum(c_values)\n",
    "    node_list = list(c.keys())\n",
    "\n",
    "    for nb in range(0, lower_bound):\n",
    "        solutions_prob_ms_d[nb] = solutions_prob_ms_d.get(nb, 0) + 0  \n",
    "    for nb in tqdm(range(lower_bound, upper_bound, 1)): # G.number_of_nodes()\n",
    "        num_nodes = nb # Number of nodes to sample\n",
    "        count = 0\n",
    "        for i in range(nb_of_iters):\n",
    "            nodes = set(np.random.choice(node_list, p=c_norm, size=num_nodes, replace=False)) # Random set of nodes to test\n",
    "            if is_resolving_set(G, nodes, length):\n",
    "                count += 1\n",
    "        solutions_prob_ms_d[nb] =  solutions_prob_ms_d.get(nb, 0) + (count / nb_of_iters)\n",
    "    for nb in range(upper_bound, G_fb.number_of_nodes()):\n",
    "            solutions_prob_ms_d[nb] = solutions_prob_ms_d.get(nb, 0) + 1\n"
   ]
  },
  {
   "cell_type": "code",
   "execution_count": 24,
   "id": "7482b4a7",
   "metadata": {},
   "outputs": [
    {
     "name": "stderr",
     "output_type": "stream",
     "text": [
      "100%|███████████████████████████████████████████| 20/20 [00:44<00:00,  2.23s/it]\n"
     ]
    }
   ],
   "source": [
    "# Boost the proba of low betweenness nodes\n",
    "\n",
    "lower_bound = 20\n",
    "upper_bound = 40\n",
    "\n",
    "solutions_prob_ms_bc = {}\n",
    "for _ in range(nb_graph):\n",
    "    # Generate the random graph and compute shortest paths\n",
    "    G = G_fb\n",
    "    length = dict(nx.all_pairs_shortest_path_length(G))\n",
    "\n",
    "    c = nx.betweenness_centrality(G)\n",
    "    a = list(set(c.values()))\n",
    "    a.sort()\n",
    "    #c = {key: -(v-max(c.values())-min(c.values())) for key, v in c.items()}\n",
    "    c = {key: 1000*max(c.values()) if value in a[:1] else value for key, value in c.items()}\n",
    "    # normalize the betweenness centralities\n",
    "    c_values = np.array(list(c.values()))\n",
    "    c_norm = c_values / sum(c_values)\n",
    "    node_list = list(c.keys())\n",
    "\n",
    "    for nb in range(0, lower_bound):\n",
    "        solutions_prob_ms_bc[nb] = solutions_prob_ms_bc.get(nb, 0) + 0  \n",
    "    for nb in tqdm(range(lower_bound, upper_bound, 1)): # G.number_of_nodes()\n",
    "        num_nodes = nb # Number of nodes to sample\n",
    "        count = 0\n",
    "        for i in range(nb_of_iters):\n",
    "            nodes = set(np.random.choice(node_list, p=c_norm, size=num_nodes, replace=False)) # Random set of nodes to test\n",
    "            if is_resolving_set(G, nodes, length):\n",
    "                count += 1\n",
    "        solutions_prob_ms_bc[nb] =  solutions_prob_ms_bc.get(nb, 0) + (count / nb_of_iters)\n",
    "    for nb in range(upper_bound, G_fb.number_of_nodes()):\n",
    "            solutions_prob_ms_bc[nb] = solutions_prob_ms_bc.get(nb, 0) + 1\n"
   ]
  },
  {
   "cell_type": "code",
   "execution_count": 37,
   "id": "b8df68ec",
   "metadata": {},
   "outputs": [
    {
     "name": "stdout",
     "output_type": "stream",
     "text": [
      "4\n"
     ]
    },
    {
     "name": "stderr",
     "output_type": "stream",
     "text": [
      "100%|███████████████████████████████████████████| 20/20 [00:52<00:00,  2.62s/it]\n"
     ]
    }
   ],
   "source": [
    "# Strategy 1 with degree\n",
    "\n",
    "lower_bound = 20\n",
    "upper_bound = 40\n",
    "\n",
    "solutions_prob_ms_bc_add = {}\n",
    "for _ in range(nb_graph):\n",
    "    # Generate the random graph and compute shortest paths\n",
    "    G = G_fb\n",
    "\n",
    "    nb_of_nodes_in_resolving_set = 20\n",
    "\n",
    "    length = dict(nx.all_pairs_shortest_path_length(G))\n",
    "\n",
    "    c = nx.degree_centrality(G)\n",
    "\n",
    "    intensities = {str(key): 0 for key in G.nodes}\n",
    "\n",
    "    # normalize the betweenness centralities\n",
    "    c_values = np.array(list(c.values()))\n",
    "    c_norm = c_values / sum(c_values)\n",
    "    node_list = list(c.keys())\n",
    "    \n",
    "    for i in range(100):\n",
    "        # Random set of nodes to test\n",
    "        nodes = set(np.random.choice(node_list, p=c_norm, size=nb_of_nodes_in_resolving_set, replace=False))\n",
    "        resolved = set_resolved(G, nodes, length)\n",
    "        for node in resolved:\n",
    "            intensities[node] += +1\n",
    "    \n",
    "    small = [key for key, val in intensities.items() if val < 40]\n",
    "    nodes_to_add = get_nodes_with_diff_neighbors(G, small)\n",
    "    \n",
    "    for nb in range(0, lower_bound):\n",
    "        solutions_prob_ms_bc_add[nb] = solutions_prob_ms_bc_add.get(nb, 0) + 0  \n",
    "    for nb in tqdm(range(lower_bound, upper_bound, 1)): # G.number_of_nodes()\n",
    "        num_nodes = nb - len(nodes_to_add) # Number of nodes to sample\n",
    "        count = 0\n",
    "        for i in range(nb_of_iters):\n",
    "            nodes = nodes_to_add + list(np.random.choice(node_list, p=c_norm, size=num_nodes, replace=False)) # Random set of nodes to test\n",
    "            if is_resolving_set(G, nodes, length):\n",
    "                count += 1\n",
    "        solutions_prob_ms_bc_add[nb] =  solutions_prob_ms_bc_add.get(nb, 0) + (count / nb_of_iters)\n",
    "    for nb in range(upper_bound, G_fb.number_of_nodes()):\n",
    "            solutions_prob_ms_bc_add[nb] = solutions_prob_ms_bc_add.get(nb, 0) + 1"
   ]
  },
  {
   "cell_type": "code",
   "execution_count": 10,
   "id": "f81f2e3f",
   "metadata": {},
   "outputs": [
    {
     "ename": "KeyboardInterrupt",
     "evalue": "",
     "output_type": "error",
     "traceback": [
      "\u001b[0;31m---------------------------------------------------------------------------\u001b[0m",
      "\u001b[0;31mKeyboardInterrupt\u001b[0m                         Traceback (most recent call last)",
      "\u001b[0;32m/var/folders/4z/k7wkc9t97453h4tqprj_1j3h0000gn/T/ipykernel_74126/943937552.py\u001b[0m in \u001b[0;36m<module>\u001b[0;34m\u001b[0m\n\u001b[1;32m     24\u001b[0m         \u001b[0;31m# Random set of nodes to test\u001b[0m\u001b[0;34m\u001b[0m\u001b[0;34m\u001b[0m\u001b[0m\n\u001b[1;32m     25\u001b[0m         \u001b[0mnodes\u001b[0m \u001b[0;34m=\u001b[0m \u001b[0mset\u001b[0m\u001b[0;34m(\u001b[0m\u001b[0mnp\u001b[0m\u001b[0;34m.\u001b[0m\u001b[0mrandom\u001b[0m\u001b[0;34m.\u001b[0m\u001b[0mchoice\u001b[0m\u001b[0;34m(\u001b[0m\u001b[0mnode_list\u001b[0m\u001b[0;34m,\u001b[0m \u001b[0mp\u001b[0m\u001b[0;34m=\u001b[0m\u001b[0mc_norm\u001b[0m\u001b[0;34m,\u001b[0m \u001b[0msize\u001b[0m\u001b[0;34m=\u001b[0m\u001b[0mnb_of_nodes_in_resolving_set\u001b[0m\u001b[0;34m,\u001b[0m \u001b[0mreplace\u001b[0m\u001b[0;34m=\u001b[0m\u001b[0;32mFalse\u001b[0m\u001b[0;34m)\u001b[0m\u001b[0;34m)\u001b[0m\u001b[0;34m\u001b[0m\u001b[0;34m\u001b[0m\u001b[0m\n\u001b[0;32m---> 26\u001b[0;31m         \u001b[0mresolved\u001b[0m \u001b[0;34m=\u001b[0m \u001b[0mset_resolved\u001b[0m\u001b[0;34m(\u001b[0m\u001b[0mG\u001b[0m\u001b[0;34m,\u001b[0m \u001b[0mnodes\u001b[0m\u001b[0;34m,\u001b[0m \u001b[0mlength\u001b[0m\u001b[0;34m)\u001b[0m\u001b[0;34m\u001b[0m\u001b[0;34m\u001b[0m\u001b[0m\n\u001b[0m\u001b[1;32m     27\u001b[0m         \u001b[0;32mfor\u001b[0m \u001b[0mnode\u001b[0m \u001b[0;32min\u001b[0m \u001b[0mresolved\u001b[0m\u001b[0;34m:\u001b[0m\u001b[0;34m\u001b[0m\u001b[0;34m\u001b[0m\u001b[0m\n\u001b[1;32m     28\u001b[0m             \u001b[0mintensities\u001b[0m\u001b[0;34m[\u001b[0m\u001b[0mnode\u001b[0m\u001b[0;34m]\u001b[0m \u001b[0;34m+=\u001b[0m \u001b[0;34m+\u001b[0m\u001b[0;36m1\u001b[0m\u001b[0;34m\u001b[0m\u001b[0;34m\u001b[0m\u001b[0m\n",
      "\u001b[0;32m~/semester-project-code/Nodes selection strategies/../helpers.py\u001b[0m in \u001b[0;36mset_resolved\u001b[0;34m(G, nodes_in_subset, length)\u001b[0m\n\u001b[1;32m     94\u001b[0m         \u001b[0mdistances_subset\u001b[0m \u001b[0;34m=\u001b[0m \u001b[0;34m{\u001b[0m\u001b[0;34m}\u001b[0m\u001b[0;34m\u001b[0m\u001b[0;34m\u001b[0m\u001b[0m\n\u001b[1;32m     95\u001b[0m         \u001b[0;32mfor\u001b[0m \u001b[0mn\u001b[0m \u001b[0;32min\u001b[0m \u001b[0mnodes_in_subset\u001b[0m\u001b[0;34m:\u001b[0m\u001b[0;34m\u001b[0m\u001b[0;34m\u001b[0m\u001b[0m\n\u001b[0;32m---> 96\u001b[0;31m             \u001b[0mdistances_subset\u001b[0m\u001b[0;34m[\u001b[0m\u001b[0mn\u001b[0m\u001b[0;34m]\u001b[0m \u001b[0;34m=\u001b[0m \u001b[0mlength\u001b[0m\u001b[0;34m[\u001b[0m\u001b[0mnode\u001b[0m\u001b[0;34m]\u001b[0m\u001b[0;34m[\u001b[0m\u001b[0mn\u001b[0m\u001b[0;34m]\u001b[0m\u001b[0;34m\u001b[0m\u001b[0;34m\u001b[0m\u001b[0m\n\u001b[0m\u001b[1;32m     97\u001b[0m         \u001b[0mdist\u001b[0m\u001b[0;34m[\u001b[0m\u001b[0mnode\u001b[0m\u001b[0;34m]\u001b[0m \u001b[0;34m=\u001b[0m \u001b[0mtuple\u001b[0m\u001b[0;34m(\u001b[0m\u001b[0mdistances_subset\u001b[0m\u001b[0;34m.\u001b[0m\u001b[0mvalues\u001b[0m\u001b[0;34m(\u001b[0m\u001b[0;34m)\u001b[0m\u001b[0;34m)\u001b[0m\u001b[0;34m\u001b[0m\u001b[0;34m\u001b[0m\u001b[0m\n\u001b[1;32m     98\u001b[0m \u001b[0;34m\u001b[0m\u001b[0m\n",
      "\u001b[0;31mKeyboardInterrupt\u001b[0m: "
     ]
    }
   ],
   "source": [
    "# Strategy 1 with betweenness\n",
    "\n",
    "lower_bound = 20\n",
    "upper_bound = 40\n",
    "nb_of_iters = 4\n",
    "solutions_prob_ms_bc_add = {}\n",
    "\n",
    "G = G_fb\n",
    "nodes_to_add = []\n",
    "nb_of_nodes_in_resolving_set = 20\n",
    "\n",
    "length = dict(nx.all_pairs_shortest_path_length(G))\n",
    "\n",
    "c = nx.betweenness_centrality(G)\n",
    "\n",
    "# normalize the betweenness centralities\n",
    "c_values = np.array(list(c.values()))\n",
    "c_norm = c_values / sum(c_values)\n",
    "node_list = list(c.keys())\n",
    "\n",
    "while True:\n",
    "    intensities = {str(key): 0 for key in G.nodes}\n",
    "    for i in range(100):\n",
    "        # Random set of nodes to test\n",
    "        nodes = set(np.random.choice(node_list, p=c_norm, size=nb_of_nodes_in_resolving_set, replace=False))\n",
    "        resolved = set_resolved(G, nodes, length)\n",
    "        for node in resolved:\n",
    "            intensities[node] += +1\n",
    "\n",
    "    small = [key for key, val in intensities.items() if val < 40]\n",
    "    s = len(small)\n",
    "    nodes_to_add += get_nodes_with_diff_neighbors(G, small)\n",
    "    if s == 0:\n",
    "        break\n",
    "indices = [node_list.index(i) for i in nodes_to_add] \n",
    "node_list = [element for index, element in enumerate(node_list) if index not in indices]\n",
    "c_norm = [element for index, element in enumerate(c_norm) if index not in indices]\n",
    "c_norm = c_norm / sum(c_norm)\n",
    "\n",
    "for nb in range(0, len(nodes_to_add)):\n",
    "    solutions_prob_ms_bc_add[nb] = solutions_prob_ms_bc_add.get(nb, 0) + 0  \n",
    "for nb in tqdm(range(len(nodes_to_add), upper_bound, 1)): # G.number_of_nodes()\n",
    "    num_nodes = nb - len(nodes_to_add) # Number of nodes to sample\n",
    "    count = 0\n",
    "    for i in range(nb_of_iters):\n",
    "        nodes = nodes_to_add + list(np.random.choice(node_list, p=c_norm, size=num_nodes, replace=False)) # Random set of nodes to test\n",
    "        if is_resolving_set(G, nodes, length):\n",
    "            count += 1\n",
    "    solutions_prob_ms_bc_add[nb] =  solutions_prob_ms_bc_add.get(nb, 0) + (count / nb_of_iters)\n",
    "for nb in range(upper_bound, G_fb.number_of_nodes()):\n",
    "        solutions_prob_ms_bc_add[nb] = solutions_prob_ms_bc_add.get(nb, 0) + 1"
   ]
  },
  {
   "cell_type": "code",
   "execution_count": 253,
   "id": "ff70bfad",
   "metadata": {},
   "outputs": [],
   "source": [
    "#with open('simulations/fb_transition_eigen_400iters_10step.pickle', 'wb') as file:\n",
    "    #pickle.dump(solutions_prob_eigen_fb, file, protocol=pickle.HIGHEST_PROTOCOL)"
   ]
  },
  {
   "cell_type": "code",
   "execution_count": 38,
   "id": "14ced58d",
   "metadata": {
    "scrolled": false
   },
   "outputs": [
    {
     "data": {
      "application/vnd.plotly.v1+json": {
       "config": {
        "plotlyServerURL": "https://plot.ly"
       },
       "data": [
        {
         "mode": "markers+lines",
         "name": "Magic sauce (betweenness + trick)",
         "type": "scatter",
         "x": [
          0,
          1,
          2,
          3,
          4,
          5,
          6,
          7,
          8,
          9,
          10,
          11,
          12,
          13,
          14,
          15,
          16,
          17,
          18,
          19,
          20,
          21,
          22,
          23,
          24,
          25,
          26,
          27,
          28,
          29,
          30,
          31,
          32,
          33,
          34,
          35,
          36,
          37,
          38,
          39,
          40,
          41,
          42,
          43,
          44,
          45,
          46,
          47,
          48,
          49,
          50,
          51,
          52,
          53,
          54,
          55,
          56,
          57,
          58,
          59,
          60,
          61,
          62,
          63,
          64,
          65,
          66,
          67,
          68,
          69,
          70,
          71,
          72,
          73,
          74,
          75,
          76,
          77,
          78,
          79,
          80,
          81,
          82,
          83,
          84,
          85,
          86,
          87,
          88,
          89,
          90,
          91,
          92,
          93,
          94,
          95,
          96,
          97,
          98,
          99,
          100,
          101,
          102,
          103,
          104,
          105,
          106,
          107,
          108,
          109,
          110,
          111,
          112,
          113,
          114,
          115,
          116,
          117,
          118,
          119,
          120,
          121,
          122,
          123,
          124,
          125,
          126,
          127,
          128,
          129,
          130,
          131,
          132,
          133,
          134,
          135,
          136,
          137,
          138,
          139,
          140,
          141,
          142,
          143,
          144,
          145,
          146,
          147,
          148,
          149,
          150,
          151,
          152,
          153,
          154,
          155,
          156,
          157,
          158,
          159,
          160,
          161,
          162,
          163,
          164,
          165,
          166,
          167,
          168,
          169,
          170,
          171,
          172,
          173,
          174,
          175,
          176,
          177,
          178,
          179,
          180,
          181,
          182,
          183,
          184,
          185,
          186,
          187,
          188,
          189,
          190,
          191,
          192,
          193,
          194,
          195,
          196,
          197,
          198,
          199,
          200,
          201,
          202,
          203,
          204,
          205,
          206,
          207,
          208,
          209,
          210,
          211,
          212,
          213,
          214,
          215,
          216,
          217,
          218,
          219,
          220,
          221,
          222,
          223,
          224,
          225,
          226,
          227,
          228,
          229,
          230,
          231,
          232,
          233,
          234,
          235,
          236,
          237,
          238,
          239,
          240,
          241,
          242,
          243,
          244,
          245,
          246,
          247,
          248,
          249,
          250,
          251,
          252,
          253,
          254,
          255,
          256,
          257,
          258,
          259,
          260,
          261,
          262,
          263,
          264,
          265,
          266,
          267,
          268,
          269,
          270,
          271,
          272,
          273,
          274,
          275,
          276,
          277,
          278,
          279,
          280,
          281,
          282,
          283,
          284,
          285,
          286,
          287,
          288,
          289,
          290,
          291,
          292,
          293,
          294,
          295,
          296,
          297,
          298,
          299,
          300,
          301,
          302,
          303,
          304,
          305,
          306,
          307,
          308,
          309,
          310,
          311,
          312,
          313,
          314,
          315,
          316,
          317,
          318,
          319,
          320,
          321,
          322,
          323,
          324,
          325,
          326,
          327,
          328,
          329,
          330,
          331,
          332,
          333,
          334,
          335,
          336,
          337,
          338,
          339,
          340,
          341,
          342,
          343,
          344,
          345,
          346,
          347,
          348,
          349,
          350,
          351,
          352,
          353,
          354,
          355,
          356,
          357,
          358,
          359,
          360,
          361,
          362,
          363,
          364,
          365,
          366,
          367,
          368,
          369,
          370,
          371,
          372,
          373,
          374,
          375,
          376,
          377,
          378,
          379,
          380,
          381,
          382,
          383,
          384,
          385,
          386,
          387,
          388,
          389,
          390,
          391,
          392,
          393,
          394,
          395,
          396,
          397,
          398,
          399,
          400,
          401,
          402,
          403,
          404,
          405,
          406,
          407,
          408,
          409,
          410,
          411,
          412,
          413,
          414,
          415,
          416,
          417,
          418,
          419,
          420,
          421,
          422,
          423,
          424,
          425,
          426,
          427,
          428,
          429,
          430,
          431,
          432,
          433,
          434,
          435,
          436,
          437,
          438,
          439,
          440,
          441,
          442,
          443,
          444,
          445,
          446,
          447,
          448,
          449,
          450,
          451,
          452,
          453,
          454,
          455,
          456,
          457,
          458,
          459,
          460,
          461,
          462,
          463,
          464,
          465,
          466,
          467,
          468,
          469,
          470,
          471,
          472,
          473,
          474,
          475,
          476,
          477,
          478,
          479,
          480,
          481,
          482,
          483,
          484,
          485,
          486,
          487,
          488,
          489,
          490,
          491,
          492,
          493,
          494,
          495,
          496,
          497,
          498,
          499,
          500,
          501,
          502,
          503,
          504,
          505,
          506,
          507,
          508,
          509,
          510,
          511,
          512,
          513,
          514,
          515,
          516,
          517,
          518,
          519,
          520,
          521,
          522,
          523,
          524,
          525,
          526,
          527,
          528,
          529,
          530,
          531,
          532,
          533,
          534,
          535,
          536,
          537,
          538,
          539,
          540,
          541,
          542,
          543,
          544,
          545,
          546,
          547,
          548,
          549,
          550,
          551,
          552,
          553,
          554,
          555,
          556,
          557,
          558,
          559,
          560,
          561,
          562,
          563,
          564,
          565,
          566,
          567,
          568,
          569,
          570,
          571,
          572,
          573,
          574,
          575,
          576,
          577,
          578,
          579,
          580,
          581,
          582,
          583,
          584,
          585,
          586,
          587,
          588,
          589,
          590,
          591,
          592,
          593,
          594,
          595,
          596,
          597,
          598,
          599,
          600,
          601,
          602,
          603,
          604,
          605,
          606,
          607,
          608,
          609,
          610,
          611,
          612,
          613,
          614,
          615,
          616,
          617,
          618,
          619,
          620,
          621,
          622,
          623,
          624,
          625,
          626,
          627,
          628,
          629,
          630,
          631,
          632,
          633,
          634,
          635,
          636,
          637,
          638,
          639,
          640,
          641,
          642,
          643,
          644,
          645,
          646,
          647,
          648,
          649,
          650,
          651,
          652,
          653,
          654,
          655,
          656,
          657,
          658,
          659,
          660,
          661,
          662,
          663,
          664,
          665,
          666,
          667,
          668,
          669,
          670,
          671,
          672,
          673,
          674,
          675,
          676,
          677,
          678,
          679,
          680,
          681,
          682,
          683,
          684,
          685,
          686,
          687,
          688,
          689,
          690,
          691,
          692,
          693,
          694,
          695,
          696,
          697,
          698,
          699,
          700,
          701,
          702,
          703,
          704,
          705,
          706,
          707,
          708,
          709,
          710,
          711,
          712,
          713,
          714,
          715,
          716,
          717,
          718,
          719,
          720,
          721,
          722,
          723,
          724,
          725,
          726,
          727,
          728,
          729,
          730,
          731,
          732,
          733,
          734,
          735,
          736,
          737,
          738,
          739,
          740,
          741,
          742,
          743,
          744,
          745,
          746,
          747,
          748,
          749,
          750,
          751,
          752,
          753,
          754,
          755,
          756,
          757,
          758,
          759,
          760,
          761,
          762,
          763,
          764,
          765,
          766,
          767,
          768,
          769,
          770,
          771,
          772,
          773,
          774,
          775,
          776,
          777,
          778,
          779,
          780,
          781,
          782,
          783,
          784,
          785,
          786,
          787,
          788,
          789,
          790,
          791,
          792,
          793,
          794,
          795,
          796,
          797,
          798,
          799
         ],
         "y": [
          0,
          0,
          0,
          0,
          0,
          0,
          0,
          0,
          0,
          0,
          0,
          0,
          0,
          0,
          0,
          0,
          0,
          0,
          0,
          0,
          0,
          0,
          0,
          0.0025,
          0.0025,
          0,
          0.005,
          0.0025,
          0.0125,
          0.0225,
          0.02,
          0.0375,
          0.0525,
          0.065,
          0.0675,
          0.1025,
          0.0975,
          0.12,
          0.1725,
          0.185,
          1,
          1,
          1,
          1,
          1,
          1,
          1,
          1,
          1,
          1,
          1,
          1,
          1,
          1,
          1,
          1,
          1,
          1,
          1,
          1,
          1,
          1,
          1,
          1,
          1,
          1,
          1,
          1,
          1,
          1,
          1,
          1,
          1,
          1,
          1,
          1,
          1,
          1,
          1,
          1,
          1,
          1,
          1,
          1,
          1,
          1,
          1,
          1,
          1,
          1,
          1,
          1,
          1,
          1,
          1,
          1,
          1,
          1,
          1,
          1,
          1,
          1,
          1,
          1,
          1,
          1,
          1,
          1,
          1,
          1,
          1,
          1,
          1,
          1,
          1,
          1,
          1,
          1,
          1,
          1,
          1,
          1,
          1,
          1,
          1,
          1,
          1,
          1,
          1,
          1,
          1,
          1,
          1,
          1,
          1,
          1,
          1,
          1,
          1,
          1,
          1,
          1,
          1,
          1,
          1,
          1,
          1,
          1,
          1,
          1,
          1,
          1,
          1,
          1,
          1,
          1,
          1,
          1,
          1,
          1,
          1,
          1,
          1,
          1,
          1,
          1,
          1,
          1,
          1,
          1,
          1,
          1,
          1,
          1,
          1,
          1,
          1,
          1,
          1,
          1,
          1,
          1,
          1,
          1,
          1,
          1,
          1,
          1,
          1,
          1,
          1,
          1,
          1,
          1,
          1,
          1,
          1,
          1,
          1,
          1,
          1,
          1,
          1,
          1,
          1,
          1,
          1,
          1,
          1,
          1,
          1,
          1,
          1,
          1,
          1,
          1,
          1,
          1,
          1,
          1,
          1,
          1,
          1,
          1,
          1,
          1,
          1,
          1,
          1,
          1,
          1,
          1,
          1,
          1,
          1,
          1,
          1,
          1,
          1,
          1,
          1,
          1,
          1,
          1,
          1,
          1,
          1,
          1,
          1,
          1,
          1,
          1,
          1,
          1,
          1,
          1,
          1,
          1,
          1,
          1,
          1,
          1,
          1,
          1,
          1,
          1,
          1,
          1,
          1,
          1,
          1,
          1,
          1,
          1,
          1,
          1,
          1,
          1,
          1,
          1,
          1,
          1,
          1,
          1,
          1,
          1,
          1,
          1,
          1,
          1,
          1,
          1,
          1,
          1,
          1,
          1,
          1,
          1,
          1,
          1,
          1,
          1,
          1,
          1,
          1,
          1,
          1,
          1,
          1,
          1,
          1,
          1,
          1,
          1,
          1,
          1,
          1,
          1,
          1,
          1,
          1,
          1,
          1,
          1,
          1,
          1,
          1,
          1,
          1,
          1,
          1,
          1,
          1,
          1,
          1,
          1,
          1,
          1,
          1,
          1,
          1,
          1,
          1,
          1,
          1,
          1,
          1,
          1,
          1,
          1,
          1,
          1,
          1,
          1,
          1,
          1,
          1,
          1,
          1,
          1,
          1,
          1,
          1,
          1,
          1,
          1,
          1,
          1,
          1,
          1,
          1,
          1,
          1,
          1,
          1,
          1,
          1,
          1,
          1,
          1,
          1,
          1,
          1,
          1,
          1,
          1,
          1,
          1,
          1,
          1,
          1,
          1,
          1,
          1,
          1,
          1,
          1,
          1,
          1,
          1,
          1,
          1,
          1,
          1,
          1,
          1,
          1,
          1,
          1,
          1,
          1,
          1,
          1,
          1,
          1,
          1,
          1,
          1,
          1,
          1,
          1,
          1,
          1,
          1,
          1,
          1,
          1,
          1,
          1,
          1,
          1,
          1,
          1,
          1,
          1,
          1,
          1,
          1,
          1,
          1,
          1,
          1,
          1,
          1,
          1,
          1,
          1,
          1,
          1,
          1,
          1,
          1,
          1,
          1,
          1,
          1,
          1,
          1,
          1,
          1,
          1,
          1,
          1,
          1,
          1,
          1,
          1,
          1,
          1,
          1,
          1,
          1,
          1,
          1,
          1,
          1,
          1,
          1,
          1,
          1,
          1,
          1,
          1,
          1,
          1,
          1,
          1,
          1,
          1,
          1,
          1,
          1,
          1,
          1,
          1,
          1,
          1,
          1,
          1,
          1,
          1,
          1,
          1,
          1,
          1,
          1,
          1,
          1,
          1,
          1,
          1,
          1,
          1,
          1,
          1,
          1,
          1,
          1,
          1,
          1,
          1,
          1,
          1,
          1,
          1,
          1,
          1,
          1,
          1,
          1,
          1,
          1,
          1,
          1,
          1,
          1,
          1,
          1,
          1,
          1,
          1,
          1,
          1,
          1,
          1,
          1,
          1,
          1,
          1,
          1,
          1,
          1,
          1,
          1,
          1,
          1,
          1,
          1,
          1,
          1,
          1,
          1,
          1,
          1,
          1,
          1,
          1,
          1,
          1,
          1,
          1,
          1,
          1,
          1,
          1,
          1,
          1,
          1,
          1,
          1,
          1,
          1,
          1,
          1,
          1,
          1,
          1,
          1,
          1,
          1,
          1,
          1,
          1,
          1,
          1,
          1,
          1,
          1,
          1,
          1,
          1,
          1,
          1,
          1,
          1,
          1,
          1,
          1,
          1,
          1,
          1,
          1,
          1,
          1,
          1,
          1,
          1,
          1,
          1,
          1,
          1,
          1,
          1,
          1,
          1,
          1,
          1,
          1,
          1,
          1,
          1,
          1,
          1,
          1,
          1,
          1,
          1,
          1,
          1,
          1,
          1,
          1,
          1,
          1,
          1,
          1,
          1,
          1,
          1,
          1,
          1,
          1,
          1,
          1,
          1,
          1,
          1,
          1,
          1,
          1,
          1,
          1,
          1,
          1,
          1,
          1,
          1,
          1,
          1,
          1,
          1,
          1,
          1,
          1,
          1,
          1,
          1,
          1,
          1,
          1,
          1,
          1,
          1,
          1,
          1,
          1,
          1,
          1,
          1,
          1,
          1,
          1,
          1,
          1,
          1,
          1,
          1,
          1,
          1,
          1,
          1,
          1,
          1,
          1,
          1,
          1,
          1,
          1,
          1,
          1,
          1,
          1,
          1,
          1,
          1,
          1,
          1,
          1,
          1,
          1,
          1,
          1,
          1,
          1,
          1,
          1,
          1,
          1,
          1,
          1,
          1,
          1,
          1,
          1,
          1,
          1,
          1,
          1,
          1,
          1,
          1,
          1,
          1,
          1,
          1,
          1,
          1,
          1,
          1,
          1,
          1,
          1,
          1,
          1,
          1,
          1,
          1,
          1,
          1,
          1,
          1,
          1,
          1,
          1,
          1,
          1,
          1,
          1,
          1,
          1,
          1,
          1,
          1,
          1,
          1,
          1,
          1,
          1,
          1,
          1,
          1,
          1,
          1,
          1,
          1,
          1,
          1,
          1,
          1,
          1,
          1,
          1,
          1,
          1,
          1,
          1,
          1,
          1,
          1,
          1
         ]
        },
        {
         "mode": "markers+lines",
         "name": "Magic Sauce (degree)",
         "type": "scatter",
         "x": [
          0,
          1,
          2,
          3,
          4,
          5,
          6,
          7,
          8,
          9,
          10,
          11,
          12,
          13,
          14,
          15,
          16,
          17,
          18,
          19,
          20,
          21,
          22,
          23,
          24,
          25,
          26,
          27,
          28,
          29,
          30,
          31,
          32,
          33,
          34,
          35,
          36,
          37,
          38,
          39,
          40,
          41,
          42,
          43,
          44,
          45,
          46,
          47,
          48,
          49,
          50,
          51,
          52,
          53,
          54,
          55,
          56,
          57,
          58,
          59,
          60,
          61,
          62,
          63,
          64,
          65,
          66,
          67,
          68,
          69,
          70,
          71,
          72,
          73,
          74,
          75,
          76,
          77,
          78,
          79,
          80,
          81,
          82,
          83,
          84,
          85,
          86,
          87,
          88,
          89,
          90,
          91,
          92,
          93,
          94,
          95,
          96,
          97,
          98,
          99,
          100,
          101,
          102,
          103,
          104,
          105,
          106,
          107,
          108,
          109,
          110,
          111,
          112,
          113,
          114,
          115,
          116,
          117,
          118,
          119,
          120,
          121,
          122,
          123,
          124,
          125,
          126,
          127,
          128,
          129,
          130,
          131,
          132,
          133,
          134,
          135,
          136,
          137,
          138,
          139,
          140,
          141,
          142,
          143,
          144,
          145,
          146,
          147,
          148,
          149,
          150,
          151,
          152,
          153,
          154,
          155,
          156,
          157,
          158,
          159,
          160,
          161,
          162,
          163,
          164,
          165,
          166,
          167,
          168,
          169,
          170,
          171,
          172,
          173,
          174,
          175,
          176,
          177,
          178,
          179,
          180,
          181,
          182,
          183,
          184,
          185,
          186,
          187,
          188,
          189,
          190,
          191,
          192,
          193,
          194,
          195,
          196,
          197,
          198,
          199,
          200,
          201,
          202,
          203,
          204,
          205,
          206,
          207,
          208,
          209,
          210,
          211,
          212,
          213,
          214,
          215,
          216,
          217,
          218,
          219,
          220,
          221,
          222,
          223,
          224,
          225,
          226,
          227,
          228,
          229,
          230,
          231,
          232,
          233,
          234,
          235,
          236,
          237,
          238,
          239,
          240,
          241,
          242,
          243,
          244,
          245,
          246,
          247,
          248,
          249,
          250,
          251,
          252,
          253,
          254,
          255,
          256,
          257,
          258,
          259,
          260,
          261,
          262,
          263,
          264,
          265,
          266,
          267,
          268,
          269,
          270,
          271,
          272,
          273,
          274,
          275,
          276,
          277,
          278,
          279,
          280,
          281,
          282,
          283,
          284,
          285,
          286,
          287,
          288,
          289,
          290,
          291,
          292,
          293,
          294,
          295,
          296,
          297,
          298,
          299,
          300,
          301,
          302,
          303,
          304,
          305,
          306,
          307,
          308,
          309,
          310,
          311,
          312,
          313,
          314,
          315,
          316,
          317,
          318,
          319,
          320,
          321,
          322,
          323,
          324,
          325,
          326,
          327,
          328,
          329,
          330,
          331,
          332,
          333,
          334,
          335,
          336,
          337,
          338,
          339,
          340,
          341,
          342,
          343,
          344,
          345,
          346,
          347,
          348,
          349,
          350,
          351,
          352,
          353,
          354,
          355,
          356,
          357,
          358,
          359,
          360,
          361,
          362,
          363,
          364,
          365,
          366,
          367,
          368,
          369,
          370,
          371,
          372,
          373,
          374,
          375,
          376,
          377,
          378,
          379,
          380,
          381,
          382,
          383,
          384,
          385,
          386,
          387,
          388,
          389,
          390,
          391,
          392,
          393,
          394,
          395,
          396,
          397,
          398,
          399,
          400,
          401,
          402,
          403,
          404,
          405,
          406,
          407,
          408,
          409,
          410,
          411,
          412,
          413,
          414,
          415,
          416,
          417,
          418,
          419,
          420,
          421,
          422,
          423,
          424,
          425,
          426,
          427,
          428,
          429,
          430,
          431,
          432,
          433,
          434,
          435,
          436,
          437,
          438,
          439,
          440,
          441,
          442,
          443,
          444,
          445,
          446,
          447,
          448,
          449,
          450,
          451,
          452,
          453,
          454,
          455,
          456,
          457,
          458,
          459,
          460,
          461,
          462,
          463,
          464,
          465,
          466,
          467,
          468,
          469,
          470,
          471,
          472,
          473,
          474,
          475,
          476,
          477,
          478,
          479,
          480,
          481,
          482,
          483,
          484,
          485,
          486,
          487,
          488,
          489,
          490,
          491,
          492,
          493,
          494,
          495,
          496,
          497,
          498,
          499,
          500,
          501,
          502,
          503,
          504,
          505,
          506,
          507,
          508,
          509,
          510,
          511,
          512,
          513,
          514,
          515,
          516,
          517,
          518,
          519,
          520,
          521,
          522,
          523,
          524,
          525,
          526,
          527,
          528,
          529,
          530,
          531,
          532,
          533,
          534,
          535,
          536,
          537,
          538,
          539,
          540,
          541,
          542,
          543,
          544,
          545,
          546,
          547,
          548,
          549,
          550,
          551,
          552,
          553,
          554,
          555,
          556,
          557,
          558,
          559,
          560,
          561,
          562,
          563,
          564,
          565,
          566,
          567,
          568,
          569,
          570,
          571,
          572,
          573,
          574,
          575,
          576,
          577,
          578,
          579,
          580,
          581,
          582,
          583,
          584,
          585,
          586,
          587,
          588,
          589,
          590,
          591,
          592,
          593,
          594,
          595,
          596,
          597,
          598,
          599,
          600,
          601,
          602,
          603,
          604,
          605,
          606,
          607,
          608,
          609,
          610,
          611,
          612,
          613,
          614,
          615,
          616,
          617,
          618,
          619,
          620,
          621,
          622,
          623,
          624,
          625,
          626,
          627,
          628,
          629,
          630,
          631,
          632,
          633,
          634,
          635,
          636,
          637,
          638,
          639,
          640,
          641,
          642,
          643,
          644,
          645,
          646,
          647,
          648,
          649,
          650,
          651,
          652,
          653,
          654,
          655,
          656,
          657,
          658,
          659,
          660,
          661,
          662,
          663,
          664,
          665,
          666,
          667,
          668,
          669,
          670,
          671,
          672,
          673,
          674,
          675,
          676,
          677,
          678,
          679,
          680,
          681,
          682,
          683,
          684,
          685,
          686,
          687,
          688,
          689,
          690,
          691,
          692,
          693,
          694,
          695,
          696,
          697,
          698,
          699,
          700,
          701,
          702,
          703,
          704,
          705,
          706,
          707,
          708,
          709,
          710,
          711,
          712,
          713,
          714,
          715,
          716,
          717,
          718,
          719,
          720,
          721,
          722,
          723,
          724,
          725,
          726,
          727,
          728,
          729,
          730,
          731,
          732,
          733,
          734,
          735,
          736,
          737,
          738,
          739,
          740,
          741,
          742,
          743,
          744,
          745,
          746,
          747,
          748,
          749,
          750,
          751,
          752,
          753,
          754,
          755,
          756,
          757,
          758,
          759,
          760,
          761,
          762,
          763,
          764,
          765,
          766,
          767,
          768,
          769,
          770,
          771,
          772,
          773,
          774,
          775,
          776,
          777,
          778,
          779,
          780,
          781,
          782,
          783,
          784,
          785,
          786,
          787,
          788,
          789,
          790,
          791,
          792,
          793,
          794,
          795,
          796,
          797,
          798,
          799
         ],
         "y": [
          0,
          0,
          0,
          0,
          0,
          0,
          0,
          0,
          0,
          0,
          0,
          0,
          0,
          0,
          0,
          0,
          0,
          0,
          0,
          0,
          0,
          0,
          0,
          0,
          0,
          0,
          0,
          0.0033333333333333335,
          0,
          0.02,
          0.006666666666666667,
          0.03,
          0.05,
          0.05333333333333334,
          0.12333333333333334,
          0.15,
          0.18,
          0.28,
          0.24333333333333335,
          0.3333333333333333,
          1,
          1,
          1,
          1,
          1,
          1,
          1,
          1,
          1,
          1,
          1,
          1,
          1,
          1,
          1,
          1,
          1,
          1,
          1,
          1,
          1,
          1,
          1,
          1,
          1,
          1,
          1,
          1,
          1,
          1,
          1,
          1,
          1,
          1,
          1,
          1,
          1,
          1,
          1,
          1,
          1,
          1,
          1,
          1,
          1,
          1,
          1,
          1,
          1,
          1,
          1,
          1,
          1,
          1,
          1,
          1,
          1,
          1,
          1,
          1,
          1,
          1,
          1,
          1,
          1,
          1,
          1,
          1,
          1,
          1,
          1,
          1,
          1,
          1,
          1,
          1,
          1,
          1,
          1,
          1,
          1,
          1,
          1,
          1,
          1,
          1,
          1,
          1,
          1,
          1,
          1,
          1,
          1,
          1,
          1,
          1,
          1,
          1,
          1,
          1,
          1,
          1,
          1,
          1,
          1,
          1,
          1,
          1,
          1,
          1,
          1,
          1,
          1,
          1,
          1,
          1,
          1,
          1,
          1,
          1,
          1,
          1,
          1,
          1,
          1,
          1,
          1,
          1,
          1,
          1,
          1,
          1,
          1,
          1,
          1,
          1,
          1,
          1,
          1,
          1,
          1,
          1,
          1,
          1,
          1,
          1,
          1,
          1,
          1,
          1,
          1,
          1,
          1,
          1,
          1,
          1,
          1,
          1,
          1,
          1,
          1,
          1,
          1,
          1,
          1,
          1,
          1,
          1,
          1,
          1,
          1,
          1,
          1,
          1,
          1,
          1,
          1,
          1,
          1,
          1,
          1,
          1,
          1,
          1,
          1,
          1,
          1,
          1,
          1,
          1,
          1,
          1,
          1,
          1,
          1,
          1,
          1,
          1,
          1,
          1,
          1,
          1,
          1,
          1,
          1,
          1,
          1,
          1,
          1,
          1,
          1,
          1,
          1,
          1,
          1,
          1,
          1,
          1,
          1,
          1,
          1,
          1,
          1,
          1,
          1,
          1,
          1,
          1,
          1,
          1,
          1,
          1,
          1,
          1,
          1,
          1,
          1,
          1,
          1,
          1,
          1,
          1,
          1,
          1,
          1,
          1,
          1,
          1,
          1,
          1,
          1,
          1,
          1,
          1,
          1,
          1,
          1,
          1,
          1,
          1,
          1,
          1,
          1,
          1,
          1,
          1,
          1,
          1,
          1,
          1,
          1,
          1,
          1,
          1,
          1,
          1,
          1,
          1,
          1,
          1,
          1,
          1,
          1,
          1,
          1,
          1,
          1,
          1,
          1,
          1,
          1,
          1,
          1,
          1,
          1,
          1,
          1,
          1,
          1,
          1,
          1,
          1,
          1,
          1,
          1,
          1,
          1,
          1,
          1,
          1,
          1,
          1,
          1,
          1,
          1,
          1,
          1,
          1,
          1,
          1,
          1,
          1,
          1,
          1,
          1,
          1,
          1,
          1,
          1,
          1,
          1,
          1,
          1,
          1,
          1,
          1,
          1,
          1,
          1,
          1,
          1,
          1,
          1,
          1,
          1,
          1,
          1,
          1,
          1,
          1,
          1,
          1,
          1,
          1,
          1,
          1,
          1,
          1,
          1,
          1,
          1,
          1,
          1,
          1,
          1,
          1,
          1,
          1,
          1,
          1,
          1,
          1,
          1,
          1,
          1,
          1,
          1,
          1,
          1,
          1,
          1,
          1,
          1,
          1,
          1,
          1,
          1,
          1,
          1,
          1,
          1,
          1,
          1,
          1,
          1,
          1,
          1,
          1,
          1,
          1,
          1,
          1,
          1,
          1,
          1,
          1,
          1,
          1,
          1,
          1,
          1,
          1,
          1,
          1,
          1,
          1,
          1,
          1,
          1,
          1,
          1,
          1,
          1,
          1,
          1,
          1,
          1,
          1,
          1,
          1,
          1,
          1,
          1,
          1,
          1,
          1,
          1,
          1,
          1,
          1,
          1,
          1,
          1,
          1,
          1,
          1,
          1,
          1,
          1,
          1,
          1,
          1,
          1,
          1,
          1,
          1,
          1,
          1,
          1,
          1,
          1,
          1,
          1,
          1,
          1,
          1,
          1,
          1,
          1,
          1,
          1,
          1,
          1,
          1,
          1,
          1,
          1,
          1,
          1,
          1,
          1,
          1,
          1,
          1,
          1,
          1,
          1,
          1,
          1,
          1,
          1,
          1,
          1,
          1,
          1,
          1,
          1,
          1,
          1,
          1,
          1,
          1,
          1,
          1,
          1,
          1,
          1,
          1,
          1,
          1,
          1,
          1,
          1,
          1,
          1,
          1,
          1,
          1,
          1,
          1,
          1,
          1,
          1,
          1,
          1,
          1,
          1,
          1,
          1,
          1,
          1,
          1,
          1,
          1,
          1,
          1,
          1,
          1,
          1,
          1,
          1,
          1,
          1,
          1,
          1,
          1,
          1,
          1,
          1,
          1,
          1,
          1,
          1,
          1,
          1,
          1,
          1,
          1,
          1,
          1,
          1,
          1,
          1,
          1,
          1,
          1,
          1,
          1,
          1,
          1,
          1,
          1,
          1,
          1,
          1,
          1,
          1,
          1,
          1,
          1,
          1,
          1,
          1,
          1,
          1,
          1,
          1,
          1,
          1,
          1,
          1,
          1,
          1,
          1,
          1,
          1,
          1,
          1,
          1,
          1,
          1,
          1,
          1,
          1,
          1,
          1,
          1,
          1,
          1,
          1,
          1,
          1,
          1,
          1,
          1,
          1,
          1,
          1,
          1,
          1,
          1,
          1,
          1,
          1,
          1,
          1,
          1,
          1,
          1,
          1,
          1,
          1,
          1,
          1,
          1,
          1,
          1,
          1,
          1,
          1,
          1,
          1,
          1,
          1,
          1,
          1,
          1,
          1,
          1,
          1,
          1,
          1,
          1,
          1,
          1,
          1,
          1,
          1,
          1,
          1,
          1,
          1,
          1,
          1,
          1,
          1,
          1,
          1,
          1,
          1,
          1,
          1,
          1,
          1,
          1,
          1,
          1,
          1,
          1,
          1,
          1,
          1,
          1,
          1,
          1,
          1,
          1,
          1,
          1,
          1,
          1,
          1,
          1,
          1,
          1,
          1,
          1,
          1,
          1,
          1,
          1,
          1,
          1,
          1,
          1,
          1,
          1,
          1,
          1,
          1,
          1,
          1,
          1,
          1,
          1,
          1,
          1,
          1,
          1,
          1,
          1,
          1,
          1,
          1,
          1,
          1,
          1,
          1,
          1,
          1,
          1,
          1,
          1,
          1,
          1,
          1,
          1,
          1,
          1,
          1,
          1,
          1,
          1,
          1,
          1,
          1,
          1,
          1,
          1,
          1,
          1,
          1,
          1,
          1,
          1,
          1,
          1,
          1,
          1,
          1
         ]
        },
        {
         "mode": "markers+lines",
         "name": "Magic sauce (betweenness)",
         "type": "scatter",
         "x": [
          0,
          1,
          2,
          3,
          4,
          5,
          6,
          7,
          8,
          9,
          10,
          11,
          12,
          13,
          14,
          15,
          16,
          17,
          18,
          19,
          20,
          21,
          22,
          23,
          24,
          25,
          26,
          27,
          28,
          29,
          30,
          31,
          32,
          33,
          34,
          35,
          36,
          37,
          38,
          39,
          40,
          41,
          42,
          43,
          44,
          45,
          46,
          47,
          48,
          49,
          50,
          51,
          52,
          53,
          54,
          55,
          56,
          57,
          58,
          59,
          60,
          61,
          62,
          63,
          64,
          65,
          66,
          67,
          68,
          69,
          70,
          71,
          72,
          73,
          74,
          75,
          76,
          77,
          78,
          79,
          80,
          81,
          82,
          83,
          84,
          85,
          86,
          87,
          88,
          89,
          90,
          91,
          92,
          93,
          94,
          95,
          96,
          97,
          98,
          99,
          100,
          101,
          102,
          103,
          104,
          105,
          106,
          107,
          108,
          109,
          110,
          111,
          112,
          113,
          114,
          115,
          116,
          117,
          118,
          119,
          120,
          121,
          122,
          123,
          124,
          125,
          126,
          127,
          128,
          129,
          130,
          131,
          132,
          133,
          134,
          135,
          136,
          137,
          138,
          139,
          140,
          141,
          142,
          143,
          144,
          145,
          146,
          147,
          148,
          149,
          150,
          151,
          152,
          153,
          154,
          155,
          156,
          157,
          158,
          159,
          160,
          161,
          162,
          163,
          164,
          165,
          166,
          167,
          168,
          169,
          170,
          171,
          172,
          173,
          174,
          175,
          176,
          177,
          178,
          179,
          180,
          181,
          182,
          183,
          184,
          185,
          186,
          187,
          188,
          189,
          190,
          191,
          192,
          193,
          194,
          195,
          196,
          197,
          198,
          199,
          200,
          201,
          202,
          203,
          204,
          205,
          206,
          207,
          208,
          209,
          210,
          211,
          212,
          213,
          214,
          215,
          216,
          217,
          218,
          219,
          220,
          221,
          222,
          223,
          224,
          225,
          226,
          227,
          228,
          229,
          230,
          231,
          232,
          233,
          234,
          235,
          236,
          237,
          238,
          239,
          240,
          241,
          242,
          243,
          244,
          245,
          246,
          247,
          248,
          249,
          250,
          251,
          252,
          253,
          254,
          255,
          256,
          257,
          258,
          259,
          260,
          261,
          262,
          263,
          264,
          265,
          266,
          267,
          268,
          269,
          270,
          271,
          272,
          273,
          274,
          275,
          276,
          277,
          278,
          279,
          280,
          281,
          282,
          283,
          284,
          285,
          286,
          287,
          288,
          289,
          290,
          291,
          292,
          293,
          294,
          295,
          296,
          297,
          298,
          299,
          300,
          301,
          302,
          303,
          304,
          305,
          306,
          307,
          308,
          309,
          310,
          311,
          312,
          313,
          314,
          315,
          316,
          317,
          318,
          319,
          320,
          321,
          322,
          323,
          324,
          325,
          326,
          327,
          328,
          329,
          330,
          331,
          332,
          333,
          334,
          335,
          336,
          337,
          338,
          339,
          340,
          341,
          342,
          343,
          344,
          345,
          346,
          347,
          348,
          349,
          350,
          351,
          352,
          353,
          354,
          355,
          356,
          357,
          358,
          359,
          360,
          361,
          362,
          363,
          364,
          365,
          366,
          367,
          368,
          369,
          370,
          371,
          372,
          373,
          374,
          375,
          376,
          377,
          378,
          379,
          380,
          381,
          382,
          383,
          384,
          385,
          386,
          387,
          388,
          389,
          390,
          391,
          392,
          393,
          394,
          395,
          396,
          397,
          398,
          399,
          400,
          401,
          402,
          403,
          404,
          405,
          406,
          407,
          408,
          409,
          410,
          411,
          412,
          413,
          414,
          415,
          416,
          417,
          418,
          419,
          420,
          421,
          422,
          423,
          424,
          425,
          426,
          427,
          428,
          429,
          430,
          431,
          432,
          433,
          434,
          435,
          436,
          437,
          438,
          439,
          440,
          441,
          442,
          443,
          444,
          445,
          446,
          447,
          448,
          449,
          450,
          451,
          452,
          453,
          454,
          455,
          456,
          457,
          458,
          459,
          460,
          461,
          462,
          463,
          464,
          465,
          466,
          467,
          468,
          469,
          470,
          471,
          472,
          473,
          474,
          475,
          476,
          477,
          478,
          479,
          480,
          481,
          482,
          483,
          484,
          485,
          486,
          487,
          488,
          489,
          490,
          491,
          492,
          493,
          494,
          495,
          496,
          497,
          498,
          499,
          500,
          501,
          502,
          503,
          504,
          505,
          506,
          507,
          508,
          509,
          510,
          511,
          512,
          513,
          514,
          515,
          516,
          517,
          518,
          519,
          520,
          521,
          522,
          523,
          524,
          525,
          526,
          527,
          528,
          529,
          530,
          531,
          532,
          533,
          534,
          535,
          536,
          537,
          538,
          539,
          540,
          541,
          542,
          543,
          544,
          545,
          546,
          547,
          548,
          549,
          550,
          551,
          552,
          553,
          554,
          555,
          556,
          557,
          558,
          559,
          560,
          561,
          562,
          563,
          564,
          565,
          566,
          567,
          568,
          569,
          570,
          571,
          572,
          573,
          574,
          575,
          576,
          577,
          578,
          579,
          580,
          581,
          582,
          583,
          584,
          585,
          586,
          587,
          588,
          589,
          590,
          591,
          592,
          593,
          594,
          595,
          596,
          597,
          598,
          599,
          600,
          601,
          602,
          603,
          604,
          605,
          606,
          607,
          608,
          609,
          610,
          611,
          612,
          613,
          614,
          615,
          616,
          617,
          618,
          619,
          620,
          621,
          622,
          623,
          624,
          625,
          626,
          627,
          628,
          629,
          630,
          631,
          632,
          633,
          634,
          635,
          636,
          637,
          638,
          639,
          640,
          641,
          642,
          643,
          644,
          645,
          646,
          647,
          648,
          649,
          650,
          651,
          652,
          653,
          654,
          655,
          656,
          657,
          658,
          659,
          660,
          661,
          662,
          663,
          664,
          665,
          666,
          667,
          668,
          669,
          670,
          671,
          672,
          673,
          674,
          675,
          676,
          677,
          678,
          679,
          680,
          681,
          682,
          683,
          684,
          685,
          686,
          687,
          688,
          689,
          690,
          691,
          692,
          693,
          694,
          695,
          696,
          697,
          698,
          699,
          700,
          701,
          702,
          703,
          704,
          705,
          706,
          707,
          708,
          709,
          710,
          711,
          712,
          713,
          714,
          715,
          716,
          717,
          718,
          719,
          720,
          721,
          722,
          723,
          724,
          725,
          726,
          727,
          728,
          729,
          730,
          731,
          732,
          733,
          734,
          735,
          736,
          737,
          738,
          739,
          740,
          741,
          742,
          743,
          744,
          745,
          746,
          747,
          748,
          749,
          750,
          751,
          752,
          753,
          754,
          755,
          756,
          757,
          758,
          759,
          760,
          761,
          762,
          763,
          764,
          765,
          766,
          767,
          768,
          769,
          770,
          771,
          772,
          773,
          774,
          775,
          776,
          777,
          778,
          779,
          780,
          781,
          782,
          783,
          784,
          785,
          786,
          787,
          788,
          789,
          790,
          791,
          792,
          793,
          794,
          795,
          796,
          797,
          798,
          799
         ],
         "y": [
          0,
          0,
          0,
          0,
          0,
          0,
          0,
          0,
          0,
          0,
          0,
          0,
          0,
          0,
          0,
          0,
          0,
          0,
          0,
          0,
          0,
          0,
          0,
          0,
          0,
          0,
          0,
          0,
          0,
          0,
          0,
          0,
          0,
          0,
          0,
          0,
          0,
          0,
          0,
          0.006666666666666667,
          1,
          1,
          1,
          1,
          1,
          1,
          1,
          1,
          1,
          1,
          1,
          1,
          1,
          1,
          1,
          1,
          1,
          1,
          1,
          1,
          1,
          1,
          1,
          1,
          1,
          1,
          1,
          1,
          1,
          1,
          1,
          1,
          1,
          1,
          1,
          1,
          1,
          1,
          1,
          1,
          1,
          1,
          1,
          1,
          1,
          1,
          1,
          1,
          1,
          1,
          1,
          1,
          1,
          1,
          1,
          1,
          1,
          1,
          1,
          1,
          1,
          1,
          1,
          1,
          1,
          1,
          1,
          1,
          1,
          1,
          1,
          1,
          1,
          1,
          1,
          1,
          1,
          1,
          1,
          1,
          1,
          1,
          1,
          1,
          1,
          1,
          1,
          1,
          1,
          1,
          1,
          1,
          1,
          1,
          1,
          1,
          1,
          1,
          1,
          1,
          1,
          1,
          1,
          1,
          1,
          1,
          1,
          1,
          1,
          1,
          1,
          1,
          1,
          1,
          1,
          1,
          1,
          1,
          1,
          1,
          1,
          1,
          1,
          1,
          1,
          1,
          1,
          1,
          1,
          1,
          1,
          1,
          1,
          1,
          1,
          1,
          1,
          1,
          1,
          1,
          1,
          1,
          1,
          1,
          1,
          1,
          1,
          1,
          1,
          1,
          1,
          1,
          1,
          1,
          1,
          1,
          1,
          1,
          1,
          1,
          1,
          1,
          1,
          1,
          1,
          1,
          1,
          1,
          1,
          1,
          1,
          1,
          1,
          1,
          1,
          1,
          1,
          1,
          1,
          1,
          1,
          1,
          1,
          1,
          1,
          1,
          1,
          1,
          1,
          1,
          1,
          1,
          1,
          1,
          1,
          1,
          1,
          1,
          1,
          1,
          1,
          1,
          1,
          1,
          1,
          1,
          1,
          1,
          1,
          1,
          1,
          1,
          1,
          1,
          1,
          1,
          1,
          1,
          1,
          1,
          1,
          1,
          1,
          1,
          1,
          1,
          1,
          1,
          1,
          1,
          1,
          1,
          1,
          1,
          1,
          1,
          1,
          1,
          1,
          1,
          1,
          1,
          1,
          1,
          1,
          1,
          1,
          1,
          1,
          1,
          1,
          1,
          1,
          1,
          1,
          1,
          1,
          1,
          1,
          1,
          1,
          1,
          1,
          1,
          1,
          1,
          1,
          1,
          1,
          1,
          1,
          1,
          1,
          1,
          1,
          1,
          1,
          1,
          1,
          1,
          1,
          1,
          1,
          1,
          1,
          1,
          1,
          1,
          1,
          1,
          1,
          1,
          1,
          1,
          1,
          1,
          1,
          1,
          1,
          1,
          1,
          1,
          1,
          1,
          1,
          1,
          1,
          1,
          1,
          1,
          1,
          1,
          1,
          1,
          1,
          1,
          1,
          1,
          1,
          1,
          1,
          1,
          1,
          1,
          1,
          1,
          1,
          1,
          1,
          1,
          1,
          1,
          1,
          1,
          1,
          1,
          1,
          1,
          1,
          1,
          1,
          1,
          1,
          1,
          1,
          1,
          1,
          1,
          1,
          1,
          1,
          1,
          1,
          1,
          1,
          1,
          1,
          1,
          1,
          1,
          1,
          1,
          1,
          1,
          1,
          1,
          1,
          1,
          1,
          1,
          1,
          1,
          1,
          1,
          1,
          1,
          1,
          1,
          1,
          1,
          1,
          1,
          1,
          1,
          1,
          1,
          1,
          1,
          1,
          1,
          1,
          1,
          1,
          1,
          1,
          1,
          1,
          1,
          1,
          1,
          1,
          1,
          1,
          1,
          1,
          1,
          1,
          1,
          1,
          1,
          1,
          1,
          1,
          1,
          1,
          1,
          1,
          1,
          1,
          1,
          1,
          1,
          1,
          1,
          1,
          1,
          1,
          1,
          1,
          1,
          1,
          1,
          1,
          1,
          1,
          1,
          1,
          1,
          1,
          1,
          1,
          1,
          1,
          1,
          1,
          1,
          1,
          1,
          1,
          1,
          1,
          1,
          1,
          1,
          1,
          1,
          1,
          1,
          1,
          1,
          1,
          1,
          1,
          1,
          1,
          1,
          1,
          1,
          1,
          1,
          1,
          1,
          1,
          1,
          1,
          1,
          1,
          1,
          1,
          1,
          1,
          1,
          1,
          1,
          1,
          1,
          1,
          1,
          1,
          1,
          1,
          1,
          1,
          1,
          1,
          1,
          1,
          1,
          1,
          1,
          1,
          1,
          1,
          1,
          1,
          1,
          1,
          1,
          1,
          1,
          1,
          1,
          1,
          1,
          1,
          1,
          1,
          1,
          1,
          1,
          1,
          1,
          1,
          1,
          1,
          1,
          1,
          1,
          1,
          1,
          1,
          1,
          1,
          1,
          1,
          1,
          1,
          1,
          1,
          1,
          1,
          1,
          1,
          1,
          1,
          1,
          1,
          1,
          1,
          1,
          1,
          1,
          1,
          1,
          1,
          1,
          1,
          1,
          1,
          1,
          1,
          1,
          1,
          1,
          1,
          1,
          1,
          1,
          1,
          1,
          1,
          1,
          1,
          1,
          1,
          1,
          1,
          1,
          1,
          1,
          1,
          1,
          1,
          1,
          1,
          1,
          1,
          1,
          1,
          1,
          1,
          1,
          1,
          1,
          1,
          1,
          1,
          1,
          1,
          1,
          1,
          1,
          1,
          1,
          1,
          1,
          1,
          1,
          1,
          1,
          1,
          1,
          1,
          1,
          1,
          1,
          1,
          1,
          1,
          1,
          1,
          1,
          1,
          1,
          1,
          1,
          1,
          1,
          1,
          1,
          1,
          1,
          1,
          1,
          1,
          1,
          1,
          1,
          1,
          1,
          1,
          1,
          1,
          1,
          1,
          1,
          1,
          1,
          1,
          1,
          1,
          1,
          1,
          1,
          1,
          1,
          1,
          1,
          1,
          1,
          1,
          1,
          1,
          1,
          1,
          1,
          1,
          1,
          1,
          1,
          1,
          1,
          1,
          1,
          1,
          1,
          1,
          1,
          1,
          1,
          1,
          1,
          1,
          1,
          1,
          1,
          1,
          1,
          1,
          1,
          1,
          1,
          1,
          1,
          1,
          1,
          1,
          1,
          1,
          1,
          1,
          1,
          1,
          1,
          1,
          1,
          1,
          1,
          1,
          1,
          1,
          1,
          1,
          1,
          1,
          1,
          1,
          1,
          1,
          1,
          1,
          1,
          1,
          1,
          1,
          1,
          1,
          1,
          1,
          1,
          1,
          1,
          1,
          1,
          1,
          1,
          1,
          1,
          1,
          1,
          1,
          1,
          1,
          1,
          1,
          1,
          1,
          1,
          1,
          1,
          1,
          1,
          1,
          1,
          1,
          1,
          1,
          1,
          1,
          1
         ]
        }
       ],
       "layout": {
        "template": {
         "data": {
          "bar": [
           {
            "error_x": {
             "color": "#2a3f5f"
            },
            "error_y": {
             "color": "#2a3f5f"
            },
            "marker": {
             "line": {
              "color": "#E5ECF6",
              "width": 0.5
             },
             "pattern": {
              "fillmode": "overlay",
              "size": 10,
              "solidity": 0.2
             }
            },
            "type": "bar"
           }
          ],
          "barpolar": [
           {
            "marker": {
             "line": {
              "color": "#E5ECF6",
              "width": 0.5
             },
             "pattern": {
              "fillmode": "overlay",
              "size": 10,
              "solidity": 0.2
             }
            },
            "type": "barpolar"
           }
          ],
          "carpet": [
           {
            "aaxis": {
             "endlinecolor": "#2a3f5f",
             "gridcolor": "white",
             "linecolor": "white",
             "minorgridcolor": "white",
             "startlinecolor": "#2a3f5f"
            },
            "baxis": {
             "endlinecolor": "#2a3f5f",
             "gridcolor": "white",
             "linecolor": "white",
             "minorgridcolor": "white",
             "startlinecolor": "#2a3f5f"
            },
            "type": "carpet"
           }
          ],
          "choropleth": [
           {
            "colorbar": {
             "outlinewidth": 0,
             "ticks": ""
            },
            "type": "choropleth"
           }
          ],
          "contour": [
           {
            "colorbar": {
             "outlinewidth": 0,
             "ticks": ""
            },
            "colorscale": [
             [
              0,
              "#0d0887"
             ],
             [
              0.1111111111111111,
              "#46039f"
             ],
             [
              0.2222222222222222,
              "#7201a8"
             ],
             [
              0.3333333333333333,
              "#9c179e"
             ],
             [
              0.4444444444444444,
              "#bd3786"
             ],
             [
              0.5555555555555556,
              "#d8576b"
             ],
             [
              0.6666666666666666,
              "#ed7953"
             ],
             [
              0.7777777777777778,
              "#fb9f3a"
             ],
             [
              0.8888888888888888,
              "#fdca26"
             ],
             [
              1,
              "#f0f921"
             ]
            ],
            "type": "contour"
           }
          ],
          "contourcarpet": [
           {
            "colorbar": {
             "outlinewidth": 0,
             "ticks": ""
            },
            "type": "contourcarpet"
           }
          ],
          "heatmap": [
           {
            "colorbar": {
             "outlinewidth": 0,
             "ticks": ""
            },
            "colorscale": [
             [
              0,
              "#0d0887"
             ],
             [
              0.1111111111111111,
              "#46039f"
             ],
             [
              0.2222222222222222,
              "#7201a8"
             ],
             [
              0.3333333333333333,
              "#9c179e"
             ],
             [
              0.4444444444444444,
              "#bd3786"
             ],
             [
              0.5555555555555556,
              "#d8576b"
             ],
             [
              0.6666666666666666,
              "#ed7953"
             ],
             [
              0.7777777777777778,
              "#fb9f3a"
             ],
             [
              0.8888888888888888,
              "#fdca26"
             ],
             [
              1,
              "#f0f921"
             ]
            ],
            "type": "heatmap"
           }
          ],
          "heatmapgl": [
           {
            "colorbar": {
             "outlinewidth": 0,
             "ticks": ""
            },
            "colorscale": [
             [
              0,
              "#0d0887"
             ],
             [
              0.1111111111111111,
              "#46039f"
             ],
             [
              0.2222222222222222,
              "#7201a8"
             ],
             [
              0.3333333333333333,
              "#9c179e"
             ],
             [
              0.4444444444444444,
              "#bd3786"
             ],
             [
              0.5555555555555556,
              "#d8576b"
             ],
             [
              0.6666666666666666,
              "#ed7953"
             ],
             [
              0.7777777777777778,
              "#fb9f3a"
             ],
             [
              0.8888888888888888,
              "#fdca26"
             ],
             [
              1,
              "#f0f921"
             ]
            ],
            "type": "heatmapgl"
           }
          ],
          "histogram": [
           {
            "marker": {
             "pattern": {
              "fillmode": "overlay",
              "size": 10,
              "solidity": 0.2
             }
            },
            "type": "histogram"
           }
          ],
          "histogram2d": [
           {
            "colorbar": {
             "outlinewidth": 0,
             "ticks": ""
            },
            "colorscale": [
             [
              0,
              "#0d0887"
             ],
             [
              0.1111111111111111,
              "#46039f"
             ],
             [
              0.2222222222222222,
              "#7201a8"
             ],
             [
              0.3333333333333333,
              "#9c179e"
             ],
             [
              0.4444444444444444,
              "#bd3786"
             ],
             [
              0.5555555555555556,
              "#d8576b"
             ],
             [
              0.6666666666666666,
              "#ed7953"
             ],
             [
              0.7777777777777778,
              "#fb9f3a"
             ],
             [
              0.8888888888888888,
              "#fdca26"
             ],
             [
              1,
              "#f0f921"
             ]
            ],
            "type": "histogram2d"
           }
          ],
          "histogram2dcontour": [
           {
            "colorbar": {
             "outlinewidth": 0,
             "ticks": ""
            },
            "colorscale": [
             [
              0,
              "#0d0887"
             ],
             [
              0.1111111111111111,
              "#46039f"
             ],
             [
              0.2222222222222222,
              "#7201a8"
             ],
             [
              0.3333333333333333,
              "#9c179e"
             ],
             [
              0.4444444444444444,
              "#bd3786"
             ],
             [
              0.5555555555555556,
              "#d8576b"
             ],
             [
              0.6666666666666666,
              "#ed7953"
             ],
             [
              0.7777777777777778,
              "#fb9f3a"
             ],
             [
              0.8888888888888888,
              "#fdca26"
             ],
             [
              1,
              "#f0f921"
             ]
            ],
            "type": "histogram2dcontour"
           }
          ],
          "mesh3d": [
           {
            "colorbar": {
             "outlinewidth": 0,
             "ticks": ""
            },
            "type": "mesh3d"
           }
          ],
          "parcoords": [
           {
            "line": {
             "colorbar": {
              "outlinewidth": 0,
              "ticks": ""
             }
            },
            "type": "parcoords"
           }
          ],
          "pie": [
           {
            "automargin": true,
            "type": "pie"
           }
          ],
          "scatter": [
           {
            "fillpattern": {
             "fillmode": "overlay",
             "size": 10,
             "solidity": 0.2
            },
            "type": "scatter"
           }
          ],
          "scatter3d": [
           {
            "line": {
             "colorbar": {
              "outlinewidth": 0,
              "ticks": ""
             }
            },
            "marker": {
             "colorbar": {
              "outlinewidth": 0,
              "ticks": ""
             }
            },
            "type": "scatter3d"
           }
          ],
          "scattercarpet": [
           {
            "marker": {
             "colorbar": {
              "outlinewidth": 0,
              "ticks": ""
             }
            },
            "type": "scattercarpet"
           }
          ],
          "scattergeo": [
           {
            "marker": {
             "colorbar": {
              "outlinewidth": 0,
              "ticks": ""
             }
            },
            "type": "scattergeo"
           }
          ],
          "scattergl": [
           {
            "marker": {
             "colorbar": {
              "outlinewidth": 0,
              "ticks": ""
             }
            },
            "type": "scattergl"
           }
          ],
          "scattermapbox": [
           {
            "marker": {
             "colorbar": {
              "outlinewidth": 0,
              "ticks": ""
             }
            },
            "type": "scattermapbox"
           }
          ],
          "scatterpolar": [
           {
            "marker": {
             "colorbar": {
              "outlinewidth": 0,
              "ticks": ""
             }
            },
            "type": "scatterpolar"
           }
          ],
          "scatterpolargl": [
           {
            "marker": {
             "colorbar": {
              "outlinewidth": 0,
              "ticks": ""
             }
            },
            "type": "scatterpolargl"
           }
          ],
          "scatterternary": [
           {
            "marker": {
             "colorbar": {
              "outlinewidth": 0,
              "ticks": ""
             }
            },
            "type": "scatterternary"
           }
          ],
          "surface": [
           {
            "colorbar": {
             "outlinewidth": 0,
             "ticks": ""
            },
            "colorscale": [
             [
              0,
              "#0d0887"
             ],
             [
              0.1111111111111111,
              "#46039f"
             ],
             [
              0.2222222222222222,
              "#7201a8"
             ],
             [
              0.3333333333333333,
              "#9c179e"
             ],
             [
              0.4444444444444444,
              "#bd3786"
             ],
             [
              0.5555555555555556,
              "#d8576b"
             ],
             [
              0.6666666666666666,
              "#ed7953"
             ],
             [
              0.7777777777777778,
              "#fb9f3a"
             ],
             [
              0.8888888888888888,
              "#fdca26"
             ],
             [
              1,
              "#f0f921"
             ]
            ],
            "type": "surface"
           }
          ],
          "table": [
           {
            "cells": {
             "fill": {
              "color": "#EBF0F8"
             },
             "line": {
              "color": "white"
             }
            },
            "header": {
             "fill": {
              "color": "#C8D4E3"
             },
             "line": {
              "color": "white"
             }
            },
            "type": "table"
           }
          ]
         },
         "layout": {
          "annotationdefaults": {
           "arrowcolor": "#2a3f5f",
           "arrowhead": 0,
           "arrowwidth": 1
          },
          "autotypenumbers": "strict",
          "coloraxis": {
           "colorbar": {
            "outlinewidth": 0,
            "ticks": ""
           }
          },
          "colorscale": {
           "diverging": [
            [
             0,
             "#8e0152"
            ],
            [
             0.1,
             "#c51b7d"
            ],
            [
             0.2,
             "#de77ae"
            ],
            [
             0.3,
             "#f1b6da"
            ],
            [
             0.4,
             "#fde0ef"
            ],
            [
             0.5,
             "#f7f7f7"
            ],
            [
             0.6,
             "#e6f5d0"
            ],
            [
             0.7,
             "#b8e186"
            ],
            [
             0.8,
             "#7fbc41"
            ],
            [
             0.9,
             "#4d9221"
            ],
            [
             1,
             "#276419"
            ]
           ],
           "sequential": [
            [
             0,
             "#0d0887"
            ],
            [
             0.1111111111111111,
             "#46039f"
            ],
            [
             0.2222222222222222,
             "#7201a8"
            ],
            [
             0.3333333333333333,
             "#9c179e"
            ],
            [
             0.4444444444444444,
             "#bd3786"
            ],
            [
             0.5555555555555556,
             "#d8576b"
            ],
            [
             0.6666666666666666,
             "#ed7953"
            ],
            [
             0.7777777777777778,
             "#fb9f3a"
            ],
            [
             0.8888888888888888,
             "#fdca26"
            ],
            [
             1,
             "#f0f921"
            ]
           ],
           "sequentialminus": [
            [
             0,
             "#0d0887"
            ],
            [
             0.1111111111111111,
             "#46039f"
            ],
            [
             0.2222222222222222,
             "#7201a8"
            ],
            [
             0.3333333333333333,
             "#9c179e"
            ],
            [
             0.4444444444444444,
             "#bd3786"
            ],
            [
             0.5555555555555556,
             "#d8576b"
            ],
            [
             0.6666666666666666,
             "#ed7953"
            ],
            [
             0.7777777777777778,
             "#fb9f3a"
            ],
            [
             0.8888888888888888,
             "#fdca26"
            ],
            [
             1,
             "#f0f921"
            ]
           ]
          },
          "colorway": [
           "#636efa",
           "#EF553B",
           "#00cc96",
           "#ab63fa",
           "#FFA15A",
           "#19d3f3",
           "#FF6692",
           "#B6E880",
           "#FF97FF",
           "#FECB52"
          ],
          "font": {
           "color": "#2a3f5f"
          },
          "geo": {
           "bgcolor": "white",
           "lakecolor": "white",
           "landcolor": "#E5ECF6",
           "showlakes": true,
           "showland": true,
           "subunitcolor": "white"
          },
          "hoverlabel": {
           "align": "left"
          },
          "hovermode": "closest",
          "mapbox": {
           "style": "light"
          },
          "paper_bgcolor": "white",
          "plot_bgcolor": "#E5ECF6",
          "polar": {
           "angularaxis": {
            "gridcolor": "white",
            "linecolor": "white",
            "ticks": ""
           },
           "bgcolor": "#E5ECF6",
           "radialaxis": {
            "gridcolor": "white",
            "linecolor": "white",
            "ticks": ""
           }
          },
          "scene": {
           "xaxis": {
            "backgroundcolor": "#E5ECF6",
            "gridcolor": "white",
            "gridwidth": 2,
            "linecolor": "white",
            "showbackground": true,
            "ticks": "",
            "zerolinecolor": "white"
           },
           "yaxis": {
            "backgroundcolor": "#E5ECF6",
            "gridcolor": "white",
            "gridwidth": 2,
            "linecolor": "white",
            "showbackground": true,
            "ticks": "",
            "zerolinecolor": "white"
           },
           "zaxis": {
            "backgroundcolor": "#E5ECF6",
            "gridcolor": "white",
            "gridwidth": 2,
            "linecolor": "white",
            "showbackground": true,
            "ticks": "",
            "zerolinecolor": "white"
           }
          },
          "shapedefaults": {
           "line": {
            "color": "#2a3f5f"
           }
          },
          "ternary": {
           "aaxis": {
            "gridcolor": "white",
            "linecolor": "white",
            "ticks": ""
           },
           "baxis": {
            "gridcolor": "white",
            "linecolor": "white",
            "ticks": ""
           },
           "bgcolor": "#E5ECF6",
           "caxis": {
            "gridcolor": "white",
            "linecolor": "white",
            "ticks": ""
           }
          },
          "title": {
           "x": 0.05
          },
          "xaxis": {
           "automargin": true,
           "gridcolor": "white",
           "linecolor": "white",
           "ticks": "",
           "title": {
            "standoff": 15
           },
           "zerolinecolor": "white",
           "zerolinewidth": 2
          },
          "yaxis": {
           "automargin": true,
           "gridcolor": "white",
           "linecolor": "white",
           "ticks": "",
           "title": {
            "standoff": 15
           },
           "zerolinecolor": "white",
           "zerolinewidth": 2
          }
         }
        },
        "xaxis": {
         "title": {
          "text": "Cardinality of the subset"
         }
        },
        "yaxis": {
         "title": {
          "text": "Probability of resolving the graph"
         }
        }
       }
      },
      "text/html": [
       "<div>                            <div id=\"2e55e85c-cf45-4e7c-a595-a271ad7083b0\" class=\"plotly-graph-div\" style=\"height:525px; width:100%;\"></div>            <script type=\"text/javascript\">                require([\"plotly\"], function(Plotly) {                    window.PLOTLYENV=window.PLOTLYENV || {};                                    if (document.getElementById(\"2e55e85c-cf45-4e7c-a595-a271ad7083b0\")) {                    Plotly.newPlot(                        \"2e55e85c-cf45-4e7c-a595-a271ad7083b0\",                        [{\"mode\":\"markers+lines\",\"name\":\"Magic sauce (betweenness + trick)\",\"x\":[0,1,2,3,4,5,6,7,8,9,10,11,12,13,14,15,16,17,18,19,20,21,22,23,24,25,26,27,28,29,30,31,32,33,34,35,36,37,38,39,40,41,42,43,44,45,46,47,48,49,50,51,52,53,54,55,56,57,58,59,60,61,62,63,64,65,66,67,68,69,70,71,72,73,74,75,76,77,78,79,80,81,82,83,84,85,86,87,88,89,90,91,92,93,94,95,96,97,98,99,100,101,102,103,104,105,106,107,108,109,110,111,112,113,114,115,116,117,118,119,120,121,122,123,124,125,126,127,128,129,130,131,132,133,134,135,136,137,138,139,140,141,142,143,144,145,146,147,148,149,150,151,152,153,154,155,156,157,158,159,160,161,162,163,164,165,166,167,168,169,170,171,172,173,174,175,176,177,178,179,180,181,182,183,184,185,186,187,188,189,190,191,192,193,194,195,196,197,198,199,200,201,202,203,204,205,206,207,208,209,210,211,212,213,214,215,216,217,218,219,220,221,222,223,224,225,226,227,228,229,230,231,232,233,234,235,236,237,238,239,240,241,242,243,244,245,246,247,248,249,250,251,252,253,254,255,256,257,258,259,260,261,262,263,264,265,266,267,268,269,270,271,272,273,274,275,276,277,278,279,280,281,282,283,284,285,286,287,288,289,290,291,292,293,294,295,296,297,298,299,300,301,302,303,304,305,306,307,308,309,310,311,312,313,314,315,316,317,318,319,320,321,322,323,324,325,326,327,328,329,330,331,332,333,334,335,336,337,338,339,340,341,342,343,344,345,346,347,348,349,350,351,352,353,354,355,356,357,358,359,360,361,362,363,364,365,366,367,368,369,370,371,372,373,374,375,376,377,378,379,380,381,382,383,384,385,386,387,388,389,390,391,392,393,394,395,396,397,398,399,400,401,402,403,404,405,406,407,408,409,410,411,412,413,414,415,416,417,418,419,420,421,422,423,424,425,426,427,428,429,430,431,432,433,434,435,436,437,438,439,440,441,442,443,444,445,446,447,448,449,450,451,452,453,454,455,456,457,458,459,460,461,462,463,464,465,466,467,468,469,470,471,472,473,474,475,476,477,478,479,480,481,482,483,484,485,486,487,488,489,490,491,492,493,494,495,496,497,498,499,500,501,502,503,504,505,506,507,508,509,510,511,512,513,514,515,516,517,518,519,520,521,522,523,524,525,526,527,528,529,530,531,532,533,534,535,536,537,538,539,540,541,542,543,544,545,546,547,548,549,550,551,552,553,554,555,556,557,558,559,560,561,562,563,564,565,566,567,568,569,570,571,572,573,574,575,576,577,578,579,580,581,582,583,584,585,586,587,588,589,590,591,592,593,594,595,596,597,598,599,600,601,602,603,604,605,606,607,608,609,610,611,612,613,614,615,616,617,618,619,620,621,622,623,624,625,626,627,628,629,630,631,632,633,634,635,636,637,638,639,640,641,642,643,644,645,646,647,648,649,650,651,652,653,654,655,656,657,658,659,660,661,662,663,664,665,666,667,668,669,670,671,672,673,674,675,676,677,678,679,680,681,682,683,684,685,686,687,688,689,690,691,692,693,694,695,696,697,698,699,700,701,702,703,704,705,706,707,708,709,710,711,712,713,714,715,716,717,718,719,720,721,722,723,724,725,726,727,728,729,730,731,732,733,734,735,736,737,738,739,740,741,742,743,744,745,746,747,748,749,750,751,752,753,754,755,756,757,758,759,760,761,762,763,764,765,766,767,768,769,770,771,772,773,774,775,776,777,778,779,780,781,782,783,784,785,786,787,788,789,790,791,792,793,794,795,796,797,798,799],\"y\":[0,0,0,0,0,0,0,0,0,0,0,0,0,0,0,0,0,0,0,0,0.0,0.0,0.0,0.0025,0.0025,0.0,0.005,0.0025,0.0125,0.0225,0.02,0.0375,0.0525,0.065,0.0675,0.1025,0.0975,0.12,0.1725,0.185,1,1,1,1,1,1,1,1,1,1,1,1,1,1,1,1,1,1,1,1,1,1,1,1,1,1,1,1,1,1,1,1,1,1,1,1,1,1,1,1,1,1,1,1,1,1,1,1,1,1,1,1,1,1,1,1,1,1,1,1,1,1,1,1,1,1,1,1,1,1,1,1,1,1,1,1,1,1,1,1,1,1,1,1,1,1,1,1,1,1,1,1,1,1,1,1,1,1,1,1,1,1,1,1,1,1,1,1,1,1,1,1,1,1,1,1,1,1,1,1,1,1,1,1,1,1,1,1,1,1,1,1,1,1,1,1,1,1,1,1,1,1,1,1,1,1,1,1,1,1,1,1,1,1,1,1,1,1,1,1,1,1,1,1,1,1,1,1,1,1,1,1,1,1,1,1,1,1,1,1,1,1,1,1,1,1,1,1,1,1,1,1,1,1,1,1,1,1,1,1,1,1,1,1,1,1,1,1,1,1,1,1,1,1,1,1,1,1,1,1,1,1,1,1,1,1,1,1,1,1,1,1,1,1,1,1,1,1,1,1,1,1,1,1,1,1,1,1,1,1,1,1,1,1,1,1,1,1,1,1,1,1,1,1,1,1,1,1,1,1,1,1,1,1,1,1,1,1,1,1,1,1,1,1,1,1,1,1,1,1,1,1,1,1,1,1,1,1,1,1,1,1,1,1,1,1,1,1,1,1,1,1,1,1,1,1,1,1,1,1,1,1,1,1,1,1,1,1,1,1,1,1,1,1,1,1,1,1,1,1,1,1,1,1,1,1,1,1,1,1,1,1,1,1,1,1,1,1,1,1,1,1,1,1,1,1,1,1,1,1,1,1,1,1,1,1,1,1,1,1,1,1,1,1,1,1,1,1,1,1,1,1,1,1,1,1,1,1,1,1,1,1,1,1,1,1,1,1,1,1,1,1,1,1,1,1,1,1,1,1,1,1,1,1,1,1,1,1,1,1,1,1,1,1,1,1,1,1,1,1,1,1,1,1,1,1,1,1,1,1,1,1,1,1,1,1,1,1,1,1,1,1,1,1,1,1,1,1,1,1,1,1,1,1,1,1,1,1,1,1,1,1,1,1,1,1,1,1,1,1,1,1,1,1,1,1,1,1,1,1,1,1,1,1,1,1,1,1,1,1,1,1,1,1,1,1,1,1,1,1,1,1,1,1,1,1,1,1,1,1,1,1,1,1,1,1,1,1,1,1,1,1,1,1,1,1,1,1,1,1,1,1,1,1,1,1,1,1,1,1,1,1,1,1,1,1,1,1,1,1,1,1,1,1,1,1,1,1,1,1,1,1,1,1,1,1,1,1,1,1,1,1,1,1,1,1,1,1,1,1,1,1,1,1,1,1,1,1,1,1,1,1,1,1,1,1,1,1,1,1,1,1,1,1,1,1,1,1,1,1,1,1,1,1,1,1,1,1,1,1,1,1,1,1,1,1,1,1,1,1,1,1,1,1,1,1,1,1,1,1,1,1,1,1,1,1,1,1,1,1,1,1,1,1,1,1,1,1,1,1,1,1,1,1,1,1,1,1,1,1,1,1,1,1,1,1,1,1,1,1,1,1,1,1,1,1,1,1,1,1,1,1,1,1,1,1,1,1,1,1,1,1,1,1,1,1,1,1,1,1,1,1,1,1,1,1,1,1,1,1,1,1,1,1,1,1,1,1,1,1,1,1,1,1,1,1,1,1,1,1],\"type\":\"scatter\"},{\"mode\":\"markers+lines\",\"name\":\"Magic Sauce (degree)\",\"x\":[0,1,2,3,4,5,6,7,8,9,10,11,12,13,14,15,16,17,18,19,20,21,22,23,24,25,26,27,28,29,30,31,32,33,34,35,36,37,38,39,40,41,42,43,44,45,46,47,48,49,50,51,52,53,54,55,56,57,58,59,60,61,62,63,64,65,66,67,68,69,70,71,72,73,74,75,76,77,78,79,80,81,82,83,84,85,86,87,88,89,90,91,92,93,94,95,96,97,98,99,100,101,102,103,104,105,106,107,108,109,110,111,112,113,114,115,116,117,118,119,120,121,122,123,124,125,126,127,128,129,130,131,132,133,134,135,136,137,138,139,140,141,142,143,144,145,146,147,148,149,150,151,152,153,154,155,156,157,158,159,160,161,162,163,164,165,166,167,168,169,170,171,172,173,174,175,176,177,178,179,180,181,182,183,184,185,186,187,188,189,190,191,192,193,194,195,196,197,198,199,200,201,202,203,204,205,206,207,208,209,210,211,212,213,214,215,216,217,218,219,220,221,222,223,224,225,226,227,228,229,230,231,232,233,234,235,236,237,238,239,240,241,242,243,244,245,246,247,248,249,250,251,252,253,254,255,256,257,258,259,260,261,262,263,264,265,266,267,268,269,270,271,272,273,274,275,276,277,278,279,280,281,282,283,284,285,286,287,288,289,290,291,292,293,294,295,296,297,298,299,300,301,302,303,304,305,306,307,308,309,310,311,312,313,314,315,316,317,318,319,320,321,322,323,324,325,326,327,328,329,330,331,332,333,334,335,336,337,338,339,340,341,342,343,344,345,346,347,348,349,350,351,352,353,354,355,356,357,358,359,360,361,362,363,364,365,366,367,368,369,370,371,372,373,374,375,376,377,378,379,380,381,382,383,384,385,386,387,388,389,390,391,392,393,394,395,396,397,398,399,400,401,402,403,404,405,406,407,408,409,410,411,412,413,414,415,416,417,418,419,420,421,422,423,424,425,426,427,428,429,430,431,432,433,434,435,436,437,438,439,440,441,442,443,444,445,446,447,448,449,450,451,452,453,454,455,456,457,458,459,460,461,462,463,464,465,466,467,468,469,470,471,472,473,474,475,476,477,478,479,480,481,482,483,484,485,486,487,488,489,490,491,492,493,494,495,496,497,498,499,500,501,502,503,504,505,506,507,508,509,510,511,512,513,514,515,516,517,518,519,520,521,522,523,524,525,526,527,528,529,530,531,532,533,534,535,536,537,538,539,540,541,542,543,544,545,546,547,548,549,550,551,552,553,554,555,556,557,558,559,560,561,562,563,564,565,566,567,568,569,570,571,572,573,574,575,576,577,578,579,580,581,582,583,584,585,586,587,588,589,590,591,592,593,594,595,596,597,598,599,600,601,602,603,604,605,606,607,608,609,610,611,612,613,614,615,616,617,618,619,620,621,622,623,624,625,626,627,628,629,630,631,632,633,634,635,636,637,638,639,640,641,642,643,644,645,646,647,648,649,650,651,652,653,654,655,656,657,658,659,660,661,662,663,664,665,666,667,668,669,670,671,672,673,674,675,676,677,678,679,680,681,682,683,684,685,686,687,688,689,690,691,692,693,694,695,696,697,698,699,700,701,702,703,704,705,706,707,708,709,710,711,712,713,714,715,716,717,718,719,720,721,722,723,724,725,726,727,728,729,730,731,732,733,734,735,736,737,738,739,740,741,742,743,744,745,746,747,748,749,750,751,752,753,754,755,756,757,758,759,760,761,762,763,764,765,766,767,768,769,770,771,772,773,774,775,776,777,778,779,780,781,782,783,784,785,786,787,788,789,790,791,792,793,794,795,796,797,798,799],\"y\":[0,0,0,0,0,0,0,0,0,0,0,0,0,0,0,0,0,0,0,0,0.0,0.0,0.0,0.0,0.0,0.0,0.0,0.0033333333333333335,0.0,0.02,0.006666666666666667,0.03,0.05,0.05333333333333334,0.12333333333333334,0.15,0.18,0.28,0.24333333333333335,0.3333333333333333,1,1,1,1,1,1,1,1,1,1,1,1,1,1,1,1,1,1,1,1,1,1,1,1,1,1,1,1,1,1,1,1,1,1,1,1,1,1,1,1,1,1,1,1,1,1,1,1,1,1,1,1,1,1,1,1,1,1,1,1,1,1,1,1,1,1,1,1,1,1,1,1,1,1,1,1,1,1,1,1,1,1,1,1,1,1,1,1,1,1,1,1,1,1,1,1,1,1,1,1,1,1,1,1,1,1,1,1,1,1,1,1,1,1,1,1,1,1,1,1,1,1,1,1,1,1,1,1,1,1,1,1,1,1,1,1,1,1,1,1,1,1,1,1,1,1,1,1,1,1,1,1,1,1,1,1,1,1,1,1,1,1,1,1,1,1,1,1,1,1,1,1,1,1,1,1,1,1,1,1,1,1,1,1,1,1,1,1,1,1,1,1,1,1,1,1,1,1,1,1,1,1,1,1,1,1,1,1,1,1,1,1,1,1,1,1,1,1,1,1,1,1,1,1,1,1,1,1,1,1,1,1,1,1,1,1,1,1,1,1,1,1,1,1,1,1,1,1,1,1,1,1,1,1,1,1,1,1,1,1,1,1,1,1,1,1,1,1,1,1,1,1,1,1,1,1,1,1,1,1,1,1,1,1,1,1,1,1,1,1,1,1,1,1,1,1,1,1,1,1,1,1,1,1,1,1,1,1,1,1,1,1,1,1,1,1,1,1,1,1,1,1,1,1,1,1,1,1,1,1,1,1,1,1,1,1,1,1,1,1,1,1,1,1,1,1,1,1,1,1,1,1,1,1,1,1,1,1,1,1,1,1,1,1,1,1,1,1,1,1,1,1,1,1,1,1,1,1,1,1,1,1,1,1,1,1,1,1,1,1,1,1,1,1,1,1,1,1,1,1,1,1,1,1,1,1,1,1,1,1,1,1,1,1,1,1,1,1,1,1,1,1,1,1,1,1,1,1,1,1,1,1,1,1,1,1,1,1,1,1,1,1,1,1,1,1,1,1,1,1,1,1,1,1,1,1,1,1,1,1,1,1,1,1,1,1,1,1,1,1,1,1,1,1,1,1,1,1,1,1,1,1,1,1,1,1,1,1,1,1,1,1,1,1,1,1,1,1,1,1,1,1,1,1,1,1,1,1,1,1,1,1,1,1,1,1,1,1,1,1,1,1,1,1,1,1,1,1,1,1,1,1,1,1,1,1,1,1,1,1,1,1,1,1,1,1,1,1,1,1,1,1,1,1,1,1,1,1,1,1,1,1,1,1,1,1,1,1,1,1,1,1,1,1,1,1,1,1,1,1,1,1,1,1,1,1,1,1,1,1,1,1,1,1,1,1,1,1,1,1,1,1,1,1,1,1,1,1,1,1,1,1,1,1,1,1,1,1,1,1,1,1,1,1,1,1,1,1,1,1,1,1,1,1,1,1,1,1,1,1,1,1,1,1,1,1,1,1,1,1,1,1,1,1,1,1,1,1,1,1,1,1,1,1,1,1,1,1,1,1,1,1,1,1,1,1,1,1,1,1,1,1,1,1,1,1,1,1,1,1,1,1,1,1,1,1,1,1,1,1,1,1,1,1,1,1,1,1,1,1,1,1,1,1,1,1,1,1,1,1,1,1,1,1,1,1,1,1,1,1,1,1,1,1,1,1,1,1,1,1,1,1,1,1,1,1,1,1,1,1,1,1,1,1,1,1,1,1,1,1],\"type\":\"scatter\"},{\"mode\":\"markers+lines\",\"name\":\"Magic sauce (betweenness)\",\"x\":[0,1,2,3,4,5,6,7,8,9,10,11,12,13,14,15,16,17,18,19,20,21,22,23,24,25,26,27,28,29,30,31,32,33,34,35,36,37,38,39,40,41,42,43,44,45,46,47,48,49,50,51,52,53,54,55,56,57,58,59,60,61,62,63,64,65,66,67,68,69,70,71,72,73,74,75,76,77,78,79,80,81,82,83,84,85,86,87,88,89,90,91,92,93,94,95,96,97,98,99,100,101,102,103,104,105,106,107,108,109,110,111,112,113,114,115,116,117,118,119,120,121,122,123,124,125,126,127,128,129,130,131,132,133,134,135,136,137,138,139,140,141,142,143,144,145,146,147,148,149,150,151,152,153,154,155,156,157,158,159,160,161,162,163,164,165,166,167,168,169,170,171,172,173,174,175,176,177,178,179,180,181,182,183,184,185,186,187,188,189,190,191,192,193,194,195,196,197,198,199,200,201,202,203,204,205,206,207,208,209,210,211,212,213,214,215,216,217,218,219,220,221,222,223,224,225,226,227,228,229,230,231,232,233,234,235,236,237,238,239,240,241,242,243,244,245,246,247,248,249,250,251,252,253,254,255,256,257,258,259,260,261,262,263,264,265,266,267,268,269,270,271,272,273,274,275,276,277,278,279,280,281,282,283,284,285,286,287,288,289,290,291,292,293,294,295,296,297,298,299,300,301,302,303,304,305,306,307,308,309,310,311,312,313,314,315,316,317,318,319,320,321,322,323,324,325,326,327,328,329,330,331,332,333,334,335,336,337,338,339,340,341,342,343,344,345,346,347,348,349,350,351,352,353,354,355,356,357,358,359,360,361,362,363,364,365,366,367,368,369,370,371,372,373,374,375,376,377,378,379,380,381,382,383,384,385,386,387,388,389,390,391,392,393,394,395,396,397,398,399,400,401,402,403,404,405,406,407,408,409,410,411,412,413,414,415,416,417,418,419,420,421,422,423,424,425,426,427,428,429,430,431,432,433,434,435,436,437,438,439,440,441,442,443,444,445,446,447,448,449,450,451,452,453,454,455,456,457,458,459,460,461,462,463,464,465,466,467,468,469,470,471,472,473,474,475,476,477,478,479,480,481,482,483,484,485,486,487,488,489,490,491,492,493,494,495,496,497,498,499,500,501,502,503,504,505,506,507,508,509,510,511,512,513,514,515,516,517,518,519,520,521,522,523,524,525,526,527,528,529,530,531,532,533,534,535,536,537,538,539,540,541,542,543,544,545,546,547,548,549,550,551,552,553,554,555,556,557,558,559,560,561,562,563,564,565,566,567,568,569,570,571,572,573,574,575,576,577,578,579,580,581,582,583,584,585,586,587,588,589,590,591,592,593,594,595,596,597,598,599,600,601,602,603,604,605,606,607,608,609,610,611,612,613,614,615,616,617,618,619,620,621,622,623,624,625,626,627,628,629,630,631,632,633,634,635,636,637,638,639,640,641,642,643,644,645,646,647,648,649,650,651,652,653,654,655,656,657,658,659,660,661,662,663,664,665,666,667,668,669,670,671,672,673,674,675,676,677,678,679,680,681,682,683,684,685,686,687,688,689,690,691,692,693,694,695,696,697,698,699,700,701,702,703,704,705,706,707,708,709,710,711,712,713,714,715,716,717,718,719,720,721,722,723,724,725,726,727,728,729,730,731,732,733,734,735,736,737,738,739,740,741,742,743,744,745,746,747,748,749,750,751,752,753,754,755,756,757,758,759,760,761,762,763,764,765,766,767,768,769,770,771,772,773,774,775,776,777,778,779,780,781,782,783,784,785,786,787,788,789,790,791,792,793,794,795,796,797,798,799],\"y\":[0,0,0,0,0,0,0,0,0,0,0,0,0,0,0,0,0,0,0,0,0.0,0.0,0.0,0.0,0.0,0.0,0.0,0.0,0.0,0.0,0.0,0.0,0.0,0.0,0.0,0.0,0.0,0.0,0.0,0.006666666666666667,1,1,1,1,1,1,1,1,1,1,1,1,1,1,1,1,1,1,1,1,1,1,1,1,1,1,1,1,1,1,1,1,1,1,1,1,1,1,1,1,1,1,1,1,1,1,1,1,1,1,1,1,1,1,1,1,1,1,1,1,1,1,1,1,1,1,1,1,1,1,1,1,1,1,1,1,1,1,1,1,1,1,1,1,1,1,1,1,1,1,1,1,1,1,1,1,1,1,1,1,1,1,1,1,1,1,1,1,1,1,1,1,1,1,1,1,1,1,1,1,1,1,1,1,1,1,1,1,1,1,1,1,1,1,1,1,1,1,1,1,1,1,1,1,1,1,1,1,1,1,1,1,1,1,1,1,1,1,1,1,1,1,1,1,1,1,1,1,1,1,1,1,1,1,1,1,1,1,1,1,1,1,1,1,1,1,1,1,1,1,1,1,1,1,1,1,1,1,1,1,1,1,1,1,1,1,1,1,1,1,1,1,1,1,1,1,1,1,1,1,1,1,1,1,1,1,1,1,1,1,1,1,1,1,1,1,1,1,1,1,1,1,1,1,1,1,1,1,1,1,1,1,1,1,1,1,1,1,1,1,1,1,1,1,1,1,1,1,1,1,1,1,1,1,1,1,1,1,1,1,1,1,1,1,1,1,1,1,1,1,1,1,1,1,1,1,1,1,1,1,1,1,1,1,1,1,1,1,1,1,1,1,1,1,1,1,1,1,1,1,1,1,1,1,1,1,1,1,1,1,1,1,1,1,1,1,1,1,1,1,1,1,1,1,1,1,1,1,1,1,1,1,1,1,1,1,1,1,1,1,1,1,1,1,1,1,1,1,1,1,1,1,1,1,1,1,1,1,1,1,1,1,1,1,1,1,1,1,1,1,1,1,1,1,1,1,1,1,1,1,1,1,1,1,1,1,1,1,1,1,1,1,1,1,1,1,1,1,1,1,1,1,1,1,1,1,1,1,1,1,1,1,1,1,1,1,1,1,1,1,1,1,1,1,1,1,1,1,1,1,1,1,1,1,1,1,1,1,1,1,1,1,1,1,1,1,1,1,1,1,1,1,1,1,1,1,1,1,1,1,1,1,1,1,1,1,1,1,1,1,1,1,1,1,1,1,1,1,1,1,1,1,1,1,1,1,1,1,1,1,1,1,1,1,1,1,1,1,1,1,1,1,1,1,1,1,1,1,1,1,1,1,1,1,1,1,1,1,1,1,1,1,1,1,1,1,1,1,1,1,1,1,1,1,1,1,1,1,1,1,1,1,1,1,1,1,1,1,1,1,1,1,1,1,1,1,1,1,1,1,1,1,1,1,1,1,1,1,1,1,1,1,1,1,1,1,1,1,1,1,1,1,1,1,1,1,1,1,1,1,1,1,1,1,1,1,1,1,1,1,1,1,1,1,1,1,1,1,1,1,1,1,1,1,1,1,1,1,1,1,1,1,1,1,1,1,1,1,1,1,1,1,1,1,1,1,1,1,1,1,1,1,1,1,1,1,1,1,1,1,1,1,1,1,1,1,1,1,1,1,1,1,1,1,1,1,1,1,1,1,1,1,1,1,1,1,1,1,1,1,1,1,1,1,1,1,1,1,1,1,1,1,1,1,1,1,1,1,1,1,1,1,1,1,1,1,1,1,1,1,1,1,1,1,1,1,1,1,1,1,1,1,1,1,1,1,1,1,1,1,1,1,1,1,1,1,1,1,1,1],\"type\":\"scatter\"}],                        {\"xaxis\":{\"title\":{\"text\":\"Cardinality of the subset\"}},\"yaxis\":{\"title\":{\"text\":\"Probability of resolving the graph\"}},\"template\":{\"data\":{\"histogram2dcontour\":[{\"type\":\"histogram2dcontour\",\"colorbar\":{\"outlinewidth\":0,\"ticks\":\"\"},\"colorscale\":[[0.0,\"#0d0887\"],[0.1111111111111111,\"#46039f\"],[0.2222222222222222,\"#7201a8\"],[0.3333333333333333,\"#9c179e\"],[0.4444444444444444,\"#bd3786\"],[0.5555555555555556,\"#d8576b\"],[0.6666666666666666,\"#ed7953\"],[0.7777777777777778,\"#fb9f3a\"],[0.8888888888888888,\"#fdca26\"],[1.0,\"#f0f921\"]]}],\"choropleth\":[{\"type\":\"choropleth\",\"colorbar\":{\"outlinewidth\":0,\"ticks\":\"\"}}],\"histogram2d\":[{\"type\":\"histogram2d\",\"colorbar\":{\"outlinewidth\":0,\"ticks\":\"\"},\"colorscale\":[[0.0,\"#0d0887\"],[0.1111111111111111,\"#46039f\"],[0.2222222222222222,\"#7201a8\"],[0.3333333333333333,\"#9c179e\"],[0.4444444444444444,\"#bd3786\"],[0.5555555555555556,\"#d8576b\"],[0.6666666666666666,\"#ed7953\"],[0.7777777777777778,\"#fb9f3a\"],[0.8888888888888888,\"#fdca26\"],[1.0,\"#f0f921\"]]}],\"heatmap\":[{\"type\":\"heatmap\",\"colorbar\":{\"outlinewidth\":0,\"ticks\":\"\"},\"colorscale\":[[0.0,\"#0d0887\"],[0.1111111111111111,\"#46039f\"],[0.2222222222222222,\"#7201a8\"],[0.3333333333333333,\"#9c179e\"],[0.4444444444444444,\"#bd3786\"],[0.5555555555555556,\"#d8576b\"],[0.6666666666666666,\"#ed7953\"],[0.7777777777777778,\"#fb9f3a\"],[0.8888888888888888,\"#fdca26\"],[1.0,\"#f0f921\"]]}],\"heatmapgl\":[{\"type\":\"heatmapgl\",\"colorbar\":{\"outlinewidth\":0,\"ticks\":\"\"},\"colorscale\":[[0.0,\"#0d0887\"],[0.1111111111111111,\"#46039f\"],[0.2222222222222222,\"#7201a8\"],[0.3333333333333333,\"#9c179e\"],[0.4444444444444444,\"#bd3786\"],[0.5555555555555556,\"#d8576b\"],[0.6666666666666666,\"#ed7953\"],[0.7777777777777778,\"#fb9f3a\"],[0.8888888888888888,\"#fdca26\"],[1.0,\"#f0f921\"]]}],\"contourcarpet\":[{\"type\":\"contourcarpet\",\"colorbar\":{\"outlinewidth\":0,\"ticks\":\"\"}}],\"contour\":[{\"type\":\"contour\",\"colorbar\":{\"outlinewidth\":0,\"ticks\":\"\"},\"colorscale\":[[0.0,\"#0d0887\"],[0.1111111111111111,\"#46039f\"],[0.2222222222222222,\"#7201a8\"],[0.3333333333333333,\"#9c179e\"],[0.4444444444444444,\"#bd3786\"],[0.5555555555555556,\"#d8576b\"],[0.6666666666666666,\"#ed7953\"],[0.7777777777777778,\"#fb9f3a\"],[0.8888888888888888,\"#fdca26\"],[1.0,\"#f0f921\"]]}],\"surface\":[{\"type\":\"surface\",\"colorbar\":{\"outlinewidth\":0,\"ticks\":\"\"},\"colorscale\":[[0.0,\"#0d0887\"],[0.1111111111111111,\"#46039f\"],[0.2222222222222222,\"#7201a8\"],[0.3333333333333333,\"#9c179e\"],[0.4444444444444444,\"#bd3786\"],[0.5555555555555556,\"#d8576b\"],[0.6666666666666666,\"#ed7953\"],[0.7777777777777778,\"#fb9f3a\"],[0.8888888888888888,\"#fdca26\"],[1.0,\"#f0f921\"]]}],\"mesh3d\":[{\"type\":\"mesh3d\",\"colorbar\":{\"outlinewidth\":0,\"ticks\":\"\"}}],\"scatter\":[{\"fillpattern\":{\"fillmode\":\"overlay\",\"size\":10,\"solidity\":0.2},\"type\":\"scatter\"}],\"parcoords\":[{\"type\":\"parcoords\",\"line\":{\"colorbar\":{\"outlinewidth\":0,\"ticks\":\"\"}}}],\"scatterpolargl\":[{\"type\":\"scatterpolargl\",\"marker\":{\"colorbar\":{\"outlinewidth\":0,\"ticks\":\"\"}}}],\"bar\":[{\"error_x\":{\"color\":\"#2a3f5f\"},\"error_y\":{\"color\":\"#2a3f5f\"},\"marker\":{\"line\":{\"color\":\"#E5ECF6\",\"width\":0.5},\"pattern\":{\"fillmode\":\"overlay\",\"size\":10,\"solidity\":0.2}},\"type\":\"bar\"}],\"scattergeo\":[{\"type\":\"scattergeo\",\"marker\":{\"colorbar\":{\"outlinewidth\":0,\"ticks\":\"\"}}}],\"scatterpolar\":[{\"type\":\"scatterpolar\",\"marker\":{\"colorbar\":{\"outlinewidth\":0,\"ticks\":\"\"}}}],\"histogram\":[{\"marker\":{\"pattern\":{\"fillmode\":\"overlay\",\"size\":10,\"solidity\":0.2}},\"type\":\"histogram\"}],\"scattergl\":[{\"type\":\"scattergl\",\"marker\":{\"colorbar\":{\"outlinewidth\":0,\"ticks\":\"\"}}}],\"scatter3d\":[{\"type\":\"scatter3d\",\"line\":{\"colorbar\":{\"outlinewidth\":0,\"ticks\":\"\"}},\"marker\":{\"colorbar\":{\"outlinewidth\":0,\"ticks\":\"\"}}}],\"scattermapbox\":[{\"type\":\"scattermapbox\",\"marker\":{\"colorbar\":{\"outlinewidth\":0,\"ticks\":\"\"}}}],\"scatterternary\":[{\"type\":\"scatterternary\",\"marker\":{\"colorbar\":{\"outlinewidth\":0,\"ticks\":\"\"}}}],\"scattercarpet\":[{\"type\":\"scattercarpet\",\"marker\":{\"colorbar\":{\"outlinewidth\":0,\"ticks\":\"\"}}}],\"carpet\":[{\"aaxis\":{\"endlinecolor\":\"#2a3f5f\",\"gridcolor\":\"white\",\"linecolor\":\"white\",\"minorgridcolor\":\"white\",\"startlinecolor\":\"#2a3f5f\"},\"baxis\":{\"endlinecolor\":\"#2a3f5f\",\"gridcolor\":\"white\",\"linecolor\":\"white\",\"minorgridcolor\":\"white\",\"startlinecolor\":\"#2a3f5f\"},\"type\":\"carpet\"}],\"table\":[{\"cells\":{\"fill\":{\"color\":\"#EBF0F8\"},\"line\":{\"color\":\"white\"}},\"header\":{\"fill\":{\"color\":\"#C8D4E3\"},\"line\":{\"color\":\"white\"}},\"type\":\"table\"}],\"barpolar\":[{\"marker\":{\"line\":{\"color\":\"#E5ECF6\",\"width\":0.5},\"pattern\":{\"fillmode\":\"overlay\",\"size\":10,\"solidity\":0.2}},\"type\":\"barpolar\"}],\"pie\":[{\"automargin\":true,\"type\":\"pie\"}]},\"layout\":{\"autotypenumbers\":\"strict\",\"colorway\":[\"#636efa\",\"#EF553B\",\"#00cc96\",\"#ab63fa\",\"#FFA15A\",\"#19d3f3\",\"#FF6692\",\"#B6E880\",\"#FF97FF\",\"#FECB52\"],\"font\":{\"color\":\"#2a3f5f\"},\"hovermode\":\"closest\",\"hoverlabel\":{\"align\":\"left\"},\"paper_bgcolor\":\"white\",\"plot_bgcolor\":\"#E5ECF6\",\"polar\":{\"bgcolor\":\"#E5ECF6\",\"angularaxis\":{\"gridcolor\":\"white\",\"linecolor\":\"white\",\"ticks\":\"\"},\"radialaxis\":{\"gridcolor\":\"white\",\"linecolor\":\"white\",\"ticks\":\"\"}},\"ternary\":{\"bgcolor\":\"#E5ECF6\",\"aaxis\":{\"gridcolor\":\"white\",\"linecolor\":\"white\",\"ticks\":\"\"},\"baxis\":{\"gridcolor\":\"white\",\"linecolor\":\"white\",\"ticks\":\"\"},\"caxis\":{\"gridcolor\":\"white\",\"linecolor\":\"white\",\"ticks\":\"\"}},\"coloraxis\":{\"colorbar\":{\"outlinewidth\":0,\"ticks\":\"\"}},\"colorscale\":{\"sequential\":[[0.0,\"#0d0887\"],[0.1111111111111111,\"#46039f\"],[0.2222222222222222,\"#7201a8\"],[0.3333333333333333,\"#9c179e\"],[0.4444444444444444,\"#bd3786\"],[0.5555555555555556,\"#d8576b\"],[0.6666666666666666,\"#ed7953\"],[0.7777777777777778,\"#fb9f3a\"],[0.8888888888888888,\"#fdca26\"],[1.0,\"#f0f921\"]],\"sequentialminus\":[[0.0,\"#0d0887\"],[0.1111111111111111,\"#46039f\"],[0.2222222222222222,\"#7201a8\"],[0.3333333333333333,\"#9c179e\"],[0.4444444444444444,\"#bd3786\"],[0.5555555555555556,\"#d8576b\"],[0.6666666666666666,\"#ed7953\"],[0.7777777777777778,\"#fb9f3a\"],[0.8888888888888888,\"#fdca26\"],[1.0,\"#f0f921\"]],\"diverging\":[[0,\"#8e0152\"],[0.1,\"#c51b7d\"],[0.2,\"#de77ae\"],[0.3,\"#f1b6da\"],[0.4,\"#fde0ef\"],[0.5,\"#f7f7f7\"],[0.6,\"#e6f5d0\"],[0.7,\"#b8e186\"],[0.8,\"#7fbc41\"],[0.9,\"#4d9221\"],[1,\"#276419\"]]},\"xaxis\":{\"gridcolor\":\"white\",\"linecolor\":\"white\",\"ticks\":\"\",\"title\":{\"standoff\":15},\"zerolinecolor\":\"white\",\"automargin\":true,\"zerolinewidth\":2},\"yaxis\":{\"gridcolor\":\"white\",\"linecolor\":\"white\",\"ticks\":\"\",\"title\":{\"standoff\":15},\"zerolinecolor\":\"white\",\"automargin\":true,\"zerolinewidth\":2},\"scene\":{\"xaxis\":{\"backgroundcolor\":\"#E5ECF6\",\"gridcolor\":\"white\",\"linecolor\":\"white\",\"showbackground\":true,\"ticks\":\"\",\"zerolinecolor\":\"white\",\"gridwidth\":2},\"yaxis\":{\"backgroundcolor\":\"#E5ECF6\",\"gridcolor\":\"white\",\"linecolor\":\"white\",\"showbackground\":true,\"ticks\":\"\",\"zerolinecolor\":\"white\",\"gridwidth\":2},\"zaxis\":{\"backgroundcolor\":\"#E5ECF6\",\"gridcolor\":\"white\",\"linecolor\":\"white\",\"showbackground\":true,\"ticks\":\"\",\"zerolinecolor\":\"white\",\"gridwidth\":2}},\"shapedefaults\":{\"line\":{\"color\":\"#2a3f5f\"}},\"annotationdefaults\":{\"arrowcolor\":\"#2a3f5f\",\"arrowhead\":0,\"arrowwidth\":1},\"geo\":{\"bgcolor\":\"white\",\"landcolor\":\"#E5ECF6\",\"subunitcolor\":\"white\",\"showland\":true,\"showlakes\":true,\"lakecolor\":\"white\"},\"title\":{\"x\":0.05},\"mapbox\":{\"style\":\"light\"}}}},                        {\"responsive\": true}                    ).then(function(){\n",
       "                            \n",
       "var gd = document.getElementById('2e55e85c-cf45-4e7c-a595-a271ad7083b0');\n",
       "var x = new MutationObserver(function (mutations, observer) {{\n",
       "        var display = window.getComputedStyle(gd).display;\n",
       "        if (!display || display === 'none') {{\n",
       "            console.log([gd, 'removed!']);\n",
       "            Plotly.purge(gd);\n",
       "            observer.disconnect();\n",
       "        }}\n",
       "}});\n",
       "\n",
       "// Listen for the removal of the full notebook cells\n",
       "var notebookContainer = gd.closest('#notebook-container');\n",
       "if (notebookContainer) {{\n",
       "    x.observe(notebookContainer, {childList: true});\n",
       "}}\n",
       "\n",
       "// Listen for the clearing of the current output cell\n",
       "var outputEl = gd.closest('.output');\n",
       "if (outputEl) {{\n",
       "    x.observe(outputEl, {childList: true});\n",
       "}}\n",
       "\n",
       "                        })                };                });            </script>        </div>"
      ]
     },
     "metadata": {},
     "output_type": "display_data"
    }
   ],
   "source": [
    "# Define your data\n",
    "x = list(solutions_rand_fb.keys())\n",
    "y = list(solutions_rand_fb.values())\n",
    "\n",
    "\n",
    "x2 = list(solutions_prob_d.keys())\n",
    "y2 = list(solutions_prob_d.values())\n",
    "\n",
    "x3 = list(solutions_prob_bc_fb.keys())\n",
    "y3 = list(solutions_prob_bc_fb.values())\n",
    "\n",
    "x4 = list(solutions_prob_dc_fb.keys())\n",
    "y4 = list(solutions_prob_dc_fb.values())\n",
    "\n",
    "x5 = list(solutions_prob_so_fb.keys())\n",
    "y5 = list(solutions_prob_so_fb.values())\n",
    "\n",
    "x6 = list(solutions_prob_cc_fb.keys())\n",
    "y6 = list(solutions_prob_cc_fb.values())\n",
    "\n",
    "x7 = list(solutions_prob_ms_bc_add.keys())\n",
    "y7 = list(solutions_prob_ms_bc_add.values())\n",
    "\n",
    "x8 = list(solutions_prob_eigen_fb.keys())\n",
    "y8 = list(solutions_prob_eigen_fb.values())\n",
    "\n",
    "x9 = list(solutions_prob_ms_d.keys())\n",
    "y9 = list(solutions_prob_ms_d.values())\n",
    "\n",
    "x10 = list(solutions_prob_ms_bc.keys())\n",
    "y10 = list(solutions_prob_ms_bc.values())\n",
    "\n",
    "# Define the trace for the scatter plot\n",
    "trace = go.Scatter(x=x, y=y, mode='markers+lines', name='Random vertices')\n",
    "trace2 = go.Scatter(x=x2, y=y2, mode='markers+lines', name='Random vertices (prop to degree)')\n",
    "trace3 = go.Scatter(x=x3, y=y3, mode='markers+lines', name='Betweeness centrality')\n",
    "trace4 = go.Scatter(x=x4, y=y4, mode='markers+lines', name='Degree centrality')\n",
    "trace5 = go.Scatter(x=x5, y=y5, mode='markers+lines', name='Second order centrality)')\n",
    "trace6 = go.Scatter(x=x6, y=y6, mode='markers+lines', name='Closness centrality')\n",
    "trace7 = go.Scatter(x=x7, y=y7, mode='markers+lines', name='Magic sauce (betweenness + trick)')\n",
    "trace8 = go.Scatter(x=x8, y=y8, mode='markers+lines', name='Eigenvector centrality')\n",
    "trace9 = go.Scatter(x=x9, y=y9, mode='markers+lines', name='Magic Sauce (degree)')\n",
    "trace10 = go.Scatter(x=x10, y=y10, mode='markers+lines', name='Magic sauce (betweenness)')\n",
    "\n",
    "# Define the layout\n",
    "layout = go.Layout(#title='Probability of resolving the graph as a function of the subset cardinality', \n",
    "                   #title_x=0.5,\n",
    "                   xaxis=dict(title='Cardinality of the subset'), \n",
    "                   yaxis=dict(title='Probability of resolving the graph'))\n",
    "                   #legend=dict(x=0.67, y=0.08, orientation='v'))\n",
    "\n",
    "# Combine the traces and layout into a figure\n",
    "fig = go.Figure(data=[trace, trace1, trace3, trace4, trace5, trace6, trace7, trace8, trace9, trace10], layout=layout)\n",
    "\n",
    "# Show the figure\n",
    "fig.show()"
   ]
  },
  {
   "cell_type": "code",
   "execution_count": 254,
   "id": "041bb293",
   "metadata": {},
   "outputs": [],
   "source": [
    "def sim_centrality_box_real(G, centrality_f, nb_graph=1, nb_of_iters=400):\n",
    "    \n",
    "    box_sol = []\n",
    "    \n",
    "    # Generate the random graph and compute shortest paths\n",
    "    G = G_fb\n",
    "    length = dict(nx.all_pairs_shortest_path_length(G))\n",
    "\n",
    "    c = centrality_f(G)\n",
    "\n",
    "    # normalize the centralities\n",
    "    c_values = np.array(list(c.values()))\n",
    "    c_norm = c_values / sum(c_values)\n",
    "    node_list = list(c.keys())\n",
    "\n",
    "    for _ in range(nb_of_iters):\n",
    "        nodes = np.random.choice(node_list, p=c_norm, size=len(G), replace=False) # Random set of nodes to test\n",
    "        for nb in range(0, len(G)):\n",
    "            if is_resolving_set(G, nodes[:nb], length):\n",
    "                box_sol.append(nb)\n",
    "                break\n",
    "                    \n",
    "    return box_sol"
   ]
  },
  {
   "cell_type": "code",
   "execution_count": 170,
   "id": "b208ec41",
   "metadata": {},
   "outputs": [
    {
     "name": "stderr",
     "output_type": "stream",
     "text": [
      "  1%|▍                                        | 1/100 [01:38<2:42:46, 98.65s/it]"
     ]
    },
    {
     "name": "stdout",
     "output_type": "stream",
     "text": [
      "653\n"
     ]
    },
    {
     "name": "stderr",
     "output_type": "stream",
     "text": [
      "\r",
      "  2%|▊                                        | 2/100 [02:24<1:49:58, 67.33s/it]"
     ]
    },
    {
     "name": "stdout",
     "output_type": "stream",
     "text": [
      "415\n"
     ]
    },
    {
     "name": "stderr",
     "output_type": "stream",
     "text": [
      "\r",
      "  3%|█▏                                       | 3/100 [03:05<1:29:24, 55.31s/it]"
     ]
    },
    {
     "name": "stdout",
     "output_type": "stream",
     "text": [
      "414\n"
     ]
    },
    {
     "name": "stderr",
     "output_type": "stream",
     "text": [
      "\r",
      "  4%|█▋                                       | 4/100 [03:48<1:20:41, 50.43s/it]"
     ]
    },
    {
     "name": "stdout",
     "output_type": "stream",
     "text": [
      "446\n"
     ]
    },
    {
     "name": "stderr",
     "output_type": "stream",
     "text": [
      "\r",
      "  5%|██                                       | 5/100 [04:30<1:15:09, 47.47s/it]"
     ]
    },
    {
     "name": "stdout",
     "output_type": "stream",
     "text": [
      "412\n"
     ]
    },
    {
     "name": "stderr",
     "output_type": "stream",
     "text": [
      "\r",
      "  6%|██▍                                      | 6/100 [05:04<1:07:21, 43.00s/it]"
     ]
    },
    {
     "name": "stdout",
     "output_type": "stream",
     "text": [
      "382\n"
     ]
    },
    {
     "name": "stderr",
     "output_type": "stream",
     "text": [
      "\r",
      "  7%|███                                        | 7/100 [05:20<52:41, 34.00s/it]"
     ]
    },
    {
     "name": "stdout",
     "output_type": "stream",
     "text": [
      "238\n"
     ]
    },
    {
     "name": "stderr",
     "output_type": "stream",
     "text": [
      "\r",
      "  8%|███▍                                       | 8/100 [05:29<40:14, 26.25s/it]"
     ]
    },
    {
     "name": "stdout",
     "output_type": "stream",
     "text": [
      "183\n"
     ]
    },
    {
     "name": "stderr",
     "output_type": "stream",
     "text": [
      "\r",
      "  9%|███▊                                       | 9/100 [06:17<49:50, 32.86s/it]"
     ]
    },
    {
     "name": "stdout",
     "output_type": "stream",
     "text": [
      "434\n"
     ]
    },
    {
     "name": "stderr",
     "output_type": "stream",
     "text": [
      "\r",
      " 10%|████                                    | 10/100 [08:32<1:36:34, 64.38s/it]"
     ]
    },
    {
     "name": "stdout",
     "output_type": "stream",
     "text": [
      "757\n"
     ]
    },
    {
     "name": "stderr",
     "output_type": "stream",
     "text": [
      "\r",
      " 11%|████▍                                   | 11/100 [10:03<1:47:49, 72.69s/it]"
     ]
    },
    {
     "name": "stdout",
     "output_type": "stream",
     "text": [
      "654\n"
     ]
    },
    {
     "name": "stderr",
     "output_type": "stream",
     "text": [
      "\r",
      " 12%|████▊                                   | 12/100 [10:36<1:28:50, 60.58s/it]"
     ]
    },
    {
     "name": "stdout",
     "output_type": "stream",
     "text": [
      "388\n"
     ]
    },
    {
     "name": "stderr",
     "output_type": "stream",
     "text": [
      "\r",
      " 13%|█████▏                                  | 13/100 [11:12<1:16:51, 53.01s/it]"
     ]
    },
    {
     "name": "stdout",
     "output_type": "stream",
     "text": [
      "396\n"
     ]
    },
    {
     "name": "stderr",
     "output_type": "stream",
     "text": [
      "\r",
      " 14%|█████▌                                  | 14/100 [11:34<1:02:55, 43.90s/it]"
     ]
    },
    {
     "name": "stdout",
     "output_type": "stream",
     "text": [
      "330\n"
     ]
    },
    {
     "name": "stderr",
     "output_type": "stream",
     "text": [
      "\r",
      " 15%|██████▎                                   | 15/100 [11:48<49:12, 34.73s/it]"
     ]
    },
    {
     "name": "stdout",
     "output_type": "stream",
     "text": [
      "232\n"
     ]
    },
    {
     "name": "stderr",
     "output_type": "stream",
     "text": [
      "\r",
      " 16%|██████▍                                 | 16/100 [13:22<1:13:44, 52.68s/it]"
     ]
    },
    {
     "name": "stdout",
     "output_type": "stream",
     "text": [
      "674\n"
     ]
    },
    {
     "name": "stderr",
     "output_type": "stream",
     "text": [
      "\r",
      " 17%|██████▊                                 | 17/100 [14:14<1:12:29, 52.41s/it]"
     ]
    },
    {
     "name": "stdout",
     "output_type": "stream",
     "text": [
      "495\n"
     ]
    },
    {
     "name": "stderr",
     "output_type": "stream",
     "text": [
      "\r",
      " 18%|███████▏                                | 18/100 [16:07<1:36:29, 70.60s/it]"
     ]
    },
    {
     "name": "stdout",
     "output_type": "stream",
     "text": [
      "759\n"
     ]
    },
    {
     "name": "stderr",
     "output_type": "stream",
     "text": [
      "\r",
      " 19%|███████▌                                | 19/100 [16:09<1:07:22, 49.91s/it]"
     ]
    },
    {
     "name": "stdout",
     "output_type": "stream",
     "text": [
      "89\n"
     ]
    },
    {
     "name": "stderr",
     "output_type": "stream",
     "text": [
      "\r",
      " 20%|████████                                | 20/100 [17:17<1:13:56, 55.46s/it]"
     ]
    },
    {
     "name": "stdout",
     "output_type": "stream",
     "text": [
      "595\n"
     ]
    },
    {
     "name": "stderr",
     "output_type": "stream",
     "text": [
      "\r",
      " 21%|████████▍                               | 21/100 [18:56<1:30:04, 68.41s/it]"
     ]
    },
    {
     "name": "stdout",
     "output_type": "stream",
     "text": [
      "718\n"
     ]
    },
    {
     "name": "stderr",
     "output_type": "stream",
     "text": [
      "\r",
      " 22%|████████▊                               | 22/100 [19:17<1:10:36, 54.32s/it]"
     ]
    },
    {
     "name": "stdout",
     "output_type": "stream",
     "text": [
      "327\n"
     ]
    },
    {
     "name": "stderr",
     "output_type": "stream",
     "text": [
      "\r",
      " 23%|█████████▋                                | 23/100 [19:46<59:47, 46.60s/it]"
     ]
    },
    {
     "name": "stdout",
     "output_type": "stream",
     "text": [
      "379\n"
     ]
    },
    {
     "name": "stderr",
     "output_type": "stream",
     "text": [
      "\r",
      " 24%|██████████                                | 24/100 [19:55<44:49, 35.39s/it]"
     ]
    },
    {
     "name": "stdout",
     "output_type": "stream",
     "text": [
      "214\n"
     ]
    },
    {
     "name": "stderr",
     "output_type": "stream",
     "text": [
      "\r",
      " 25%|██████████                              | 25/100 [21:28<1:05:52, 52.70s/it]"
     ]
    },
    {
     "name": "stdout",
     "output_type": "stream",
     "text": [
      "689\n"
     ]
    },
    {
     "name": "stderr",
     "output_type": "stream",
     "text": [
      "\r",
      " 26%|██████████▉                               | 26/100 [21:33<47:16, 38.33s/it]"
     ]
    },
    {
     "name": "stdout",
     "output_type": "stream",
     "text": [
      "146\n"
     ]
    },
    {
     "name": "stderr",
     "output_type": "stream",
     "text": [
      "\r",
      " 27%|███████████▎                              | 27/100 [22:22<50:44, 41.70s/it]"
     ]
    },
    {
     "name": "stdout",
     "output_type": "stream",
     "text": [
      "482\n"
     ]
    },
    {
     "name": "stderr",
     "output_type": "stream",
     "text": [
      "\r",
      " 28%|███████████▏                            | 28/100 [23:43<1:04:01, 53.36s/it]"
     ]
    },
    {
     "name": "stdout",
     "output_type": "stream",
     "text": [
      "635\n"
     ]
    },
    {
     "name": "stderr",
     "output_type": "stream",
     "text": [
      "\r",
      " 29%|███████████▌                            | 29/100 [24:53<1:09:04, 58.37s/it]"
     ]
    },
    {
     "name": "stdout",
     "output_type": "stream",
     "text": [
      "599\n"
     ]
    },
    {
     "name": "stderr",
     "output_type": "stream",
     "text": [
      "\r",
      " 30%|████████████                            | 30/100 [26:40<1:25:15, 73.08s/it]"
     ]
    },
    {
     "name": "stdout",
     "output_type": "stream",
     "text": [
      "742\n"
     ]
    },
    {
     "name": "stderr",
     "output_type": "stream",
     "text": [
      "\r",
      " 31%|████████████▍                           | 31/100 [27:35<1:17:40, 67.54s/it]"
     ]
    },
    {
     "name": "stdout",
     "output_type": "stream",
     "text": [
      "531\n"
     ]
    },
    {
     "name": "stderr",
     "output_type": "stream",
     "text": [
      "\r",
      " 32%|████████████▊                           | 32/100 [29:32<1:33:22, 82.39s/it]"
     ]
    },
    {
     "name": "stdout",
     "output_type": "stream",
     "text": [
      "786\n"
     ]
    },
    {
     "name": "stderr",
     "output_type": "stream",
     "text": [
      "\r",
      " 33%|█████████████▏                          | 33/100 [29:39<1:06:44, 59.77s/it]"
     ]
    },
    {
     "name": "stdout",
     "output_type": "stream",
     "text": [
      "185\n"
     ]
    },
    {
     "name": "stderr",
     "output_type": "stream",
     "text": [
      "\r",
      " 34%|█████████████▌                          | 34/100 [30:26<1:01:22, 55.79s/it]"
     ]
    },
    {
     "name": "stdout",
     "output_type": "stream",
     "text": [
      "492\n"
     ]
    },
    {
     "name": "stderr",
     "output_type": "stream",
     "text": [
      "\r",
      " 35%|██████████████▋                           | 35/100 [30:59<53:13, 49.13s/it]"
     ]
    },
    {
     "name": "stdout",
     "output_type": "stream",
     "text": [
      "416\n"
     ]
    },
    {
     "name": "stderr",
     "output_type": "stream",
     "text": [
      "\r",
      " 36%|██████████████▍                         | 36/100 [32:21<1:02:46, 58.85s/it]"
     ]
    },
    {
     "name": "stdout",
     "output_type": "stream",
     "text": [
      "655\n"
     ]
    },
    {
     "name": "stderr",
     "output_type": "stream",
     "text": [
      "\r",
      " 37%|███████████████▌                          | 37/100 [32:29<46:00, 43.81s/it]"
     ]
    },
    {
     "name": "stdout",
     "output_type": "stream",
     "text": [
      "209\n"
     ]
    },
    {
     "name": "stderr",
     "output_type": "stream",
     "text": [
      "\r",
      " 38%|███████████████▉                          | 38/100 [33:19<46:59, 45.48s/it]"
     ]
    },
    {
     "name": "stdout",
     "output_type": "stream",
     "text": [
      "507\n"
     ]
    },
    {
     "name": "stderr",
     "output_type": "stream",
     "text": [
      "\r",
      " 39%|████████████████▍                         | 39/100 [33:32<36:21, 35.76s/it]"
     ]
    },
    {
     "name": "stdout",
     "output_type": "stream",
     "text": [
      "258\n"
     ]
    },
    {
     "name": "stderr",
     "output_type": "stream",
     "text": [
      "\r",
      " 40%|████████████████▊                         | 40/100 [34:21<39:53, 39.90s/it]"
     ]
    },
    {
     "name": "stdout",
     "output_type": "stream",
     "text": [
      "511\n"
     ]
    },
    {
     "name": "stderr",
     "output_type": "stream",
     "text": [
      "\r",
      " 41%|█████████████████▏                        | 41/100 [34:49<35:38, 36.25s/it]"
     ]
    },
    {
     "name": "stdout",
     "output_type": "stream",
     "text": [
      "371\n"
     ]
    },
    {
     "name": "stderr",
     "output_type": "stream",
     "text": [
      "\r",
      " 42%|█████████████████▋                        | 42/100 [34:56<26:30, 27.41s/it]"
     ]
    },
    {
     "name": "stdout",
     "output_type": "stream",
     "text": [
      "183\n"
     ]
    },
    {
     "name": "stderr",
     "output_type": "stream",
     "text": [
      "\r",
      " 43%|██████████████████                        | 43/100 [35:56<35:25, 37.28s/it]"
     ]
    },
    {
     "name": "stdout",
     "output_type": "stream",
     "text": [
      "568\n"
     ]
    },
    {
     "name": "stderr",
     "output_type": "stream",
     "text": [
      "\r",
      " 44%|██████████████████▍                       | 44/100 [36:35<35:06, 37.62s/it]"
     ]
    },
    {
     "name": "stdout",
     "output_type": "stream",
     "text": [
      "445\n"
     ]
    },
    {
     "name": "stderr",
     "output_type": "stream",
     "text": [
      "\r",
      " 45%|██████████████████▉                       | 45/100 [38:29<55:29, 60.53s/it]"
     ]
    },
    {
     "name": "stdout",
     "output_type": "stream",
     "text": [
      "780\n"
     ]
    },
    {
     "name": "stderr",
     "output_type": "stream",
     "text": [
      "\r",
      " 46%|███████████████████▎                      | 46/100 [38:57<45:41, 50.77s/it]"
     ]
    },
    {
     "name": "stdout",
     "output_type": "stream",
     "text": [
      "378\n"
     ]
    },
    {
     "name": "stderr",
     "output_type": "stream",
     "text": [
      "\r",
      " 47%|███████████████████▋                      | 47/100 [40:24<54:34, 61.78s/it]"
     ]
    },
    {
     "name": "stdout",
     "output_type": "stream",
     "text": [
      "682\n"
     ]
    },
    {
     "name": "stderr",
     "output_type": "stream",
     "text": [
      "\r",
      " 48%|████████████████████▏                     | 48/100 [41:22<52:37, 60.71s/it]"
     ]
    },
    {
     "name": "stdout",
     "output_type": "stream",
     "text": [
      "553\n"
     ]
    },
    {
     "name": "stderr",
     "output_type": "stream",
     "text": [
      "\r",
      " 49%|████████████████████▌                     | 49/100 [41:38<40:11, 47.28s/it]"
     ]
    },
    {
     "name": "stdout",
     "output_type": "stream",
     "text": [
      "282\n"
     ]
    },
    {
     "name": "stderr",
     "output_type": "stream",
     "text": [
      "\r",
      " 50%|█████████████████████                     | 50/100 [41:51<30:38, 36.78s/it]"
     ]
    },
    {
     "name": "stdout",
     "output_type": "stream",
     "text": [
      "248\n"
     ]
    },
    {
     "name": "stderr",
     "output_type": "stream",
     "text": [
      "\r",
      " 51%|█████████████████████▍                    | 51/100 [43:09<40:16, 49.32s/it]"
     ]
    },
    {
     "name": "stdout",
     "output_type": "stream",
     "text": [
      "643\n"
     ]
    },
    {
     "name": "stderr",
     "output_type": "stream",
     "text": [
      "\r",
      " 52%|█████████████████████▊                    | 52/100 [43:35<33:45, 42.20s/it]"
     ]
    },
    {
     "name": "stdout",
     "output_type": "stream",
     "text": [
      "362\n"
     ]
    },
    {
     "name": "stderr",
     "output_type": "stream",
     "text": [
      "\r",
      " 53%|██████████████████████▎                   | 53/100 [43:54<27:44, 35.42s/it]"
     ]
    },
    {
     "name": "stdout",
     "output_type": "stream",
     "text": [
      "315\n"
     ]
    },
    {
     "name": "stderr",
     "output_type": "stream",
     "text": [
      "\r",
      " 54%|██████████████████████▋                   | 54/100 [44:26<26:13, 34.21s/it]"
     ]
    },
    {
     "name": "stdout",
     "output_type": "stream",
     "text": [
      "400\n"
     ]
    },
    {
     "name": "stderr",
     "output_type": "stream",
     "text": [
      "\r",
      " 55%|███████████████████████                   | 55/100 [44:37<20:30, 27.35s/it]"
     ]
    },
    {
     "name": "stdout",
     "output_type": "stream",
     "text": [
      "232\n"
     ]
    },
    {
     "name": "stderr",
     "output_type": "stream",
     "text": [
      "\r",
      " 56%|███████████████████████▌                  | 56/100 [45:05<20:10, 27.51s/it]"
     ]
    },
    {
     "name": "stdout",
     "output_type": "stream",
     "text": [
      "377\n"
     ]
    },
    {
     "name": "stderr",
     "output_type": "stream",
     "text": [
      "\r",
      " 57%|███████████████████████▉                  | 57/100 [46:24<30:50, 43.03s/it]"
     ]
    },
    {
     "name": "stdout",
     "output_type": "stream",
     "text": [
      "651\n"
     ]
    },
    {
     "name": "stderr",
     "output_type": "stream",
     "text": [
      "\r",
      " 58%|████████████████████████▎                 | 58/100 [47:23<33:21, 47.66s/it]"
     ]
    },
    {
     "name": "stdout",
     "output_type": "stream",
     "text": [
      "551\n"
     ]
    },
    {
     "name": "stderr",
     "output_type": "stream",
     "text": [
      "\r",
      " 59%|████████████████████████▊                 | 59/100 [48:23<35:12, 51.52s/it]"
     ]
    },
    {
     "name": "stdout",
     "output_type": "stream",
     "text": [
      "564\n"
     ]
    },
    {
     "name": "stderr",
     "output_type": "stream",
     "text": [
      "\r",
      " 60%|█████████████████████████▏                | 60/100 [49:50<41:24, 62.11s/it]"
     ]
    },
    {
     "name": "stdout",
     "output_type": "stream",
     "text": [
      "678\n"
     ]
    },
    {
     "name": "stderr",
     "output_type": "stream",
     "text": [
      "\r",
      " 61%|█████████████████████████▌                | 61/100 [50:15<33:02, 50.83s/it]"
     ]
    },
    {
     "name": "stdout",
     "output_type": "stream",
     "text": [
      "355\n"
     ]
    },
    {
     "name": "stderr",
     "output_type": "stream",
     "text": [
      "\r",
      " 62%|██████████████████████████                | 62/100 [51:25<35:51, 56.62s/it]"
     ]
    },
    {
     "name": "stdout",
     "output_type": "stream",
     "text": [
      "609\n"
     ]
    },
    {
     "name": "stderr",
     "output_type": "stream",
     "text": [
      "\r",
      " 63%|██████████████████████████▍               | 63/100 [52:07<32:11, 52.20s/it]"
     ]
    },
    {
     "name": "stdout",
     "output_type": "stream",
     "text": [
      "467\n"
     ]
    },
    {
     "name": "stderr",
     "output_type": "stream",
     "text": [
      "\r",
      " 64%|██████████████████████████▉               | 64/100 [53:07<32:44, 54.57s/it]"
     ]
    },
    {
     "name": "stdout",
     "output_type": "stream",
     "text": [
      "563\n"
     ]
    },
    {
     "name": "stderr",
     "output_type": "stream",
     "text": [
      "\r",
      " 65%|███████████████████████████▎              | 65/100 [53:49<29:38, 50.80s/it]"
     ]
    },
    {
     "name": "stdout",
     "output_type": "stream",
     "text": [
      "465\n"
     ]
    },
    {
     "name": "stderr",
     "output_type": "stream",
     "text": [
      "\r",
      " 66%|███████████████████████████▋              | 66/100 [55:20<35:37, 62.87s/it]"
     ]
    },
    {
     "name": "stdout",
     "output_type": "stream",
     "text": [
      "698\n"
     ]
    },
    {
     "name": "stderr",
     "output_type": "stream",
     "text": [
      "\r",
      " 67%|████████████████████████████▏             | 67/100 [56:56<40:10, 73.05s/it]"
     ]
    },
    {
     "name": "stdout",
     "output_type": "stream",
     "text": [
      "720\n"
     ]
    },
    {
     "name": "stderr",
     "output_type": "stream",
     "text": [
      "\r",
      " 68%|████████████████████████████▌             | 68/100 [58:04<38:05, 71.42s/it]"
     ]
    },
    {
     "name": "stdout",
     "output_type": "stream",
     "text": [
      "597\n"
     ]
    },
    {
     "name": "stderr",
     "output_type": "stream",
     "text": [
      "\r",
      " 69%|████████████████████████████▉             | 69/100 [58:25<29:08, 56.42s/it]"
     ]
    },
    {
     "name": "stdout",
     "output_type": "stream",
     "text": [
      "330\n"
     ]
    },
    {
     "name": "stderr",
     "output_type": "stream",
     "text": [
      "\r",
      " 70%|█████████████████████████████▍            | 70/100 [59:31<29:31, 59.04s/it]"
     ]
    },
    {
     "name": "stdout",
     "output_type": "stream",
     "text": [
      "582\n"
     ]
    },
    {
     "name": "stderr",
     "output_type": "stream",
     "text": [
      "\r",
      " 71%|█████████████████████████████▊            | 71/100 [59:33<20:22, 42.14s/it]"
     ]
    },
    {
     "name": "stdout",
     "output_type": "stream",
     "text": [
      "111\n"
     ]
    },
    {
     "name": "stderr",
     "output_type": "stream",
     "text": [
      "\r",
      " 72%|████████████████████████████▊           | 72/100 [1:00:46<23:56, 51.31s/it]"
     ]
    },
    {
     "name": "stdout",
     "output_type": "stream",
     "text": [
      "620\n"
     ]
    },
    {
     "name": "stderr",
     "output_type": "stream",
     "text": [
      "\r",
      " 73%|█████████████████████████████▏          | 73/100 [1:00:53<17:07, 38.05s/it]"
     ]
    },
    {
     "name": "stdout",
     "output_type": "stream",
     "text": [
      "187\n"
     ]
    },
    {
     "name": "stderr",
     "output_type": "stream",
     "text": [
      "\r",
      " 74%|█████████████████████████████▌          | 74/100 [1:01:50<18:58, 43.78s/it]"
     ]
    },
    {
     "name": "stdout",
     "output_type": "stream",
     "text": [
      "549\n"
     ]
    },
    {
     "name": "stderr",
     "output_type": "stream",
     "text": [
      "\r",
      " 75%|██████████████████████████████          | 75/100 [1:01:52<13:01, 31.28s/it]"
     ]
    },
    {
     "name": "stdout",
     "output_type": "stream",
     "text": [
      "99\n"
     ]
    },
    {
     "name": "stderr",
     "output_type": "stream",
     "text": [
      "\r",
      " 76%|██████████████████████████████▍         | 76/100 [1:02:48<15:26, 38.59s/it]"
     ]
    },
    {
     "name": "stdout",
     "output_type": "stream",
     "text": [
      "541\n"
     ]
    },
    {
     "name": "stderr",
     "output_type": "stream",
     "text": [
      "\r",
      " 77%|██████████████████████████████▊         | 77/100 [1:03:20<13:59, 36.48s/it]"
     ]
    },
    {
     "name": "stdout",
     "output_type": "stream",
     "text": [
      "407\n"
     ]
    },
    {
     "name": "stderr",
     "output_type": "stream",
     "text": [
      "\r",
      " 78%|███████████████████████████████▏        | 78/100 [1:04:37<17:50, 48.67s/it]"
     ]
    },
    {
     "name": "stdout",
     "output_type": "stream",
     "text": [
      "640\n"
     ]
    },
    {
     "name": "stderr",
     "output_type": "stream",
     "text": [
      "\r",
      " 79%|███████████████████████████████▌        | 79/100 [1:04:49<13:14, 37.83s/it]"
     ]
    },
    {
     "name": "stdout",
     "output_type": "stream",
     "text": [
      "251\n"
     ]
    },
    {
     "name": "stderr",
     "output_type": "stream",
     "text": [
      "\r",
      " 80%|████████████████████████████████        | 80/100 [1:06:35<19:26, 58.31s/it]"
     ]
    },
    {
     "name": "stdout",
     "output_type": "stream",
     "text": [
      "753\n"
     ]
    },
    {
     "name": "stderr",
     "output_type": "stream",
     "text": [
      "\r",
      " 81%|████████████████████████████████▍       | 81/100 [1:08:00<20:55, 66.08s/it]"
     ]
    },
    {
     "name": "stdout",
     "output_type": "stream",
     "text": [
      "668\n"
     ]
    },
    {
     "name": "stderr",
     "output_type": "stream",
     "text": [
      "\r",
      " 82%|████████████████████████████████▊       | 82/100 [1:08:14<15:10, 50.60s/it]"
     ]
    },
    {
     "name": "stdout",
     "output_type": "stream",
     "text": [
      "271\n"
     ]
    },
    {
     "name": "stderr",
     "output_type": "stream",
     "text": [
      "\r",
      " 83%|█████████████████████████████████▏      | 83/100 [1:08:49<13:00, 45.91s/it]"
     ]
    },
    {
     "name": "stdout",
     "output_type": "stream",
     "text": [
      "425\n"
     ]
    },
    {
     "name": "stderr",
     "output_type": "stream",
     "text": [
      "\r",
      " 84%|█████████████████████████████████▌      | 84/100 [1:09:04<09:47, 36.73s/it]"
     ]
    },
    {
     "name": "stdout",
     "output_type": "stream",
     "text": [
      "278\n"
     ]
    },
    {
     "name": "stderr",
     "output_type": "stream",
     "text": [
      "\r",
      " 85%|██████████████████████████████████      | 85/100 [1:10:16<11:48, 47.26s/it]"
     ]
    },
    {
     "name": "stdout",
     "output_type": "stream",
     "text": [
      "618\n"
     ]
    },
    {
     "name": "stderr",
     "output_type": "stream",
     "text": [
      "\r",
      " 86%|██████████████████████████████████▍     | 86/100 [1:10:51<10:08, 43.44s/it]"
     ]
    },
    {
     "name": "stdout",
     "output_type": "stream",
     "text": [
      "422\n"
     ]
    },
    {
     "name": "stderr",
     "output_type": "stream",
     "text": [
      "\r",
      " 87%|██████████████████████████████████▊     | 87/100 [1:11:22<08:36, 39.74s/it]"
     ]
    },
    {
     "name": "stdout",
     "output_type": "stream",
     "text": [
      "401\n"
     ]
    },
    {
     "name": "stderr",
     "output_type": "stream",
     "text": [
      "\r",
      " 88%|███████████████████████████████████▏    | 88/100 [1:11:50<07:14, 36.20s/it]"
     ]
    },
    {
     "name": "stdout",
     "output_type": "stream",
     "text": [
      "377\n"
     ]
    },
    {
     "name": "stderr",
     "output_type": "stream",
     "text": [
      "\r",
      " 89%|███████████████████████████████████▌    | 89/100 [1:12:57<08:20, 45.46s/it]"
     ]
    },
    {
     "name": "stdout",
     "output_type": "stream",
     "text": [
      "592\n"
     ]
    },
    {
     "name": "stderr",
     "output_type": "stream",
     "text": [
      "\r",
      " 90%|████████████████████████████████████    | 90/100 [1:14:10<08:58, 53.80s/it]"
     ]
    },
    {
     "name": "stdout",
     "output_type": "stream",
     "text": [
      "624\n"
     ]
    },
    {
     "name": "stderr",
     "output_type": "stream",
     "text": [
      "\r",
      " 91%|████████████████████████████████████▍   | 91/100 [1:14:30<06:33, 43.67s/it]"
     ]
    },
    {
     "name": "stdout",
     "output_type": "stream",
     "text": [
      "319\n"
     ]
    },
    {
     "name": "stderr",
     "output_type": "stream",
     "text": [
      "\r",
      " 92%|████████████████████████████████████▊   | 92/100 [1:16:11<08:06, 60.85s/it]"
     ]
    },
    {
     "name": "stdout",
     "output_type": "stream",
     "text": [
      "724\n"
     ]
    },
    {
     "name": "stderr",
     "output_type": "stream",
     "text": [
      "\r",
      " 93%|█████████████████████████████████████▏  | 93/100 [1:17:28<07:39, 65.61s/it]"
     ]
    },
    {
     "name": "stdout",
     "output_type": "stream",
     "text": [
      "636\n"
     ]
    },
    {
     "name": "stderr",
     "output_type": "stream",
     "text": [
      "\r",
      " 94%|█████████████████████████████████████▌  | 94/100 [1:19:11<07:41, 76.88s/it]"
     ]
    },
    {
     "name": "stdout",
     "output_type": "stream",
     "text": [
      "742\n"
     ]
    },
    {
     "name": "stderr",
     "output_type": "stream",
     "text": [
      "\r",
      " 95%|██████████████████████████████████████  | 95/100 [1:20:10<05:57, 71.47s/it]"
     ]
    },
    {
     "name": "stdout",
     "output_type": "stream",
     "text": [
      "555\n"
     ]
    },
    {
     "name": "stderr",
     "output_type": "stream",
     "text": [
      "\r",
      " 96%|██████████████████████████████████████▍ | 96/100 [1:21:46<05:15, 78.77s/it]"
     ]
    },
    {
     "name": "stdout",
     "output_type": "stream",
     "text": [
      "713\n"
     ]
    },
    {
     "name": "stderr",
     "output_type": "stream",
     "text": [
      "\r",
      " 97%|██████████████████████████████████████▊ | 97/100 [1:22:11<03:08, 62.82s/it]"
     ]
    },
    {
     "name": "stdout",
     "output_type": "stream",
     "text": [
      "360\n"
     ]
    },
    {
     "name": "stderr",
     "output_type": "stream",
     "text": [
      "\r",
      " 98%|███████████████████████████████████████▏| 98/100 [1:22:26<01:36, 48.50s/it]"
     ]
    },
    {
     "name": "stdout",
     "output_type": "stream",
     "text": [
      "276\n"
     ]
    },
    {
     "name": "stderr",
     "output_type": "stream",
     "text": [
      "\r",
      " 99%|███████████████████████████████████████▌| 99/100 [1:23:03<00:45, 45.03s/it]"
     ]
    },
    {
     "name": "stdout",
     "output_type": "stream",
     "text": [
      "433\n"
     ]
    },
    {
     "name": "stderr",
     "output_type": "stream",
     "text": [
      "100%|███████████████████████████████████████| 100/100 [1:23:05<00:00, 49.85s/it]"
     ]
    },
    {
     "name": "stdout",
     "output_type": "stream",
     "text": [
      "80\n"
     ]
    },
    {
     "name": "stderr",
     "output_type": "stream",
     "text": [
      "\n"
     ]
    }
   ],
   "source": [
    "# Betweenness\n",
    "\n",
    "betweenness_box_sol = []\n",
    "\n",
    "nb_of_iters = 100\n",
    "\n",
    "# Generate the random graph and compute shortest paths\n",
    "G = G_fb\n",
    "length = dict(nx.all_pairs_shortest_path_length(G))\n",
    "\n",
    "c = nx.betweenness_centrality(G, endpoints=True)\n",
    "\n",
    "# normalize the centralities\n",
    "c_values = np.array(list(c.values()))\n",
    "c_norm = c_values / sum(c_values)\n",
    "node_list = list(c.keys())\n",
    "\n",
    "for _ in tqdm(range(nb_of_iters)):\n",
    "    nodes = np.random.choice(node_list, p=c_norm, size=len(G), replace=False) # Random set of nodes to test\n",
    "    for nb in range(0, len(G)):\n",
    "        if is_resolving_set(G, nodes[:nb], length):\n",
    "            betweenness_box_sol.append(nb)\n",
    "            break"
   ]
  },
  {
   "cell_type": "code",
   "execution_count": 169,
   "id": "5708b8f9",
   "metadata": {},
   "outputs": [
    {
     "name": "stdout",
     "output_type": "stream",
     "text": [
      "754\n",
      "658\n",
      "655\n",
      "783\n",
      "583\n",
      "666\n",
      "619\n",
      "726\n",
      "767\n",
      "610\n",
      "697\n",
      "704\n",
      "329\n",
      "775\n",
      "476\n",
      "517\n",
      "496\n",
      "385\n",
      "727\n",
      "670\n",
      "763\n",
      "786\n",
      "381\n",
      "664\n",
      "606\n",
      "777\n",
      "713\n",
      "563\n",
      "399\n",
      "758\n",
      "712\n",
      "770\n",
      "728\n",
      "770\n",
      "455\n",
      "688\n",
      "778\n",
      "657\n",
      "650\n",
      "574\n",
      "665\n",
      "350\n",
      "716\n",
      "746\n",
      "707\n",
      "768\n",
      "759\n",
      "684\n",
      "692\n",
      "611\n",
      "767\n",
      "738\n",
      "779\n",
      "686\n",
      "422\n",
      "787\n",
      "714\n",
      "711\n",
      "628\n",
      "463\n",
      "775\n",
      "783\n",
      "700\n",
      "755\n",
      "774\n",
      "707\n",
      "772\n",
      "742\n",
      "722\n",
      "771\n",
      "593\n",
      "722\n",
      "702\n",
      "795\n",
      "774\n",
      "687\n",
      "746\n",
      "765\n",
      "753\n",
      "342\n",
      "695\n",
      "789\n",
      "710\n",
      "320\n",
      "461\n",
      "673\n",
      "708\n",
      "684\n",
      "763\n",
      "668\n",
      "671\n",
      "524\n",
      "786\n",
      "582\n",
      "582\n",
      "793\n",
      "676\n",
      "766\n",
      "729\n",
      "729\n"
     ]
    }
   ],
   "source": [
    "# Degree\n",
    "\n",
    "degree_box_sol = []\n",
    "\n",
    "nb_of_iters = 100\n",
    "\n",
    "# Generate the random graph and compute shortest paths\n",
    "G = G_fb\n",
    "length = dict(nx.all_pairs_shortest_path_length(G))\n",
    "\n",
    "c = nx.degree_centrality(G)\n",
    "\n",
    "# normalize the centralities\n",
    "c_values = np.array(list(c.values()))\n",
    "c_norm = c_values / sum(c_values)\n",
    "node_list = list(c.keys())\n",
    "\n",
    "for _ in range(nb_of_iters):\n",
    "    nodes = np.random.choice(node_list, p=c_norm, size=len(G), replace=False) # Random set of nodes to test\n",
    "    for nb in range(0, len(G)):\n",
    "        if is_resolving_set(G, nodes[:nb], length):\n",
    "            degree_box_sol.append(nb)\n",
    "            break"
   ]
  },
  {
   "cell_type": "code",
   "execution_count": 179,
   "id": "b8ff12de",
   "metadata": {},
   "outputs": [
    {
     "name": "stderr",
     "output_type": "stream",
     "text": [
      "  1%|▍                                          | 1/100 [00:07<12:08,  7.36s/it]"
     ]
    },
    {
     "name": "stdout",
     "output_type": "stream",
     "text": [
      "316\n"
     ]
    },
    {
     "name": "stderr",
     "output_type": "stream",
     "text": [
      "\r",
      "  2%|▊                                          | 2/100 [00:39<36:13, 22.18s/it]"
     ]
    },
    {
     "name": "stdout",
     "output_type": "stream",
     "text": [
      "704\n"
     ]
    },
    {
     "name": "stderr",
     "output_type": "stream",
     "text": [
      "\r",
      "  3%|█▎                                         | 3/100 [00:40<20:11, 12.49s/it]"
     ]
    },
    {
     "name": "stdout",
     "output_type": "stream",
     "text": [
      "106\n"
     ]
    },
    {
     "name": "stderr",
     "output_type": "stream",
     "text": [
      "\r",
      "  4%|█▋                                         | 4/100 [00:50<18:00, 11.26s/it]"
     ]
    },
    {
     "name": "stdout",
     "output_type": "stream",
     "text": [
      "365\n"
     ]
    },
    {
     "name": "stderr",
     "output_type": "stream",
     "text": [
      "\r",
      "  5%|██▏                                        | 5/100 [00:52<12:41,  8.02s/it]"
     ]
    },
    {
     "name": "stdout",
     "output_type": "stream",
     "text": [
      "162\n"
     ]
    },
    {
     "name": "stderr",
     "output_type": "stream",
     "text": [
      "\r",
      "  6%|██▌                                        | 6/100 [00:59<11:52,  7.58s/it]"
     ]
    },
    {
     "name": "stdout",
     "output_type": "stream",
     "text": [
      "271\n"
     ]
    },
    {
     "name": "stderr",
     "output_type": "stream",
     "text": [
      "\r",
      "  7%|███                                        | 7/100 [01:14<15:24,  9.94s/it]"
     ]
    },
    {
     "name": "stdout",
     "output_type": "stream",
     "text": [
      "467\n"
     ]
    },
    {
     "name": "stderr",
     "output_type": "stream",
     "text": [
      "\r",
      "  8%|███▍                                       | 8/100 [01:18<12:38,  8.24s/it]"
     ]
    },
    {
     "name": "stdout",
     "output_type": "stream",
     "text": [
      "258\n"
     ]
    },
    {
     "name": "stderr",
     "output_type": "stream",
     "text": [
      "\r",
      "  9%|███▊                                       | 9/100 [01:31<14:40,  9.68s/it]"
     ]
    },
    {
     "name": "stdout",
     "output_type": "stream",
     "text": [
      "396\n"
     ]
    },
    {
     "name": "stderr",
     "output_type": "stream",
     "text": [
      "\r",
      " 10%|████▏                                     | 10/100 [01:44<16:01, 10.69s/it]"
     ]
    },
    {
     "name": "stdout",
     "output_type": "stream",
     "text": [
      "403\n"
     ]
    },
    {
     "name": "stderr",
     "output_type": "stream",
     "text": [
      "\r",
      " 11%|████▌                                     | 11/100 [01:46<12:03,  8.12s/it]"
     ]
    },
    {
     "name": "stdout",
     "output_type": "stream",
     "text": [
      "176\n"
     ]
    },
    {
     "name": "stderr",
     "output_type": "stream",
     "text": [
      "\r",
      " 12%|█████                                     | 12/100 [01:47<08:42,  5.94s/it]"
     ]
    },
    {
     "name": "stdout",
     "output_type": "stream",
     "text": [
      "108\n"
     ]
    },
    {
     "name": "stderr",
     "output_type": "stream",
     "text": [
      "\r",
      " 13%|█████▍                                    | 13/100 [02:06<14:05,  9.71s/it]"
     ]
    },
    {
     "name": "stdout",
     "output_type": "stream",
     "text": [
      "527\n"
     ]
    },
    {
     "name": "stderr",
     "output_type": "stream",
     "text": [
      "\r",
      " 14%|█████▉                                    | 14/100 [02:12<12:24,  8.66s/it]"
     ]
    },
    {
     "name": "stdout",
     "output_type": "stream",
     "text": [
      "303\n"
     ]
    },
    {
     "name": "stderr",
     "output_type": "stream",
     "text": [
      "\r",
      " 15%|██████▎                                   | 15/100 [02:25<14:16, 10.07s/it]"
     ]
    },
    {
     "name": "stdout",
     "output_type": "stream",
     "text": [
      "447\n"
     ]
    },
    {
     "name": "stderr",
     "output_type": "stream",
     "text": [
      "\r",
      " 16%|██████▋                                   | 16/100 [02:27<10:34,  7.55s/it]"
     ]
    },
    {
     "name": "stdout",
     "output_type": "stream",
     "text": [
      "132\n"
     ]
    },
    {
     "name": "stderr",
     "output_type": "stream",
     "text": [
      "\r",
      " 17%|███████▏                                  | 17/100 [02:29<08:06,  5.86s/it]"
     ]
    },
    {
     "name": "stdout",
     "output_type": "stream",
     "text": [
      "143\n"
     ]
    },
    {
     "name": "stderr",
     "output_type": "stream",
     "text": [
      "\r",
      " 18%|███████▌                                  | 18/100 [02:59<17:57, 13.14s/it]"
     ]
    },
    {
     "name": "stdout",
     "output_type": "stream",
     "text": [
      "678\n"
     ]
    },
    {
     "name": "stderr",
     "output_type": "stream",
     "text": [
      "\r",
      " 19%|███████▉                                  | 19/100 [03:01<13:20,  9.88s/it]"
     ]
    },
    {
     "name": "stdout",
     "output_type": "stream",
     "text": [
      "159\n"
     ]
    },
    {
     "name": "stderr",
     "output_type": "stream",
     "text": [
      "\r",
      " 20%|████████▍                                 | 20/100 [03:04<10:12,  7.66s/it]"
     ]
    },
    {
     "name": "stdout",
     "output_type": "stream",
     "text": [
      "182\n"
     ]
    },
    {
     "name": "stderr",
     "output_type": "stream",
     "text": [
      "\r",
      " 21%|████████▊                                 | 21/100 [03:44<23:11, 17.61s/it]"
     ]
    },
    {
     "name": "stdout",
     "output_type": "stream",
     "text": [
      "680\n"
     ]
    },
    {
     "name": "stderr",
     "output_type": "stream",
     "text": [
      "\r",
      " 22%|█████████▏                                | 22/100 [03:45<16:24, 12.62s/it]"
     ]
    },
    {
     "name": "stdout",
     "output_type": "stream",
     "text": [
      "93\n"
     ]
    },
    {
     "name": "stderr",
     "output_type": "stream",
     "text": [
      "\r",
      " 23%|█████████▋                                | 23/100 [03:57<15:54, 12.39s/it]"
     ]
    },
    {
     "name": "stdout",
     "output_type": "stream",
     "text": [
      "416\n"
     ]
    },
    {
     "name": "stderr",
     "output_type": "stream",
     "text": [
      "\r",
      " 24%|██████████                                | 24/100 [04:10<15:49, 12.49s/it]"
     ]
    },
    {
     "name": "stdout",
     "output_type": "stream",
     "text": [
      "401\n"
     ]
    },
    {
     "name": "stderr",
     "output_type": "stream",
     "text": [
      "\r",
      " 25%|██████████▌                               | 25/100 [04:14<12:24,  9.93s/it]"
     ]
    },
    {
     "name": "stdout",
     "output_type": "stream",
     "text": [
      "209\n"
     ]
    },
    {
     "name": "stderr",
     "output_type": "stream",
     "text": [
      "\r",
      " 26%|██████████▉                               | 26/100 [04:17<09:31,  7.72s/it]"
     ]
    },
    {
     "name": "stdout",
     "output_type": "stream",
     "text": [
      "169\n"
     ]
    },
    {
     "name": "stderr",
     "output_type": "stream",
     "text": [
      "\r",
      " 27%|███████████▎                              | 27/100 [04:33<12:25, 10.22s/it]"
     ]
    },
    {
     "name": "stdout",
     "output_type": "stream",
     "text": [
      "449\n"
     ]
    },
    {
     "name": "stderr",
     "output_type": "stream",
     "text": [
      "\r",
      " 28%|███████████▊                              | 28/100 [04:34<09:07,  7.60s/it]"
     ]
    },
    {
     "name": "stdout",
     "output_type": "stream",
     "text": [
      "112\n"
     ]
    },
    {
     "name": "stderr",
     "output_type": "stream",
     "text": [
      "\r",
      " 29%|████████████▏                             | 29/100 [04:38<07:49,  6.62s/it]"
     ]
    },
    {
     "name": "stdout",
     "output_type": "stream",
     "text": [
      "246\n"
     ]
    },
    {
     "name": "stderr",
     "output_type": "stream",
     "text": [
      "\r",
      " 30%|████████████▌                             | 30/100 [04:47<08:21,  7.16s/it]"
     ]
    },
    {
     "name": "stdout",
     "output_type": "stream",
     "text": [
      "321\n"
     ]
    },
    {
     "name": "stderr",
     "output_type": "stream",
     "text": [
      "\r",
      " 31%|█████████████                             | 31/100 [04:49<06:40,  5.81s/it]"
     ]
    },
    {
     "name": "stdout",
     "output_type": "stream",
     "text": [
      "170\n"
     ]
    },
    {
     "name": "stderr",
     "output_type": "stream",
     "text": [
      "\r",
      " 32%|█████████████▍                            | 32/100 [05:29<18:02, 15.92s/it]"
     ]
    },
    {
     "name": "stdout",
     "output_type": "stream",
     "text": [
      "749\n"
     ]
    },
    {
     "name": "stderr",
     "output_type": "stream",
     "text": [
      "\r",
      " 33%|█████████████▊                            | 33/100 [05:41<16:23, 14.67s/it]"
     ]
    },
    {
     "name": "stdout",
     "output_type": "stream",
     "text": [
      "390\n"
     ]
    },
    {
     "name": "stderr",
     "output_type": "stream",
     "text": [
      "\r",
      " 34%|██████████████▎                           | 34/100 [05:45<12:40, 11.53s/it]"
     ]
    },
    {
     "name": "stdout",
     "output_type": "stream",
     "text": [
      "247\n"
     ]
    },
    {
     "name": "stderr",
     "output_type": "stream",
     "text": [
      "\r",
      " 35%|██████████████▋                           | 35/100 [05:59<13:15, 12.23s/it]"
     ]
    },
    {
     "name": "stdout",
     "output_type": "stream",
     "text": [
      "454\n"
     ]
    },
    {
     "name": "stderr",
     "output_type": "stream",
     "text": [
      "\r",
      " 36%|███████████████                           | 36/100 [06:03<10:22,  9.73s/it]"
     ]
    },
    {
     "name": "stdout",
     "output_type": "stream",
     "text": [
      "216\n"
     ]
    },
    {
     "name": "stderr",
     "output_type": "stream",
     "text": [
      "\r",
      " 37%|███████████████▌                          | 37/100 [06:08<08:45,  8.34s/it]"
     ]
    },
    {
     "name": "stdout",
     "output_type": "stream",
     "text": [
      "253\n"
     ]
    },
    {
     "name": "stderr",
     "output_type": "stream",
     "text": [
      "\r",
      " 38%|███████████████▉                          | 38/100 [06:16<08:41,  8.41s/it]"
     ]
    },
    {
     "name": "stdout",
     "output_type": "stream",
     "text": [
      "297\n"
     ]
    },
    {
     "name": "stderr",
     "output_type": "stream",
     "text": [
      "\r",
      " 39%|████████████████▍                         | 39/100 [06:41<13:25, 13.20s/it]"
     ]
    },
    {
     "name": "stdout",
     "output_type": "stream",
     "text": [
      "590\n"
     ]
    },
    {
     "name": "stderr",
     "output_type": "stream",
     "text": [
      "\r",
      " 40%|████████████████▊                         | 40/100 [06:47<11:05, 11.10s/it]"
     ]
    },
    {
     "name": "stdout",
     "output_type": "stream",
     "text": [
      "277\n"
     ]
    },
    {
     "name": "stderr",
     "output_type": "stream",
     "text": [
      "\r",
      " 41%|█████████████████▏                        | 41/100 [06:52<09:13,  9.37s/it]"
     ]
    },
    {
     "name": "stdout",
     "output_type": "stream",
     "text": [
      "228\n"
     ]
    },
    {
     "name": "stderr",
     "output_type": "stream",
     "text": [
      "\r",
      " 42%|█████████████████▋                        | 42/100 [06:56<07:28,  7.74s/it]"
     ]
    },
    {
     "name": "stdout",
     "output_type": "stream",
     "text": [
      "214\n"
     ]
    },
    {
     "name": "stderr",
     "output_type": "stream",
     "text": [
      "\r",
      " 43%|██████████████████                        | 43/100 [06:58<05:45,  6.06s/it]"
     ]
    },
    {
     "name": "stdout",
     "output_type": "stream",
     "text": [
      "144\n"
     ]
    },
    {
     "name": "stderr",
     "output_type": "stream",
     "text": [
      "\r",
      " 44%|██████████████████▍                       | 44/100 [07:17<09:17,  9.95s/it]"
     ]
    },
    {
     "name": "stdout",
     "output_type": "stream",
     "text": [
      "488\n"
     ]
    },
    {
     "name": "stderr",
     "output_type": "stream",
     "text": [
      "\r",
      " 45%|██████████████████▉                       | 45/100 [07:37<11:48, 12.88s/it]"
     ]
    },
    {
     "name": "stdout",
     "output_type": "stream",
     "text": [
      "523\n"
     ]
    },
    {
     "name": "stderr",
     "output_type": "stream",
     "text": [
      "\r",
      " 46%|███████████████████▎                      | 46/100 [08:02<14:42, 16.34s/it]"
     ]
    },
    {
     "name": "stdout",
     "output_type": "stream",
     "text": [
      "581\n"
     ]
    },
    {
     "name": "stderr",
     "output_type": "stream",
     "text": [
      "\r",
      " 47%|███████████████████▋                      | 47/100 [08:31<17:57, 20.33s/it]"
     ]
    },
    {
     "name": "stdout",
     "output_type": "stream",
     "text": [
      "642\n"
     ]
    },
    {
     "name": "stderr",
     "output_type": "stream",
     "text": [
      "\r",
      " 48%|████████████████████▏                     | 48/100 [08:46<16:06, 18.58s/it]"
     ]
    },
    {
     "name": "stdout",
     "output_type": "stream",
     "text": [
      "440\n"
     ]
    },
    {
     "name": "stderr",
     "output_type": "stream",
     "text": [
      "\r",
      " 49%|████████████████████▌                     | 49/100 [08:52<12:42, 14.95s/it]"
     ]
    },
    {
     "name": "stdout",
     "output_type": "stream",
     "text": [
      "292\n"
     ]
    },
    {
     "name": "stderr",
     "output_type": "stream",
     "text": [
      "\r",
      " 50%|█████████████████████                     | 50/100 [08:57<09:57, 11.95s/it]"
     ]
    },
    {
     "name": "stdout",
     "output_type": "stream",
     "text": [
      "248\n"
     ]
    },
    {
     "name": "stderr",
     "output_type": "stream",
     "text": [
      "\r",
      " 51%|█████████████████████▍                    | 51/100 [09:05<08:40, 10.62s/it]"
     ]
    },
    {
     "name": "stdout",
     "output_type": "stream",
     "text": [
      "304\n"
     ]
    },
    {
     "name": "stderr",
     "output_type": "stream",
     "text": [
      "\r",
      " 52%|█████████████████████▊                    | 52/100 [09:35<13:11, 16.49s/it]"
     ]
    },
    {
     "name": "stdout",
     "output_type": "stream",
     "text": [
      "542\n"
     ]
    },
    {
     "name": "stderr",
     "output_type": "stream",
     "text": [
      "\r",
      " 53%|██████████████████████▎                   | 53/100 [09:39<09:55, 12.66s/it]"
     ]
    },
    {
     "name": "stdout",
     "output_type": "stream",
     "text": [
      "230\n"
     ]
    },
    {
     "name": "stderr",
     "output_type": "stream",
     "text": [
      "\r",
      " 54%|██████████████████████▋                   | 54/100 [09:41<07:23,  9.63s/it]"
     ]
    },
    {
     "name": "stdout",
     "output_type": "stream",
     "text": [
      "183\n"
     ]
    },
    {
     "name": "stderr",
     "output_type": "stream",
     "text": [
      "\r",
      " 55%|███████████████████████                   | 55/100 [09:48<06:41,  8.93s/it]"
     ]
    },
    {
     "name": "stdout",
     "output_type": "stream",
     "text": [
      "326\n"
     ]
    },
    {
     "name": "stderr",
     "output_type": "stream",
     "text": [
      "\r",
      " 56%|███████████████████████▌                  | 56/100 [10:03<07:48, 10.65s/it]"
     ]
    },
    {
     "name": "stdout",
     "output_type": "stream",
     "text": [
      "466\n"
     ]
    },
    {
     "name": "stderr",
     "output_type": "stream",
     "text": [
      "\r",
      " 57%|███████████████████████▉                  | 57/100 [10:24<09:54, 13.84s/it]"
     ]
    },
    {
     "name": "stdout",
     "output_type": "stream",
     "text": [
      "571\n"
     ]
    },
    {
     "name": "stderr",
     "output_type": "stream",
     "text": [
      " 59%|████████████████████████▊                 | 59/100 [10:37<06:26,  9.42s/it]"
     ]
    },
    {
     "name": "stdout",
     "output_type": "stream",
     "text": [
      "430\n",
      "41\n"
     ]
    },
    {
     "name": "stderr",
     "output_type": "stream",
     "text": [
      "\r",
      " 60%|█████████████████████████▏                | 60/100 [10:50<07:04, 10.60s/it]"
     ]
    },
    {
     "name": "stdout",
     "output_type": "stream",
     "text": [
      "450\n"
     ]
    },
    {
     "name": "stderr",
     "output_type": "stream",
     "text": [
      "\r",
      " 61%|█████████████████████████▌                | 61/100 [11:18<10:15, 15.79s/it]"
     ]
    },
    {
     "name": "stdout",
     "output_type": "stream",
     "text": [
      "649\n"
     ]
    },
    {
     "name": "stderr",
     "output_type": "stream",
     "text": [
      "\r",
      " 62%|██████████████████████████                | 62/100 [11:31<09:22, 14.81s/it]"
     ]
    },
    {
     "name": "stdout",
     "output_type": "stream",
     "text": [
      "423\n"
     ]
    },
    {
     "name": "stderr",
     "output_type": "stream",
     "text": [
      "\r",
      " 63%|██████████████████████████▍               | 63/100 [11:31<06:25, 10.43s/it]"
     ]
    },
    {
     "name": "stdout",
     "output_type": "stream",
     "text": [
      "44\n"
     ]
    },
    {
     "name": "stderr",
     "output_type": "stream",
     "text": [
      "\r",
      " 64%|██████████████████████████▉               | 64/100 [11:40<06:01, 10.04s/it]"
     ]
    },
    {
     "name": "stdout",
     "output_type": "stream",
     "text": [
      "358\n"
     ]
    },
    {
     "name": "stderr",
     "output_type": "stream",
     "text": [
      "\r",
      " 65%|███████████████████████████▎              | 65/100 [11:42<04:32,  7.79s/it]"
     ]
    },
    {
     "name": "stdout",
     "output_type": "stream",
     "text": [
      "185\n"
     ]
    },
    {
     "name": "stderr",
     "output_type": "stream",
     "text": [
      "\r",
      " 66%|███████████████████████████▋              | 66/100 [12:17<08:53, 15.69s/it]"
     ]
    },
    {
     "name": "stdout",
     "output_type": "stream",
     "text": [
      "724\n"
     ]
    },
    {
     "name": "stderr",
     "output_type": "stream",
     "text": [
      "\r",
      " 67%|████████████████████████████▏             | 67/100 [12:21<06:41, 12.18s/it]"
     ]
    },
    {
     "name": "stdout",
     "output_type": "stream",
     "text": [
      "233\n"
     ]
    },
    {
     "name": "stderr",
     "output_type": "stream",
     "text": [
      "\r",
      " 68%|████████████████████████████▌             | 68/100 [12:24<05:05,  9.55s/it]"
     ]
    },
    {
     "name": "stdout",
     "output_type": "stream",
     "text": [
      "218\n"
     ]
    },
    {
     "name": "stderr",
     "output_type": "stream",
     "text": [
      "\r",
      " 69%|████████████████████████████▉             | 69/100 [12:28<04:05,  7.91s/it]"
     ]
    },
    {
     "name": "stdout",
     "output_type": "stream",
     "text": [
      "221\n"
     ]
    },
    {
     "name": "stderr",
     "output_type": "stream",
     "text": [
      "\r",
      " 70%|█████████████████████████████▍            | 70/100 [12:50<06:02, 12.08s/it]"
     ]
    },
    {
     "name": "stdout",
     "output_type": "stream",
     "text": [
      "566\n"
     ]
    },
    {
     "name": "stderr",
     "output_type": "stream",
     "text": [
      "\r",
      " 71%|█████████████████████████████▊            | 71/100 [13:17<08:00, 16.56s/it]"
     ]
    },
    {
     "name": "stdout",
     "output_type": "stream",
     "text": [
      "636\n"
     ]
    },
    {
     "name": "stderr",
     "output_type": "stream",
     "text": [
      "\r",
      " 72%|██████████████████████████████▏           | 72/100 [13:30<07:12, 15.45s/it]"
     ]
    },
    {
     "name": "stdout",
     "output_type": "stream",
     "text": [
      "436\n"
     ]
    },
    {
     "name": "stderr",
     "output_type": "stream",
     "text": [
      "\r",
      " 73%|██████████████████████████████▋           | 73/100 [13:54<08:08, 18.09s/it]"
     ]
    },
    {
     "name": "stdout",
     "output_type": "stream",
     "text": [
      "612\n"
     ]
    },
    {
     "name": "stderr",
     "output_type": "stream",
     "text": [
      "\r",
      " 74%|███████████████████████████████           | 74/100 [14:07<07:08, 16.49s/it]"
     ]
    },
    {
     "name": "stdout",
     "output_type": "stream",
     "text": [
      "434\n"
     ]
    },
    {
     "name": "stderr",
     "output_type": "stream",
     "text": [
      "\r",
      " 75%|███████████████████████████████▌          | 75/100 [14:09<05:06, 12.28s/it]"
     ]
    },
    {
     "name": "stdout",
     "output_type": "stream",
     "text": [
      "184\n"
     ]
    },
    {
     "name": "stderr",
     "output_type": "stream",
     "text": [
      "\r",
      " 76%|███████████████████████████████▉          | 76/100 [14:18<04:32, 11.37s/it]"
     ]
    },
    {
     "name": "stdout",
     "output_type": "stream",
     "text": [
      "371\n"
     ]
    },
    {
     "name": "stderr",
     "output_type": "stream",
     "text": [
      "\r",
      " 77%|████████████████████████████████▎         | 77/100 [14:23<03:31,  9.18s/it]"
     ]
    },
    {
     "name": "stdout",
     "output_type": "stream",
     "text": [
      "243\n"
     ]
    },
    {
     "name": "stderr",
     "output_type": "stream",
     "text": [
      "\r",
      " 78%|████████████████████████████████▊         | 78/100 [14:40<04:18, 11.74s/it]"
     ]
    },
    {
     "name": "stdout",
     "output_type": "stream",
     "text": [
      "517\n"
     ]
    },
    {
     "name": "stderr",
     "output_type": "stream",
     "text": [
      "\r",
      " 79%|█████████████████████████████████▏        | 79/100 [14:44<03:17,  9.43s/it]"
     ]
    },
    {
     "name": "stdout",
     "output_type": "stream",
     "text": [
      "236\n"
     ]
    },
    {
     "name": "stderr",
     "output_type": "stream",
     "text": [
      "\r",
      " 80%|█████████████████████████████████▌        | 80/100 [14:47<02:26,  7.33s/it]"
     ]
    },
    {
     "name": "stdout",
     "output_type": "stream",
     "text": [
      "185\n"
     ]
    },
    {
     "name": "stderr",
     "output_type": "stream",
     "text": [
      "\r",
      " 81%|██████████████████████████████████        | 81/100 [15:15<04:18, 13.60s/it]"
     ]
    },
    {
     "name": "stdout",
     "output_type": "stream",
     "text": [
      "655\n"
     ]
    },
    {
     "name": "stderr",
     "output_type": "stream",
     "text": [
      "\r",
      " 82%|██████████████████████████████████▍       | 82/100 [15:31<04:15, 14.19s/it]"
     ]
    },
    {
     "name": "stdout",
     "output_type": "stream",
     "text": [
      "483\n"
     ]
    },
    {
     "name": "stderr",
     "output_type": "stream",
     "text": [
      "\r",
      " 83%|██████████████████████████████████▊       | 83/100 [15:37<03:21, 11.85s/it]"
     ]
    },
    {
     "name": "stdout",
     "output_type": "stream",
     "text": [
      "307\n"
     ]
    },
    {
     "name": "stderr",
     "output_type": "stream",
     "text": [
      "\r",
      " 84%|███████████████████████████████████▎      | 84/100 [15:46<02:54, 10.88s/it]"
     ]
    },
    {
     "name": "stdout",
     "output_type": "stream",
     "text": [
      "357\n"
     ]
    },
    {
     "name": "stderr",
     "output_type": "stream",
     "text": [
      "\r",
      " 85%|███████████████████████████████████▋      | 85/100 [15:54<02:31, 10.09s/it]"
     ]
    },
    {
     "name": "stdout",
     "output_type": "stream",
     "text": [
      "350\n"
     ]
    },
    {
     "name": "stderr",
     "output_type": "stream",
     "text": [
      "\r",
      " 86%|████████████████████████████████████      | 86/100 [16:07<02:33, 10.97s/it]"
     ]
    },
    {
     "name": "stdout",
     "output_type": "stream",
     "text": [
      "396\n"
     ]
    },
    {
     "name": "stderr",
     "output_type": "stream",
     "text": [
      "\r",
      " 87%|████████████████████████████████████▌     | 87/100 [16:33<03:20, 15.46s/it]"
     ]
    },
    {
     "name": "stdout",
     "output_type": "stream",
     "text": [
      "615\n"
     ]
    },
    {
     "name": "stderr",
     "output_type": "stream",
     "text": [
      "\r",
      " 88%|████████████████████████████████████▉     | 88/100 [16:51<03:17, 16.44s/it]"
     ]
    },
    {
     "name": "stdout",
     "output_type": "stream",
     "text": [
      "533\n"
     ]
    },
    {
     "name": "stderr",
     "output_type": "stream",
     "text": [
      "\r",
      " 89%|█████████████████████████████████████▍    | 89/100 [17:10<03:07, 17.09s/it]"
     ]
    },
    {
     "name": "stdout",
     "output_type": "stream",
     "text": [
      "514\n"
     ]
    },
    {
     "name": "stderr",
     "output_type": "stream",
     "text": [
      "\r",
      " 90%|█████████████████████████████████████▊    | 90/100 [17:11<02:03, 12.37s/it]"
     ]
    },
    {
     "name": "stdout",
     "output_type": "stream",
     "text": [
      "135\n"
     ]
    },
    {
     "name": "stderr",
     "output_type": "stream",
     "text": [
      "\r",
      " 91%|██████████████████████████████████████▏   | 91/100 [17:23<01:49, 12.19s/it]"
     ]
    },
    {
     "name": "stdout",
     "output_type": "stream",
     "text": [
      "419\n"
     ]
    },
    {
     "name": "stderr",
     "output_type": "stream",
     "text": [
      "\r",
      " 92%|██████████████████████████████████████▋   | 92/100 [17:31<01:27, 10.92s/it]"
     ]
    },
    {
     "name": "stdout",
     "output_type": "stream",
     "text": [
      "333\n"
     ]
    },
    {
     "name": "stderr",
     "output_type": "stream",
     "text": [
      "\r",
      " 93%|███████████████████████████████████████   | 93/100 [17:59<01:52, 16.02s/it]"
     ]
    },
    {
     "name": "stdout",
     "output_type": "stream",
     "text": [
      "658\n"
     ]
    },
    {
     "name": "stderr",
     "output_type": "stream",
     "text": [
      "\r",
      " 94%|███████████████████████████████████████▍  | 94/100 [18:19<01:43, 17.19s/it]"
     ]
    },
    {
     "name": "stdout",
     "output_type": "stream",
     "text": [
      "538\n"
     ]
    },
    {
     "name": "stderr",
     "output_type": "stream",
     "text": [
      "\r",
      " 95%|███████████████████████████████████████▉  | 95/100 [18:30<01:15, 15.18s/it]"
     ]
    },
    {
     "name": "stdout",
     "output_type": "stream",
     "text": [
      "384\n"
     ]
    },
    {
     "name": "stderr",
     "output_type": "stream",
     "text": [
      "\r",
      " 96%|████████████████████████████████████████▎ | 96/100 [18:37<00:51, 12.76s/it]"
     ]
    },
    {
     "name": "stdout",
     "output_type": "stream",
     "text": [
      "322\n"
     ]
    },
    {
     "name": "stderr",
     "output_type": "stream",
     "text": [
      "\r",
      " 97%|████████████████████████████████████████▋ | 97/100 [18:43<00:32, 10.80s/it]"
     ]
    },
    {
     "name": "stdout",
     "output_type": "stream",
     "text": [
      "302\n"
     ]
    },
    {
     "name": "stderr",
     "output_type": "stream",
     "text": [
      "\r",
      " 98%|█████████████████████████████████████████▏| 98/100 [18:48<00:18,  9.04s/it]"
     ]
    },
    {
     "name": "stdout",
     "output_type": "stream",
     "text": [
      "266\n"
     ]
    },
    {
     "name": "stderr",
     "output_type": "stream",
     "text": [
      "\r",
      " 99%|█████████████████████████████████████████▌| 99/100 [19:06<00:11, 11.87s/it]"
     ]
    },
    {
     "name": "stdout",
     "output_type": "stream",
     "text": [
      "514\n"
     ]
    },
    {
     "name": "stderr",
     "output_type": "stream",
     "text": [
      "100%|█████████████████████████████████████████| 100/100 [19:18<00:00, 11.59s/it]"
     ]
    },
    {
     "name": "stdout",
     "output_type": "stream",
     "text": [
      "426\n"
     ]
    },
    {
     "name": "stderr",
     "output_type": "stream",
     "text": [
      "\n"
     ]
    }
   ],
   "source": [
    "# Random\n",
    "\n",
    "nb_of_iters = 100\n",
    "rand_box_real = []\n",
    "\n",
    "# Generate the random graph and compute shortest paths\n",
    "G = G_fb\n",
    "length = dict(nx.all_pairs_shortest_path_length(G))\n",
    "\n",
    "for _ in tqdm(range(nb_of_iters)):\n",
    "    nodes = list(random.sample(list(G.nodes), len(G)))\n",
    "    for nb in range(0, len(G)):\n",
    "        if is_resolving_set(G, nodes[:nb], length):\n",
    "            rand_box_real.append(nb)\n",
    "            print(nb)\n",
    "            break"
   ]
  },
  {
   "cell_type": "code",
   "execution_count": 199,
   "id": "45353c4b",
   "metadata": {},
   "outputs": [
    {
     "name": "stderr",
     "output_type": "stream",
     "text": [
      "  2%|▊                                          | 2/100 [00:00<00:18,  5.28it/s]"
     ]
    },
    {
     "name": "stdout",
     "output_type": "stream",
     "text": [
      "48\n",
      "35\n"
     ]
    },
    {
     "name": "stderr",
     "output_type": "stream",
     "text": [
      "\r",
      "  3%|█▎                                         | 3/100 [00:00<00:29,  3.26it/s]"
     ]
    },
    {
     "name": "stdout",
     "output_type": "stream",
     "text": [
      "58\n"
     ]
    },
    {
     "name": "stderr",
     "output_type": "stream",
     "text": [
      "  5%|██▏                                        | 5/100 [00:01<00:29,  3.17it/s]"
     ]
    },
    {
     "name": "stdout",
     "output_type": "stream",
     "text": [
      "59\n",
      "36\n"
     ]
    },
    {
     "name": "stderr",
     "output_type": "stream",
     "text": [
      "  7%|███                                        | 7/100 [00:02<00:24,  3.78it/s]"
     ]
    },
    {
     "name": "stdout",
     "output_type": "stream",
     "text": [
      "46\n",
      "36\n"
     ]
    },
    {
     "name": "stderr",
     "output_type": "stream",
     "text": [
      "\r",
      "  8%|███▍                                       | 8/100 [00:02<00:34,  2.66it/s]"
     ]
    },
    {
     "name": "stdout",
     "output_type": "stream",
     "text": [
      "74\n"
     ]
    },
    {
     "name": "stderr",
     "output_type": "stream",
     "text": [
      " 10%|████▏                                     | 10/100 [00:03<00:30,  2.93it/s]"
     ]
    },
    {
     "name": "stdout",
     "output_type": "stream",
     "text": [
      "74\n",
      "35\n"
     ]
    },
    {
     "name": "stderr",
     "output_type": "stream",
     "text": [
      " 12%|█████                                     | 12/100 [00:03<00:22,  3.92it/s]"
     ]
    },
    {
     "name": "stdout",
     "output_type": "stream",
     "text": [
      "46\n",
      "34\n"
     ]
    },
    {
     "name": "stderr",
     "output_type": "stream",
     "text": [
      " 14%|█████▉                                    | 14/100 [00:04<00:20,  4.29it/s]"
     ]
    },
    {
     "name": "stdout",
     "output_type": "stream",
     "text": [
      "56\n",
      "33\n"
     ]
    },
    {
     "name": "stderr",
     "output_type": "stream",
     "text": [
      " 16%|██████▋                                   | 16/100 [00:04<00:15,  5.45it/s]"
     ]
    },
    {
     "name": "stdout",
     "output_type": "stream",
     "text": [
      "36\n",
      "31\n"
     ]
    },
    {
     "name": "stderr",
     "output_type": "stream",
     "text": [
      " 18%|███████▌                                  | 18/100 [00:05<00:24,  3.31it/s]"
     ]
    },
    {
     "name": "stdout",
     "output_type": "stream",
     "text": [
      "98\n",
      "28\n"
     ]
    },
    {
     "name": "stderr",
     "output_type": "stream",
     "text": [
      "\r",
      " 19%|███████▉                                  | 19/100 [00:06<00:33,  2.42it/s]"
     ]
    },
    {
     "name": "stdout",
     "output_type": "stream",
     "text": [
      "70\n"
     ]
    },
    {
     "name": "stderr",
     "output_type": "stream",
     "text": [
      "\r",
      " 20%|████████▍                                 | 20/100 [00:06<00:30,  2.64it/s]"
     ]
    },
    {
     "name": "stdout",
     "output_type": "stream",
     "text": [
      "47\n"
     ]
    },
    {
     "name": "stderr",
     "output_type": "stream",
     "text": [
      "\r",
      " 21%|████████▊                                 | 21/100 [00:06<00:27,  2.88it/s]"
     ]
    },
    {
     "name": "stdout",
     "output_type": "stream",
     "text": [
      "46\n"
     ]
    },
    {
     "name": "stderr",
     "output_type": "stream",
     "text": [
      "\r",
      " 22%|█████████▏                                | 22/100 [00:07<00:31,  2.45it/s]"
     ]
    },
    {
     "name": "stdout",
     "output_type": "stream",
     "text": [
      "52\n",
      "28\n"
     ]
    },
    {
     "name": "stderr",
     "output_type": "stream",
     "text": [
      "\r",
      " 24%|██████████                                | 24/100 [00:07<00:20,  3.73it/s]"
     ]
    },
    {
     "name": "stdout",
     "output_type": "stream",
     "text": [
      "34\n"
     ]
    },
    {
     "name": "stderr",
     "output_type": "stream",
     "text": [
      " 26%|██████████▉                               | 26/100 [00:07<00:17,  4.34it/s]"
     ]
    },
    {
     "name": "stdout",
     "output_type": "stream",
     "text": [
      "44\n",
      "34\n"
     ]
    },
    {
     "name": "stderr",
     "output_type": "stream",
     "text": [
      "\r",
      " 27%|███████████▎                              | 27/100 [00:07<00:16,  4.40it/s]"
     ]
    },
    {
     "name": "stdout",
     "output_type": "stream",
     "text": [
      "44\n"
     ]
    },
    {
     "name": "stderr",
     "output_type": "stream",
     "text": [
      " 29%|████████████▏                             | 29/100 [00:09<00:34,  2.04it/s]"
     ]
    },
    {
     "name": "stdout",
     "output_type": "stream",
     "text": [
      "139\n",
      "41\n"
     ]
    },
    {
     "name": "stderr",
     "output_type": "stream",
     "text": [
      " 31%|█████████████                             | 31/100 [00:10<00:25,  2.68it/s]"
     ]
    },
    {
     "name": "stdout",
     "output_type": "stream",
     "text": [
      "57\n",
      "36\n"
     ]
    },
    {
     "name": "stderr",
     "output_type": "stream",
     "text": [
      "\r",
      " 32%|█████████████▍                            | 32/100 [00:10<00:21,  3.16it/s]"
     ]
    },
    {
     "name": "stdout",
     "output_type": "stream",
     "text": [
      "39\n"
     ]
    },
    {
     "name": "stderr",
     "output_type": "stream",
     "text": [
      " 34%|██████████████▎                           | 34/100 [00:10<00:16,  3.99it/s]"
     ]
    },
    {
     "name": "stdout",
     "output_type": "stream",
     "text": [
      "46\n",
      "35\n"
     ]
    },
    {
     "name": "stderr",
     "output_type": "stream",
     "text": [
      " 36%|███████████████                           | 36/100 [00:11<00:16,  3.78it/s]"
     ]
    },
    {
     "name": "stdout",
     "output_type": "stream",
     "text": [
      "58\n",
      "33\n"
     ]
    },
    {
     "name": "stderr",
     "output_type": "stream",
     "text": [
      "\r",
      " 37%|███████████████▌                          | 37/100 [00:11<00:17,  3.68it/s]"
     ]
    },
    {
     "name": "stdout",
     "output_type": "stream",
     "text": [
      "41\n"
     ]
    },
    {
     "name": "stderr",
     "output_type": "stream",
     "text": [
      "\r",
      " 38%|███████████████▉                          | 38/100 [00:12<00:22,  2.78it/s]"
     ]
    },
    {
     "name": "stdout",
     "output_type": "stream",
     "text": [
      "58\n"
     ]
    },
    {
     "name": "stderr",
     "output_type": "stream",
     "text": [
      "\r",
      " 39%|████████████████▍                         | 39/100 [00:12<00:22,  2.71it/s]"
     ]
    },
    {
     "name": "stdout",
     "output_type": "stream",
     "text": [
      "47\n"
     ]
    },
    {
     "name": "stderr",
     "output_type": "stream",
     "text": [
      " 41%|█████████████████▏                        | 41/100 [00:13<00:17,  3.47it/s]"
     ]
    },
    {
     "name": "stdout",
     "output_type": "stream",
     "text": [
      "54\n",
      "28\n"
     ]
    },
    {
     "name": "stderr",
     "output_type": "stream",
     "text": [
      "\r",
      " 42%|█████████████████▋                        | 42/100 [00:13<00:17,  3.29it/s]"
     ]
    },
    {
     "name": "stdout",
     "output_type": "stream",
     "text": [
      "34\n"
     ]
    },
    {
     "name": "stderr",
     "output_type": "stream",
     "text": [
      " 44%|██████████████████▍                       | 44/100 [00:14<00:15,  3.68it/s]"
     ]
    },
    {
     "name": "stdout",
     "output_type": "stream",
     "text": [
      "50\n",
      "28\n"
     ]
    },
    {
     "name": "stderr",
     "output_type": "stream",
     "text": [
      " 46%|███████████████████▎                      | 46/100 [00:14<00:11,  4.61it/s]"
     ]
    },
    {
     "name": "stdout",
     "output_type": "stream",
     "text": [
      "32\n",
      "32\n"
     ]
    },
    {
     "name": "stderr",
     "output_type": "stream",
     "text": [
      "\r",
      " 47%|███████████████████▋                      | 47/100 [00:14<00:12,  4.33it/s]"
     ]
    },
    {
     "name": "stdout",
     "output_type": "stream",
     "text": [
      "47\n"
     ]
    },
    {
     "name": "stderr",
     "output_type": "stream",
     "text": [
      "\r",
      " 48%|████████████████████▏                     | 48/100 [00:14<00:13,  3.99it/s]"
     ]
    },
    {
     "name": "stdout",
     "output_type": "stream",
     "text": [
      "48\n"
     ]
    },
    {
     "name": "stderr",
     "output_type": "stream",
     "text": [
      "\r",
      " 49%|████████████████████▌                     | 49/100 [00:15<00:15,  3.29it/s]"
     ]
    },
    {
     "name": "stdout",
     "output_type": "stream",
     "text": [
      "44\n"
     ]
    },
    {
     "name": "stderr",
     "output_type": "stream",
     "text": [
      " 51%|█████████████████████▍                    | 51/100 [00:15<00:12,  3.86it/s]"
     ]
    },
    {
     "name": "stdout",
     "output_type": "stream",
     "text": [
      "58\n",
      "33\n"
     ]
    },
    {
     "name": "stderr",
     "output_type": "stream",
     "text": [
      "\r",
      " 52%|█████████████████████▊                    | 52/100 [00:16<00:11,  4.06it/s]"
     ]
    },
    {
     "name": "stdout",
     "output_type": "stream",
     "text": [
      "39\n"
     ]
    },
    {
     "name": "stderr",
     "output_type": "stream",
     "text": [
      " 54%|██████████████████████▋                   | 54/100 [00:16<00:10,  4.29it/s]"
     ]
    },
    {
     "name": "stdout",
     "output_type": "stream",
     "text": [
      "50\n",
      "42\n"
     ]
    },
    {
     "name": "stderr",
     "output_type": "stream",
     "text": [
      "\r",
      " 55%|███████████████████████                   | 55/100 [00:17<00:14,  3.13it/s]"
     ]
    },
    {
     "name": "stdout",
     "output_type": "stream",
     "text": [
      "73\n"
     ]
    },
    {
     "name": "stderr",
     "output_type": "stream",
     "text": [
      "\r",
      " 56%|███████████████████████▌                  | 56/100 [00:17<00:15,  2.88it/s]"
     ]
    },
    {
     "name": "stdout",
     "output_type": "stream",
     "text": [
      "65\n"
     ]
    },
    {
     "name": "stderr",
     "output_type": "stream",
     "text": [
      " 58%|████████████████████████▎                 | 58/100 [00:18<00:13,  3.08it/s]"
     ]
    },
    {
     "name": "stdout",
     "output_type": "stream",
     "text": [
      "74\n",
      "38\n"
     ]
    },
    {
     "name": "stderr",
     "output_type": "stream",
     "text": [
      "\r",
      " 59%|████████████████████████▊                 | 59/100 [00:19<00:24,  1.71it/s]"
     ]
    },
    {
     "name": "stdout",
     "output_type": "stream",
     "text": [
      "116\n"
     ]
    },
    {
     "name": "stderr",
     "output_type": "stream",
     "text": [
      "\r",
      " 60%|█████████████████████████▏                | 60/100 [00:19<00:20,  1.99it/s]"
     ]
    },
    {
     "name": "stdout",
     "output_type": "stream",
     "text": [
      "43\n"
     ]
    },
    {
     "name": "stderr",
     "output_type": "stream",
     "text": [
      "\r",
      " 61%|█████████████████████████▌                | 61/100 [00:19<00:17,  2.19it/s]"
     ]
    },
    {
     "name": "stdout",
     "output_type": "stream",
     "text": [
      "59\n"
     ]
    },
    {
     "name": "stderr",
     "output_type": "stream",
     "text": [
      " 63%|██████████████████████████▍               | 63/100 [00:20<00:11,  3.10it/s]"
     ]
    },
    {
     "name": "stdout",
     "output_type": "stream",
     "text": [
      "55\n",
      "35\n"
     ]
    },
    {
     "name": "stderr",
     "output_type": "stream",
     "text": [
      "\r",
      " 64%|██████████████████████████▉               | 64/100 [00:20<00:09,  3.65it/s]"
     ]
    },
    {
     "name": "stdout",
     "output_type": "stream",
     "text": [
      "39\n"
     ]
    },
    {
     "name": "stderr",
     "output_type": "stream",
     "text": [
      " 66%|███████████████████████████▋              | 66/100 [00:20<00:08,  4.16it/s]"
     ]
    },
    {
     "name": "stdout",
     "output_type": "stream",
     "text": [
      "51\n",
      "40\n"
     ]
    },
    {
     "name": "stderr",
     "output_type": "stream",
     "text": [
      "\r",
      " 67%|████████████████████████████▏             | 67/100 [00:21<00:07,  4.47it/s]"
     ]
    },
    {
     "name": "stdout",
     "output_type": "stream",
     "text": [
      "42\n",
      "30\n"
     ]
    },
    {
     "name": "stderr",
     "output_type": "stream",
     "text": [
      "\r",
      " 69%|████████████████████████████▉             | 69/100 [00:21<00:07,  4.33it/s]"
     ]
    },
    {
     "name": "stdout",
     "output_type": "stream",
     "text": [
      "55\n"
     ]
    },
    {
     "name": "stderr",
     "output_type": "stream",
     "text": [
      "\r",
      " 70%|█████████████████████████████▍            | 70/100 [00:21<00:07,  3.89it/s]"
     ]
    },
    {
     "name": "stdout",
     "output_type": "stream",
     "text": [
      "48\n"
     ]
    },
    {
     "name": "stderr",
     "output_type": "stream",
     "text": [
      " 72%|██████████████████████████████▏           | 72/100 [00:22<00:06,  4.13it/s]"
     ]
    },
    {
     "name": "stdout",
     "output_type": "stream",
     "text": [
      "49\n",
      "36\n"
     ]
    },
    {
     "name": "stderr",
     "output_type": "stream",
     "text": [
      " 74%|███████████████████████████████           | 74/100 [00:22<00:06,  4.31it/s]"
     ]
    },
    {
     "name": "stdout",
     "output_type": "stream",
     "text": [
      "45\n",
      "39\n"
     ]
    },
    {
     "name": "stderr",
     "output_type": "stream",
     "text": [
      " 76%|███████████████████████████████▉          | 76/100 [00:23<00:05,  4.74it/s]"
     ]
    },
    {
     "name": "stdout",
     "output_type": "stream",
     "text": [
      "46\n",
      "32\n"
     ]
    },
    {
     "name": "stderr",
     "output_type": "stream",
     "text": [
      "\r",
      " 77%|████████████████████████████████▎         | 77/100 [00:23<00:04,  4.78it/s]"
     ]
    },
    {
     "name": "stdout",
     "output_type": "stream",
     "text": [
      "39\n"
     ]
    },
    {
     "name": "stderr",
     "output_type": "stream",
     "text": [
      "\r",
      " 78%|████████████████████████████████▊         | 78/100 [00:23<00:05,  4.20it/s]"
     ]
    },
    {
     "name": "stdout",
     "output_type": "stream",
     "text": [
      "49\n"
     ]
    },
    {
     "name": "stderr",
     "output_type": "stream",
     "text": [
      "\r",
      " 79%|█████████████████████████████████▏        | 79/100 [00:24<00:06,  3.42it/s]"
     ]
    },
    {
     "name": "stdout",
     "output_type": "stream",
     "text": [
      "63\n"
     ]
    },
    {
     "name": "stderr",
     "output_type": "stream",
     "text": [
      "\r",
      " 80%|█████████████████████████████████▌        | 80/100 [00:24<00:06,  3.29it/s]"
     ]
    },
    {
     "name": "stdout",
     "output_type": "stream",
     "text": [
      "54\n"
     ]
    },
    {
     "name": "stderr",
     "output_type": "stream",
     "text": [
      "\r",
      " 81%|██████████████████████████████████        | 81/100 [00:25<00:07,  2.70it/s]"
     ]
    },
    {
     "name": "stdout",
     "output_type": "stream",
     "text": [
      "60\n"
     ]
    },
    {
     "name": "stderr",
     "output_type": "stream",
     "text": [
      "\r",
      " 82%|██████████████████████████████████▍       | 82/100 [00:25<00:05,  3.07it/s]"
     ]
    },
    {
     "name": "stdout",
     "output_type": "stream",
     "text": [
      "39\n"
     ]
    },
    {
     "name": "stderr",
     "output_type": "stream",
     "text": [
      " 84%|███████████████████████████████████▎      | 84/100 [00:25<00:04,  3.88it/s]"
     ]
    },
    {
     "name": "stdout",
     "output_type": "stream",
     "text": [
      "38\n",
      "35\n"
     ]
    },
    {
     "name": "stderr",
     "output_type": "stream",
     "text": [
      "\r",
      " 85%|███████████████████████████████████▋      | 85/100 [00:26<00:07,  1.88it/s]"
     ]
    },
    {
     "name": "stdout",
     "output_type": "stream",
     "text": [
      "113\n",
      "30\n"
     ]
    },
    {
     "name": "stderr",
     "output_type": "stream",
     "text": [
      "\r",
      " 87%|████████████████████████████████████▌     | 87/100 [00:27<00:04,  2.94it/s]"
     ]
    },
    {
     "name": "stdout",
     "output_type": "stream",
     "text": [
      "29\n"
     ]
    },
    {
     "name": "stderr",
     "output_type": "stream",
     "text": [
      "\r",
      " 88%|████████████████████████████████████▉     | 88/100 [00:29<00:09,  1.31it/s]"
     ]
    },
    {
     "name": "stdout",
     "output_type": "stream",
     "text": [
      "138\n"
     ]
    },
    {
     "name": "stderr",
     "output_type": "stream",
     "text": [
      "\r",
      " 89%|█████████████████████████████████████▍    | 89/100 [00:29<00:07,  1.38it/s]"
     ]
    },
    {
     "name": "stdout",
     "output_type": "stream",
     "text": [
      "65\n"
     ]
    },
    {
     "name": "stderr",
     "output_type": "stream",
     "text": [
      "\r",
      " 90%|█████████████████████████████████████▊    | 90/100 [00:31<00:08,  1.15it/s]"
     ]
    },
    {
     "name": "stdout",
     "output_type": "stream",
     "text": [
      "116\n"
     ]
    },
    {
     "name": "stderr",
     "output_type": "stream",
     "text": [
      "\r",
      " 91%|██████████████████████████████████████▏   | 91/100 [00:31<00:06,  1.43it/s]"
     ]
    },
    {
     "name": "stdout",
     "output_type": "stream",
     "text": [
      "52\n"
     ]
    },
    {
     "name": "stderr",
     "output_type": "stream",
     "text": [
      "\r",
      " 92%|██████████████████████████████████████▋   | 92/100 [00:31<00:04,  1.76it/s]"
     ]
    },
    {
     "name": "stdout",
     "output_type": "stream",
     "text": [
      "49\n",
      "27\n"
     ]
    },
    {
     "name": "stderr",
     "output_type": "stream",
     "text": [
      " 95%|███████████████████████████████████████▉  | 95/100 [00:31<00:01,  3.23it/s]"
     ]
    },
    {
     "name": "stdout",
     "output_type": "stream",
     "text": [
      "36\n",
      "34\n"
     ]
    },
    {
     "name": "stderr",
     "output_type": "stream",
     "text": [
      "\r",
      " 96%|████████████████████████████████████████▎ | 96/100 [00:32<00:01,  3.69it/s]"
     ]
    },
    {
     "name": "stdout",
     "output_type": "stream",
     "text": [
      "38\n",
      "44\n"
     ]
    },
    {
     "name": "stderr",
     "output_type": "stream",
     "text": [
      " 98%|█████████████████████████████████████████▏| 98/100 [00:32<00:00,  3.85it/s]"
     ]
    },
    {
     "name": "stdout",
     "output_type": "stream",
     "text": [
      "52\n"
     ]
    },
    {
     "name": "stderr",
     "output_type": "stream",
     "text": [
      "100%|█████████████████████████████████████████| 100/100 [00:34<00:00,  2.93it/s]"
     ]
    },
    {
     "name": "stdout",
     "output_type": "stream",
     "text": [
      "128\n",
      "36\n"
     ]
    },
    {
     "name": "stderr",
     "output_type": "stream",
     "text": [
      "\n"
     ]
    }
   ],
   "source": [
    "# Strategy 1 with degree\n",
    "\n",
    "start1_degree_box_real = []\n",
    "\n",
    "tresh = 50\n",
    "nb_of_iters = 100\n",
    "\n",
    "G = G_fb\n",
    "nb_of_nodes_in_resolving_set = 20\n",
    "\n",
    "length = dict(nx.all_pairs_shortest_path_length(G))\n",
    "c = nx.degree_centrality(G)\n",
    "\n",
    "# normalize the betweenness centralities\n",
    "c_values = np.array(list(c.values()))\n",
    "c_norm = c_values / sum(c_values)\n",
    "node_list = list(c.keys())\n",
    "ms_b_box_sol_real = []\n",
    "nodes_to_add = []\n",
    "\n",
    "while True:\n",
    "    intensities = {str(key): 0 for key in G.nodes}\n",
    "    for i in range(100):\n",
    "        # Random set of nodes to test\n",
    "        nodes = nodes_to_add + list(np.random.choice(node_list, p=c_norm, size=nb_of_nodes_in_resolving_set, replace=False))\n",
    "        resolved = set_resolved(G, nodes, length)\n",
    "        for node in resolved:\n",
    "            intensities[node] += +1\n",
    "\n",
    "    small = [key for key, val in intensities.items() if val < tresh]\n",
    "    s = len(small)\n",
    "    nodes_to_add += get_nodes_with_diff_neighbors(G, small)\n",
    "    if s == 0:\n",
    "        break\n",
    "indices = [node_list.index(i) for i in nodes_to_add] \n",
    "node_list_without_indices_to_add = [element for index, element in enumerate(node_list) if index not in indices]\n",
    "c_norm_without_indices_to_add = [element for index, element in enumerate(c_norm) if index not in indices]\n",
    "c_norm_without_indices_to_add = c_norm_without_indices_to_add / sum(c_norm_without_indices_to_add)\n",
    "\n",
    "for _ in tqdm(range(nb_of_iters)):\n",
    "    nodes = nodes_to_add + list(np.random.choice(node_list_without_indices_to_add, p=c_norm_without_indices_to_add, size=len(node_list_without_indices_to_add), replace=False)) # Random set of nodes to test\n",
    "    for nb in range(len(nodes_to_add), len(G)):\n",
    "        if is_resolving_set(G, nodes[:nb], length):\n",
    "            start1_degree_box_real.append(nb)\n",
    "            break"
   ]
  },
  {
   "cell_type": "code",
   "execution_count": 173,
   "id": "010363f9",
   "metadata": {},
   "outputs": [
    {
     "name": "stderr",
     "output_type": "stream",
     "text": [
      "  1%|▍                                          | 1/100 [00:00<01:33,  1.06it/s]"
     ]
    },
    {
     "name": "stdout",
     "output_type": "stream",
     "text": [
      "93\n"
     ]
    },
    {
     "name": "stderr",
     "output_type": "stream",
     "text": [
      "\r",
      "  2%|▊                                          | 2/100 [00:01<00:51,  1.91it/s]"
     ]
    },
    {
     "name": "stdout",
     "output_type": "stream",
     "text": [
      "46\n"
     ]
    },
    {
     "name": "stderr",
     "output_type": "stream",
     "text": [
      "\r",
      "  3%|█▎                                         | 3/100 [00:01<00:44,  2.19it/s]"
     ]
    },
    {
     "name": "stdout",
     "output_type": "stream",
     "text": [
      "57\n"
     ]
    },
    {
     "name": "stderr",
     "output_type": "stream",
     "text": [
      "\r",
      "  4%|█▋                                         | 4/100 [00:01<00:38,  2.49it/s]"
     ]
    },
    {
     "name": "stdout",
     "output_type": "stream",
     "text": [
      "54\n",
      "27\n"
     ]
    },
    {
     "name": "stderr",
     "output_type": "stream",
     "text": [
      "\r",
      "  6%|██▌                                        | 6/100 [00:02<00:24,  3.89it/s]"
     ]
    },
    {
     "name": "stdout",
     "output_type": "stream",
     "text": [
      "35\n"
     ]
    },
    {
     "name": "stderr",
     "output_type": "stream",
     "text": [
      "  8%|███▍                                       | 8/100 [00:02<00:21,  4.19it/s]"
     ]
    },
    {
     "name": "stdout",
     "output_type": "stream",
     "text": [
      "53\n",
      "35\n"
     ]
    },
    {
     "name": "stderr",
     "output_type": "stream",
     "text": [
      " 10%|████▏                                     | 10/100 [00:03<00:27,  3.23it/s]"
     ]
    },
    {
     "name": "stdout",
     "output_type": "stream",
     "text": [
      "83\n",
      "33\n"
     ]
    },
    {
     "name": "stderr",
     "output_type": "stream",
     "text": [
      "\r",
      " 11%|████▌                                     | 11/100 [00:03<00:24,  3.67it/s]"
     ]
    },
    {
     "name": "stdout",
     "output_type": "stream",
     "text": [
      "40\n"
     ]
    },
    {
     "name": "stderr",
     "output_type": "stream",
     "text": [
      " 13%|█████▍                                    | 13/100 [00:04<00:23,  3.68it/s]"
     ]
    },
    {
     "name": "stdout",
     "output_type": "stream",
     "text": [
      "62\n",
      "38\n"
     ]
    },
    {
     "name": "stderr",
     "output_type": "stream",
     "text": [
      " 15%|██████▎                                   | 15/100 [00:04<00:21,  3.90it/s]"
     ]
    },
    {
     "name": "stdout",
     "output_type": "stream",
     "text": [
      "51\n",
      "38\n",
      "27\n"
     ]
    },
    {
     "name": "stderr",
     "output_type": "stream",
     "text": [
      "\r",
      " 17%|███████▏                                  | 17/100 [00:05<00:24,  3.42it/s]"
     ]
    },
    {
     "name": "stdout",
     "output_type": "stream",
     "text": [
      "73\n"
     ]
    },
    {
     "name": "stderr",
     "output_type": "stream",
     "text": [
      "\r",
      " 18%|███████▌                                  | 18/100 [00:05<00:25,  3.22it/s]"
     ]
    },
    {
     "name": "stdout",
     "output_type": "stream",
     "text": [
      "56\n"
     ]
    },
    {
     "name": "stderr",
     "output_type": "stream",
     "text": [
      "\r",
      " 19%|███████▉                                  | 19/100 [00:06<00:26,  3.01it/s]"
     ]
    },
    {
     "name": "stdout",
     "output_type": "stream",
     "text": [
      "58\n"
     ]
    },
    {
     "name": "stderr",
     "output_type": "stream",
     "text": [
      "\r",
      " 20%|████████▍                                 | 20/100 [00:06<00:24,  3.30it/s]"
     ]
    },
    {
     "name": "stdout",
     "output_type": "stream",
     "text": [
      "46\n"
     ]
    },
    {
     "name": "stderr",
     "output_type": "stream",
     "text": [
      "\r",
      " 21%|████████▊                                 | 21/100 [00:06<00:24,  3.23it/s]"
     ]
    },
    {
     "name": "stdout",
     "output_type": "stream",
     "text": [
      "57\n"
     ]
    },
    {
     "name": "stderr",
     "output_type": "stream",
     "text": [
      " 23%|█████████▋                                | 23/100 [00:07<00:22,  3.42it/s]"
     ]
    },
    {
     "name": "stdout",
     "output_type": "stream",
     "text": [
      "67\n",
      "37\n"
     ]
    },
    {
     "name": "stderr",
     "output_type": "stream",
     "text": [
      "\r",
      " 24%|██████████                                | 24/100 [00:07<00:23,  3.19it/s]"
     ]
    },
    {
     "name": "stdout",
     "output_type": "stream",
     "text": [
      "58\n"
     ]
    },
    {
     "name": "stderr",
     "output_type": "stream",
     "text": [
      "\r",
      " 25%|██████████▌                               | 25/100 [00:08<00:24,  3.09it/s]"
     ]
    },
    {
     "name": "stdout",
     "output_type": "stream",
     "text": [
      "53\n"
     ]
    },
    {
     "name": "stderr",
     "output_type": "stream",
     "text": [
      " 27%|███████████▎                              | 27/100 [00:08<00:23,  3.09it/s]"
     ]
    },
    {
     "name": "stdout",
     "output_type": "stream",
     "text": [
      "59\n",
      "37\n"
     ]
    },
    {
     "name": "stderr",
     "output_type": "stream",
     "text": [
      "\r",
      " 28%|███████████▊                              | 28/100 [00:09<00:23,  3.05it/s]"
     ]
    },
    {
     "name": "stdout",
     "output_type": "stream",
     "text": [
      "57\n"
     ]
    },
    {
     "name": "stderr",
     "output_type": "stream",
     "text": [
      "\r",
      " 29%|████████████▏                             | 29/100 [00:09<00:26,  2.69it/s]"
     ]
    },
    {
     "name": "stdout",
     "output_type": "stream",
     "text": [
      "70\n",
      "45\n"
     ]
    },
    {
     "name": "stderr",
     "output_type": "stream",
     "text": [
      " 31%|█████████████                             | 31/100 [00:10<00:22,  3.01it/s]"
     ]
    },
    {
     "name": "stdout",
     "output_type": "stream",
     "text": [
      "54\n"
     ]
    },
    {
     "name": "stderr",
     "output_type": "stream",
     "text": [
      "\r",
      " 32%|█████████████▍                            | 32/100 [00:10<00:24,  2.82it/s]"
     ]
    },
    {
     "name": "stdout",
     "output_type": "stream",
     "text": [
      "51\n"
     ]
    },
    {
     "name": "stderr",
     "output_type": "stream",
     "text": [
      "\r",
      " 33%|█████████████▊                            | 33/100 [00:10<00:24,  2.73it/s]"
     ]
    },
    {
     "name": "stdout",
     "output_type": "stream",
     "text": [
      "47\n"
     ]
    },
    {
     "name": "stderr",
     "output_type": "stream",
     "text": [
      "\r",
      " 34%|██████████████▎                           | 34/100 [00:11<00:23,  2.76it/s]"
     ]
    },
    {
     "name": "stdout",
     "output_type": "stream",
     "text": [
      "52\n"
     ]
    },
    {
     "name": "stderr",
     "output_type": "stream",
     "text": [
      "\r",
      " 35%|██████████████▋                           | 35/100 [00:11<00:22,  2.87it/s]"
     ]
    },
    {
     "name": "stdout",
     "output_type": "stream",
     "text": [
      "52\n",
      "42\n"
     ]
    },
    {
     "name": "stderr",
     "output_type": "stream",
     "text": [
      " 37%|███████████████▌                          | 37/100 [00:11<00:17,  3.65it/s]"
     ]
    },
    {
     "name": "stdout",
     "output_type": "stream",
     "text": [
      "44\n",
      "43\n"
     ]
    },
    {
     "name": "stderr",
     "output_type": "stream",
     "text": [
      " 40%|████████████████▊                         | 40/100 [00:12<00:16,  3.55it/s]"
     ]
    },
    {
     "name": "stdout",
     "output_type": "stream",
     "text": [
      "73\n",
      "43\n"
     ]
    },
    {
     "name": "stderr",
     "output_type": "stream",
     "text": [
      "\r",
      " 41%|█████████████████▏                        | 41/100 [00:13<00:16,  3.59it/s]"
     ]
    },
    {
     "name": "stdout",
     "output_type": "stream",
     "text": [
      "53\n",
      "29\n"
     ]
    },
    {
     "name": "stderr",
     "output_type": "stream",
     "text": [
      " 44%|██████████████████▍                       | 44/100 [00:13<00:11,  5.04it/s]"
     ]
    },
    {
     "name": "stdout",
     "output_type": "stream",
     "text": [
      "39\n",
      "34\n"
     ]
    },
    {
     "name": "stderr",
     "output_type": "stream",
     "text": [
      "\r",
      " 45%|██████████████████▉                       | 45/100 [00:14<00:16,  3.28it/s]"
     ]
    },
    {
     "name": "stdout",
     "output_type": "stream",
     "text": [
      "70\n"
     ]
    },
    {
     "name": "stderr",
     "output_type": "stream",
     "text": [
      "\r",
      " 46%|███████████████████▎                      | 46/100 [00:14<00:17,  3.02it/s]"
     ]
    },
    {
     "name": "stdout",
     "output_type": "stream",
     "text": [
      "66\n",
      "44\n"
     ]
    },
    {
     "name": "stderr",
     "output_type": "stream",
     "text": [
      " 49%|████████████████████▌                     | 49/100 [00:15<00:12,  4.22it/s]"
     ]
    },
    {
     "name": "stdout",
     "output_type": "stream",
     "text": [
      "42\n",
      "42\n"
     ]
    },
    {
     "name": "stderr",
     "output_type": "stream",
     "text": [
      "\r",
      " 50%|█████████████████████                     | 50/100 [00:15<00:11,  4.19it/s]"
     ]
    },
    {
     "name": "stdout",
     "output_type": "stream",
     "text": [
      "46\n"
     ]
    },
    {
     "name": "stderr",
     "output_type": "stream",
     "text": [
      " 52%|█████████████████████▊                    | 52/100 [00:15<00:11,  4.26it/s]"
     ]
    },
    {
     "name": "stdout",
     "output_type": "stream",
     "text": [
      "63\n",
      "34\n"
     ]
    },
    {
     "name": "stderr",
     "output_type": "stream",
     "text": [
      "\r",
      " 53%|██████████████████████▎                   | 53/100 [00:16<00:11,  3.97it/s]"
     ]
    },
    {
     "name": "stdout",
     "output_type": "stream",
     "text": [
      "56\n"
     ]
    },
    {
     "name": "stderr",
     "output_type": "stream",
     "text": [
      "\r",
      " 54%|██████████████████████▋                   | 54/100 [00:16<00:15,  3.04it/s]"
     ]
    },
    {
     "name": "stdout",
     "output_type": "stream",
     "text": [
      "76\n"
     ]
    },
    {
     "name": "stderr",
     "output_type": "stream",
     "text": [
      "\r",
      " 55%|███████████████████████                   | 55/100 [00:16<00:13,  3.42it/s]"
     ]
    },
    {
     "name": "stdout",
     "output_type": "stream",
     "text": [
      "46\n"
     ]
    },
    {
     "name": "stderr",
     "output_type": "stream",
     "text": [
      "\r",
      " 56%|███████████████████████▌                  | 56/100 [00:17<00:15,  2.77it/s]"
     ]
    },
    {
     "name": "stdout",
     "output_type": "stream",
     "text": [
      "77\n",
      "47\n"
     ]
    },
    {
     "name": "stderr",
     "output_type": "stream",
     "text": [
      " 59%|████████████████████████▊                 | 59/100 [00:17<00:10,  4.00it/s]"
     ]
    },
    {
     "name": "stdout",
     "output_type": "stream",
     "text": [
      "44\n",
      "45\n"
     ]
    },
    {
     "name": "stderr",
     "output_type": "stream",
     "text": [
      "\r",
      " 60%|█████████████████████████▏                | 60/100 [00:18<00:09,  4.31it/s]"
     ]
    },
    {
     "name": "stdout",
     "output_type": "stream",
     "text": [
      "44\n"
     ]
    },
    {
     "name": "stderr",
     "output_type": "stream",
     "text": [
      " 62%|██████████████████████████                | 62/100 [00:18<00:08,  4.64it/s]"
     ]
    },
    {
     "name": "stdout",
     "output_type": "stream",
     "text": [
      "51\n",
      "38\n"
     ]
    },
    {
     "name": "stderr",
     "output_type": "stream",
     "text": [
      " 64%|██████████████████████████▉               | 64/100 [00:18<00:06,  5.53it/s]"
     ]
    },
    {
     "name": "stdout",
     "output_type": "stream",
     "text": [
      "37\n",
      "38\n"
     ]
    },
    {
     "name": "stderr",
     "output_type": "stream",
     "text": [
      " 66%|███████████████████████████▋              | 66/100 [00:19<00:05,  6.32it/s]"
     ]
    },
    {
     "name": "stdout",
     "output_type": "stream",
     "text": [
      "34\n",
      "38\n"
     ]
    },
    {
     "name": "stderr",
     "output_type": "stream",
     "text": [
      " 68%|████████████████████████████▌             | 68/100 [00:19<00:07,  4.18it/s]"
     ]
    },
    {
     "name": "stdout",
     "output_type": "stream",
     "text": [
      "73\n",
      "45\n"
     ]
    },
    {
     "name": "stderr",
     "output_type": "stream",
     "text": [
      "\r",
      " 69%|████████████████████████████▉             | 69/100 [00:20<00:10,  3.01it/s]"
     ]
    },
    {
     "name": "stdout",
     "output_type": "stream",
     "text": [
      "76\n"
     ]
    },
    {
     "name": "stderr",
     "output_type": "stream",
     "text": [
      " 71%|█████████████████████████████▊            | 71/100 [00:20<00:07,  3.71it/s]"
     ]
    },
    {
     "name": "stdout",
     "output_type": "stream",
     "text": [
      "56\n",
      "38\n"
     ]
    },
    {
     "name": "stderr",
     "output_type": "stream",
     "text": [
      "\r",
      " 72%|██████████████████████████████▏           | 72/100 [00:21<00:06,  4.25it/s]"
     ]
    },
    {
     "name": "stdout",
     "output_type": "stream",
     "text": [
      "39\n"
     ]
    },
    {
     "name": "stderr",
     "output_type": "stream",
     "text": [
      " 74%|███████████████████████████████           | 74/100 [00:22<00:10,  2.51it/s]"
     ]
    },
    {
     "name": "stdout",
     "output_type": "stream",
     "text": [
      "104\n",
      "43\n"
     ]
    },
    {
     "name": "stderr",
     "output_type": "stream",
     "text": [
      "\r",
      " 75%|███████████████████████████████▌          | 75/100 [00:22<00:07,  3.21it/s]"
     ]
    },
    {
     "name": "stdout",
     "output_type": "stream",
     "text": [
      "32\n"
     ]
    },
    {
     "name": "stderr",
     "output_type": "stream",
     "text": [
      "\r",
      " 76%|███████████████████████████████▉          | 76/100 [00:22<00:08,  2.93it/s]"
     ]
    },
    {
     "name": "stdout",
     "output_type": "stream",
     "text": [
      "63\n"
     ]
    },
    {
     "name": "stderr",
     "output_type": "stream",
     "text": [
      "\r",
      " 77%|████████████████████████████████▎         | 77/100 [00:23<00:10,  2.10it/s]"
     ]
    },
    {
     "name": "stdout",
     "output_type": "stream",
     "text": [
      "87\n"
     ]
    },
    {
     "name": "stderr",
     "output_type": "stream",
     "text": [
      " 79%|█████████████████████████████████▏        | 79/100 [00:24<00:07,  2.67it/s]"
     ]
    },
    {
     "name": "stdout",
     "output_type": "stream",
     "text": [
      "57\n",
      "34\n"
     ]
    },
    {
     "name": "stderr",
     "output_type": "stream",
     "text": [
      "\r",
      " 80%|█████████████████████████████████▌        | 80/100 [00:24<00:09,  2.10it/s]"
     ]
    },
    {
     "name": "stdout",
     "output_type": "stream",
     "text": [
      "52\n"
     ]
    },
    {
     "name": "stderr",
     "output_type": "stream",
     "text": [
      "\r",
      " 81%|██████████████████████████████████        | 81/100 [00:25<00:07,  2.40it/s]"
     ]
    },
    {
     "name": "stdout",
     "output_type": "stream",
     "text": [
      "39\n"
     ]
    },
    {
     "name": "stderr",
     "output_type": "stream",
     "text": [
      "\r",
      " 82%|██████████████████████████████████▍       | 82/100 [00:25<00:07,  2.38it/s]"
     ]
    },
    {
     "name": "stdout",
     "output_type": "stream",
     "text": [
      "58\n"
     ]
    },
    {
     "name": "stderr",
     "output_type": "stream",
     "text": [
      "\r",
      " 83%|██████████████████████████████████▊       | 83/100 [00:26<00:08,  2.12it/s]"
     ]
    },
    {
     "name": "stdout",
     "output_type": "stream",
     "text": [
      "75\n"
     ]
    },
    {
     "name": "stderr",
     "output_type": "stream",
     "text": [
      " 85%|███████████████████████████████████▋      | 85/100 [00:26<00:05,  2.91it/s]"
     ]
    },
    {
     "name": "stdout",
     "output_type": "stream",
     "text": [
      "46\n",
      "41\n"
     ]
    },
    {
     "name": "stderr",
     "output_type": "stream",
     "text": [
      "\r",
      " 86%|████████████████████████████████████      | 86/100 [00:27<00:05,  2.73it/s]"
     ]
    },
    {
     "name": "stdout",
     "output_type": "stream",
     "text": [
      "63\n"
     ]
    },
    {
     "name": "stderr",
     "output_type": "stream",
     "text": [
      "\r",
      " 87%|████████████████████████████████████▌     | 87/100 [00:27<00:04,  2.70it/s]"
     ]
    },
    {
     "name": "stdout",
     "output_type": "stream",
     "text": [
      "56\n"
     ]
    },
    {
     "name": "stderr",
     "output_type": "stream",
     "text": [
      " 89%|█████████████████████████████████████▍    | 89/100 [00:27<00:03,  3.60it/s]"
     ]
    },
    {
     "name": "stdout",
     "output_type": "stream",
     "text": [
      "45\n",
      "36\n"
     ]
    },
    {
     "name": "stderr",
     "output_type": "stream",
     "text": [
      "\r",
      " 90%|█████████████████████████████████████▊    | 90/100 [00:28<00:03,  3.01it/s]"
     ]
    },
    {
     "name": "stdout",
     "output_type": "stream",
     "text": [
      "67\n"
     ]
    },
    {
     "name": "stderr",
     "output_type": "stream",
     "text": [
      "\r",
      " 91%|██████████████████████████████████████▏   | 91/100 [00:28<00:03,  2.72it/s]"
     ]
    },
    {
     "name": "stdout",
     "output_type": "stream",
     "text": [
      "56\n"
     ]
    },
    {
     "name": "stderr",
     "output_type": "stream",
     "text": [
      "\r",
      " 92%|██████████████████████████████████████▋   | 92/100 [00:29<00:05,  1.59it/s]"
     ]
    },
    {
     "name": "stdout",
     "output_type": "stream",
     "text": [
      "57\n"
     ]
    },
    {
     "name": "stderr",
     "output_type": "stream",
     "text": [
      "\r",
      " 93%|███████████████████████████████████████   | 93/100 [00:30<00:04,  1.71it/s]"
     ]
    },
    {
     "name": "stdout",
     "output_type": "stream",
     "text": [
      "44\n"
     ]
    },
    {
     "name": "stderr",
     "output_type": "stream",
     "text": [
      "\r",
      " 94%|███████████████████████████████████████▍  | 94/100 [00:31<00:03,  1.76it/s]"
     ]
    },
    {
     "name": "stdout",
     "output_type": "stream",
     "text": [
      "59\n"
     ]
    },
    {
     "name": "stderr",
     "output_type": "stream",
     "text": [
      "\r",
      " 95%|███████████████████████████████████████▉  | 95/100 [00:31<00:02,  1.92it/s]"
     ]
    },
    {
     "name": "stdout",
     "output_type": "stream",
     "text": [
      "51\n"
     ]
    },
    {
     "name": "stderr",
     "output_type": "stream",
     "text": [
      " 97%|████████████████████████████████████████▋ | 97/100 [00:32<00:01,  2.54it/s]"
     ]
    },
    {
     "name": "stdout",
     "output_type": "stream",
     "text": [
      "51\n",
      "37\n"
     ]
    },
    {
     "name": "stderr",
     "output_type": "stream",
     "text": [
      " 99%|█████████████████████████████████████████▌| 99/100 [00:32<00:00,  2.83it/s]"
     ]
    },
    {
     "name": "stdout",
     "output_type": "stream",
     "text": [
      "66\n",
      "32\n"
     ]
    },
    {
     "name": "stderr",
     "output_type": "stream",
     "text": [
      "100%|█████████████████████████████████████████| 100/100 [00:33<00:00,  2.97it/s]"
     ]
    },
    {
     "name": "stdout",
     "output_type": "stream",
     "text": [
      "104\n"
     ]
    },
    {
     "name": "stderr",
     "output_type": "stream",
     "text": [
      "\n"
     ]
    }
   ],
   "source": [
    "# Strategy 1 with betweenness\n",
    "\n",
    "start1_betweenness_box_real = []\n",
    "\n",
    "tresh = 50\n",
    "nb_of_iters = 100\n",
    "\n",
    "G = G_fb\n",
    "nb_of_nodes_in_resolving_set = 20\n",
    "\n",
    "length = dict(nx.all_pairs_shortest_path_length(G))\n",
    "c = nx.betweenness_centrality(G, endpoints=True)\n",
    "\n",
    "# normalize the betweenness centralities\n",
    "c_values = np.array(list(c.values()))\n",
    "c_norm = c_values / sum(c_values)\n",
    "node_list = list(c.keys())\n",
    "ms_b_box_sol_real = []\n",
    "nodes_to_add = []\n",
    "\n",
    "while True:\n",
    "    intensities = {str(key): 0 for key in G.nodes}\n",
    "    for i in range(100):\n",
    "        # Random set of nodes to test\n",
    "        nodes = nodes_to_add + list(np.random.choice(node_list, p=c_norm, size=nb_of_nodes_in_resolving_set, replace=False))\n",
    "        resolved = set_resolved(G, nodes, length)\n",
    "        for node in resolved:\n",
    "            intensities[node] += +1\n",
    "\n",
    "    small = [key for key, val in intensities.items() if val < tresh]\n",
    "    s = len(small)\n",
    "    nodes_to_add += get_nodes_with_diff_neighbors(G, small)\n",
    "    if s == 0:\n",
    "        break\n",
    "indices = [node_list.index(i) for i in nodes_to_add] \n",
    "node_list_without_indices_to_add = [element for index, element in enumerate(node_list) if index not in indices]\n",
    "c_norm_without_indices_to_add = [element for index, element in enumerate(c_norm) if index not in indices]\n",
    "c_norm_without_indices_to_add = c_norm_without_indices_to_add / sum(c_norm_without_indices_to_add)\n",
    "\n",
    "for _ in tqdm(range(nb_of_iters)):\n",
    "\n",
    "    #print(len(node_list_without_indices_to_add))\n",
    "    nodes = nodes_to_add + list(np.random.choice(node_list_without_indices_to_add, p=c_norm_without_indices_to_add, size=len(node_list_without_indices_to_add), replace=False)) # Random set of nodes to test\n",
    "    for nb in range(len(nodes_to_add), len(G)):\n",
    "        if is_resolving_set(G, nodes[:nb], length):\n",
    "            start1_betweenness_box_real.append(nb)\n",
    "            break"
   ]
  },
  {
   "cell_type": "code",
   "execution_count": null,
   "id": "e470305c",
   "metadata": {},
   "outputs": [],
   "source": [
    "# Strategy 2\n",
    "start2_box_real = []\n",
    "\n",
    "nb_of_iters = 100\n",
    "\n",
    "G = G_fb\n",
    "nb_of_nodes_in_resolving_set = 20\n",
    "\n",
    "length = dict(nx.all_pairs_shortest_path_length(G))\n",
    "\n",
    "for _ in range(nb_of_iters):\n",
    "    nodes_to_add = []\n",
    "\n",
    "    while True:\n",
    "        intensities = {str(key): 0 for key in G.nodes}\n",
    "        for i in range(nb_of_iters):\n",
    "            # Random set of nodes to test\n",
    "            nodes = nodes_to_add + list(np.random.choice(G.nodes, size=nb_of_nodes_in_resolving_set, replace=False))\n",
    "            resolved = set_resolved(G, nodes, length)\n",
    "            for node in resolved:\n",
    "                intensities[node] += 1\n",
    "\n",
    "        hardest_node_to_resolve = min(intensities, key=intensities.get)\n",
    "        nodes_to_add.append(hardest_node_to_resolve)\n",
    "        if is_resolving_set(G, nodes_to_add, length):\n",
    "            start2_box_real.append(len(nodes_to_add))\n",
    "            break"
   ]
  },
  {
   "cell_type": "code",
   "execution_count": 200,
   "id": "f0148fa1",
   "metadata": {},
   "outputs": [],
   "source": [
    "dict_result_real = {'Strategy 1 degree':start1_degree_box_real, \n",
    "                    'Strategy 1 betweenness':start1_betweenness_box_real, \n",
    "                    'Strategy 2':start2_box_real, \n",
    "                    'Random strategy':rand_box_real,\n",
    "                    'Betweenness strategy':betweenness_box_sol,\n",
    "                    'Degree strategy':degree_box_sol\n",
    "                   }"
   ]
  },
  {
   "cell_type": "code",
   "execution_count": 205,
   "id": "e1481e4f",
   "metadata": {},
   "outputs": [
    {
     "data": {
      "application/vnd.plotly.v1+json": {
       "config": {
        "plotlyServerURL": "https://plot.ly"
       },
       "data": [
        {
         "boxpoints": "all",
         "name": "Strategy 1 degree",
         "type": "box",
         "y": [
          48,
          35,
          58,
          59,
          36,
          46,
          36,
          74,
          74,
          35,
          46,
          34,
          56,
          33,
          36,
          31,
          98,
          28,
          70,
          47,
          46,
          52,
          28,
          34,
          44,
          34,
          44,
          139,
          41,
          57,
          36,
          39,
          46,
          35,
          58,
          33,
          41,
          58,
          47,
          54,
          28,
          34,
          50,
          28,
          32,
          32,
          47,
          48,
          44,
          58,
          33,
          39,
          50,
          42,
          73,
          65,
          74,
          38,
          116,
          43,
          59,
          55,
          35,
          39,
          51,
          40,
          42,
          30,
          55,
          48,
          49,
          36,
          45,
          39,
          46,
          32,
          39,
          49,
          63,
          54,
          60,
          39,
          38,
          35,
          113,
          30,
          29,
          138,
          65,
          116,
          52,
          49,
          27,
          36,
          34,
          38,
          44,
          52,
          128,
          36
         ]
        },
        {
         "boxpoints": "all",
         "name": "Strategy 1 betweenness",
         "type": "box",
         "y": [
          93,
          46,
          57,
          54,
          27,
          35,
          53,
          35,
          83,
          33,
          40,
          62,
          38,
          51,
          38,
          27,
          73,
          56,
          58,
          46,
          57,
          67,
          37,
          58,
          53,
          59,
          37,
          57,
          70,
          45,
          54,
          51,
          47,
          52,
          52,
          42,
          44,
          43,
          73,
          43,
          53,
          29,
          39,
          34,
          70,
          66,
          44,
          42,
          42,
          46,
          63,
          34,
          56,
          76,
          46,
          77,
          47,
          44,
          45,
          44,
          51,
          38,
          37,
          38,
          34,
          38,
          73,
          45,
          76,
          56,
          38,
          39,
          104,
          43,
          32,
          63,
          87,
          57,
          34,
          52,
          39,
          58,
          75,
          46,
          41,
          63,
          56,
          45,
          36,
          67,
          56,
          57,
          44,
          59,
          51,
          51,
          37,
          66,
          32,
          104
         ]
        },
        {
         "boxpoints": "all",
         "name": "Strategy 2",
         "type": "box",
         "y": [
          26,
          29,
          29,
          27,
          29,
          32,
          31,
          37,
          25,
          28,
          37,
          29,
          29,
          30,
          25,
          30,
          168,
          51,
          29,
          64,
          30,
          30,
          31,
          27,
          30,
          34,
          29,
          30,
          32,
          42,
          33,
          26,
          25,
          31,
          30,
          31,
          29,
          29,
          29,
          30,
          33,
          29,
          26,
          60,
          31,
          76,
          30,
          34,
          27,
          27,
          26,
          33,
          31,
          27,
          28,
          28,
          29,
          29,
          31,
          28,
          32,
          30,
          31,
          27,
          27,
          29,
          27,
          28,
          33,
          30,
          31,
          36,
          35,
          30,
          31,
          42,
          31,
          30,
          28,
          27,
          30,
          32,
          31,
          29,
          41,
          30,
          27,
          31,
          28,
          24,
          34,
          27,
          34,
          27,
          38,
          30,
          32,
          30,
          38,
          29
         ]
        },
        {
         "boxpoints": "all",
         "name": "Random strategy",
         "type": "box",
         "y": [
          316,
          704,
          106,
          365,
          162,
          271,
          467,
          258,
          396,
          403,
          176,
          108,
          527,
          303,
          447,
          132,
          143,
          678,
          159,
          182,
          680,
          93,
          416,
          401,
          209,
          169,
          449,
          112,
          246,
          321,
          170,
          749,
          390,
          247,
          454,
          216,
          253,
          297,
          590,
          277,
          228,
          214,
          144,
          488,
          523,
          581,
          642,
          440,
          292,
          248,
          304,
          542,
          230,
          183,
          326,
          466,
          571,
          430,
          41,
          450,
          649,
          423,
          44,
          358,
          185,
          724,
          233,
          218,
          221,
          566,
          636,
          436,
          612,
          434,
          184,
          371,
          243,
          517,
          236,
          185,
          655,
          483,
          307,
          357,
          350,
          396,
          615,
          533,
          514,
          135,
          419,
          333,
          658,
          538,
          384,
          322,
          302,
          266,
          514,
          426
         ]
        },
        {
         "boxpoints": "all",
         "name": "Betweenness strategy",
         "type": "box",
         "y": [
          653,
          415,
          414,
          446,
          412,
          382,
          238,
          183,
          434,
          757,
          654,
          388,
          396,
          330,
          232,
          674,
          495,
          759,
          89,
          595,
          718,
          327,
          379,
          214,
          689,
          146,
          482,
          635,
          599,
          742,
          531,
          786,
          185,
          492,
          416,
          655,
          209,
          507,
          258,
          511,
          371,
          183,
          568,
          445,
          780,
          378,
          682,
          553,
          282,
          248,
          643,
          362,
          315,
          400,
          232,
          377,
          651,
          551,
          564,
          678,
          355,
          609,
          467,
          563,
          465,
          698,
          720,
          597,
          330,
          582,
          111,
          620,
          187,
          549,
          99,
          541,
          407,
          640,
          251,
          753,
          668,
          271,
          425,
          278,
          618,
          422,
          401,
          377,
          592,
          624,
          319,
          724,
          636,
          742,
          555,
          713,
          360,
          276,
          433,
          80
         ]
        },
        {
         "boxpoints": "all",
         "name": "Degree strategy",
         "type": "box",
         "y": [
          754,
          658,
          655,
          783,
          583,
          666,
          619,
          726,
          767,
          610,
          697,
          704,
          329,
          775,
          476,
          517,
          496,
          385,
          727,
          670,
          763,
          786,
          381,
          664,
          606,
          777,
          713,
          563,
          399,
          758,
          712,
          770,
          728,
          770,
          455,
          688,
          778,
          657,
          650,
          574,
          665,
          350,
          716,
          746,
          707,
          768,
          759,
          684,
          692,
          611,
          767,
          738,
          779,
          686,
          422,
          787,
          714,
          711,
          628,
          463,
          775,
          783,
          700,
          755,
          774,
          707,
          772,
          742,
          722,
          771,
          593,
          722,
          702,
          795,
          774,
          687,
          746,
          765,
          753,
          342,
          695,
          789,
          710,
          320,
          461,
          673,
          708,
          684,
          763,
          668,
          671,
          524,
          786,
          582,
          582,
          793,
          676,
          766,
          729,
          729
         ]
        }
       ],
       "layout": {
        "template": {
         "data": {
          "bar": [
           {
            "error_x": {
             "color": "#2a3f5f"
            },
            "error_y": {
             "color": "#2a3f5f"
            },
            "marker": {
             "line": {
              "color": "#E5ECF6",
              "width": 0.5
             },
             "pattern": {
              "fillmode": "overlay",
              "size": 10,
              "solidity": 0.2
             }
            },
            "type": "bar"
           }
          ],
          "barpolar": [
           {
            "marker": {
             "line": {
              "color": "#E5ECF6",
              "width": 0.5
             },
             "pattern": {
              "fillmode": "overlay",
              "size": 10,
              "solidity": 0.2
             }
            },
            "type": "barpolar"
           }
          ],
          "carpet": [
           {
            "aaxis": {
             "endlinecolor": "#2a3f5f",
             "gridcolor": "white",
             "linecolor": "white",
             "minorgridcolor": "white",
             "startlinecolor": "#2a3f5f"
            },
            "baxis": {
             "endlinecolor": "#2a3f5f",
             "gridcolor": "white",
             "linecolor": "white",
             "minorgridcolor": "white",
             "startlinecolor": "#2a3f5f"
            },
            "type": "carpet"
           }
          ],
          "choropleth": [
           {
            "colorbar": {
             "outlinewidth": 0,
             "ticks": ""
            },
            "type": "choropleth"
           }
          ],
          "contour": [
           {
            "colorbar": {
             "outlinewidth": 0,
             "ticks": ""
            },
            "colorscale": [
             [
              0,
              "#0d0887"
             ],
             [
              0.1111111111111111,
              "#46039f"
             ],
             [
              0.2222222222222222,
              "#7201a8"
             ],
             [
              0.3333333333333333,
              "#9c179e"
             ],
             [
              0.4444444444444444,
              "#bd3786"
             ],
             [
              0.5555555555555556,
              "#d8576b"
             ],
             [
              0.6666666666666666,
              "#ed7953"
             ],
             [
              0.7777777777777778,
              "#fb9f3a"
             ],
             [
              0.8888888888888888,
              "#fdca26"
             ],
             [
              1,
              "#f0f921"
             ]
            ],
            "type": "contour"
           }
          ],
          "contourcarpet": [
           {
            "colorbar": {
             "outlinewidth": 0,
             "ticks": ""
            },
            "type": "contourcarpet"
           }
          ],
          "heatmap": [
           {
            "colorbar": {
             "outlinewidth": 0,
             "ticks": ""
            },
            "colorscale": [
             [
              0,
              "#0d0887"
             ],
             [
              0.1111111111111111,
              "#46039f"
             ],
             [
              0.2222222222222222,
              "#7201a8"
             ],
             [
              0.3333333333333333,
              "#9c179e"
             ],
             [
              0.4444444444444444,
              "#bd3786"
             ],
             [
              0.5555555555555556,
              "#d8576b"
             ],
             [
              0.6666666666666666,
              "#ed7953"
             ],
             [
              0.7777777777777778,
              "#fb9f3a"
             ],
             [
              0.8888888888888888,
              "#fdca26"
             ],
             [
              1,
              "#f0f921"
             ]
            ],
            "type": "heatmap"
           }
          ],
          "heatmapgl": [
           {
            "colorbar": {
             "outlinewidth": 0,
             "ticks": ""
            },
            "colorscale": [
             [
              0,
              "#0d0887"
             ],
             [
              0.1111111111111111,
              "#46039f"
             ],
             [
              0.2222222222222222,
              "#7201a8"
             ],
             [
              0.3333333333333333,
              "#9c179e"
             ],
             [
              0.4444444444444444,
              "#bd3786"
             ],
             [
              0.5555555555555556,
              "#d8576b"
             ],
             [
              0.6666666666666666,
              "#ed7953"
             ],
             [
              0.7777777777777778,
              "#fb9f3a"
             ],
             [
              0.8888888888888888,
              "#fdca26"
             ],
             [
              1,
              "#f0f921"
             ]
            ],
            "type": "heatmapgl"
           }
          ],
          "histogram": [
           {
            "marker": {
             "pattern": {
              "fillmode": "overlay",
              "size": 10,
              "solidity": 0.2
             }
            },
            "type": "histogram"
           }
          ],
          "histogram2d": [
           {
            "colorbar": {
             "outlinewidth": 0,
             "ticks": ""
            },
            "colorscale": [
             [
              0,
              "#0d0887"
             ],
             [
              0.1111111111111111,
              "#46039f"
             ],
             [
              0.2222222222222222,
              "#7201a8"
             ],
             [
              0.3333333333333333,
              "#9c179e"
             ],
             [
              0.4444444444444444,
              "#bd3786"
             ],
             [
              0.5555555555555556,
              "#d8576b"
             ],
             [
              0.6666666666666666,
              "#ed7953"
             ],
             [
              0.7777777777777778,
              "#fb9f3a"
             ],
             [
              0.8888888888888888,
              "#fdca26"
             ],
             [
              1,
              "#f0f921"
             ]
            ],
            "type": "histogram2d"
           }
          ],
          "histogram2dcontour": [
           {
            "colorbar": {
             "outlinewidth": 0,
             "ticks": ""
            },
            "colorscale": [
             [
              0,
              "#0d0887"
             ],
             [
              0.1111111111111111,
              "#46039f"
             ],
             [
              0.2222222222222222,
              "#7201a8"
             ],
             [
              0.3333333333333333,
              "#9c179e"
             ],
             [
              0.4444444444444444,
              "#bd3786"
             ],
             [
              0.5555555555555556,
              "#d8576b"
             ],
             [
              0.6666666666666666,
              "#ed7953"
             ],
             [
              0.7777777777777778,
              "#fb9f3a"
             ],
             [
              0.8888888888888888,
              "#fdca26"
             ],
             [
              1,
              "#f0f921"
             ]
            ],
            "type": "histogram2dcontour"
           }
          ],
          "mesh3d": [
           {
            "colorbar": {
             "outlinewidth": 0,
             "ticks": ""
            },
            "type": "mesh3d"
           }
          ],
          "parcoords": [
           {
            "line": {
             "colorbar": {
              "outlinewidth": 0,
              "ticks": ""
             }
            },
            "type": "parcoords"
           }
          ],
          "pie": [
           {
            "automargin": true,
            "type": "pie"
           }
          ],
          "scatter": [
           {
            "fillpattern": {
             "fillmode": "overlay",
             "size": 10,
             "solidity": 0.2
            },
            "type": "scatter"
           }
          ],
          "scatter3d": [
           {
            "line": {
             "colorbar": {
              "outlinewidth": 0,
              "ticks": ""
             }
            },
            "marker": {
             "colorbar": {
              "outlinewidth": 0,
              "ticks": ""
             }
            },
            "type": "scatter3d"
           }
          ],
          "scattercarpet": [
           {
            "marker": {
             "colorbar": {
              "outlinewidth": 0,
              "ticks": ""
             }
            },
            "type": "scattercarpet"
           }
          ],
          "scattergeo": [
           {
            "marker": {
             "colorbar": {
              "outlinewidth": 0,
              "ticks": ""
             }
            },
            "type": "scattergeo"
           }
          ],
          "scattergl": [
           {
            "marker": {
             "colorbar": {
              "outlinewidth": 0,
              "ticks": ""
             }
            },
            "type": "scattergl"
           }
          ],
          "scattermapbox": [
           {
            "marker": {
             "colorbar": {
              "outlinewidth": 0,
              "ticks": ""
             }
            },
            "type": "scattermapbox"
           }
          ],
          "scatterpolar": [
           {
            "marker": {
             "colorbar": {
              "outlinewidth": 0,
              "ticks": ""
             }
            },
            "type": "scatterpolar"
           }
          ],
          "scatterpolargl": [
           {
            "marker": {
             "colorbar": {
              "outlinewidth": 0,
              "ticks": ""
             }
            },
            "type": "scatterpolargl"
           }
          ],
          "scatterternary": [
           {
            "marker": {
             "colorbar": {
              "outlinewidth": 0,
              "ticks": ""
             }
            },
            "type": "scatterternary"
           }
          ],
          "surface": [
           {
            "colorbar": {
             "outlinewidth": 0,
             "ticks": ""
            },
            "colorscale": [
             [
              0,
              "#0d0887"
             ],
             [
              0.1111111111111111,
              "#46039f"
             ],
             [
              0.2222222222222222,
              "#7201a8"
             ],
             [
              0.3333333333333333,
              "#9c179e"
             ],
             [
              0.4444444444444444,
              "#bd3786"
             ],
             [
              0.5555555555555556,
              "#d8576b"
             ],
             [
              0.6666666666666666,
              "#ed7953"
             ],
             [
              0.7777777777777778,
              "#fb9f3a"
             ],
             [
              0.8888888888888888,
              "#fdca26"
             ],
             [
              1,
              "#f0f921"
             ]
            ],
            "type": "surface"
           }
          ],
          "table": [
           {
            "cells": {
             "fill": {
              "color": "#EBF0F8"
             },
             "line": {
              "color": "white"
             }
            },
            "header": {
             "fill": {
              "color": "#C8D4E3"
             },
             "line": {
              "color": "white"
             }
            },
            "type": "table"
           }
          ]
         },
         "layout": {
          "annotationdefaults": {
           "arrowcolor": "#2a3f5f",
           "arrowhead": 0,
           "arrowwidth": 1
          },
          "autotypenumbers": "strict",
          "coloraxis": {
           "colorbar": {
            "outlinewidth": 0,
            "ticks": ""
           }
          },
          "colorscale": {
           "diverging": [
            [
             0,
             "#8e0152"
            ],
            [
             0.1,
             "#c51b7d"
            ],
            [
             0.2,
             "#de77ae"
            ],
            [
             0.3,
             "#f1b6da"
            ],
            [
             0.4,
             "#fde0ef"
            ],
            [
             0.5,
             "#f7f7f7"
            ],
            [
             0.6,
             "#e6f5d0"
            ],
            [
             0.7,
             "#b8e186"
            ],
            [
             0.8,
             "#7fbc41"
            ],
            [
             0.9,
             "#4d9221"
            ],
            [
             1,
             "#276419"
            ]
           ],
           "sequential": [
            [
             0,
             "#0d0887"
            ],
            [
             0.1111111111111111,
             "#46039f"
            ],
            [
             0.2222222222222222,
             "#7201a8"
            ],
            [
             0.3333333333333333,
             "#9c179e"
            ],
            [
             0.4444444444444444,
             "#bd3786"
            ],
            [
             0.5555555555555556,
             "#d8576b"
            ],
            [
             0.6666666666666666,
             "#ed7953"
            ],
            [
             0.7777777777777778,
             "#fb9f3a"
            ],
            [
             0.8888888888888888,
             "#fdca26"
            ],
            [
             1,
             "#f0f921"
            ]
           ],
           "sequentialminus": [
            [
             0,
             "#0d0887"
            ],
            [
             0.1111111111111111,
             "#46039f"
            ],
            [
             0.2222222222222222,
             "#7201a8"
            ],
            [
             0.3333333333333333,
             "#9c179e"
            ],
            [
             0.4444444444444444,
             "#bd3786"
            ],
            [
             0.5555555555555556,
             "#d8576b"
            ],
            [
             0.6666666666666666,
             "#ed7953"
            ],
            [
             0.7777777777777778,
             "#fb9f3a"
            ],
            [
             0.8888888888888888,
             "#fdca26"
            ],
            [
             1,
             "#f0f921"
            ]
           ]
          },
          "colorway": [
           "#636efa",
           "#EF553B",
           "#00cc96",
           "#ab63fa",
           "#FFA15A",
           "#19d3f3",
           "#FF6692",
           "#B6E880",
           "#FF97FF",
           "#FECB52"
          ],
          "font": {
           "color": "#2a3f5f"
          },
          "geo": {
           "bgcolor": "white",
           "lakecolor": "white",
           "landcolor": "#E5ECF6",
           "showlakes": true,
           "showland": true,
           "subunitcolor": "white"
          },
          "hoverlabel": {
           "align": "left"
          },
          "hovermode": "closest",
          "mapbox": {
           "style": "light"
          },
          "paper_bgcolor": "white",
          "plot_bgcolor": "#E5ECF6",
          "polar": {
           "angularaxis": {
            "gridcolor": "white",
            "linecolor": "white",
            "ticks": ""
           },
           "bgcolor": "#E5ECF6",
           "radialaxis": {
            "gridcolor": "white",
            "linecolor": "white",
            "ticks": ""
           }
          },
          "scene": {
           "xaxis": {
            "backgroundcolor": "#E5ECF6",
            "gridcolor": "white",
            "gridwidth": 2,
            "linecolor": "white",
            "showbackground": true,
            "ticks": "",
            "zerolinecolor": "white"
           },
           "yaxis": {
            "backgroundcolor": "#E5ECF6",
            "gridcolor": "white",
            "gridwidth": 2,
            "linecolor": "white",
            "showbackground": true,
            "ticks": "",
            "zerolinecolor": "white"
           },
           "zaxis": {
            "backgroundcolor": "#E5ECF6",
            "gridcolor": "white",
            "gridwidth": 2,
            "linecolor": "white",
            "showbackground": true,
            "ticks": "",
            "zerolinecolor": "white"
           }
          },
          "shapedefaults": {
           "line": {
            "color": "#2a3f5f"
           }
          },
          "ternary": {
           "aaxis": {
            "gridcolor": "white",
            "linecolor": "white",
            "ticks": ""
           },
           "baxis": {
            "gridcolor": "white",
            "linecolor": "white",
            "ticks": ""
           },
           "bgcolor": "#E5ECF6",
           "caxis": {
            "gridcolor": "white",
            "linecolor": "white",
            "ticks": ""
           }
          },
          "title": {
           "x": 0.05
          },
          "xaxis": {
           "automargin": true,
           "gridcolor": "white",
           "linecolor": "white",
           "ticks": "",
           "title": {
            "standoff": 15
           },
           "zerolinecolor": "white",
           "zerolinewidth": 2
          },
          "yaxis": {
           "automargin": true,
           "gridcolor": "white",
           "linecolor": "white",
           "ticks": "",
           "title": {
            "standoff": 15
           },
           "zerolinecolor": "white",
           "zerolinewidth": 2
          }
         }
        },
        "yaxis": {
         "title": {
          "font": {
           "color": "black",
           "size": 12
          },
          "text": "Size of the resolving set"
         }
        }
       }
      },
      "text/html": [
       "<div>                            <div id=\"2814659a-7f1a-47c4-85a0-20ab14d97c4a\" class=\"plotly-graph-div\" style=\"height:525px; width:100%;\"></div>            <script type=\"text/javascript\">                require([\"plotly\"], function(Plotly) {                    window.PLOTLYENV=window.PLOTLYENV || {};                                    if (document.getElementById(\"2814659a-7f1a-47c4-85a0-20ab14d97c4a\")) {                    Plotly.newPlot(                        \"2814659a-7f1a-47c4-85a0-20ab14d97c4a\",                        [{\"boxpoints\":\"all\",\"name\":\"Strategy 1 degree\",\"y\":[48,35,58,59,36,46,36,74,74,35,46,34,56,33,36,31,98,28,70,47,46,52,28,34,44,34,44,139,41,57,36,39,46,35,58,33,41,58,47,54,28,34,50,28,32,32,47,48,44,58,33,39,50,42,73,65,74,38,116,43,59,55,35,39,51,40,42,30,55,48,49,36,45,39,46,32,39,49,63,54,60,39,38,35,113,30,29,138,65,116,52,49,27,36,34,38,44,52,128,36],\"type\":\"box\"},{\"boxpoints\":\"all\",\"name\":\"Strategy 1 betweenness\",\"y\":[93,46,57,54,27,35,53,35,83,33,40,62,38,51,38,27,73,56,58,46,57,67,37,58,53,59,37,57,70,45,54,51,47,52,52,42,44,43,73,43,53,29,39,34,70,66,44,42,42,46,63,34,56,76,46,77,47,44,45,44,51,38,37,38,34,38,73,45,76,56,38,39,104,43,32,63,87,57,34,52,39,58,75,46,41,63,56,45,36,67,56,57,44,59,51,51,37,66,32,104],\"type\":\"box\"},{\"boxpoints\":\"all\",\"name\":\"Strategy 2\",\"y\":[26,29,29,27,29,32,31,37,25,28,37,29,29,30,25,30,168,51,29,64,30,30,31,27,30,34,29,30,32,42,33,26,25,31,30,31,29,29,29,30,33,29,26,60,31,76,30,34,27,27,26,33,31,27,28,28,29,29,31,28,32,30,31,27,27,29,27,28,33,30,31,36,35,30,31,42,31,30,28,27,30,32,31,29,41,30,27,31,28,24,34,27,34,27,38,30,32,30,38,29],\"type\":\"box\"},{\"boxpoints\":\"all\",\"name\":\"Random strategy\",\"y\":[316,704,106,365,162,271,467,258,396,403,176,108,527,303,447,132,143,678,159,182,680,93,416,401,209,169,449,112,246,321,170,749,390,247,454,216,253,297,590,277,228,214,144,488,523,581,642,440,292,248,304,542,230,183,326,466,571,430,41,450,649,423,44,358,185,724,233,218,221,566,636,436,612,434,184,371,243,517,236,185,655,483,307,357,350,396,615,533,514,135,419,333,658,538,384,322,302,266,514,426],\"type\":\"box\"},{\"boxpoints\":\"all\",\"name\":\"Betweenness strategy\",\"y\":[653,415,414,446,412,382,238,183,434,757,654,388,396,330,232,674,495,759,89,595,718,327,379,214,689,146,482,635,599,742,531,786,185,492,416,655,209,507,258,511,371,183,568,445,780,378,682,553,282,248,643,362,315,400,232,377,651,551,564,678,355,609,467,563,465,698,720,597,330,582,111,620,187,549,99,541,407,640,251,753,668,271,425,278,618,422,401,377,592,624,319,724,636,742,555,713,360,276,433,80],\"type\":\"box\"},{\"boxpoints\":\"all\",\"name\":\"Degree strategy\",\"y\":[754,658,655,783,583,666,619,726,767,610,697,704,329,775,476,517,496,385,727,670,763,786,381,664,606,777,713,563,399,758,712,770,728,770,455,688,778,657,650,574,665,350,716,746,707,768,759,684,692,611,767,738,779,686,422,787,714,711,628,463,775,783,700,755,774,707,772,742,722,771,593,722,702,795,774,687,746,765,753,342,695,789,710,320,461,673,708,684,763,668,671,524,786,582,582,793,676,766,729,729],\"type\":\"box\"}],                        {\"template\":{\"data\":{\"histogram2dcontour\":[{\"type\":\"histogram2dcontour\",\"colorbar\":{\"outlinewidth\":0,\"ticks\":\"\"},\"colorscale\":[[0.0,\"#0d0887\"],[0.1111111111111111,\"#46039f\"],[0.2222222222222222,\"#7201a8\"],[0.3333333333333333,\"#9c179e\"],[0.4444444444444444,\"#bd3786\"],[0.5555555555555556,\"#d8576b\"],[0.6666666666666666,\"#ed7953\"],[0.7777777777777778,\"#fb9f3a\"],[0.8888888888888888,\"#fdca26\"],[1.0,\"#f0f921\"]]}],\"choropleth\":[{\"type\":\"choropleth\",\"colorbar\":{\"outlinewidth\":0,\"ticks\":\"\"}}],\"histogram2d\":[{\"type\":\"histogram2d\",\"colorbar\":{\"outlinewidth\":0,\"ticks\":\"\"},\"colorscale\":[[0.0,\"#0d0887\"],[0.1111111111111111,\"#46039f\"],[0.2222222222222222,\"#7201a8\"],[0.3333333333333333,\"#9c179e\"],[0.4444444444444444,\"#bd3786\"],[0.5555555555555556,\"#d8576b\"],[0.6666666666666666,\"#ed7953\"],[0.7777777777777778,\"#fb9f3a\"],[0.8888888888888888,\"#fdca26\"],[1.0,\"#f0f921\"]]}],\"heatmap\":[{\"type\":\"heatmap\",\"colorbar\":{\"outlinewidth\":0,\"ticks\":\"\"},\"colorscale\":[[0.0,\"#0d0887\"],[0.1111111111111111,\"#46039f\"],[0.2222222222222222,\"#7201a8\"],[0.3333333333333333,\"#9c179e\"],[0.4444444444444444,\"#bd3786\"],[0.5555555555555556,\"#d8576b\"],[0.6666666666666666,\"#ed7953\"],[0.7777777777777778,\"#fb9f3a\"],[0.8888888888888888,\"#fdca26\"],[1.0,\"#f0f921\"]]}],\"heatmapgl\":[{\"type\":\"heatmapgl\",\"colorbar\":{\"outlinewidth\":0,\"ticks\":\"\"},\"colorscale\":[[0.0,\"#0d0887\"],[0.1111111111111111,\"#46039f\"],[0.2222222222222222,\"#7201a8\"],[0.3333333333333333,\"#9c179e\"],[0.4444444444444444,\"#bd3786\"],[0.5555555555555556,\"#d8576b\"],[0.6666666666666666,\"#ed7953\"],[0.7777777777777778,\"#fb9f3a\"],[0.8888888888888888,\"#fdca26\"],[1.0,\"#f0f921\"]]}],\"contourcarpet\":[{\"type\":\"contourcarpet\",\"colorbar\":{\"outlinewidth\":0,\"ticks\":\"\"}}],\"contour\":[{\"type\":\"contour\",\"colorbar\":{\"outlinewidth\":0,\"ticks\":\"\"},\"colorscale\":[[0.0,\"#0d0887\"],[0.1111111111111111,\"#46039f\"],[0.2222222222222222,\"#7201a8\"],[0.3333333333333333,\"#9c179e\"],[0.4444444444444444,\"#bd3786\"],[0.5555555555555556,\"#d8576b\"],[0.6666666666666666,\"#ed7953\"],[0.7777777777777778,\"#fb9f3a\"],[0.8888888888888888,\"#fdca26\"],[1.0,\"#f0f921\"]]}],\"surface\":[{\"type\":\"surface\",\"colorbar\":{\"outlinewidth\":0,\"ticks\":\"\"},\"colorscale\":[[0.0,\"#0d0887\"],[0.1111111111111111,\"#46039f\"],[0.2222222222222222,\"#7201a8\"],[0.3333333333333333,\"#9c179e\"],[0.4444444444444444,\"#bd3786\"],[0.5555555555555556,\"#d8576b\"],[0.6666666666666666,\"#ed7953\"],[0.7777777777777778,\"#fb9f3a\"],[0.8888888888888888,\"#fdca26\"],[1.0,\"#f0f921\"]]}],\"mesh3d\":[{\"type\":\"mesh3d\",\"colorbar\":{\"outlinewidth\":0,\"ticks\":\"\"}}],\"scatter\":[{\"fillpattern\":{\"fillmode\":\"overlay\",\"size\":10,\"solidity\":0.2},\"type\":\"scatter\"}],\"parcoords\":[{\"type\":\"parcoords\",\"line\":{\"colorbar\":{\"outlinewidth\":0,\"ticks\":\"\"}}}],\"scatterpolargl\":[{\"type\":\"scatterpolargl\",\"marker\":{\"colorbar\":{\"outlinewidth\":0,\"ticks\":\"\"}}}],\"bar\":[{\"error_x\":{\"color\":\"#2a3f5f\"},\"error_y\":{\"color\":\"#2a3f5f\"},\"marker\":{\"line\":{\"color\":\"#E5ECF6\",\"width\":0.5},\"pattern\":{\"fillmode\":\"overlay\",\"size\":10,\"solidity\":0.2}},\"type\":\"bar\"}],\"scattergeo\":[{\"type\":\"scattergeo\",\"marker\":{\"colorbar\":{\"outlinewidth\":0,\"ticks\":\"\"}}}],\"scatterpolar\":[{\"type\":\"scatterpolar\",\"marker\":{\"colorbar\":{\"outlinewidth\":0,\"ticks\":\"\"}}}],\"histogram\":[{\"marker\":{\"pattern\":{\"fillmode\":\"overlay\",\"size\":10,\"solidity\":0.2}},\"type\":\"histogram\"}],\"scattergl\":[{\"type\":\"scattergl\",\"marker\":{\"colorbar\":{\"outlinewidth\":0,\"ticks\":\"\"}}}],\"scatter3d\":[{\"type\":\"scatter3d\",\"line\":{\"colorbar\":{\"outlinewidth\":0,\"ticks\":\"\"}},\"marker\":{\"colorbar\":{\"outlinewidth\":0,\"ticks\":\"\"}}}],\"scattermapbox\":[{\"type\":\"scattermapbox\",\"marker\":{\"colorbar\":{\"outlinewidth\":0,\"ticks\":\"\"}}}],\"scatterternary\":[{\"type\":\"scatterternary\",\"marker\":{\"colorbar\":{\"outlinewidth\":0,\"ticks\":\"\"}}}],\"scattercarpet\":[{\"type\":\"scattercarpet\",\"marker\":{\"colorbar\":{\"outlinewidth\":0,\"ticks\":\"\"}}}],\"carpet\":[{\"aaxis\":{\"endlinecolor\":\"#2a3f5f\",\"gridcolor\":\"white\",\"linecolor\":\"white\",\"minorgridcolor\":\"white\",\"startlinecolor\":\"#2a3f5f\"},\"baxis\":{\"endlinecolor\":\"#2a3f5f\",\"gridcolor\":\"white\",\"linecolor\":\"white\",\"minorgridcolor\":\"white\",\"startlinecolor\":\"#2a3f5f\"},\"type\":\"carpet\"}],\"table\":[{\"cells\":{\"fill\":{\"color\":\"#EBF0F8\"},\"line\":{\"color\":\"white\"}},\"header\":{\"fill\":{\"color\":\"#C8D4E3\"},\"line\":{\"color\":\"white\"}},\"type\":\"table\"}],\"barpolar\":[{\"marker\":{\"line\":{\"color\":\"#E5ECF6\",\"width\":0.5},\"pattern\":{\"fillmode\":\"overlay\",\"size\":10,\"solidity\":0.2}},\"type\":\"barpolar\"}],\"pie\":[{\"automargin\":true,\"type\":\"pie\"}]},\"layout\":{\"autotypenumbers\":\"strict\",\"colorway\":[\"#636efa\",\"#EF553B\",\"#00cc96\",\"#ab63fa\",\"#FFA15A\",\"#19d3f3\",\"#FF6692\",\"#B6E880\",\"#FF97FF\",\"#FECB52\"],\"font\":{\"color\":\"#2a3f5f\"},\"hovermode\":\"closest\",\"hoverlabel\":{\"align\":\"left\"},\"paper_bgcolor\":\"white\",\"plot_bgcolor\":\"#E5ECF6\",\"polar\":{\"bgcolor\":\"#E5ECF6\",\"angularaxis\":{\"gridcolor\":\"white\",\"linecolor\":\"white\",\"ticks\":\"\"},\"radialaxis\":{\"gridcolor\":\"white\",\"linecolor\":\"white\",\"ticks\":\"\"}},\"ternary\":{\"bgcolor\":\"#E5ECF6\",\"aaxis\":{\"gridcolor\":\"white\",\"linecolor\":\"white\",\"ticks\":\"\"},\"baxis\":{\"gridcolor\":\"white\",\"linecolor\":\"white\",\"ticks\":\"\"},\"caxis\":{\"gridcolor\":\"white\",\"linecolor\":\"white\",\"ticks\":\"\"}},\"coloraxis\":{\"colorbar\":{\"outlinewidth\":0,\"ticks\":\"\"}},\"colorscale\":{\"sequential\":[[0.0,\"#0d0887\"],[0.1111111111111111,\"#46039f\"],[0.2222222222222222,\"#7201a8\"],[0.3333333333333333,\"#9c179e\"],[0.4444444444444444,\"#bd3786\"],[0.5555555555555556,\"#d8576b\"],[0.6666666666666666,\"#ed7953\"],[0.7777777777777778,\"#fb9f3a\"],[0.8888888888888888,\"#fdca26\"],[1.0,\"#f0f921\"]],\"sequentialminus\":[[0.0,\"#0d0887\"],[0.1111111111111111,\"#46039f\"],[0.2222222222222222,\"#7201a8\"],[0.3333333333333333,\"#9c179e\"],[0.4444444444444444,\"#bd3786\"],[0.5555555555555556,\"#d8576b\"],[0.6666666666666666,\"#ed7953\"],[0.7777777777777778,\"#fb9f3a\"],[0.8888888888888888,\"#fdca26\"],[1.0,\"#f0f921\"]],\"diverging\":[[0,\"#8e0152\"],[0.1,\"#c51b7d\"],[0.2,\"#de77ae\"],[0.3,\"#f1b6da\"],[0.4,\"#fde0ef\"],[0.5,\"#f7f7f7\"],[0.6,\"#e6f5d0\"],[0.7,\"#b8e186\"],[0.8,\"#7fbc41\"],[0.9,\"#4d9221\"],[1,\"#276419\"]]},\"xaxis\":{\"gridcolor\":\"white\",\"linecolor\":\"white\",\"ticks\":\"\",\"title\":{\"standoff\":15},\"zerolinecolor\":\"white\",\"automargin\":true,\"zerolinewidth\":2},\"yaxis\":{\"gridcolor\":\"white\",\"linecolor\":\"white\",\"ticks\":\"\",\"title\":{\"standoff\":15},\"zerolinecolor\":\"white\",\"automargin\":true,\"zerolinewidth\":2},\"scene\":{\"xaxis\":{\"backgroundcolor\":\"#E5ECF6\",\"gridcolor\":\"white\",\"linecolor\":\"white\",\"showbackground\":true,\"ticks\":\"\",\"zerolinecolor\":\"white\",\"gridwidth\":2},\"yaxis\":{\"backgroundcolor\":\"#E5ECF6\",\"gridcolor\":\"white\",\"linecolor\":\"white\",\"showbackground\":true,\"ticks\":\"\",\"zerolinecolor\":\"white\",\"gridwidth\":2},\"zaxis\":{\"backgroundcolor\":\"#E5ECF6\",\"gridcolor\":\"white\",\"linecolor\":\"white\",\"showbackground\":true,\"ticks\":\"\",\"zerolinecolor\":\"white\",\"gridwidth\":2}},\"shapedefaults\":{\"line\":{\"color\":\"#2a3f5f\"}},\"annotationdefaults\":{\"arrowcolor\":\"#2a3f5f\",\"arrowhead\":0,\"arrowwidth\":1},\"geo\":{\"bgcolor\":\"white\",\"landcolor\":\"#E5ECF6\",\"subunitcolor\":\"white\",\"showland\":true,\"showlakes\":true,\"lakecolor\":\"white\"},\"title\":{\"x\":0.05},\"mapbox\":{\"style\":\"light\"}}},\"yaxis\":{\"title\":{\"text\":\"Size of the resolving set\",\"font\":{\"size\":12,\"color\":\"black\"}}}},                        {\"responsive\": true}                    ).then(function(){\n",
       "                            \n",
       "var gd = document.getElementById('2814659a-7f1a-47c4-85a0-20ab14d97c4a');\n",
       "var x = new MutationObserver(function (mutations, observer) {{\n",
       "        var display = window.getComputedStyle(gd).display;\n",
       "        if (!display || display === 'none') {{\n",
       "            console.log([gd, 'removed!']);\n",
       "            Plotly.purge(gd);\n",
       "            observer.disconnect();\n",
       "        }}\n",
       "}});\n",
       "\n",
       "// Listen for the removal of the full notebook cells\n",
       "var notebookContainer = gd.closest('#notebook-container');\n",
       "if (notebookContainer) {{\n",
       "    x.observe(notebookContainer, {childList: true});\n",
       "}}\n",
       "\n",
       "// Listen for the clearing of the current output cell\n",
       "var outputEl = gd.closest('.output');\n",
       "if (outputEl) {{\n",
       "    x.observe(outputEl, {childList: true});\n",
       "}}\n",
       "\n",
       "                        })                };                });            </script>        </div>"
      ]
     },
     "metadata": {},
     "output_type": "display_data"
    }
   ],
   "source": [
    "fig = go.Figure()\n",
    "\n",
    "for group, values in dict_result_real.items():\n",
    "    fig.add_trace(go.Box(y=values, name=group, boxpoints='all'))\n",
    "\n",
    "    \n",
    "fig.update_layout(\n",
    "    yaxis=dict(\n",
    "        title=\"Size of the resolving set\",\n",
    "        titlefont=dict(size=12, color='black')\n",
    "    )\n",
    ")\n",
    "fig.show()"
   ]
  },
  {
   "cell_type": "code",
   "execution_count": 53,
   "id": "677a51d1",
   "metadata": {},
   "outputs": [
    {
     "name": "stdout",
     "output_type": "stream",
     "text": [
      "347\n",
      "We manually add 62 nodes\n"
     ]
    },
    {
     "name": "stderr",
     "output_type": "stream",
     "text": [
      "100%|████████████████████████████████████████| 100/100 [00:00<00:00, 191.79it/s]\n"
     ]
    }
   ],
   "source": [
    "# Here we check if the values of the threshold have a big influence\n",
    "\n",
    "dict_tresh = {}\n",
    "\n",
    "tresh_values = [25]\n",
    "nb_graph = 1\n",
    "nb_of_iters = 100\n",
    "\n",
    "G = G_calls\n",
    "print(len(G))\n",
    "nb_of_nodes_in_resolving_set = 20\n",
    "\n",
    "length = dict(nx.all_pairs_shortest_path_length(G))\n",
    "\n",
    "c = nx.degree_centrality(G)\n",
    "\n",
    "# normalize the betweenness centralities\n",
    "c_values = np.array(list(c.values()))\n",
    "c_norm = c_values / sum(c_values)\n",
    "node_list = list(c.keys())\n",
    "for tresh in tresh_values:\n",
    "    ms_b_box_sol_real = []\n",
    "    nodes_to_add = []\n",
    "\n",
    "    while True:\n",
    "        intensities = {str(key): 0 for key in G.nodes}\n",
    "        for i in range(100):\n",
    "            # Random set of nodes to test\n",
    "            nodes = nodes_to_add + list(np.random.choice(node_list, p=c_norm, size=nb_of_nodes_in_resolving_set, replace=False))\n",
    "            resolved = set_resolved(G, nodes, length)\n",
    "            for node in resolved:\n",
    "                intensities[node] += +1\n",
    "\n",
    "        small = [key for key, val in intensities.items() if val < tresh]\n",
    "        s = len(small)\n",
    "        nodes_to_add += get_nodes_with_diff_neighbors(G, small)\n",
    "        if s == 0:\n",
    "            print(\"We manually add {} nodes\".format(len(nodes_to_add)))\n",
    "            break\n",
    "    indices = [node_list.index(i) for i in nodes_to_add] \n",
    "    node_list_without_indices_to_add = [element for index, element in enumerate(node_list) if index not in indices]\n",
    "    c_norm_without_indices_to_add = [element for index, element in enumerate(c_norm) if index not in indices]\n",
    "    c_norm_without_indices_to_add = c_norm_without_indices_to_add / sum(c_norm_without_indices_to_add)\n",
    "    for _ in tqdm(range(nb_of_iters)):\n",
    "        \n",
    "        nodes = nodes_to_add + list(np.random.choice(node_list_without_indices_to_add, p=c_norm_without_indices_to_add, size=len(node_list_without_indices_to_add), replace=False)) # Random set of nodes to test\n",
    "        for nb in range(len(nodes_to_add), len(G)):\n",
    "            if is_resolving_set(G, nodes[:nb], length):\n",
    "                ms_b_box_sol_real.append(nb)\n",
    "                break\n",
    "    dict_tresh[tresh] = ms_b_box_sol_real"
   ]
  },
  {
   "cell_type": "code",
   "execution_count": 54,
   "id": "e04821a2",
   "metadata": {},
   "outputs": [
    {
     "data": {
      "application/vnd.plotly.v1+json": {
       "config": {
        "plotlyServerURL": "https://plot.ly"
       },
       "data": [
        {
         "name": "25",
         "type": "box",
         "y": [
          62,
          62,
          62,
          62,
          62,
          62,
          62,
          62,
          62,
          62,
          62,
          62,
          62,
          62,
          62,
          62,
          62,
          62,
          62,
          62,
          62,
          62,
          62,
          62,
          62,
          62,
          62,
          62,
          62,
          62,
          62,
          62,
          62,
          62,
          62,
          62,
          62,
          62,
          62,
          62,
          62,
          62,
          62,
          62,
          62,
          62,
          62,
          62,
          62,
          62,
          62,
          62,
          62,
          62,
          62,
          62,
          62,
          62,
          62,
          62,
          62,
          62,
          62,
          62,
          62,
          62,
          62,
          62,
          62,
          62,
          62,
          62,
          62,
          62,
          62,
          62,
          62,
          62,
          62,
          62,
          62,
          62,
          62,
          62,
          62,
          62,
          62,
          62,
          62,
          62,
          62,
          62,
          62,
          62,
          62,
          62,
          62,
          62,
          62,
          62
         ]
        }
       ],
       "layout": {
        "template": {
         "data": {
          "bar": [
           {
            "error_x": {
             "color": "#2a3f5f"
            },
            "error_y": {
             "color": "#2a3f5f"
            },
            "marker": {
             "line": {
              "color": "#E5ECF6",
              "width": 0.5
             },
             "pattern": {
              "fillmode": "overlay",
              "size": 10,
              "solidity": 0.2
             }
            },
            "type": "bar"
           }
          ],
          "barpolar": [
           {
            "marker": {
             "line": {
              "color": "#E5ECF6",
              "width": 0.5
             },
             "pattern": {
              "fillmode": "overlay",
              "size": 10,
              "solidity": 0.2
             }
            },
            "type": "barpolar"
           }
          ],
          "carpet": [
           {
            "aaxis": {
             "endlinecolor": "#2a3f5f",
             "gridcolor": "white",
             "linecolor": "white",
             "minorgridcolor": "white",
             "startlinecolor": "#2a3f5f"
            },
            "baxis": {
             "endlinecolor": "#2a3f5f",
             "gridcolor": "white",
             "linecolor": "white",
             "minorgridcolor": "white",
             "startlinecolor": "#2a3f5f"
            },
            "type": "carpet"
           }
          ],
          "choropleth": [
           {
            "colorbar": {
             "outlinewidth": 0,
             "ticks": ""
            },
            "type": "choropleth"
           }
          ],
          "contour": [
           {
            "colorbar": {
             "outlinewidth": 0,
             "ticks": ""
            },
            "colorscale": [
             [
              0,
              "#0d0887"
             ],
             [
              0.1111111111111111,
              "#46039f"
             ],
             [
              0.2222222222222222,
              "#7201a8"
             ],
             [
              0.3333333333333333,
              "#9c179e"
             ],
             [
              0.4444444444444444,
              "#bd3786"
             ],
             [
              0.5555555555555556,
              "#d8576b"
             ],
             [
              0.6666666666666666,
              "#ed7953"
             ],
             [
              0.7777777777777778,
              "#fb9f3a"
             ],
             [
              0.8888888888888888,
              "#fdca26"
             ],
             [
              1,
              "#f0f921"
             ]
            ],
            "type": "contour"
           }
          ],
          "contourcarpet": [
           {
            "colorbar": {
             "outlinewidth": 0,
             "ticks": ""
            },
            "type": "contourcarpet"
           }
          ],
          "heatmap": [
           {
            "colorbar": {
             "outlinewidth": 0,
             "ticks": ""
            },
            "colorscale": [
             [
              0,
              "#0d0887"
             ],
             [
              0.1111111111111111,
              "#46039f"
             ],
             [
              0.2222222222222222,
              "#7201a8"
             ],
             [
              0.3333333333333333,
              "#9c179e"
             ],
             [
              0.4444444444444444,
              "#bd3786"
             ],
             [
              0.5555555555555556,
              "#d8576b"
             ],
             [
              0.6666666666666666,
              "#ed7953"
             ],
             [
              0.7777777777777778,
              "#fb9f3a"
             ],
             [
              0.8888888888888888,
              "#fdca26"
             ],
             [
              1,
              "#f0f921"
             ]
            ],
            "type": "heatmap"
           }
          ],
          "heatmapgl": [
           {
            "colorbar": {
             "outlinewidth": 0,
             "ticks": ""
            },
            "colorscale": [
             [
              0,
              "#0d0887"
             ],
             [
              0.1111111111111111,
              "#46039f"
             ],
             [
              0.2222222222222222,
              "#7201a8"
             ],
             [
              0.3333333333333333,
              "#9c179e"
             ],
             [
              0.4444444444444444,
              "#bd3786"
             ],
             [
              0.5555555555555556,
              "#d8576b"
             ],
             [
              0.6666666666666666,
              "#ed7953"
             ],
             [
              0.7777777777777778,
              "#fb9f3a"
             ],
             [
              0.8888888888888888,
              "#fdca26"
             ],
             [
              1,
              "#f0f921"
             ]
            ],
            "type": "heatmapgl"
           }
          ],
          "histogram": [
           {
            "marker": {
             "pattern": {
              "fillmode": "overlay",
              "size": 10,
              "solidity": 0.2
             }
            },
            "type": "histogram"
           }
          ],
          "histogram2d": [
           {
            "colorbar": {
             "outlinewidth": 0,
             "ticks": ""
            },
            "colorscale": [
             [
              0,
              "#0d0887"
             ],
             [
              0.1111111111111111,
              "#46039f"
             ],
             [
              0.2222222222222222,
              "#7201a8"
             ],
             [
              0.3333333333333333,
              "#9c179e"
             ],
             [
              0.4444444444444444,
              "#bd3786"
             ],
             [
              0.5555555555555556,
              "#d8576b"
             ],
             [
              0.6666666666666666,
              "#ed7953"
             ],
             [
              0.7777777777777778,
              "#fb9f3a"
             ],
             [
              0.8888888888888888,
              "#fdca26"
             ],
             [
              1,
              "#f0f921"
             ]
            ],
            "type": "histogram2d"
           }
          ],
          "histogram2dcontour": [
           {
            "colorbar": {
             "outlinewidth": 0,
             "ticks": ""
            },
            "colorscale": [
             [
              0,
              "#0d0887"
             ],
             [
              0.1111111111111111,
              "#46039f"
             ],
             [
              0.2222222222222222,
              "#7201a8"
             ],
             [
              0.3333333333333333,
              "#9c179e"
             ],
             [
              0.4444444444444444,
              "#bd3786"
             ],
             [
              0.5555555555555556,
              "#d8576b"
             ],
             [
              0.6666666666666666,
              "#ed7953"
             ],
             [
              0.7777777777777778,
              "#fb9f3a"
             ],
             [
              0.8888888888888888,
              "#fdca26"
             ],
             [
              1,
              "#f0f921"
             ]
            ],
            "type": "histogram2dcontour"
           }
          ],
          "mesh3d": [
           {
            "colorbar": {
             "outlinewidth": 0,
             "ticks": ""
            },
            "type": "mesh3d"
           }
          ],
          "parcoords": [
           {
            "line": {
             "colorbar": {
              "outlinewidth": 0,
              "ticks": ""
             }
            },
            "type": "parcoords"
           }
          ],
          "pie": [
           {
            "automargin": true,
            "type": "pie"
           }
          ],
          "scatter": [
           {
            "fillpattern": {
             "fillmode": "overlay",
             "size": 10,
             "solidity": 0.2
            },
            "type": "scatter"
           }
          ],
          "scatter3d": [
           {
            "line": {
             "colorbar": {
              "outlinewidth": 0,
              "ticks": ""
             }
            },
            "marker": {
             "colorbar": {
              "outlinewidth": 0,
              "ticks": ""
             }
            },
            "type": "scatter3d"
           }
          ],
          "scattercarpet": [
           {
            "marker": {
             "colorbar": {
              "outlinewidth": 0,
              "ticks": ""
             }
            },
            "type": "scattercarpet"
           }
          ],
          "scattergeo": [
           {
            "marker": {
             "colorbar": {
              "outlinewidth": 0,
              "ticks": ""
             }
            },
            "type": "scattergeo"
           }
          ],
          "scattergl": [
           {
            "marker": {
             "colorbar": {
              "outlinewidth": 0,
              "ticks": ""
             }
            },
            "type": "scattergl"
           }
          ],
          "scattermapbox": [
           {
            "marker": {
             "colorbar": {
              "outlinewidth": 0,
              "ticks": ""
             }
            },
            "type": "scattermapbox"
           }
          ],
          "scatterpolar": [
           {
            "marker": {
             "colorbar": {
              "outlinewidth": 0,
              "ticks": ""
             }
            },
            "type": "scatterpolar"
           }
          ],
          "scatterpolargl": [
           {
            "marker": {
             "colorbar": {
              "outlinewidth": 0,
              "ticks": ""
             }
            },
            "type": "scatterpolargl"
           }
          ],
          "scatterternary": [
           {
            "marker": {
             "colorbar": {
              "outlinewidth": 0,
              "ticks": ""
             }
            },
            "type": "scatterternary"
           }
          ],
          "surface": [
           {
            "colorbar": {
             "outlinewidth": 0,
             "ticks": ""
            },
            "colorscale": [
             [
              0,
              "#0d0887"
             ],
             [
              0.1111111111111111,
              "#46039f"
             ],
             [
              0.2222222222222222,
              "#7201a8"
             ],
             [
              0.3333333333333333,
              "#9c179e"
             ],
             [
              0.4444444444444444,
              "#bd3786"
             ],
             [
              0.5555555555555556,
              "#d8576b"
             ],
             [
              0.6666666666666666,
              "#ed7953"
             ],
             [
              0.7777777777777778,
              "#fb9f3a"
             ],
             [
              0.8888888888888888,
              "#fdca26"
             ],
             [
              1,
              "#f0f921"
             ]
            ],
            "type": "surface"
           }
          ],
          "table": [
           {
            "cells": {
             "fill": {
              "color": "#EBF0F8"
             },
             "line": {
              "color": "white"
             }
            },
            "header": {
             "fill": {
              "color": "#C8D4E3"
             },
             "line": {
              "color": "white"
             }
            },
            "type": "table"
           }
          ]
         },
         "layout": {
          "annotationdefaults": {
           "arrowcolor": "#2a3f5f",
           "arrowhead": 0,
           "arrowwidth": 1
          },
          "autotypenumbers": "strict",
          "coloraxis": {
           "colorbar": {
            "outlinewidth": 0,
            "ticks": ""
           }
          },
          "colorscale": {
           "diverging": [
            [
             0,
             "#8e0152"
            ],
            [
             0.1,
             "#c51b7d"
            ],
            [
             0.2,
             "#de77ae"
            ],
            [
             0.3,
             "#f1b6da"
            ],
            [
             0.4,
             "#fde0ef"
            ],
            [
             0.5,
             "#f7f7f7"
            ],
            [
             0.6,
             "#e6f5d0"
            ],
            [
             0.7,
             "#b8e186"
            ],
            [
             0.8,
             "#7fbc41"
            ],
            [
             0.9,
             "#4d9221"
            ],
            [
             1,
             "#276419"
            ]
           ],
           "sequential": [
            [
             0,
             "#0d0887"
            ],
            [
             0.1111111111111111,
             "#46039f"
            ],
            [
             0.2222222222222222,
             "#7201a8"
            ],
            [
             0.3333333333333333,
             "#9c179e"
            ],
            [
             0.4444444444444444,
             "#bd3786"
            ],
            [
             0.5555555555555556,
             "#d8576b"
            ],
            [
             0.6666666666666666,
             "#ed7953"
            ],
            [
             0.7777777777777778,
             "#fb9f3a"
            ],
            [
             0.8888888888888888,
             "#fdca26"
            ],
            [
             1,
             "#f0f921"
            ]
           ],
           "sequentialminus": [
            [
             0,
             "#0d0887"
            ],
            [
             0.1111111111111111,
             "#46039f"
            ],
            [
             0.2222222222222222,
             "#7201a8"
            ],
            [
             0.3333333333333333,
             "#9c179e"
            ],
            [
             0.4444444444444444,
             "#bd3786"
            ],
            [
             0.5555555555555556,
             "#d8576b"
            ],
            [
             0.6666666666666666,
             "#ed7953"
            ],
            [
             0.7777777777777778,
             "#fb9f3a"
            ],
            [
             0.8888888888888888,
             "#fdca26"
            ],
            [
             1,
             "#f0f921"
            ]
           ]
          },
          "colorway": [
           "#636efa",
           "#EF553B",
           "#00cc96",
           "#ab63fa",
           "#FFA15A",
           "#19d3f3",
           "#FF6692",
           "#B6E880",
           "#FF97FF",
           "#FECB52"
          ],
          "font": {
           "color": "#2a3f5f"
          },
          "geo": {
           "bgcolor": "white",
           "lakecolor": "white",
           "landcolor": "#E5ECF6",
           "showlakes": true,
           "showland": true,
           "subunitcolor": "white"
          },
          "hoverlabel": {
           "align": "left"
          },
          "hovermode": "closest",
          "mapbox": {
           "style": "light"
          },
          "paper_bgcolor": "white",
          "plot_bgcolor": "#E5ECF6",
          "polar": {
           "angularaxis": {
            "gridcolor": "white",
            "linecolor": "white",
            "ticks": ""
           },
           "bgcolor": "#E5ECF6",
           "radialaxis": {
            "gridcolor": "white",
            "linecolor": "white",
            "ticks": ""
           }
          },
          "scene": {
           "xaxis": {
            "backgroundcolor": "#E5ECF6",
            "gridcolor": "white",
            "gridwidth": 2,
            "linecolor": "white",
            "showbackground": true,
            "ticks": "",
            "zerolinecolor": "white"
           },
           "yaxis": {
            "backgroundcolor": "#E5ECF6",
            "gridcolor": "white",
            "gridwidth": 2,
            "linecolor": "white",
            "showbackground": true,
            "ticks": "",
            "zerolinecolor": "white"
           },
           "zaxis": {
            "backgroundcolor": "#E5ECF6",
            "gridcolor": "white",
            "gridwidth": 2,
            "linecolor": "white",
            "showbackground": true,
            "ticks": "",
            "zerolinecolor": "white"
           }
          },
          "shapedefaults": {
           "line": {
            "color": "#2a3f5f"
           }
          },
          "ternary": {
           "aaxis": {
            "gridcolor": "white",
            "linecolor": "white",
            "ticks": ""
           },
           "baxis": {
            "gridcolor": "white",
            "linecolor": "white",
            "ticks": ""
           },
           "bgcolor": "#E5ECF6",
           "caxis": {
            "gridcolor": "white",
            "linecolor": "white",
            "ticks": ""
           }
          },
          "title": {
           "x": 0.05
          },
          "xaxis": {
           "automargin": true,
           "gridcolor": "white",
           "linecolor": "white",
           "ticks": "",
           "title": {
            "standoff": 15
           },
           "zerolinecolor": "white",
           "zerolinewidth": 2
          },
          "yaxis": {
           "automargin": true,
           "gridcolor": "white",
           "linecolor": "white",
           "ticks": "",
           "title": {
            "standoff": 15
           },
           "zerolinecolor": "white",
           "zerolinewidth": 2
          }
         }
        }
       }
      },
      "text/html": [
       "<div>                            <div id=\"64446a67-1822-48cd-89b7-f035d663964c\" class=\"plotly-graph-div\" style=\"height:525px; width:100%;\"></div>            <script type=\"text/javascript\">                require([\"plotly\"], function(Plotly) {                    window.PLOTLYENV=window.PLOTLYENV || {};                                    if (document.getElementById(\"64446a67-1822-48cd-89b7-f035d663964c\")) {                    Plotly.newPlot(                        \"64446a67-1822-48cd-89b7-f035d663964c\",                        [{\"name\":\"25\",\"y\":[62,62,62,62,62,62,62,62,62,62,62,62,62,62,62,62,62,62,62,62,62,62,62,62,62,62,62,62,62,62,62,62,62,62,62,62,62,62,62,62,62,62,62,62,62,62,62,62,62,62,62,62,62,62,62,62,62,62,62,62,62,62,62,62,62,62,62,62,62,62,62,62,62,62,62,62,62,62,62,62,62,62,62,62,62,62,62,62,62,62,62,62,62,62,62,62,62,62,62,62],\"type\":\"box\"}],                        {\"template\":{\"data\":{\"histogram2dcontour\":[{\"type\":\"histogram2dcontour\",\"colorbar\":{\"outlinewidth\":0,\"ticks\":\"\"},\"colorscale\":[[0.0,\"#0d0887\"],[0.1111111111111111,\"#46039f\"],[0.2222222222222222,\"#7201a8\"],[0.3333333333333333,\"#9c179e\"],[0.4444444444444444,\"#bd3786\"],[0.5555555555555556,\"#d8576b\"],[0.6666666666666666,\"#ed7953\"],[0.7777777777777778,\"#fb9f3a\"],[0.8888888888888888,\"#fdca26\"],[1.0,\"#f0f921\"]]}],\"choropleth\":[{\"type\":\"choropleth\",\"colorbar\":{\"outlinewidth\":0,\"ticks\":\"\"}}],\"histogram2d\":[{\"type\":\"histogram2d\",\"colorbar\":{\"outlinewidth\":0,\"ticks\":\"\"},\"colorscale\":[[0.0,\"#0d0887\"],[0.1111111111111111,\"#46039f\"],[0.2222222222222222,\"#7201a8\"],[0.3333333333333333,\"#9c179e\"],[0.4444444444444444,\"#bd3786\"],[0.5555555555555556,\"#d8576b\"],[0.6666666666666666,\"#ed7953\"],[0.7777777777777778,\"#fb9f3a\"],[0.8888888888888888,\"#fdca26\"],[1.0,\"#f0f921\"]]}],\"heatmap\":[{\"type\":\"heatmap\",\"colorbar\":{\"outlinewidth\":0,\"ticks\":\"\"},\"colorscale\":[[0.0,\"#0d0887\"],[0.1111111111111111,\"#46039f\"],[0.2222222222222222,\"#7201a8\"],[0.3333333333333333,\"#9c179e\"],[0.4444444444444444,\"#bd3786\"],[0.5555555555555556,\"#d8576b\"],[0.6666666666666666,\"#ed7953\"],[0.7777777777777778,\"#fb9f3a\"],[0.8888888888888888,\"#fdca26\"],[1.0,\"#f0f921\"]]}],\"heatmapgl\":[{\"type\":\"heatmapgl\",\"colorbar\":{\"outlinewidth\":0,\"ticks\":\"\"},\"colorscale\":[[0.0,\"#0d0887\"],[0.1111111111111111,\"#46039f\"],[0.2222222222222222,\"#7201a8\"],[0.3333333333333333,\"#9c179e\"],[0.4444444444444444,\"#bd3786\"],[0.5555555555555556,\"#d8576b\"],[0.6666666666666666,\"#ed7953\"],[0.7777777777777778,\"#fb9f3a\"],[0.8888888888888888,\"#fdca26\"],[1.0,\"#f0f921\"]]}],\"contourcarpet\":[{\"type\":\"contourcarpet\",\"colorbar\":{\"outlinewidth\":0,\"ticks\":\"\"}}],\"contour\":[{\"type\":\"contour\",\"colorbar\":{\"outlinewidth\":0,\"ticks\":\"\"},\"colorscale\":[[0.0,\"#0d0887\"],[0.1111111111111111,\"#46039f\"],[0.2222222222222222,\"#7201a8\"],[0.3333333333333333,\"#9c179e\"],[0.4444444444444444,\"#bd3786\"],[0.5555555555555556,\"#d8576b\"],[0.6666666666666666,\"#ed7953\"],[0.7777777777777778,\"#fb9f3a\"],[0.8888888888888888,\"#fdca26\"],[1.0,\"#f0f921\"]]}],\"surface\":[{\"type\":\"surface\",\"colorbar\":{\"outlinewidth\":0,\"ticks\":\"\"},\"colorscale\":[[0.0,\"#0d0887\"],[0.1111111111111111,\"#46039f\"],[0.2222222222222222,\"#7201a8\"],[0.3333333333333333,\"#9c179e\"],[0.4444444444444444,\"#bd3786\"],[0.5555555555555556,\"#d8576b\"],[0.6666666666666666,\"#ed7953\"],[0.7777777777777778,\"#fb9f3a\"],[0.8888888888888888,\"#fdca26\"],[1.0,\"#f0f921\"]]}],\"mesh3d\":[{\"type\":\"mesh3d\",\"colorbar\":{\"outlinewidth\":0,\"ticks\":\"\"}}],\"scatter\":[{\"fillpattern\":{\"fillmode\":\"overlay\",\"size\":10,\"solidity\":0.2},\"type\":\"scatter\"}],\"parcoords\":[{\"type\":\"parcoords\",\"line\":{\"colorbar\":{\"outlinewidth\":0,\"ticks\":\"\"}}}],\"scatterpolargl\":[{\"type\":\"scatterpolargl\",\"marker\":{\"colorbar\":{\"outlinewidth\":0,\"ticks\":\"\"}}}],\"bar\":[{\"error_x\":{\"color\":\"#2a3f5f\"},\"error_y\":{\"color\":\"#2a3f5f\"},\"marker\":{\"line\":{\"color\":\"#E5ECF6\",\"width\":0.5},\"pattern\":{\"fillmode\":\"overlay\",\"size\":10,\"solidity\":0.2}},\"type\":\"bar\"}],\"scattergeo\":[{\"type\":\"scattergeo\",\"marker\":{\"colorbar\":{\"outlinewidth\":0,\"ticks\":\"\"}}}],\"scatterpolar\":[{\"type\":\"scatterpolar\",\"marker\":{\"colorbar\":{\"outlinewidth\":0,\"ticks\":\"\"}}}],\"histogram\":[{\"marker\":{\"pattern\":{\"fillmode\":\"overlay\",\"size\":10,\"solidity\":0.2}},\"type\":\"histogram\"}],\"scattergl\":[{\"type\":\"scattergl\",\"marker\":{\"colorbar\":{\"outlinewidth\":0,\"ticks\":\"\"}}}],\"scatter3d\":[{\"type\":\"scatter3d\",\"line\":{\"colorbar\":{\"outlinewidth\":0,\"ticks\":\"\"}},\"marker\":{\"colorbar\":{\"outlinewidth\":0,\"ticks\":\"\"}}}],\"scattermapbox\":[{\"type\":\"scattermapbox\",\"marker\":{\"colorbar\":{\"outlinewidth\":0,\"ticks\":\"\"}}}],\"scatterternary\":[{\"type\":\"scatterternary\",\"marker\":{\"colorbar\":{\"outlinewidth\":0,\"ticks\":\"\"}}}],\"scattercarpet\":[{\"type\":\"scattercarpet\",\"marker\":{\"colorbar\":{\"outlinewidth\":0,\"ticks\":\"\"}}}],\"carpet\":[{\"aaxis\":{\"endlinecolor\":\"#2a3f5f\",\"gridcolor\":\"white\",\"linecolor\":\"white\",\"minorgridcolor\":\"white\",\"startlinecolor\":\"#2a3f5f\"},\"baxis\":{\"endlinecolor\":\"#2a3f5f\",\"gridcolor\":\"white\",\"linecolor\":\"white\",\"minorgridcolor\":\"white\",\"startlinecolor\":\"#2a3f5f\"},\"type\":\"carpet\"}],\"table\":[{\"cells\":{\"fill\":{\"color\":\"#EBF0F8\"},\"line\":{\"color\":\"white\"}},\"header\":{\"fill\":{\"color\":\"#C8D4E3\"},\"line\":{\"color\":\"white\"}},\"type\":\"table\"}],\"barpolar\":[{\"marker\":{\"line\":{\"color\":\"#E5ECF6\",\"width\":0.5},\"pattern\":{\"fillmode\":\"overlay\",\"size\":10,\"solidity\":0.2}},\"type\":\"barpolar\"}],\"pie\":[{\"automargin\":true,\"type\":\"pie\"}]},\"layout\":{\"autotypenumbers\":\"strict\",\"colorway\":[\"#636efa\",\"#EF553B\",\"#00cc96\",\"#ab63fa\",\"#FFA15A\",\"#19d3f3\",\"#FF6692\",\"#B6E880\",\"#FF97FF\",\"#FECB52\"],\"font\":{\"color\":\"#2a3f5f\"},\"hovermode\":\"closest\",\"hoverlabel\":{\"align\":\"left\"},\"paper_bgcolor\":\"white\",\"plot_bgcolor\":\"#E5ECF6\",\"polar\":{\"bgcolor\":\"#E5ECF6\",\"angularaxis\":{\"gridcolor\":\"white\",\"linecolor\":\"white\",\"ticks\":\"\"},\"radialaxis\":{\"gridcolor\":\"white\",\"linecolor\":\"white\",\"ticks\":\"\"}},\"ternary\":{\"bgcolor\":\"#E5ECF6\",\"aaxis\":{\"gridcolor\":\"white\",\"linecolor\":\"white\",\"ticks\":\"\"},\"baxis\":{\"gridcolor\":\"white\",\"linecolor\":\"white\",\"ticks\":\"\"},\"caxis\":{\"gridcolor\":\"white\",\"linecolor\":\"white\",\"ticks\":\"\"}},\"coloraxis\":{\"colorbar\":{\"outlinewidth\":0,\"ticks\":\"\"}},\"colorscale\":{\"sequential\":[[0.0,\"#0d0887\"],[0.1111111111111111,\"#46039f\"],[0.2222222222222222,\"#7201a8\"],[0.3333333333333333,\"#9c179e\"],[0.4444444444444444,\"#bd3786\"],[0.5555555555555556,\"#d8576b\"],[0.6666666666666666,\"#ed7953\"],[0.7777777777777778,\"#fb9f3a\"],[0.8888888888888888,\"#fdca26\"],[1.0,\"#f0f921\"]],\"sequentialminus\":[[0.0,\"#0d0887\"],[0.1111111111111111,\"#46039f\"],[0.2222222222222222,\"#7201a8\"],[0.3333333333333333,\"#9c179e\"],[0.4444444444444444,\"#bd3786\"],[0.5555555555555556,\"#d8576b\"],[0.6666666666666666,\"#ed7953\"],[0.7777777777777778,\"#fb9f3a\"],[0.8888888888888888,\"#fdca26\"],[1.0,\"#f0f921\"]],\"diverging\":[[0,\"#8e0152\"],[0.1,\"#c51b7d\"],[0.2,\"#de77ae\"],[0.3,\"#f1b6da\"],[0.4,\"#fde0ef\"],[0.5,\"#f7f7f7\"],[0.6,\"#e6f5d0\"],[0.7,\"#b8e186\"],[0.8,\"#7fbc41\"],[0.9,\"#4d9221\"],[1,\"#276419\"]]},\"xaxis\":{\"gridcolor\":\"white\",\"linecolor\":\"white\",\"ticks\":\"\",\"title\":{\"standoff\":15},\"zerolinecolor\":\"white\",\"automargin\":true,\"zerolinewidth\":2},\"yaxis\":{\"gridcolor\":\"white\",\"linecolor\":\"white\",\"ticks\":\"\",\"title\":{\"standoff\":15},\"zerolinecolor\":\"white\",\"automargin\":true,\"zerolinewidth\":2},\"scene\":{\"xaxis\":{\"backgroundcolor\":\"#E5ECF6\",\"gridcolor\":\"white\",\"linecolor\":\"white\",\"showbackground\":true,\"ticks\":\"\",\"zerolinecolor\":\"white\",\"gridwidth\":2},\"yaxis\":{\"backgroundcolor\":\"#E5ECF6\",\"gridcolor\":\"white\",\"linecolor\":\"white\",\"showbackground\":true,\"ticks\":\"\",\"zerolinecolor\":\"white\",\"gridwidth\":2},\"zaxis\":{\"backgroundcolor\":\"#E5ECF6\",\"gridcolor\":\"white\",\"linecolor\":\"white\",\"showbackground\":true,\"ticks\":\"\",\"zerolinecolor\":\"white\",\"gridwidth\":2}},\"shapedefaults\":{\"line\":{\"color\":\"#2a3f5f\"}},\"annotationdefaults\":{\"arrowcolor\":\"#2a3f5f\",\"arrowhead\":0,\"arrowwidth\":1},\"geo\":{\"bgcolor\":\"white\",\"landcolor\":\"#E5ECF6\",\"subunitcolor\":\"white\",\"showland\":true,\"showlakes\":true,\"lakecolor\":\"white\"},\"title\":{\"x\":0.05},\"mapbox\":{\"style\":\"light\"}}}},                        {\"responsive\": true}                    ).then(function(){\n",
       "                            \n",
       "var gd = document.getElementById('64446a67-1822-48cd-89b7-f035d663964c');\n",
       "var x = new MutationObserver(function (mutations, observer) {{\n",
       "        var display = window.getComputedStyle(gd).display;\n",
       "        if (!display || display === 'none') {{\n",
       "            console.log([gd, 'removed!']);\n",
       "            Plotly.purge(gd);\n",
       "            observer.disconnect();\n",
       "        }}\n",
       "}});\n",
       "\n",
       "// Listen for the removal of the full notebook cells\n",
       "var notebookContainer = gd.closest('#notebook-container');\n",
       "if (notebookContainer) {{\n",
       "    x.observe(notebookContainer, {childList: true});\n",
       "}}\n",
       "\n",
       "// Listen for the clearing of the current output cell\n",
       "var outputEl = gd.closest('.output');\n",
       "if (outputEl) {{\n",
       "    x.observe(outputEl, {childList: true});\n",
       "}}\n",
       "\n",
       "                        })                };                });            </script>        </div>"
      ]
     },
     "metadata": {},
     "output_type": "display_data"
    }
   ],
   "source": [
    "fig = go.Figure()\n",
    "\n",
    "for group, values in dict_tresh.items():\n",
    "    fig.add_trace(go.Box(y=values, name=group))\n",
    "\n",
    "fig.show()"
   ]
  },
  {
   "cell_type": "markdown",
   "id": "953574e4",
   "metadata": {},
   "source": [
    "## Copenhagen calls graph"
   ]
  },
  {
   "cell_type": "code",
   "execution_count": 31,
   "id": "0cae3dbe",
   "metadata": {},
   "outputs": [
    {
     "name": "stdout",
     "output_type": "stream",
     "text": [
      "Number of nodes: 536\n",
      "Number of edges: 621\n"
     ]
    }
   ],
   "source": [
    "# read the file and create a graph\n",
    "G_calls = nx.read_edgelist('../Real graphs simulations/Copenhagen graphs/calls.csv/edges.csv', delimiter=',', data=(('timestamp', int),('duration', int)))\n",
    "\n",
    "# print the number of nodes and edges\n",
    "print('Number of nodes:', G_calls.number_of_nodes())\n",
    "print('Number of edges:', G_calls.number_of_edges())"
   ]
  },
  {
   "cell_type": "code",
   "execution_count": 32,
   "id": "04f449ab",
   "metadata": {},
   "outputs": [
    {
     "data": {
      "text/plain": [
       "False"
      ]
     },
     "execution_count": 32,
     "metadata": {},
     "output_type": "execute_result"
    }
   ],
   "source": [
    "nx.is_connected(G_calls)"
   ]
  },
  {
   "cell_type": "code",
   "execution_count": 33,
   "id": "07d8e9d4",
   "metadata": {},
   "outputs": [
    {
     "data": {
      "text/plain": [
       "True"
      ]
     },
     "execution_count": 33,
     "metadata": {},
     "output_type": "execute_result"
    }
   ],
   "source": [
    "# Remove the small components such that the graph becomes connected\n",
    "connected_components = nx.connected_components(G_calls)\n",
    "biggest = max(connected_components, key=len)\n",
    "G_calls = G_calls.subgraph(biggest)\n",
    "nx.is_connected(G_calls)"
   ]
  },
  {
   "cell_type": "code",
   "execution_count": 34,
   "id": "3faf8416",
   "metadata": {},
   "outputs": [
    {
     "data": {
      "text/plain": [
       "347"
      ]
     },
     "execution_count": 34,
     "metadata": {},
     "output_type": "execute_result"
    }
   ],
   "source": [
    "len(G_calls)"
   ]
  },
  {
   "cell_type": "code",
   "execution_count": 35,
   "id": "e05d0c9a",
   "metadata": {},
   "outputs": [
    {
     "name": "stderr",
     "output_type": "stream",
     "text": [
      "100%|█████████████████████████████████████████| 100/100 [14:09<00:00,  8.49s/it]\n"
     ]
    }
   ],
   "source": [
    "# Betweenness\n",
    "\n",
    "betweenness_box_sol_calls = []\n",
    "\n",
    "nb_of_iters = 100\n",
    "\n",
    "# Generate the random graph and compute shortest paths\n",
    "G = G_calls\n",
    "length = dict(nx.all_pairs_shortest_path_length(G))\n",
    "\n",
    "c = nx.betweenness_centrality(G, endpoints=True)\n",
    "\n",
    "# normalize the centralities\n",
    "c_values = np.array(list(c.values()))\n",
    "c_norm = c_values / sum(c_values)\n",
    "node_list = list(c.keys())\n",
    "\n",
    "for _ in tqdm(range(nb_of_iters)):\n",
    "    nodes = np.random.choice(node_list, p=c_norm, size=len(G), replace=False) # Random set of nodes to test\n",
    "    for nb in range(0, len(G)):\n",
    "        if is_resolving_set(G, nodes[:nb], length):\n",
    "            betweenness_box_sol_calls.append(nb)\n",
    "            break"
   ]
  },
  {
   "cell_type": "code",
   "execution_count": 36,
   "id": "fd2d5b8e",
   "metadata": {},
   "outputs": [],
   "source": [
    "# Degree\n",
    "\n",
    "degree_box_sol_calls = []\n",
    "\n",
    "nb_of_iters = 100\n",
    "\n",
    "# Generate the random graph and compute shortest paths\n",
    "G = G_calls\n",
    "length = dict(nx.all_pairs_shortest_path_length(G))\n",
    "\n",
    "c = nx.degree_centrality(G)\n",
    "\n",
    "# normalize the centralities\n",
    "c_values = np.array(list(c.values()))\n",
    "c_norm = c_values / sum(c_values)\n",
    "node_list = list(c.keys())\n",
    "\n",
    "for _ in range(nb_of_iters):\n",
    "    nodes = np.random.choice(node_list, p=c_norm, size=len(G), replace=False) # Random set of nodes to test\n",
    "    for nb in range(0, len(G)):\n",
    "        if is_resolving_set(G, nodes[:nb], length):\n",
    "            degree_box_sol_calls.append(nb)\n",
    "            break"
   ]
  },
  {
   "cell_type": "code",
   "execution_count": 37,
   "id": "7611449d",
   "metadata": {},
   "outputs": [
    {
     "name": "stderr",
     "output_type": "stream",
     "text": [
      "100%|█████████████████████████████████████████| 100/100 [04:35<00:00,  2.75s/it]\n"
     ]
    }
   ],
   "source": [
    "# Random\n",
    "\n",
    "nb_of_iters = 100\n",
    "rand_box_real_calls = []\n",
    "\n",
    "# Generate the random graph and compute shortest paths\n",
    "G = G_calls\n",
    "length = dict(nx.all_pairs_shortest_path_length(G))\n",
    "\n",
    "for _ in tqdm(range(nb_of_iters)):\n",
    "    nodes = list(random.sample(list(G.nodes), len(G)))\n",
    "    for nb in range(0, len(G)):\n",
    "        if is_resolving_set(G, nodes[:nb], length):\n",
    "            rand_box_real_calls.append(nb)\n",
    "            break"
   ]
  },
  {
   "cell_type": "code",
   "execution_count": 51,
   "id": "ce326bb3",
   "metadata": {},
   "outputs": [
    {
     "name": "stdout",
     "output_type": "stream",
     "text": [
      "49\n",
      "61\n",
      "61\n"
     ]
    },
    {
     "name": "stderr",
     "output_type": "stream",
     "text": [
      "100%|█████████████████████████████████████████| 100/100 [00:20<00:00,  5.00it/s]\n"
     ]
    }
   ],
   "source": [
    "# Strategy 1 with degree\n",
    "\n",
    "start1_degree_box_real_calls = []\n",
    "\n",
    "tresh = 25\n",
    "nb_of_iters = 100\n",
    "\n",
    "G = G_calls\n",
    "nb_of_nodes_in_resolving_set = 20\n",
    "\n",
    "length = dict(nx.all_pairs_shortest_path_length(G))\n",
    "c = nx.degree_centrality(G)\n",
    "\n",
    "# normalize the betweenness centralities\n",
    "c_values = np.array(list(c.values()))\n",
    "c_norm = c_values / sum(c_values)\n",
    "node_list = list(c.keys())\n",
    "ms_b_box_sol_real = []\n",
    "nodes_to_add = []\n",
    "\n",
    "while True:\n",
    "    intensities = {str(key): 0 for key in G.nodes}\n",
    "    for i in range(100):\n",
    "        # Random set of nodes to test\n",
    "        nodes = nodes_to_add + list(np.random.choice(node_list, p=c_norm, size=nb_of_nodes_in_resolving_set, replace=False))\n",
    "        resolved = set_resolved(G, nodes, length)\n",
    "        for node in resolved:\n",
    "            intensities[node] += +1\n",
    "\n",
    "    small = [key for key, val in intensities.items() if val < tresh]\n",
    "    s = len(small)\n",
    "    nodes_to_add += get_nodes_with_diff_neighbors(G, small)\n",
    "\n",
    "    if s == 0:\n",
    "        print(\"We manually add {} nodes\".format(len(nodes_to_add)))\n",
    "        break\n",
    "indices = [node_list.index(i) for i in nodes_to_add] \n",
    "node_list_without_indices_to_add = [element for index, element in enumerate(node_list) if index not in indices]\n",
    "c_norm_without_indices_to_add = [element for index, element in enumerate(c_norm) if index not in indices]\n",
    "c_norm_without_indices_to_add = c_norm_without_indices_to_add / sum(c_norm_without_indices_to_add)\n",
    "\n",
    "for _ in tqdm(range(nb_of_iters)):\n",
    "    nodes = nodes_to_add + list(np.random.choice(node_list_without_indices_to_add, p=c_norm_without_indices_to_add, size=len(node_list_without_indices_to_add), replace=False)) # Random set of nodes to test\n",
    "    for nb in range(len(nodes_to_add), len(G)):\n",
    "        if is_resolving_set(G, nodes[:nb], length):\n",
    "            start1_degree_box_real_calls.append(nb)\n",
    "            break"
   ]
  },
  {
   "cell_type": "code",
   "execution_count": 64,
   "id": "5d585a85",
   "metadata": {},
   "outputs": [
    {
     "name": "stdout",
     "output_type": "stream",
     "text": [
      "We manually add 61 nodes\n"
     ]
    },
    {
     "name": "stderr",
     "output_type": "stream",
     "text": [
      "100%|█████████████████████████████████████████| 100/100 [01:04<00:00,  1.56it/s]\n"
     ]
    }
   ],
   "source": [
    "# Strategy 1 with betweenness\n",
    "\n",
    "start1_betweenness_box_real_calls = []\n",
    "\n",
    "tresh = 15\n",
    "nb_of_iters = 100\n",
    "\n",
    "G = G_calls\n",
    "nb_of_nodes_in_resolving_set = 20\n",
    "\n",
    "length = dict(nx.all_pairs_shortest_path_length(G))\n",
    "c = nx.betweenness_centrality(G, endpoints=True)\n",
    "\n",
    "# normalize the betweenness centralities\n",
    "c_values = np.array(list(c.values()))\n",
    "c_norm = c_values / sum(c_values)\n",
    "node_list = list(c.keys())\n",
    "ms_b_box_sol_real = []\n",
    "nodes_to_add = []\n",
    "\n",
    "while True:\n",
    "    intensities = {str(key): 0 for key in G.nodes}\n",
    "    for i in range(100):\n",
    "        # Random set of nodes to test\n",
    "        nodes = nodes_to_add + list(np.random.choice(node_list, p=c_norm, size=nb_of_nodes_in_resolving_set, replace=False))\n",
    "        resolved = set_resolved(G, nodes, length)\n",
    "        for node in resolved:\n",
    "            intensities[node] += +1\n",
    "\n",
    "    small = [key for key, val in intensities.items() if val < tresh]\n",
    "    s = len(small)\n",
    "    nodes_to_add += get_nodes_with_diff_neighbors(G, small)\n",
    "    if s == 0:\n",
    "        print(\"We manually add {} nodes\".format(len(nodes_to_add)))\n",
    "        break\n",
    "indices = [node_list.index(i) for i in nodes_to_add] \n",
    "node_list_without_indices_to_add = [element for index, element in enumerate(node_list) if index not in indices]\n",
    "c_norm_without_indices_to_add = [element for index, element in enumerate(c_norm) if index not in indices]\n",
    "c_norm_without_indices_to_add = c_norm_without_indices_to_add / sum(c_norm_without_indices_to_add)\n",
    "\n",
    "for _ in tqdm(range(nb_of_iters)):\n",
    "\n",
    "    #print(len(node_list_without_indices_to_add))\n",
    "    nodes = nodes_to_add + list(np.random.choice(node_list_without_indices_to_add, p=c_norm_without_indices_to_add, size=len(node_list_without_indices_to_add), replace=False)) # Random set of nodes to test\n",
    "    for nb in range(len(nodes_to_add), len(G)):\n",
    "        if is_resolving_set(G, nodes[:nb], length):\n",
    "            start1_betweenness_box_real_calls.append(nb)\n",
    "            break"
   ]
  },
  {
   "cell_type": "code",
   "execution_count": 40,
   "id": "3214ecc0",
   "metadata": {},
   "outputs": [],
   "source": [
    "# Strategy 2\n",
    "start2_box_real_calls = []\n",
    "\n",
    "nb_of_iters = 100\n",
    "\n",
    "G = G_calls\n",
    "nb_of_nodes_in_resolving_set = 20\n",
    "\n",
    "length = dict(nx.all_pairs_shortest_path_length(G))\n",
    "\n",
    "for _ in range(nb_of_iters):\n",
    "    nodes_to_add = []\n",
    "\n",
    "    while True:\n",
    "        intensities = {str(key): 0 for key in G.nodes}\n",
    "        for i in range(nb_of_iters):\n",
    "            # Random set of nodes to test\n",
    "            nodes = nodes_to_add + list(np.random.choice(G.nodes, size=nb_of_nodes_in_resolving_set, replace=False))\n",
    "            resolved = set_resolved(G, nodes, length)\n",
    "            for node in resolved:\n",
    "                intensities[node] += 1\n",
    "\n",
    "        hardest_node_to_resolve = min(intensities, key=intensities.get)\n",
    "        nodes_to_add.append(hardest_node_to_resolve)\n",
    "        if is_resolving_set(G, nodes_to_add, length):\n",
    "            start2_box_real_calls.append(len(nodes_to_add))\n",
    "            break"
   ]
  },
  {
   "cell_type": "code",
   "execution_count": 65,
   "id": "9aa89da6",
   "metadata": {},
   "outputs": [],
   "source": [
    "dict_result_real = {'Strategy 1 degree':start1_degree_box_real_calls, \n",
    "                    'Strategy 1 betweenness':start1_betweenness_box_real_calls, \n",
    "                    'Strategy 2':start2_box_real_calls, \n",
    "                    'Random strategy':rand_box_real_calls,\n",
    "                    'Betweenness strategy':betweenness_box_sol_calls,\n",
    "                    'Degree strategy':degree_box_sol_calls\n",
    "                   }"
   ]
  },
  {
   "cell_type": "code",
   "execution_count": 66,
   "id": "054a012d",
   "metadata": {},
   "outputs": [
    {
     "data": {
      "application/vnd.plotly.v1+json": {
       "config": {
        "plotlyServerURL": "https://plot.ly"
       },
       "data": [
        {
         "boxpoints": "all",
         "name": "Strategy 1 degree",
         "type": "box",
         "y": [
          124,
          146,
          90,
          119,
          90,
          78,
          71,
          73,
          76,
          65,
          70,
          84,
          71,
          151,
          78,
          135,
          96,
          87,
          69,
          107,
          105,
          121,
          83,
          159,
          73,
          63,
          84,
          98,
          91,
          97,
          76,
          106,
          203,
          112,
          64,
          91,
          89,
          100,
          79,
          109,
          129,
          89,
          83,
          78,
          201,
          81,
          119,
          85,
          63,
          103,
          88,
          67,
          72,
          63,
          77,
          147,
          150,
          95,
          134,
          81,
          71,
          102,
          79,
          66,
          81,
          126,
          80,
          146,
          106,
          103,
          89,
          73,
          71,
          88,
          109,
          63,
          90,
          78,
          83,
          104,
          131,
          84,
          80,
          84,
          62,
          118,
          88,
          126,
          109,
          119,
          90,
          79,
          75,
          86,
          164,
          104,
          67,
          120,
          103,
          94
         ]
        },
        {
         "boxpoints": "all",
         "name": "Strategy 1 betweenness",
         "type": "box",
         "y": [
          166,
          132,
          92,
          169,
          153,
          102,
          138,
          144,
          82,
          147,
          111,
          114,
          152,
          102,
          69,
          82,
          212,
          89,
          110,
          130,
          181,
          134,
          131,
          133,
          178,
          191,
          206,
          97,
          213,
          94,
          83,
          85,
          107,
          118,
          201,
          154,
          91,
          109,
          161,
          130,
          86,
          127,
          193,
          142,
          97,
          104,
          177,
          130,
          192,
          113,
          175,
          108,
          111,
          111,
          113,
          222,
          128,
          96,
          69,
          140,
          227,
          75,
          195,
          176,
          183,
          199,
          183,
          124,
          155,
          184,
          129,
          119,
          152,
          100,
          108,
          143,
          146,
          118,
          149,
          137,
          179,
          120,
          155,
          171,
          185,
          113,
          104,
          138,
          136,
          108,
          90,
          123,
          99,
          69,
          170,
          156,
          157,
          97,
          176,
          159
         ]
        },
        {
         "boxpoints": "all",
         "name": "Strategy 2",
         "type": "box",
         "y": [
          52,
          52,
          53,
          52,
          52,
          53,
          54,
          52,
          52,
          53,
          53,
          53,
          53,
          53,
          53,
          52,
          52,
          52,
          52,
          53,
          52,
          53,
          53,
          54,
          53,
          53,
          53,
          52,
          52,
          53,
          53,
          52,
          53,
          53,
          53,
          53,
          53,
          52,
          52,
          53,
          52,
          52,
          52,
          52,
          53,
          52,
          52,
          52,
          53,
          52,
          53,
          52,
          53,
          53,
          52,
          53,
          52,
          54,
          52,
          53,
          52,
          52,
          53,
          53,
          53,
          52,
          52,
          52,
          54,
          52,
          53,
          52,
          53,
          53,
          52,
          52,
          52,
          53,
          52,
          52,
          52,
          53,
          52,
          52,
          52,
          53,
          53,
          53,
          52,
          53,
          52,
          53,
          52,
          53,
          52,
          53,
          53,
          54,
          53,
          52
         ]
        },
        {
         "boxpoints": "all",
         "name": "Random strategy",
         "type": "box",
         "y": [
          319,
          294,
          282,
          286,
          294,
          286,
          250,
          289,
          282,
          287,
          326,
          279,
          293,
          313,
          295,
          281,
          266,
          286,
          294,
          310,
          281,
          298,
          259,
          286,
          253,
          299,
          258,
          329,
          290,
          296,
          247,
          321,
          303,
          294,
          271,
          271,
          304,
          312,
          341,
          303,
          303,
          299,
          316,
          313,
          271,
          289,
          278,
          296,
          299,
          295,
          315,
          316,
          292,
          270,
          296,
          312,
          313,
          246,
          336,
          313,
          327,
          275,
          312,
          305,
          270,
          282,
          308,
          321,
          256,
          318,
          232,
          266,
          309,
          323,
          312,
          277,
          270,
          322,
          244,
          294,
          307,
          299,
          317,
          247,
          319,
          283,
          274,
          309,
          287,
          326,
          309,
          328,
          303,
          262,
          242,
          330,
          276,
          314,
          283,
          282
         ]
        },
        {
         "boxpoints": "all",
         "name": "Betweenness strategy",
         "type": "box",
         "y": [
          327,
          334,
          311,
          339,
          338,
          318,
          316,
          324,
          318,
          317,
          331,
          327,
          301,
          335,
          311,
          312,
          327,
          331,
          316,
          320,
          318,
          332,
          333,
          335,
          309,
          318,
          331,
          328,
          327,
          328,
          341,
          324,
          327,
          319,
          326,
          343,
          308,
          319,
          316,
          317,
          346,
          323,
          342,
          302,
          323,
          311,
          328,
          325,
          308,
          324,
          327,
          328,
          314,
          331,
          342,
          319,
          327,
          300,
          339,
          334,
          327,
          306,
          339,
          307,
          327,
          330,
          331,
          323,
          300,
          332,
          320,
          333,
          318,
          328,
          317,
          307,
          337,
          284,
          304,
          311,
          313,
          327,
          277,
          346,
          329,
          327,
          335,
          323,
          336,
          293,
          322,
          330,
          316,
          317,
          309,
          330,
          312,
          338,
          337,
          307
         ]
        },
        {
         "boxpoints": "all",
         "name": "Degree strategy",
         "type": "box",
         "y": [
          326,
          327,
          311,
          321,
          337,
          345,
          335,
          339,
          330,
          314,
          311,
          318,
          339,
          337,
          336,
          339,
          317,
          326,
          341,
          314,
          329,
          298,
          326,
          316,
          336,
          325,
          344,
          336,
          321,
          336,
          343,
          340,
          328,
          314,
          335,
          286,
          329,
          280,
          321,
          342,
          336,
          322,
          316,
          277,
          329,
          329,
          320,
          342,
          334,
          318,
          318,
          313,
          315,
          329,
          327,
          334,
          327,
          341,
          319,
          341,
          319,
          318,
          332,
          344,
          322,
          328,
          329,
          329,
          302,
          306,
          323,
          308,
          345,
          318,
          318,
          336,
          305,
          317,
          324,
          323,
          296,
          330,
          332,
          304,
          308,
          324,
          318,
          304,
          346,
          332,
          336,
          337,
          330,
          343,
          324,
          325,
          323,
          332,
          325,
          320
         ]
        }
       ],
       "layout": {
        "template": {
         "data": {
          "bar": [
           {
            "error_x": {
             "color": "#2a3f5f"
            },
            "error_y": {
             "color": "#2a3f5f"
            },
            "marker": {
             "line": {
              "color": "#E5ECF6",
              "width": 0.5
             },
             "pattern": {
              "fillmode": "overlay",
              "size": 10,
              "solidity": 0.2
             }
            },
            "type": "bar"
           }
          ],
          "barpolar": [
           {
            "marker": {
             "line": {
              "color": "#E5ECF6",
              "width": 0.5
             },
             "pattern": {
              "fillmode": "overlay",
              "size": 10,
              "solidity": 0.2
             }
            },
            "type": "barpolar"
           }
          ],
          "carpet": [
           {
            "aaxis": {
             "endlinecolor": "#2a3f5f",
             "gridcolor": "white",
             "linecolor": "white",
             "minorgridcolor": "white",
             "startlinecolor": "#2a3f5f"
            },
            "baxis": {
             "endlinecolor": "#2a3f5f",
             "gridcolor": "white",
             "linecolor": "white",
             "minorgridcolor": "white",
             "startlinecolor": "#2a3f5f"
            },
            "type": "carpet"
           }
          ],
          "choropleth": [
           {
            "colorbar": {
             "outlinewidth": 0,
             "ticks": ""
            },
            "type": "choropleth"
           }
          ],
          "contour": [
           {
            "colorbar": {
             "outlinewidth": 0,
             "ticks": ""
            },
            "colorscale": [
             [
              0,
              "#0d0887"
             ],
             [
              0.1111111111111111,
              "#46039f"
             ],
             [
              0.2222222222222222,
              "#7201a8"
             ],
             [
              0.3333333333333333,
              "#9c179e"
             ],
             [
              0.4444444444444444,
              "#bd3786"
             ],
             [
              0.5555555555555556,
              "#d8576b"
             ],
             [
              0.6666666666666666,
              "#ed7953"
             ],
             [
              0.7777777777777778,
              "#fb9f3a"
             ],
             [
              0.8888888888888888,
              "#fdca26"
             ],
             [
              1,
              "#f0f921"
             ]
            ],
            "type": "contour"
           }
          ],
          "contourcarpet": [
           {
            "colorbar": {
             "outlinewidth": 0,
             "ticks": ""
            },
            "type": "contourcarpet"
           }
          ],
          "heatmap": [
           {
            "colorbar": {
             "outlinewidth": 0,
             "ticks": ""
            },
            "colorscale": [
             [
              0,
              "#0d0887"
             ],
             [
              0.1111111111111111,
              "#46039f"
             ],
             [
              0.2222222222222222,
              "#7201a8"
             ],
             [
              0.3333333333333333,
              "#9c179e"
             ],
             [
              0.4444444444444444,
              "#bd3786"
             ],
             [
              0.5555555555555556,
              "#d8576b"
             ],
             [
              0.6666666666666666,
              "#ed7953"
             ],
             [
              0.7777777777777778,
              "#fb9f3a"
             ],
             [
              0.8888888888888888,
              "#fdca26"
             ],
             [
              1,
              "#f0f921"
             ]
            ],
            "type": "heatmap"
           }
          ],
          "heatmapgl": [
           {
            "colorbar": {
             "outlinewidth": 0,
             "ticks": ""
            },
            "colorscale": [
             [
              0,
              "#0d0887"
             ],
             [
              0.1111111111111111,
              "#46039f"
             ],
             [
              0.2222222222222222,
              "#7201a8"
             ],
             [
              0.3333333333333333,
              "#9c179e"
             ],
             [
              0.4444444444444444,
              "#bd3786"
             ],
             [
              0.5555555555555556,
              "#d8576b"
             ],
             [
              0.6666666666666666,
              "#ed7953"
             ],
             [
              0.7777777777777778,
              "#fb9f3a"
             ],
             [
              0.8888888888888888,
              "#fdca26"
             ],
             [
              1,
              "#f0f921"
             ]
            ],
            "type": "heatmapgl"
           }
          ],
          "histogram": [
           {
            "marker": {
             "pattern": {
              "fillmode": "overlay",
              "size": 10,
              "solidity": 0.2
             }
            },
            "type": "histogram"
           }
          ],
          "histogram2d": [
           {
            "colorbar": {
             "outlinewidth": 0,
             "ticks": ""
            },
            "colorscale": [
             [
              0,
              "#0d0887"
             ],
             [
              0.1111111111111111,
              "#46039f"
             ],
             [
              0.2222222222222222,
              "#7201a8"
             ],
             [
              0.3333333333333333,
              "#9c179e"
             ],
             [
              0.4444444444444444,
              "#bd3786"
             ],
             [
              0.5555555555555556,
              "#d8576b"
             ],
             [
              0.6666666666666666,
              "#ed7953"
             ],
             [
              0.7777777777777778,
              "#fb9f3a"
             ],
             [
              0.8888888888888888,
              "#fdca26"
             ],
             [
              1,
              "#f0f921"
             ]
            ],
            "type": "histogram2d"
           }
          ],
          "histogram2dcontour": [
           {
            "colorbar": {
             "outlinewidth": 0,
             "ticks": ""
            },
            "colorscale": [
             [
              0,
              "#0d0887"
             ],
             [
              0.1111111111111111,
              "#46039f"
             ],
             [
              0.2222222222222222,
              "#7201a8"
             ],
             [
              0.3333333333333333,
              "#9c179e"
             ],
             [
              0.4444444444444444,
              "#bd3786"
             ],
             [
              0.5555555555555556,
              "#d8576b"
             ],
             [
              0.6666666666666666,
              "#ed7953"
             ],
             [
              0.7777777777777778,
              "#fb9f3a"
             ],
             [
              0.8888888888888888,
              "#fdca26"
             ],
             [
              1,
              "#f0f921"
             ]
            ],
            "type": "histogram2dcontour"
           }
          ],
          "mesh3d": [
           {
            "colorbar": {
             "outlinewidth": 0,
             "ticks": ""
            },
            "type": "mesh3d"
           }
          ],
          "parcoords": [
           {
            "line": {
             "colorbar": {
              "outlinewidth": 0,
              "ticks": ""
             }
            },
            "type": "parcoords"
           }
          ],
          "pie": [
           {
            "automargin": true,
            "type": "pie"
           }
          ],
          "scatter": [
           {
            "fillpattern": {
             "fillmode": "overlay",
             "size": 10,
             "solidity": 0.2
            },
            "type": "scatter"
           }
          ],
          "scatter3d": [
           {
            "line": {
             "colorbar": {
              "outlinewidth": 0,
              "ticks": ""
             }
            },
            "marker": {
             "colorbar": {
              "outlinewidth": 0,
              "ticks": ""
             }
            },
            "type": "scatter3d"
           }
          ],
          "scattercarpet": [
           {
            "marker": {
             "colorbar": {
              "outlinewidth": 0,
              "ticks": ""
             }
            },
            "type": "scattercarpet"
           }
          ],
          "scattergeo": [
           {
            "marker": {
             "colorbar": {
              "outlinewidth": 0,
              "ticks": ""
             }
            },
            "type": "scattergeo"
           }
          ],
          "scattergl": [
           {
            "marker": {
             "colorbar": {
              "outlinewidth": 0,
              "ticks": ""
             }
            },
            "type": "scattergl"
           }
          ],
          "scattermapbox": [
           {
            "marker": {
             "colorbar": {
              "outlinewidth": 0,
              "ticks": ""
             }
            },
            "type": "scattermapbox"
           }
          ],
          "scatterpolar": [
           {
            "marker": {
             "colorbar": {
              "outlinewidth": 0,
              "ticks": ""
             }
            },
            "type": "scatterpolar"
           }
          ],
          "scatterpolargl": [
           {
            "marker": {
             "colorbar": {
              "outlinewidth": 0,
              "ticks": ""
             }
            },
            "type": "scatterpolargl"
           }
          ],
          "scatterternary": [
           {
            "marker": {
             "colorbar": {
              "outlinewidth": 0,
              "ticks": ""
             }
            },
            "type": "scatterternary"
           }
          ],
          "surface": [
           {
            "colorbar": {
             "outlinewidth": 0,
             "ticks": ""
            },
            "colorscale": [
             [
              0,
              "#0d0887"
             ],
             [
              0.1111111111111111,
              "#46039f"
             ],
             [
              0.2222222222222222,
              "#7201a8"
             ],
             [
              0.3333333333333333,
              "#9c179e"
             ],
             [
              0.4444444444444444,
              "#bd3786"
             ],
             [
              0.5555555555555556,
              "#d8576b"
             ],
             [
              0.6666666666666666,
              "#ed7953"
             ],
             [
              0.7777777777777778,
              "#fb9f3a"
             ],
             [
              0.8888888888888888,
              "#fdca26"
             ],
             [
              1,
              "#f0f921"
             ]
            ],
            "type": "surface"
           }
          ],
          "table": [
           {
            "cells": {
             "fill": {
              "color": "#EBF0F8"
             },
             "line": {
              "color": "white"
             }
            },
            "header": {
             "fill": {
              "color": "#C8D4E3"
             },
             "line": {
              "color": "white"
             }
            },
            "type": "table"
           }
          ]
         },
         "layout": {
          "annotationdefaults": {
           "arrowcolor": "#2a3f5f",
           "arrowhead": 0,
           "arrowwidth": 1
          },
          "autotypenumbers": "strict",
          "coloraxis": {
           "colorbar": {
            "outlinewidth": 0,
            "ticks": ""
           }
          },
          "colorscale": {
           "diverging": [
            [
             0,
             "#8e0152"
            ],
            [
             0.1,
             "#c51b7d"
            ],
            [
             0.2,
             "#de77ae"
            ],
            [
             0.3,
             "#f1b6da"
            ],
            [
             0.4,
             "#fde0ef"
            ],
            [
             0.5,
             "#f7f7f7"
            ],
            [
             0.6,
             "#e6f5d0"
            ],
            [
             0.7,
             "#b8e186"
            ],
            [
             0.8,
             "#7fbc41"
            ],
            [
             0.9,
             "#4d9221"
            ],
            [
             1,
             "#276419"
            ]
           ],
           "sequential": [
            [
             0,
             "#0d0887"
            ],
            [
             0.1111111111111111,
             "#46039f"
            ],
            [
             0.2222222222222222,
             "#7201a8"
            ],
            [
             0.3333333333333333,
             "#9c179e"
            ],
            [
             0.4444444444444444,
             "#bd3786"
            ],
            [
             0.5555555555555556,
             "#d8576b"
            ],
            [
             0.6666666666666666,
             "#ed7953"
            ],
            [
             0.7777777777777778,
             "#fb9f3a"
            ],
            [
             0.8888888888888888,
             "#fdca26"
            ],
            [
             1,
             "#f0f921"
            ]
           ],
           "sequentialminus": [
            [
             0,
             "#0d0887"
            ],
            [
             0.1111111111111111,
             "#46039f"
            ],
            [
             0.2222222222222222,
             "#7201a8"
            ],
            [
             0.3333333333333333,
             "#9c179e"
            ],
            [
             0.4444444444444444,
             "#bd3786"
            ],
            [
             0.5555555555555556,
             "#d8576b"
            ],
            [
             0.6666666666666666,
             "#ed7953"
            ],
            [
             0.7777777777777778,
             "#fb9f3a"
            ],
            [
             0.8888888888888888,
             "#fdca26"
            ],
            [
             1,
             "#f0f921"
            ]
           ]
          },
          "colorway": [
           "#636efa",
           "#EF553B",
           "#00cc96",
           "#ab63fa",
           "#FFA15A",
           "#19d3f3",
           "#FF6692",
           "#B6E880",
           "#FF97FF",
           "#FECB52"
          ],
          "font": {
           "color": "#2a3f5f"
          },
          "geo": {
           "bgcolor": "white",
           "lakecolor": "white",
           "landcolor": "#E5ECF6",
           "showlakes": true,
           "showland": true,
           "subunitcolor": "white"
          },
          "hoverlabel": {
           "align": "left"
          },
          "hovermode": "closest",
          "mapbox": {
           "style": "light"
          },
          "paper_bgcolor": "white",
          "plot_bgcolor": "#E5ECF6",
          "polar": {
           "angularaxis": {
            "gridcolor": "white",
            "linecolor": "white",
            "ticks": ""
           },
           "bgcolor": "#E5ECF6",
           "radialaxis": {
            "gridcolor": "white",
            "linecolor": "white",
            "ticks": ""
           }
          },
          "scene": {
           "xaxis": {
            "backgroundcolor": "#E5ECF6",
            "gridcolor": "white",
            "gridwidth": 2,
            "linecolor": "white",
            "showbackground": true,
            "ticks": "",
            "zerolinecolor": "white"
           },
           "yaxis": {
            "backgroundcolor": "#E5ECF6",
            "gridcolor": "white",
            "gridwidth": 2,
            "linecolor": "white",
            "showbackground": true,
            "ticks": "",
            "zerolinecolor": "white"
           },
           "zaxis": {
            "backgroundcolor": "#E5ECF6",
            "gridcolor": "white",
            "gridwidth": 2,
            "linecolor": "white",
            "showbackground": true,
            "ticks": "",
            "zerolinecolor": "white"
           }
          },
          "shapedefaults": {
           "line": {
            "color": "#2a3f5f"
           }
          },
          "ternary": {
           "aaxis": {
            "gridcolor": "white",
            "linecolor": "white",
            "ticks": ""
           },
           "baxis": {
            "gridcolor": "white",
            "linecolor": "white",
            "ticks": ""
           },
           "bgcolor": "#E5ECF6",
           "caxis": {
            "gridcolor": "white",
            "linecolor": "white",
            "ticks": ""
           }
          },
          "title": {
           "x": 0.05
          },
          "xaxis": {
           "automargin": true,
           "gridcolor": "white",
           "linecolor": "white",
           "ticks": "",
           "title": {
            "standoff": 15
           },
           "zerolinecolor": "white",
           "zerolinewidth": 2
          },
          "yaxis": {
           "automargin": true,
           "gridcolor": "white",
           "linecolor": "white",
           "ticks": "",
           "title": {
            "standoff": 15
           },
           "zerolinecolor": "white",
           "zerolinewidth": 2
          }
         }
        },
        "yaxis": {
         "title": {
          "font": {
           "color": "black",
           "size": 12
          },
          "text": "Size of the resolving set"
         }
        }
       }
      },
      "text/html": [
       "<div>                            <div id=\"2aa4b1ed-fced-456d-a3df-314de31c69b0\" class=\"plotly-graph-div\" style=\"height:525px; width:100%;\"></div>            <script type=\"text/javascript\">                require([\"plotly\"], function(Plotly) {                    window.PLOTLYENV=window.PLOTLYENV || {};                                    if (document.getElementById(\"2aa4b1ed-fced-456d-a3df-314de31c69b0\")) {                    Plotly.newPlot(                        \"2aa4b1ed-fced-456d-a3df-314de31c69b0\",                        [{\"boxpoints\":\"all\",\"name\":\"Strategy 1 degree\",\"y\":[124,146,90,119,90,78,71,73,76,65,70,84,71,151,78,135,96,87,69,107,105,121,83,159,73,63,84,98,91,97,76,106,203,112,64,91,89,100,79,109,129,89,83,78,201,81,119,85,63,103,88,67,72,63,77,147,150,95,134,81,71,102,79,66,81,126,80,146,106,103,89,73,71,88,109,63,90,78,83,104,131,84,80,84,62,118,88,126,109,119,90,79,75,86,164,104,67,120,103,94],\"type\":\"box\"},{\"boxpoints\":\"all\",\"name\":\"Strategy 1 betweenness\",\"y\":[166,132,92,169,153,102,138,144,82,147,111,114,152,102,69,82,212,89,110,130,181,134,131,133,178,191,206,97,213,94,83,85,107,118,201,154,91,109,161,130,86,127,193,142,97,104,177,130,192,113,175,108,111,111,113,222,128,96,69,140,227,75,195,176,183,199,183,124,155,184,129,119,152,100,108,143,146,118,149,137,179,120,155,171,185,113,104,138,136,108,90,123,99,69,170,156,157,97,176,159],\"type\":\"box\"},{\"boxpoints\":\"all\",\"name\":\"Strategy 2\",\"y\":[52,52,53,52,52,53,54,52,52,53,53,53,53,53,53,52,52,52,52,53,52,53,53,54,53,53,53,52,52,53,53,52,53,53,53,53,53,52,52,53,52,52,52,52,53,52,52,52,53,52,53,52,53,53,52,53,52,54,52,53,52,52,53,53,53,52,52,52,54,52,53,52,53,53,52,52,52,53,52,52,52,53,52,52,52,53,53,53,52,53,52,53,52,53,52,53,53,54,53,52],\"type\":\"box\"},{\"boxpoints\":\"all\",\"name\":\"Random strategy\",\"y\":[319,294,282,286,294,286,250,289,282,287,326,279,293,313,295,281,266,286,294,310,281,298,259,286,253,299,258,329,290,296,247,321,303,294,271,271,304,312,341,303,303,299,316,313,271,289,278,296,299,295,315,316,292,270,296,312,313,246,336,313,327,275,312,305,270,282,308,321,256,318,232,266,309,323,312,277,270,322,244,294,307,299,317,247,319,283,274,309,287,326,309,328,303,262,242,330,276,314,283,282],\"type\":\"box\"},{\"boxpoints\":\"all\",\"name\":\"Betweenness strategy\",\"y\":[327,334,311,339,338,318,316,324,318,317,331,327,301,335,311,312,327,331,316,320,318,332,333,335,309,318,331,328,327,328,341,324,327,319,326,343,308,319,316,317,346,323,342,302,323,311,328,325,308,324,327,328,314,331,342,319,327,300,339,334,327,306,339,307,327,330,331,323,300,332,320,333,318,328,317,307,337,284,304,311,313,327,277,346,329,327,335,323,336,293,322,330,316,317,309,330,312,338,337,307],\"type\":\"box\"},{\"boxpoints\":\"all\",\"name\":\"Degree strategy\",\"y\":[326,327,311,321,337,345,335,339,330,314,311,318,339,337,336,339,317,326,341,314,329,298,326,316,336,325,344,336,321,336,343,340,328,314,335,286,329,280,321,342,336,322,316,277,329,329,320,342,334,318,318,313,315,329,327,334,327,341,319,341,319,318,332,344,322,328,329,329,302,306,323,308,345,318,318,336,305,317,324,323,296,330,332,304,308,324,318,304,346,332,336,337,330,343,324,325,323,332,325,320],\"type\":\"box\"}],                        {\"template\":{\"data\":{\"histogram2dcontour\":[{\"type\":\"histogram2dcontour\",\"colorbar\":{\"outlinewidth\":0,\"ticks\":\"\"},\"colorscale\":[[0.0,\"#0d0887\"],[0.1111111111111111,\"#46039f\"],[0.2222222222222222,\"#7201a8\"],[0.3333333333333333,\"#9c179e\"],[0.4444444444444444,\"#bd3786\"],[0.5555555555555556,\"#d8576b\"],[0.6666666666666666,\"#ed7953\"],[0.7777777777777778,\"#fb9f3a\"],[0.8888888888888888,\"#fdca26\"],[1.0,\"#f0f921\"]]}],\"choropleth\":[{\"type\":\"choropleth\",\"colorbar\":{\"outlinewidth\":0,\"ticks\":\"\"}}],\"histogram2d\":[{\"type\":\"histogram2d\",\"colorbar\":{\"outlinewidth\":0,\"ticks\":\"\"},\"colorscale\":[[0.0,\"#0d0887\"],[0.1111111111111111,\"#46039f\"],[0.2222222222222222,\"#7201a8\"],[0.3333333333333333,\"#9c179e\"],[0.4444444444444444,\"#bd3786\"],[0.5555555555555556,\"#d8576b\"],[0.6666666666666666,\"#ed7953\"],[0.7777777777777778,\"#fb9f3a\"],[0.8888888888888888,\"#fdca26\"],[1.0,\"#f0f921\"]]}],\"heatmap\":[{\"type\":\"heatmap\",\"colorbar\":{\"outlinewidth\":0,\"ticks\":\"\"},\"colorscale\":[[0.0,\"#0d0887\"],[0.1111111111111111,\"#46039f\"],[0.2222222222222222,\"#7201a8\"],[0.3333333333333333,\"#9c179e\"],[0.4444444444444444,\"#bd3786\"],[0.5555555555555556,\"#d8576b\"],[0.6666666666666666,\"#ed7953\"],[0.7777777777777778,\"#fb9f3a\"],[0.8888888888888888,\"#fdca26\"],[1.0,\"#f0f921\"]]}],\"heatmapgl\":[{\"type\":\"heatmapgl\",\"colorbar\":{\"outlinewidth\":0,\"ticks\":\"\"},\"colorscale\":[[0.0,\"#0d0887\"],[0.1111111111111111,\"#46039f\"],[0.2222222222222222,\"#7201a8\"],[0.3333333333333333,\"#9c179e\"],[0.4444444444444444,\"#bd3786\"],[0.5555555555555556,\"#d8576b\"],[0.6666666666666666,\"#ed7953\"],[0.7777777777777778,\"#fb9f3a\"],[0.8888888888888888,\"#fdca26\"],[1.0,\"#f0f921\"]]}],\"contourcarpet\":[{\"type\":\"contourcarpet\",\"colorbar\":{\"outlinewidth\":0,\"ticks\":\"\"}}],\"contour\":[{\"type\":\"contour\",\"colorbar\":{\"outlinewidth\":0,\"ticks\":\"\"},\"colorscale\":[[0.0,\"#0d0887\"],[0.1111111111111111,\"#46039f\"],[0.2222222222222222,\"#7201a8\"],[0.3333333333333333,\"#9c179e\"],[0.4444444444444444,\"#bd3786\"],[0.5555555555555556,\"#d8576b\"],[0.6666666666666666,\"#ed7953\"],[0.7777777777777778,\"#fb9f3a\"],[0.8888888888888888,\"#fdca26\"],[1.0,\"#f0f921\"]]}],\"surface\":[{\"type\":\"surface\",\"colorbar\":{\"outlinewidth\":0,\"ticks\":\"\"},\"colorscale\":[[0.0,\"#0d0887\"],[0.1111111111111111,\"#46039f\"],[0.2222222222222222,\"#7201a8\"],[0.3333333333333333,\"#9c179e\"],[0.4444444444444444,\"#bd3786\"],[0.5555555555555556,\"#d8576b\"],[0.6666666666666666,\"#ed7953\"],[0.7777777777777778,\"#fb9f3a\"],[0.8888888888888888,\"#fdca26\"],[1.0,\"#f0f921\"]]}],\"mesh3d\":[{\"type\":\"mesh3d\",\"colorbar\":{\"outlinewidth\":0,\"ticks\":\"\"}}],\"scatter\":[{\"fillpattern\":{\"fillmode\":\"overlay\",\"size\":10,\"solidity\":0.2},\"type\":\"scatter\"}],\"parcoords\":[{\"type\":\"parcoords\",\"line\":{\"colorbar\":{\"outlinewidth\":0,\"ticks\":\"\"}}}],\"scatterpolargl\":[{\"type\":\"scatterpolargl\",\"marker\":{\"colorbar\":{\"outlinewidth\":0,\"ticks\":\"\"}}}],\"bar\":[{\"error_x\":{\"color\":\"#2a3f5f\"},\"error_y\":{\"color\":\"#2a3f5f\"},\"marker\":{\"line\":{\"color\":\"#E5ECF6\",\"width\":0.5},\"pattern\":{\"fillmode\":\"overlay\",\"size\":10,\"solidity\":0.2}},\"type\":\"bar\"}],\"scattergeo\":[{\"type\":\"scattergeo\",\"marker\":{\"colorbar\":{\"outlinewidth\":0,\"ticks\":\"\"}}}],\"scatterpolar\":[{\"type\":\"scatterpolar\",\"marker\":{\"colorbar\":{\"outlinewidth\":0,\"ticks\":\"\"}}}],\"histogram\":[{\"marker\":{\"pattern\":{\"fillmode\":\"overlay\",\"size\":10,\"solidity\":0.2}},\"type\":\"histogram\"}],\"scattergl\":[{\"type\":\"scattergl\",\"marker\":{\"colorbar\":{\"outlinewidth\":0,\"ticks\":\"\"}}}],\"scatter3d\":[{\"type\":\"scatter3d\",\"line\":{\"colorbar\":{\"outlinewidth\":0,\"ticks\":\"\"}},\"marker\":{\"colorbar\":{\"outlinewidth\":0,\"ticks\":\"\"}}}],\"scattermapbox\":[{\"type\":\"scattermapbox\",\"marker\":{\"colorbar\":{\"outlinewidth\":0,\"ticks\":\"\"}}}],\"scatterternary\":[{\"type\":\"scatterternary\",\"marker\":{\"colorbar\":{\"outlinewidth\":0,\"ticks\":\"\"}}}],\"scattercarpet\":[{\"type\":\"scattercarpet\",\"marker\":{\"colorbar\":{\"outlinewidth\":0,\"ticks\":\"\"}}}],\"carpet\":[{\"aaxis\":{\"endlinecolor\":\"#2a3f5f\",\"gridcolor\":\"white\",\"linecolor\":\"white\",\"minorgridcolor\":\"white\",\"startlinecolor\":\"#2a3f5f\"},\"baxis\":{\"endlinecolor\":\"#2a3f5f\",\"gridcolor\":\"white\",\"linecolor\":\"white\",\"minorgridcolor\":\"white\",\"startlinecolor\":\"#2a3f5f\"},\"type\":\"carpet\"}],\"table\":[{\"cells\":{\"fill\":{\"color\":\"#EBF0F8\"},\"line\":{\"color\":\"white\"}},\"header\":{\"fill\":{\"color\":\"#C8D4E3\"},\"line\":{\"color\":\"white\"}},\"type\":\"table\"}],\"barpolar\":[{\"marker\":{\"line\":{\"color\":\"#E5ECF6\",\"width\":0.5},\"pattern\":{\"fillmode\":\"overlay\",\"size\":10,\"solidity\":0.2}},\"type\":\"barpolar\"}],\"pie\":[{\"automargin\":true,\"type\":\"pie\"}]},\"layout\":{\"autotypenumbers\":\"strict\",\"colorway\":[\"#636efa\",\"#EF553B\",\"#00cc96\",\"#ab63fa\",\"#FFA15A\",\"#19d3f3\",\"#FF6692\",\"#B6E880\",\"#FF97FF\",\"#FECB52\"],\"font\":{\"color\":\"#2a3f5f\"},\"hovermode\":\"closest\",\"hoverlabel\":{\"align\":\"left\"},\"paper_bgcolor\":\"white\",\"plot_bgcolor\":\"#E5ECF6\",\"polar\":{\"bgcolor\":\"#E5ECF6\",\"angularaxis\":{\"gridcolor\":\"white\",\"linecolor\":\"white\",\"ticks\":\"\"},\"radialaxis\":{\"gridcolor\":\"white\",\"linecolor\":\"white\",\"ticks\":\"\"}},\"ternary\":{\"bgcolor\":\"#E5ECF6\",\"aaxis\":{\"gridcolor\":\"white\",\"linecolor\":\"white\",\"ticks\":\"\"},\"baxis\":{\"gridcolor\":\"white\",\"linecolor\":\"white\",\"ticks\":\"\"},\"caxis\":{\"gridcolor\":\"white\",\"linecolor\":\"white\",\"ticks\":\"\"}},\"coloraxis\":{\"colorbar\":{\"outlinewidth\":0,\"ticks\":\"\"}},\"colorscale\":{\"sequential\":[[0.0,\"#0d0887\"],[0.1111111111111111,\"#46039f\"],[0.2222222222222222,\"#7201a8\"],[0.3333333333333333,\"#9c179e\"],[0.4444444444444444,\"#bd3786\"],[0.5555555555555556,\"#d8576b\"],[0.6666666666666666,\"#ed7953\"],[0.7777777777777778,\"#fb9f3a\"],[0.8888888888888888,\"#fdca26\"],[1.0,\"#f0f921\"]],\"sequentialminus\":[[0.0,\"#0d0887\"],[0.1111111111111111,\"#46039f\"],[0.2222222222222222,\"#7201a8\"],[0.3333333333333333,\"#9c179e\"],[0.4444444444444444,\"#bd3786\"],[0.5555555555555556,\"#d8576b\"],[0.6666666666666666,\"#ed7953\"],[0.7777777777777778,\"#fb9f3a\"],[0.8888888888888888,\"#fdca26\"],[1.0,\"#f0f921\"]],\"diverging\":[[0,\"#8e0152\"],[0.1,\"#c51b7d\"],[0.2,\"#de77ae\"],[0.3,\"#f1b6da\"],[0.4,\"#fde0ef\"],[0.5,\"#f7f7f7\"],[0.6,\"#e6f5d0\"],[0.7,\"#b8e186\"],[0.8,\"#7fbc41\"],[0.9,\"#4d9221\"],[1,\"#276419\"]]},\"xaxis\":{\"gridcolor\":\"white\",\"linecolor\":\"white\",\"ticks\":\"\",\"title\":{\"standoff\":15},\"zerolinecolor\":\"white\",\"automargin\":true,\"zerolinewidth\":2},\"yaxis\":{\"gridcolor\":\"white\",\"linecolor\":\"white\",\"ticks\":\"\",\"title\":{\"standoff\":15},\"zerolinecolor\":\"white\",\"automargin\":true,\"zerolinewidth\":2},\"scene\":{\"xaxis\":{\"backgroundcolor\":\"#E5ECF6\",\"gridcolor\":\"white\",\"linecolor\":\"white\",\"showbackground\":true,\"ticks\":\"\",\"zerolinecolor\":\"white\",\"gridwidth\":2},\"yaxis\":{\"backgroundcolor\":\"#E5ECF6\",\"gridcolor\":\"white\",\"linecolor\":\"white\",\"showbackground\":true,\"ticks\":\"\",\"zerolinecolor\":\"white\",\"gridwidth\":2},\"zaxis\":{\"backgroundcolor\":\"#E5ECF6\",\"gridcolor\":\"white\",\"linecolor\":\"white\",\"showbackground\":true,\"ticks\":\"\",\"zerolinecolor\":\"white\",\"gridwidth\":2}},\"shapedefaults\":{\"line\":{\"color\":\"#2a3f5f\"}},\"annotationdefaults\":{\"arrowcolor\":\"#2a3f5f\",\"arrowhead\":0,\"arrowwidth\":1},\"geo\":{\"bgcolor\":\"white\",\"landcolor\":\"#E5ECF6\",\"subunitcolor\":\"white\",\"showland\":true,\"showlakes\":true,\"lakecolor\":\"white\"},\"title\":{\"x\":0.05},\"mapbox\":{\"style\":\"light\"}}},\"yaxis\":{\"title\":{\"text\":\"Size of the resolving set\",\"font\":{\"size\":12,\"color\":\"black\"}}}},                        {\"responsive\": true}                    ).then(function(){\n",
       "                            \n",
       "var gd = document.getElementById('2aa4b1ed-fced-456d-a3df-314de31c69b0');\n",
       "var x = new MutationObserver(function (mutations, observer) {{\n",
       "        var display = window.getComputedStyle(gd).display;\n",
       "        if (!display || display === 'none') {{\n",
       "            console.log([gd, 'removed!']);\n",
       "            Plotly.purge(gd);\n",
       "            observer.disconnect();\n",
       "        }}\n",
       "}});\n",
       "\n",
       "// Listen for the removal of the full notebook cells\n",
       "var notebookContainer = gd.closest('#notebook-container');\n",
       "if (notebookContainer) {{\n",
       "    x.observe(notebookContainer, {childList: true});\n",
       "}}\n",
       "\n",
       "// Listen for the clearing of the current output cell\n",
       "var outputEl = gd.closest('.output');\n",
       "if (outputEl) {{\n",
       "    x.observe(outputEl, {childList: true});\n",
       "}}\n",
       "\n",
       "                        })                };                });            </script>        </div>"
      ]
     },
     "metadata": {},
     "output_type": "display_data"
    }
   ],
   "source": [
    "fig = go.Figure()\n",
    "\n",
    "for group, values in dict_result_real.items():\n",
    "    fig.add_trace(go.Box(y=values, name=group, boxpoints='all'))\n",
    "\n",
    "    \n",
    "fig.update_layout(\n",
    "    yaxis=dict(\n",
    "        title=\"Size of the resolving set\",\n",
    "        titlefont=dict(size=12, color='black')\n",
    "    )\n",
    ")\n",
    "fig.show()"
   ]
  },
  {
   "cell_type": "code",
   "execution_count": 69,
   "id": "83f48766",
   "metadata": {},
   "outputs": [
    {
     "data": {
      "text/plain": [
       "800"
      ]
     },
     "execution_count": 69,
     "metadata": {},
     "output_type": "execute_result"
    }
   ],
   "source": [
    "len(G_fb)"
   ]
  },
  {
   "cell_type": "code",
   "execution_count": null,
   "id": "e3f7d733",
   "metadata": {},
   "outputs": [],
   "source": []
  }
 ],
 "metadata": {
  "kernelspec": {
   "display_name": "Python 3 (ipykernel)",
   "language": "python",
   "name": "python3"
  },
  "language_info": {
   "codemirror_mode": {
    "name": "ipython",
    "version": 3
   },
   "file_extension": ".py",
   "mimetype": "text/x-python",
   "name": "python",
   "nbconvert_exporter": "python",
   "pygments_lexer": "ipython3",
   "version": "3.10.0"
  }
 },
 "nbformat": 4,
 "nbformat_minor": 5
}
