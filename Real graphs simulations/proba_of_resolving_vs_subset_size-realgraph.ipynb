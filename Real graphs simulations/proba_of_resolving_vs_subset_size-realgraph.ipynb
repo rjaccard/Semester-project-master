{
 "cells": [
  {
   "cell_type": "code",
   "execution_count": null,
   "id": "0e4d2de1",
   "metadata": {},
   "outputs": [],
   "source": [
    "import networkx as nx\n",
    "import random\n",
    "import numpy as np\n",
    "import matplotlib.pyplot as plt\n",
    "from tqdm import tqdm\n",
    "import pickle\n",
    "import sys\n",
    "sys.path.append('../')\n",
    "from helpers import *\n",
    "import plotly.graph_objs as go"
   ]
  },
  {
   "cell_type": "code",
   "execution_count": null,
   "id": "a1f8da94",
   "metadata": {},
   "outputs": [],
   "source": [
    "with open('Copenhagen graphs/bt.csv/edges.csv', 'r') as f:\n",
    "    next(f) # skip the first line\n",
    "\n",
    "    # create a list of edges\n",
    "    edges = []\n",
    "    for line in f:\n",
    "        u, v, w, t = line.strip().split(',')\n",
    "        edges.append((int(u), int(v), {'timestamp': int(w), 'duration': int(t)}))\n",
    "\n",
    "# create a graph from the edge list\n",
    "G = nx.Graph()\n",
    "G.add_edges_from(edges)\n",
    "n = len(G)"
   ]
  },
  {
   "cell_type": "code",
   "execution_count": null,
   "id": "b268f170",
   "metadata": {},
   "outputs": [],
   "source": [
    "s = {}\n",
    "nb_of_iters = 100"
   ]
  },
  {
   "cell_type": "code",
   "execution_count": null,
   "id": "059b9852",
   "metadata": {},
   "outputs": [],
   "source": [
    "solutions = {}\n",
    "\n",
    "# Generate the random graph and compute shortest paths\n",
    "length = dict(nx.all_pairs_shortest_path_length(G))\n",
    "\n",
    "for nb in tqdm(range(0, G.number_of_nodes() + 1)):\n",
    "    num_nodes = nb # Number of nodes to sample\n",
    "    node_list = list(G.nodes())\n",
    "    count = 0\n",
    "    for i in range(nb_of_iters):\n",
    "        nodes = set(random.sample(node_list, num_nodes)) # Random set of nodes to test\n",
    "        if is_resolving_set(G, nodes, length):\n",
    "            count += 1\n",
    "    solutions[nb] =  solutions.get(nb, 0) + (count / nb_of_iters)"
   ]
  },
  {
   "cell_type": "code",
   "execution_count": null,
   "id": "60b77045",
   "metadata": {},
   "outputs": [],
   "source": [
    "#with open('simulations/sharp_n{}_p{}_i{}_g{}.pickle'.format(n, p, nb_of_iters, nb_graph), 'wb') as file:\n",
    "    #pickle.dump(solutions, file, protocol=pickle.HIGHEST_PROTOCOL)"
   ]
  },
  {
   "cell_type": "code",
   "execution_count": null,
   "id": "48fdede9",
   "metadata": {},
   "outputs": [],
   "source": [
    "#with open(\"sharp_n1000_p0.5_i800.pickle\", \"rb\") as file:\n",
    "    #solutions = pickle.load(file)"
   ]
  },
  {
   "cell_type": "code",
   "execution_count": null,
   "id": "5c79f965",
   "metadata": {},
   "outputs": [],
   "source": [
    "# Define your data\n",
    "x = list(solutions.keys())\n",
    "y = list(solutions.values())\n",
    "\n",
    "# Define the trace for the scatter plot\n",
    "trace = go.Scatter(x=x, y=y, mode='markers+lines', name=r'$\\text{Simulations with }n\\text{ = 150 and } p\\text{ = 0.9}$')\n",
    "\n",
    "# Define the layout\n",
    "layout = go.Layout(#title='Probability of resolving the graph as a function of the subset cardinality', \n",
    "                   #title_x=0.5,\n",
    "                   xaxis=dict(title='Cardinality of the subset'), \n",
    "                   yaxis=dict(title='Probability of resolving the graph'),\n",
    "                   legend=dict(x=0.67, y=0.08, orientation='v'))\n",
    "\n",
    "# Combine the traces and layout into a figure\n",
    "fig = go.Figure(data=[trace], layout=layout)\n",
    "\n",
    "# Show the figure\n",
    "fig.show()"
   ]
  }
 ],
 "metadata": {
  "kernelspec": {
   "display_name": "Python 3 (ipykernel)",
   "language": "python",
   "name": "python3"
  },
  "language_info": {
   "codemirror_mode": {
    "name": "ipython",
    "version": 3
   },
   "file_extension": ".py",
   "mimetype": "text/x-python",
   "name": "python",
   "nbconvert_exporter": "python",
   "pygments_lexer": "ipython3",
   "version": "3.10.0"
  }
 },
 "nbformat": 4,
 "nbformat_minor": 5
}
