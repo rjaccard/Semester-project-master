{
 "cells": [
  {
   "cell_type": "markdown",
   "id": "a9b9c0ff",
   "metadata": {},
   "source": [
    "The goal of this notebook is to see if we can witness a non-monotonous shape of the metric dimension in real graphs."
   ]
  },
  {
   "cell_type": "code",
   "execution_count": null,
   "id": "82034ed0",
   "metadata": {},
   "outputs": [],
   "source": [
    "import networkx as nx\n",
    "import sys\n",
    "from tqdm import tqdm\n",
    "import plotly.graph_objs as go\n",
    "sys.path.append('../ICH-algo')\n",
    "from multilateration import *"
   ]
  },
  {
   "cell_type": "markdown",
   "id": "92e8e39f",
   "metadata": {},
   "source": [
    "### Copenhagen BT graph"
   ]
  },
  {
   "cell_type": "code",
   "execution_count": null,
   "id": "3f95b036",
   "metadata": {},
   "outputs": [],
   "source": [
    "# Import graph such that we only keep the first edge between 2 vertices\n",
    "G_bt = nx.Graph()\n",
    "\n",
    "# read the file and add edges to the graph\n",
    "with open('Copenhagen graphs/bt.csv/edges.csv', 'r') as f:\n",
    "    next(f) # skip the first line\n",
    "\n",
    "    for line in f:\n",
    "        source, target, timestamp, _ = map(int, line.strip().split(','))\n",
    "\n",
    "        # check if the edge already exists\n",
    "        if G_bt.has_edge(source, target):\n",
    "            existing_timestamp = G_bt[source][target]['timestamp']\n",
    "            if timestamp < existing_timestamp:\n",
    "                # remove the old edge and add the new one\n",
    "                G_bt.remove_edge(source, target)\n",
    "                G_bt.add_edge(source, target, timestamp=timestamp)\n",
    "        else:\n",
    "            # add the edge\n",
    "            G_bt.add_edge(source, target, timestamp=timestamp)\n",
    "            \n",
    "# print the number of nodes and edges\n",
    "print('Number of nodes:', G_bt.number_of_nodes())\n",
    "print('Number of edges:', G_bt.number_of_edges())"
   ]
  },
  {
   "cell_type": "markdown",
   "id": "df79cc59",
   "metadata": {},
   "source": [
    "We want to have a connected graph, hence, we will keep only the vertices that are added to the largest component before a given time. In the following cells, we explore what is the optimal largest component."
   ]
  },
  {
   "cell_type": "code",
   "execution_count": null,
   "id": "3d5602b3",
   "metadata": {},
   "outputs": [],
   "source": [
    "# Sort edges by time\n",
    "sorted_edges_bt = sorted(G_bt.edges(data=True), key=lambda x: x[2]['timestamp'])\n",
    "\n",
    "# add property to the edges\n",
    "for i, edge in enumerate(sorted_edges_bt):\n",
    "    G_bt.edges[edge[:2]]['num_smaller_times'] = i\n",
    "\n",
    "sorted_edges_bt = sorted(G_bt.edges(data=True), key=lambda x: x[2]['num_smaller_times'])"
   ]
  },
  {
   "cell_type": "code",
   "execution_count": null,
   "id": "7a1969b7",
   "metadata": {},
   "outputs": [],
   "source": [
    "# Check where it could be good to stop\n",
    "\n",
    "nb_edges = [nb for nb in range(0, len(G_bt.edges), 100)]\n",
    "max_component_size = []\n",
    "\n",
    "for nb in tqdm(nb_edges):\n",
    "    \n",
    "    # create a new graph with the filtered edges\n",
    "    G_f = nx.Graph()\n",
    "    G_f.add_nodes_from(G_bt.nodes)\n",
    "    G_f.add_edges_from(sorted_edges_bt[:nb])\n",
    "    components = list(nx.connected_components(G_f))\n",
    "\n",
    "    # find the largest component\n",
    "    largest_component = max(components, key=len)\n",
    "    max_component_size.append(len(largest_component))\n",
    "    \n",
    "    \n",
    "# Define the trace for the scatter plot\n",
    "trace = go.Scatter(x=nb_edges, y=max_component_size, mode='markers+lines')\n",
    "\n",
    "# Define the layout\n",
    "layout = go.Layout(title='Size of the largest component as a function of the number of edges', \n",
    "                   title_x=0.5,\n",
    "                   xaxis=dict(title='Number of edges'), \n",
    "                   yaxis=dict(title='Largest connected component size'),\n",
    "                   legend=dict(x=0.67, y=0.08, orientation='v'))\n",
    "\n",
    "# Combine the traces and layout into a figure\n",
    "fig = go.Figure(data=[trace], layout=layout)\n",
    "\n",
    "# Show the figure\n",
    "fig.show()"
   ]
  },
  {
   "cell_type": "markdown",
   "id": "1dddcf8b",
   "metadata": {},
   "source": [
    "Using the elbow method, we set the number of edges and remove the nodes added to the largest component after this time."
   ]
  },
  {
   "cell_type": "code",
   "execution_count": null,
   "id": "d2445d7c",
   "metadata": {},
   "outputs": [],
   "source": [
    "nb = 5800"
   ]
  },
  {
   "cell_type": "code",
   "execution_count": null,
   "id": "f2418909",
   "metadata": {},
   "outputs": [],
   "source": [
    "G_f = nx.Graph()\n",
    "G_f.add_nodes_from(G_bt.nodes)\n",
    "G_f.add_edges_from(sorted_edges_bt[:nb])\n",
    "components = list(nx.connected_components(G_f))\n",
    "list_to_remove = [el for i in components[1:] for el in i]\n",
    "G_f.remove_nodes_from(list_to_remove)\n",
    "G_bt.remove_nodes_from(list_to_remove)"
   ]
  },
  {
   "cell_type": "code",
   "execution_count": null,
   "id": "9c13dabb",
   "metadata": {},
   "outputs": [],
   "source": [
    "# sort edges by time\n",
    "sorted_edges_bt = sorted(G_bt.edges(data=True), key=lambda x: x[2]['timestamp'])\n",
    "\n",
    "# add property to the edges\n",
    "for i, edge in enumerate(sorted_edges_bt):\n",
    "    G_bt.edges[edge[:2]]['num_smaller_times'] = i\n",
    "\n",
    "sorted_edges_bt = sorted(G_bt.edges(data=True), key=lambda x: x[2]['num_smaller_times'])"
   ]
  },
  {
   "cell_type": "code",
   "execution_count": null,
   "id": "c3afdf3a",
   "metadata": {},
   "outputs": [],
   "source": [
    "result_nb_e_bt = {}\n",
    "for t in tqdm(range(len(G_f.edges), len(G_bt.edges), 2000)):\n",
    "\n",
    "    # create a new graph with the filtered edges\n",
    "    G_f = nx.Graph()\n",
    "    G_f.add_nodes_from(G_bt.nodes)\n",
    "    G_f.add_edges_from(sorted_edges_bt[:t])\n",
    "    a = len(ich(G_f))\n",
    "    result_nb_e_bt[t] = a"
   ]
  },
  {
   "cell_type": "code",
   "execution_count": null,
   "id": "0381b84a",
   "metadata": {},
   "outputs": [],
   "source": [
    "# Define your data\n",
    "x = list(result_nb_e_bt.keys())\n",
    "y = list(result_nb_e_bt.values())\n",
    "\n",
    "# Define the trace for the scatter plot\n",
    "trace = go.Scatter(x=x, y=y, mode='markers+lines')\n",
    "\n",
    "# Define the layout\n",
    "layout = go.Layout(#title='Probability of resolving the graph as a function of the subset cardinality', \n",
    "                   #title_x=0.5,\n",
    "                   xaxis=dict(title='Number of edges at this given time'), \n",
    "                   yaxis=dict(title='Estimation of Metric Dimension'),\n",
    "                   legend=dict(x=0.67, y=0.08, orientation='v'))\n",
    "\n",
    "# Combine the traces and layout into a figure\n",
    "fig = go.Figure(data=[trace], layout=layout)\n",
    "\n",
    "# Show the figure\n",
    "fig.show()"
   ]
  },
  {
   "cell_type": "markdown",
   "id": "5613d02f",
   "metadata": {},
   "source": [
    "### Copenhagen sms graph"
   ]
  },
  {
   "cell_type": "code",
   "execution_count": null,
   "id": "7a82c6ca",
   "metadata": {},
   "outputs": [],
   "source": [
    "# Import graph such that we only keep the first edge between 2 vertices\n",
    "G_sms = nx.Graph()\n",
    "\n",
    "# read the file and add edges to the graph\n",
    "with open('Copenhagen graphs/sms.csv/edges.csv', 'r') as f:\n",
    "    next(f) # skip the first line\n",
    "\n",
    "    for line in f:\n",
    "        source, target, timestamp = map(int, line.strip().split(','))\n",
    "\n",
    "        # check if the edge already exists\n",
    "        if G_sms.has_edge(source, target):\n",
    "            existing_timestamp = G_sms[source][target]['timestamp']\n",
    "            if timestamp < existing_timestamp:\n",
    "                # remove the old edge and add the new one\n",
    "                G_sms.remove_edge(source, target)\n",
    "                G_sms.add_edge(source, target, timestamp=timestamp)\n",
    "        else:\n",
    "            # add the edge\n",
    "            G_sms.add_edge(source, target, timestamp=timestamp)\n",
    "# print the number of nodes and edges\n",
    "print('Number of nodes:', G_sms.number_of_nodes())\n",
    "print('Number of edges:', G_sms.number_of_edges())"
   ]
  },
  {
   "cell_type": "markdown",
   "id": "e8e0e8d6",
   "metadata": {},
   "source": [
    "We want to have a connected graph, hence, we will keep only the vertices that are added to the largest component before a given time. In the following cells, we explore what is the optimal largest component."
   ]
  },
  {
   "cell_type": "code",
   "execution_count": null,
   "id": "92184600",
   "metadata": {},
   "outputs": [],
   "source": [
    "# sort edges by time\n",
    "sorted_edges_sms = sorted(G_sms.edges(data=True), key=lambda x: x[2]['timestamp'])\n",
    "\n",
    "# add property to the edges\n",
    "for i, edge in enumerate(sorted_edges_sms):\n",
    "    G_sms.edges[edge[:2]]['num_smaller_times'] = i\n",
    "\n",
    "sorted_edges_sms = sorted(G_sms.edges(data=True), key=lambda x: x[2]['num_smaller_times'])"
   ]
  },
  {
   "cell_type": "code",
   "execution_count": null,
   "id": "374e11ee",
   "metadata": {},
   "outputs": [],
   "source": [
    "# Check where it could be good to stop\n",
    "\n",
    "nb_edges = [nb for nb in range(0, len(G_sms.edges), 1)]\n",
    "max_component_size = []\n",
    "\n",
    "for nb in tqdm(nb_edges):\n",
    "    \n",
    "    # create a new graph with the filtered edges\n",
    "    G_sub = nx.Graph()\n",
    "    G_sub.add_nodes_from(G_sms.nodes)\n",
    "    G_sub.add_edges_from(sorted_edges_sms[:nb])\n",
    "    components = list(nx.connected_components(G_sub))\n",
    "\n",
    "    # find the largest component\n",
    "    largest_component = max(components, key=len)\n",
    "    max_component_size.append(len(largest_component))"
   ]
  },
  {
   "cell_type": "code",
   "execution_count": null,
   "id": "5027a7c2",
   "metadata": {},
   "outputs": [],
   "source": [
    "# Define the trace for the scatter plot\n",
    "trace = go.Scatter(x=nb_edges, y=max_component_size, mode='markers+lines')\n",
    "\n",
    "# Define the layout\n",
    "layout = go.Layout(title='Size of the largest component as a function of the number of edges', \n",
    "                   title_x=0.5,\n",
    "                   xaxis=dict(title='Number of edges'), \n",
    "                   yaxis=dict(title='Largest connected component size'),\n",
    "                   legend=dict(x=0.67, y=0.08, orientation='v'))\n",
    "\n",
    "# Combine the traces and layout into a figure\n",
    "fig = go.Figure(data=[trace], layout=layout)\n",
    "\n",
    "# Show the figure\n",
    "fig.show()"
   ]
  },
  {
   "cell_type": "markdown",
   "id": "08a079fd",
   "metadata": {},
   "source": [
    "Using the elbow method, we set the number of edges and remove the nodes added to the largest component after this time."
   ]
  },
  {
   "cell_type": "code",
   "execution_count": null,
   "id": "fa258670",
   "metadata": {},
   "outputs": [],
   "source": [
    "nb = 400 # hard to choose a good number here"
   ]
  },
  {
   "cell_type": "code",
   "execution_count": null,
   "id": "8948e6b8",
   "metadata": {},
   "outputs": [],
   "source": [
    "G_sub = nx.Graph()\n",
    "G_sub.add_nodes_from(G_sms.nodes)\n",
    "G_sub.add_edges_from(sorted_edges_sms[:nb])\n",
    "components = list(nx.connected_components(G_sub))\n",
    "list_to_remove = [el for i in components[1:] for el in i]\n",
    "G_sub.remove_nodes_from(list_to_remove)\n",
    "G_sms.remove_nodes_from(list_to_remove)"
   ]
  },
  {
   "cell_type": "code",
   "execution_count": null,
   "id": "cede367c",
   "metadata": {},
   "outputs": [],
   "source": [
    "# sort edges by time\n",
    "sorted_edges_sms = sorted(G_sms.edges(data=True), key=lambda x: x[2]['timestamp'])\n",
    "\n",
    "# add property to the edges\n",
    "for i, edge in enumerate(sorted_edges_sms):\n",
    "    G_sms.edges[edge[:2]]['num_smaller_times'] = i\n",
    "\n",
    "sorted_edges_sms = sorted(G_sms.edges(data=True), key=lambda x: x[2]['num_smaller_times'])"
   ]
  },
  {
   "cell_type": "code",
   "execution_count": null,
   "id": "20ad2c68",
   "metadata": {},
   "outputs": [],
   "source": [
    "result_nb_e_sms = {}\n",
    "for t in tqdm(range(len(G_sub.edges()), len(G_sms.edges()), 10)): #len(G_bt.edges)\n",
    "\n",
    "    # create a new graph with the filtered edges\n",
    "    G_f = nx.Graph()\n",
    "    G_f.add_nodes_from(G_sms.nodes)\n",
    "    G_f.add_edges_from(sorted_edges_sms[:t])\n",
    "    a = len(ich(G_f))\n",
    "    result_nb_e_sms[t] = a"
   ]
  },
  {
   "cell_type": "code",
   "execution_count": null,
   "id": "e48e16e2",
   "metadata": {
    "scrolled": true
   },
   "outputs": [],
   "source": [
    "# Define your data\n",
    "x = list(result_nb_e_sms.keys())\n",
    "y = list(result_nb_e_sms.values())\n",
    "\n",
    "# Define the trace for the scatter plot\n",
    "trace = go.Scatter(x=x, y=y, mode='markers+lines')\n",
    "\n",
    "# Define the layout\n",
    "layout = go.Layout(#title='Probability of resolving the graph as a function of the subset cardinality', \n",
    "                   #title_x=0.5,\n",
    "                   xaxis=dict(title='Number of edges at this given time'), \n",
    "                   yaxis=dict(title='Estimation of Metric Dimension'),\n",
    "                   legend=dict(x=0.67, y=0.08, orientation='v'))\n",
    "\n",
    "# Combine the traces and layout into a figure\n",
    "fig = go.Figure(data=[trace], layout=layout)\n",
    "\n",
    "# Show the figure\n",
    "fig.show()"
   ]
  },
  {
   "cell_type": "markdown",
   "id": "b55b5b60",
   "metadata": {},
   "source": [
    "The obtained results are not highly persuasive as there is a presence of a non-monotonous zig-zag phenomenon in the metric dimension of real graphs."
   ]
  }
 ],
 "metadata": {
  "kernelspec": {
   "display_name": "Python 3 (ipykernel)",
   "language": "python",
   "name": "python3"
  },
  "language_info": {
   "codemirror_mode": {
    "name": "ipython",
    "version": 3
   },
   "file_extension": ".py",
   "mimetype": "text/x-python",
   "name": "python",
   "nbconvert_exporter": "python",
   "pygments_lexer": "ipython3",
   "version": "3.10.0"
  }
 },
 "nbformat": 4,
 "nbformat_minor": 5
}
