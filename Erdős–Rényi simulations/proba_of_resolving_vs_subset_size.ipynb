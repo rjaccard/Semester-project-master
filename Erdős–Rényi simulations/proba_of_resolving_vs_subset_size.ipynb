{
 "cells": [
  {
   "cell_type": "markdown",
   "id": "bdb99ca3",
   "metadata": {},
   "source": [
    "In this notebook, we generate Erdős–Rényi graphs, draw random subsets and check if they resolve the graph. We do this for every subset size from 1 to $n$ (the size of the graph) and estimate, experimentally, the probability that a subset of a certain size solve the graph."
   ]
  },
  {
   "cell_type": "code",
   "execution_count": null,
   "id": "0e4d2de1",
   "metadata": {},
   "outputs": [],
   "source": [
    "import networkx as nx\n",
    "import random\n",
    "import numpy as np\n",
    "import matplotlib.pyplot as plt\n",
    "from tqdm import tqdm\n",
    "import pickle\n",
    "import sys\n",
    "sys.path.append('../')\n",
    "from helpers import *\n",
    "import plotly.graph_objs as go"
   ]
  },
  {
   "cell_type": "code",
   "execution_count": null,
   "id": "b268f170",
   "metadata": {},
   "outputs": [],
   "source": [
    "n = 50 # Size of the graph\n",
    "p = 0.9 # Edge probability\n",
    "nb_graph = 10 # nb of different graphs used for the simulations\n",
    "s = {}\n",
    "nb_of_iters = 1000 # nb of simulations for each subset size\n",
    "\n",
    "# can be used to speed up simulations as we know the theoritical value\n",
    "lower_bound = max([int(tvalue_case_1_2_p_const(n,p)) - 50, 0])\n",
    "upper_bound = min([n, int(tvalue_case_1_2_p_const(n,p) + 50)])"
   ]
  },
  {
   "cell_type": "code",
   "execution_count": null,
   "id": "059b9852",
   "metadata": {},
   "outputs": [],
   "source": [
    "solutions = {}\n",
    "random.seed(0)\n",
    "for _ in range(nb_graph):\n",
    "    # Generate the random graph and compute shortest paths\n",
    "    G = nx.erdos_renyi_graph(n, p)\n",
    "    length = dict(nx.all_pairs_shortest_path_length(G))\n",
    "    \n",
    "    for nb in range(0, lower_bound):\n",
    "        solutions[nb] = solutions.get(nb, 0) + 0  \n",
    "    for nb in tqdm(range(lower_bound, upper_bound)): # G.number_of_nodes()\n",
    "        num_nodes = nb # Number of nodes to sample\n",
    "        node_list = list(G.nodes())\n",
    "        count = 0\n",
    "        for i in range(nb_of_iters):\n",
    "            nodes = set(random.sample(node_list, num_nodes)) # Random set of nodes to test\n",
    "            if is_resolving_set(G, nodes, length):\n",
    "                count += 1\n",
    "        solutions[nb] =  solutions.get(nb, 0) + (count / nb_of_iters)\n",
    "    for nb in range(upper_bound, n):\n",
    "            solutions[nb] = solutions.get(nb, 0) + 1\n",
    "\n",
    "for i in range(n):\n",
    "    solutions[i] = solutions[i] / nb_graph"
   ]
  },
  {
   "cell_type": "code",
   "execution_count": null,
   "id": "60b77045",
   "metadata": {},
   "outputs": [],
   "source": [
    "#with open('simulations/sharp_n{}_p{}_i{}_g{}.pickle'.format(n, p, nb_of_iters, nb_graph), 'wb') as file:\n",
    "    #pickle.dump(solutions, file, protocol=pickle.HIGHEST_PROTOCOL)"
   ]
  },
  {
   "cell_type": "code",
   "execution_count": null,
   "id": "48fdede9",
   "metadata": {},
   "outputs": [],
   "source": [
    "with open(\"sharp_n1000_p0.5_i800.pickle\", \"rb\") as file:\n",
    "    solutions = pickle.load(file)"
   ]
  },
  {
   "cell_type": "code",
   "execution_count": null,
   "id": "5c79f965",
   "metadata": {},
   "outputs": [],
   "source": [
    "# Define your data\n",
    "x = list(solutions.keys())\n",
    "y = list(solutions.values())\n",
    "\n",
    "# Define the trace for the scatter plot\n",
    "trace = go.Scatter(x=x, y=y, mode='markers+lines', name='Simulations')\n",
    "\n",
    "# Define the trace for the vertical line\n",
    "vertical_line = go.Scatter(x=[tvalue_case_1_2_p_const(n, p), tvalue_case_1_2_p_const(n, p)], y=[0, 1], mode='lines', line=dict(color='red'), name='Theoretical value')\n",
    "\n",
    "# Define the layout\n",
    "layout = go.Layout(#title='Probability of resolving the graph as a function of the subset cardinality', \n",
    "                   #title_x=0.5,\n",
    "                   font=dict(size=16),\n",
    "                   xaxis=dict(title='Cardinality of the subset'), \n",
    "                   yaxis=dict(title='Probability of resolving the graph'),\n",
    "                   legend=dict(x=0.75, y=0.05, orientation='v', borderwidth=2))\n",
    "\n",
    "# Combine the traces and layout into a figure\n",
    "fig = go.Figure(data=[trace, vertical_line], layout=layout)\n",
    "\n",
    "# Show the figure\n",
    "fig.show()"
   ]
  }
 ],
 "metadata": {
  "kernelspec": {
   "display_name": "Python 3 (ipykernel)",
   "language": "python",
   "name": "python3"
  },
  "language_info": {
   "codemirror_mode": {
    "name": "ipython",
    "version": 3
   },
   "file_extension": ".py",
   "mimetype": "text/x-python",
   "name": "python",
   "nbconvert_exporter": "python",
   "pygments_lexer": "ipython3",
   "version": "3.10.0"
  }
 },
 "nbformat": 4,
 "nbformat_minor": 5
}
