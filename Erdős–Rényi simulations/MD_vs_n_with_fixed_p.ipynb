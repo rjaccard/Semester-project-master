{
 "cells": [
  {
   "cell_type": "markdown",
   "id": "7d10c904",
   "metadata": {},
   "source": [
    "In this notebook, we generate Erdős–Rényi graphs, draw random subsets and check if they resolve the graph. When we find a subset size which resolve the graph around half of the time, we use this size as a proxy for the metric dimension. We do those simulations for various values of $n$ but a fixed edge probability $p$ and compare it to theoretical results."
   ]
  },
  {
   "cell_type": "code",
   "execution_count": null,
   "id": "5612d5e8",
   "metadata": {},
   "outputs": [],
   "source": [
    "import networkx as nx\n",
    "import random\n",
    "import numpy as np\n",
    "import matplotlib.pyplot as plt\n",
    "from tqdm import tqdm\n",
    "import pickle\n",
    "import sys\n",
    "sys.path.append('../')\n",
    "from helpers import *\n",
    "import plotly.graph_objs as go"
   ]
  },
  {
   "cell_type": "code",
   "execution_count": null,
   "id": "d70141f3",
   "metadata": {},
   "outputs": [],
   "source": [
    "p = 0.4 # Edge probability\n",
    "nb_graph = 1 # Number of different graphs used for the simulations\n",
    "x__range = list(range(20, 100, 5)) # Different values of n\n",
    "\n",
    "solutions = {}\n",
    "\n",
    "# used to speed-up computations\n",
    "n_min = 20\n",
    "n_max = 100\n",
    "\n",
    "for _ in range(nb_graph):\n",
    "    for n in tqdm(x__range):\n",
    "\n",
    "        G = nx.erdos_renyi_graph(n, p)\n",
    "        length = dict(nx.all_pairs_shortest_path_length(G))\n",
    "        node_list = list(G.nodes())\n",
    "        nb_of_iters = 100\n",
    "\n",
    "        high = n\n",
    "        low = 0\n",
    "        \n",
    "        # Binary search to find the \"transition value\"\n",
    "        while low + 1 < high:\n",
    "            middle = (high+low) // 2\n",
    "            num_nodes = middle # Number of nodes to sample\n",
    "            node_list = list(G.nodes())\n",
    "            count = 0\n",
    "            for i in range(nb_of_iters):\n",
    "                nodes = set(random.sample(node_list, num_nodes)) # Random set of nodes to test\n",
    "                if is_resolving_set(G, nodes, length):\n",
    "                    count += 1\n",
    "            v = count / nb_of_iters\n",
    "            if (count / nb_of_iters) > 0.5:\n",
    "                high = middle\n",
    "                v_high = v \n",
    "            else:\n",
    "                low = middle\n",
    "                v_low = v\n",
    "        if abs(v_low - 0.5) < abs(v_high - 0.5):\n",
    "            solutions[n] = solutions.get(n, 0) + low\n",
    "        else:\n",
    "            solutions[n] = solutions.get(n, 0) + high\n",
    "        \n",
    "        \n",
    "for i in x__range:\n",
    "    solutions[i] = solutions[i] / nb_graph"
   ]
  },
  {
   "cell_type": "code",
   "execution_count": null,
   "id": "9270fb95",
   "metadata": {},
   "outputs": [],
   "source": [
    "# Define your data\n",
    "x = list(solutions.keys())\n",
    "y = list(solutions.values())\n",
    "\n",
    "x_t = list(range(min(x__range), max(x__range)+1))\n",
    "y_t = [tvalue_case_1_2_p_const(xi, p) for xi in x_t]\n",
    "\n",
    "# Define the trace for the scatter plot\n",
    "trace = go.Scatter(x=x, y=y, mode='markers+lines', name='Simulations with p={}'.format(p))\n",
    "trace_t = go.Scatter(x=x_t, y=y_t, mode='lines', name='Theoretical value'.format(n, p))\n",
    "\n",
    "# Define the layout\n",
    "layout = go.Layout(title='The metric dimension as a function of the size of the graph', \n",
    "                   title_x=0.5,\n",
    "                   xaxis=dict(title='Size of the graph'), \n",
    "                   yaxis=dict(title='Estimation of the metric dimension'),\n",
    "                   legend=dict(x=0.67, y=0.08, orientation='v'))\n",
    "\n",
    "# Combine the traces and layout into a figure\n",
    "fig = go.Figure(data=[trace, trace_t], layout=layout)\n",
    "\n",
    "# Show the figure\n",
    "fig.show()"
   ]
  }
 ],
 "metadata": {
  "kernelspec": {
   "display_name": "Python 3 (ipykernel)",
   "language": "python",
   "name": "python3"
  },
  "language_info": {
   "codemirror_mode": {
    "name": "ipython",
    "version": 3
   },
   "file_extension": ".py",
   "mimetype": "text/x-python",
   "name": "python",
   "nbconvert_exporter": "python",
   "pygments_lexer": "ipython3",
   "version": "3.10.0"
  }
 },
 "nbformat": 4,
 "nbformat_minor": 5
}
