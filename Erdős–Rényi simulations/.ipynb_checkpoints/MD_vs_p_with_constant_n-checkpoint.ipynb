{
 "cells": [
  {
   "cell_type": "markdown",
   "id": "00965fc4",
   "metadata": {},
   "source": [
    "In this notebook, we generate Erdős–Rényi graphs, draw random subsets and check if they resolve the graph. When we find a subset size which resolve the graph around half of the time, we use this size as a proxy for the metric dimension. We do those simulations for various values of $p$ but a fixed size of the graph $n$ and compare it to theoretical results."
   ]
  },
  {
   "cell_type": "code",
   "execution_count": null,
   "id": "f41b65fa",
   "metadata": {},
   "outputs": [],
   "source": [
    "import networkx as nx\n",
    "import random\n",
    "import numpy as np\n",
    "import matplotlib.pyplot as plt\n",
    "from tqdm import tqdm\n",
    "import pickle\n",
    "import sys\n",
    "sys.path.append('../')\n",
    "from helpers import *\n",
    "import plotly.graph_objs as go"
   ]
  },
  {
   "cell_type": "code",
   "execution_count": null,
   "id": "cdd20923",
   "metadata": {},
   "outputs": [],
   "source": [
    "p_range = np.linspace(0.1, 0.9, 20)\n",
    "n = 300\n",
    "solutions = {}\n",
    "nb_of_iters = 100\n",
    "\n",
    "for p in tqdm(p_range):\n",
    "    \n",
    "    G = nx.erdos_renyi_graph(n, p)\n",
    "    length = dict(nx.all_pairs_shortest_path_length(G))\n",
    "    node_list = list(G.nodes())\n",
    "    nb_of_iters = 100\n",
    "    \n",
    "    high = n\n",
    "    low = 0\n",
    "    \n",
    "    # Binary search to find the \"transition value\"\n",
    "    while low + 1 < high:\n",
    "        middle = (high+low) // 2\n",
    "        num_nodes = middle # Number of nodes to sample\n",
    "        node_list = list(G.nodes())\n",
    "        count = 0\n",
    "        for i in range(nb_of_iters):\n",
    "            nodes = set(random.sample(node_list, num_nodes)) # Random set of nodes to test\n",
    "            if is_resolving_set(G, nodes, length):\n",
    "                count += 1\n",
    "        v = count / nb_of_iters\n",
    "        if (count / nb_of_iters) > 0.5:\n",
    "            high = middle\n",
    "            v_high = v \n",
    "        else:\n",
    "            low = middle\n",
    "            v_low = v\n",
    "    if abs(v_low - 0.5) < abs(v_high - 0.5):\n",
    "        solutions[p] = low\n",
    "    else:\n",
    "        solutions[p] = high"
   ]
  },
  {
   "cell_type": "code",
   "execution_count": null,
   "id": "52542a56",
   "metadata": {},
   "outputs": [],
   "source": [
    "# Define your data\n",
    "x = list(solutions.keys())\n",
    "y = list(solutions.values())\n",
    "\n",
    "x_t = p_range\n",
    "y_t = [tvalue_case_1_2_p_const(n, pi) for pi in x_t]\n",
    "\n",
    "# Define the trace for the scatter plot\n",
    "trace = go.Scatter(x=x, y=y, mode='markers+lines', name='Simulations with n={} and p={}'.format(n, p))\n",
    "trace_t = go.Scatter(x=x_t, y=y_t, mode='lines', name='Simulations with n={} and p={}'.format(n, p))\n",
    "\n",
    "# Define the layout\n",
    "layout = go.Layout(title='Probability of resolving the graph as a function of the subset cardinality', \n",
    "                   title_x=0.5,\n",
    "                   xaxis=dict(title='Cardinality of the subset'), \n",
    "                   yaxis=dict(title='Probability of resolving the graph'),\n",
    "                   legend=dict(x=0.67, y=0.08, orientation='v'))\n",
    "\n",
    "# Combine the traces and layout into a figure\n",
    "fig = go.Figure(data=[trace, trace_t], layout=layout)\n",
    "\n",
    "# Show the figure\n",
    "fig.show()"
   ]
  }
 ],
 "metadata": {
  "kernelspec": {
   "display_name": "Python 3 (ipykernel)",
   "language": "python",
   "name": "python3"
  },
  "language_info": {
   "codemirror_mode": {
    "name": "ipython",
    "version": 3
   },
   "file_extension": ".py",
   "mimetype": "text/x-python",
   "name": "python",
   "nbconvert_exporter": "python",
   "pygments_lexer": "ipython3",
   "version": "3.10.0"
  }
 },
 "nbformat": 4,
 "nbformat_minor": 5
}
