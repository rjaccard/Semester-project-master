{
 "cells": [
  {
   "cell_type": "markdown",
   "id": "1b7858d0",
   "metadata": {},
   "source": [
    "In this notebook, we empirically explore a surprising result which states that the dimension metric follows a non-monotonous zizag in Erdős–Rényi."
   ]
  },
  {
   "cell_type": "code",
   "execution_count": null,
   "id": "2f295b32",
   "metadata": {},
   "outputs": [],
   "source": [
    "import networkx as nx\n",
    "import random\n",
    "import numpy as np\n",
    "import matplotlib.pyplot as plt\n",
    "from tqdm import tqdm\n",
    "import pickle\n",
    "import sys\n",
    "sys.path.append('../')\n",
    "from helpers import *\n",
    "import plotly.graph_objs as go"
   ]
  },
  {
   "cell_type": "code",
   "execution_count": null,
   "id": "5b15b0b5",
   "metadata": {},
   "outputs": [],
   "source": [
    "n_ = [50, 300, 1000, 3000]\n",
    "start = {50: 0.5, 300: 0.4, 1000: 0.29, 3000: 0.29} # Make sure the graphs are connected"
   ]
  },
  {
   "cell_type": "code",
   "execution_count": null,
   "id": "a049819f",
   "metadata": {},
   "outputs": [],
   "source": [
    "simulations_res = {}\n",
    "\n",
    "for n in n_:\n",
    "    solutions_temp = {}\n",
    "    for x in tqdm(np.linspace(start[n], 0.95, 15)):\n",
    "\n",
    "        G = nx.erdos_renyi_graph(n, n**(x - 1))\n",
    "        length = dict(nx.all_pairs_shortest_path_length(G))\n",
    "        node_list = list(G.nodes())\n",
    "        nb_of_iters = 100\n",
    "\n",
    "        high = n\n",
    "        low = 0\n",
    "\n",
    "        while low + 1 < high:\n",
    "            middle = (high+low) // 2\n",
    "            num_nodes = middle # Number of nodes to sample\n",
    "            node_list = list(G.nodes())\n",
    "            count = 0\n",
    "            for i in range(nb_of_iters):\n",
    "                nodes = set(random.sample(node_list, num_nodes)) # Random set of nodes to test\n",
    "                if is_resolving_set(G, nodes, length):\n",
    "                    count += 1\n",
    "            v = count / nb_of_iters\n",
    "            if (count / nb_of_iters) > 0.5:\n",
    "                high = middle\n",
    "                v_high = v \n",
    "            else:\n",
    "                low = middle\n",
    "                v_low = v\n",
    "        if abs(v_low - 0.5) < abs(v_high - 0.5):\n",
    "            solutions_temp[x] = low\n",
    "        else:\n",
    "            solutions_temp[x] = high\n",
    "    simulations_res[n] = solutions_temp"
   ]
  },
  {
   "cell_type": "code",
   "execution_count": null,
   "id": "9685b19a",
   "metadata": {},
   "outputs": [],
   "source": [
    "#with open('zigzag/zigzag_p={}_n={}.pickle'.format(0.5, n4), 'wb') as file:\n",
    "    #pickle.dump(solutions4, file, protocol=pickle.HIGHEST_PROTOCOL)"
   ]
  },
  {
   "cell_type": "code",
   "execution_count": null,
   "id": "7622d3bb",
   "metadata": {},
   "outputs": [],
   "source": [
    "#with open('zigzag/zigzag_p={}_n={}.pickle'.format(0.5, n4), \"rb\") as file:\n",
    "    #solutions4 = pickle.load(file)"
   ]
  },
  {
   "cell_type": "code",
   "execution_count": null,
   "id": "a981be4c",
   "metadata": {},
   "outputs": [],
   "source": [
    "# Define your data\n",
    "x1 = list(simulations_res[n_[0]].keys())\n",
    "y1 = list(np.emath.logn(n_[0], list(simulations_res[n_[0]].values())/np.log(n_[0])))\n",
    "\n",
    "x2 = list(simulations_res[n_[1]].keys())\n",
    "y2 = list(np.emath.logn(n_[1], list(simulations_res[n_[1]].values())/np.log(n_[1])))\n",
    "\n",
    "x3 = list(simulations_res[n_[2]].keys())\n",
    "y3 = list(np.emath.logn(n_[2], list(simulations_res[n_[2]].values())/np.log(n_[2])))\n",
    "\n",
    "x4 = list(simulations_res[n_[3]].keys())\n",
    "y4 = list(np.emath.logn(n_[3], list(simulations_res[n_[3]].values())/np.log(n_[3])))\n",
    "\n",
    "# The value it converges to\n",
    "x_t = np.linspace(0.01, 1, 10000)\n",
    "y_t = [1 - xi*np.floor(1/xi) for xi in x_t]\n",
    "\n",
    "# Define the trace for the scatter plot\n",
    "trace_1 = go.Scatter(x=x1, y=y1, mode='markers+lines',name='Simulations with n={}'.format(n_[0]))\n",
    "trace_2 = go.Scatter(x=x2, y=y2, mode='markers+lines',name='Simulations with n={}'.format(n_[1]))\n",
    "trace_3 = go.Scatter(x=x3, y=y3, mode='markers+lines',name='Simulations with n={}'.format(n3))\n",
    "trace_4 = go.Scatter(x=x4, y=y4, mode='markers+lines',name='Simulations with n={}'.format(n4))\n",
    "\n",
    "\n",
    "trace_t = go.Scatter(x=x_t, y=y_t, mode='markers', marker=dict(size=2), name='Theoretical value')\n",
    "\n",
    "# Define the layout\n",
    "layout = go.Layout(title=r\"$\\text{Behaviour of } \\log_n\\frac{\\beta(G(n,\\ n^{x-1}))}{\\log n} \\text{ as a function of } x$\", \n",
    "                   title_x=0.5,\n",
    "                   xaxis=dict(title='$x$'), \n",
    "                   yaxis=dict(title=r'$\\log_n \\frac{\\beta(G(n, \\ n^{x-1}))}{\\log n}$'),\n",
    "                   legend=dict(x=0.05, y=0.9, orientation='v'))\n",
    "\n",
    "# Combine the traces and layout into a figure\n",
    "fig = go.Figure(data=[trace_1, trace_2, trace_t], layout=layout)\n",
    "\n",
    "# Show the figure\n",
    "fig.show()"
   ]
  }
 ],
 "metadata": {
  "kernelspec": {
   "display_name": "Python 3 (ipykernel)",
   "language": "python",
   "name": "python3"
  },
  "language_info": {
   "codemirror_mode": {
    "name": "ipython",
    "version": 3
   },
   "file_extension": ".py",
   "mimetype": "text/x-python",
   "name": "python",
   "nbconvert_exporter": "python",
   "pygments_lexer": "ipython3",
   "version": "3.10.0"
  }
 },
 "nbformat": 4,
 "nbformat_minor": 5
}
